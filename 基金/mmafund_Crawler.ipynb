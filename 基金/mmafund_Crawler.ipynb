{
 "cells": [
  {
   "cell_type": "markdown",
   "metadata": {},
   "source": [
    "# MMA基金資料"
   ]
  },
  {
   "cell_type": "code",
   "execution_count": 1,
   "metadata": {
    "collapsed": true
   },
   "outputs": [],
   "source": [
    "import requests\n",
    "from bs4 import BeautifulSoup as BS\n",
    "import pandas as pd"
   ]
  },
  {
   "cell_type": "code",
   "execution_count": 2,
   "metadata": {
    "collapsed": true
   },
   "outputs": [],
   "source": [
    "import re\n",
    "from collections import defaultdict"
   ]
  },
  {
   "cell_type": "markdown",
   "metadata": {},
   "source": [
    "______"
   ]
  },
  {
   "cell_type": "markdown",
   "metadata": {},
   "source": [
    "## 國內"
   ]
  },
  {
   "cell_type": "markdown",
   "metadata": {},
   "source": [
    "### 基本資料\n"
   ]
  },
  {
   "cell_type": "code",
   "execution_count": 60,
   "metadata": {
    "collapsed": true
   },
   "outputs": [],
   "source": [
    "uid = 'ACUS03-UN2'\n",
    "url_basic = 'http://mmafund.sinopac.com/w/wr/wr01.djhtm?a=ACUS03-UN2'\n",
    "res = requests.get(url_basic)"
   ]
  },
  {
   "cell_type": "code",
   "execution_count": 35,
   "metadata": {
    "collapsed": false
   },
   "outputs": [
    {
     "name": "stderr",
     "output_type": "stream",
     "text": [
      "C:\\Anaconda2\\envs\\py3k\\lib\\site-packages\\bs4\\__init__.py:181: UserWarning: No parser was explicitly specified, so I'm using the best available HTML parser for this system (\"lxml\"). This usually isn't a problem, but if you run this code on another system, or in a different virtual environment, it may use a different parser and behave differently.\n",
      "\n",
      "The code that caused this warning is on line 193 of the file C:\\Anaconda2\\envs\\py3k\\lib\\runpy.py. To get rid of this warning, change code that looks like this:\n",
      "\n",
      " BeautifulSoup([your markup])\n",
      "\n",
      "to this:\n",
      "\n",
      " BeautifulSoup([your markup], \"lxml\")\n",
      "\n",
      "  markup_type=markup_type))\n"
     ]
    }
   ],
   "source": [
    "soup = BS(res.text)"
   ]
  },
  {
   "cell_type": "markdown",
   "metadata": {},
   "source": [
    "* 基本資料"
   ]
  },
  {
   "cell_type": "code",
   "execution_count": 61,
   "metadata": {
    "collapsed": false
   },
   "outputs": [
    {
     "name": "stdout",
     "output_type": "stream",
     "text": [
      "星星幾顆:4.5\n"
     ]
    },
    {
     "data": {
      "text/plain": [
       "['ACUS03-UN2',\n",
       " '永豐領航科技基金',\n",
       " '永豐投信',\n",
       " '1998年9月4日',\n",
       " '楊明昌',\n",
       " '6.43台幣 (2017/01/31)',\n",
       " '2.00(台幣)',\n",
       " '國內股票開放型科技類',\n",
       " '中國信託銀行',\n",
       " '台灣',\n",
       " '台灣',\n",
       " 4.5,\n",
       " '本基金以投資從事或轉投資於通訊、資訊、半導體、關鍵性零組件、生物工程、消費性電子、精密機械與自動化、航太、高級材料、特用化學與製藥、醫療保健、污染防治、資源開發、高級感測及其他經財政部會同主管機關認定重要科技之上市、上櫃股票為主，投資總額不低於淨資產之60%']"
      ]
     },
     "execution_count": 61,
     "metadata": {},
     "output_type": "execute_result"
    }
   ],
   "source": [
    "fieldSoup = soup.select('.wfb5l')\n",
    "fieldList = [uid]\n",
    "for e in fieldSoup[:10]:\n",
    "#     print(e.text)\n",
    "    fieldList.append(e.text)\n",
    "starNum = getFundStar(fieldSoup[-3])\n",
    "fieldList.append(starNum)\n",
    "fieldList.append(fieldSoup[-1].text)\n",
    "fieldList"
   ]
  },
  {
   "cell_type": "code",
   "execution_count": 62,
   "metadata": {
    "collapsed": false
   },
   "outputs": [
    {
     "data": {
      "text/plain": [
       "[('uid', 'ACUS03-UN2'),\n",
       " ('基金名稱', '永豐領航科技基金'),\n",
       " ('基金公司', '永豐投信'),\n",
       " ('成立日期', '1998年9月4日'),\n",
       " ('基金經理人', '楊明昌'),\n",
       " ('基金規模(億)', '6.43台幣 (2017/01/31)'),\n",
       " ('成立時規模(億)', '2.00(台幣)'),\n",
       " ('基金類型', '國內股票開放型科技類'),\n",
       " ('保管銀行', '中國信託銀行'),\n",
       " ('主要投資區域', '台灣'),\n",
       " ('投資區域', '台灣'),\n",
       " ('基金評等', 4.5),\n",
       " ('投資標的',\n",
       "  '本基金以投資從事或轉投資於通訊、資訊、半導體、關鍵性零組件、生物工程、消費性電子、精密機械與自動化、航太、高級材料、特用化學與製藥、醫療保健、污染防治、資源開發、高級感測及其他經財政部會同主管機關認定重要科技之上市、上櫃股票為主，投資總額不低於淨資產之60%')]"
      ]
     },
     "execution_count": 62,
     "metadata": {},
     "output_type": "execute_result"
    }
   ],
   "source": [
    "info_colName = [\n",
    "    'uid',\n",
    "    '基金名稱',\n",
    "    '基金公司',\n",
    "    '成立日期',\n",
    "    '基金經理人',\n",
    "    '基金規模(億)',\n",
    "    '成立時規模(億)',\n",
    "    '基金類型',\n",
    "    '保管銀行',\n",
    "    '主要投資區域',\n",
    "    '投資區域',\n",
    "    '基金評等',\n",
    "    '投資標的'\n",
    "]\n",
    "list(zip(info_colName,fieldList))"
   ]
  },
  {
   "cell_type": "markdown",
   "metadata": {},
   "source": [
    "* 找星星幾枚?"
   ]
  },
  {
   "cell_type": "code",
   "execution_count": 44,
   "metadata": {
    "collapsed": false
   },
   "outputs": [
    {
     "name": "stdout",
     "output_type": "stream",
     "text": [
      "星星幾顆:4.5\n"
     ]
    }
   ],
   "source": [
    "starList = fieldSoup[-3].select('img') # bs4 tag\n",
    "starList = [star['src'] for star in starList ] # 取出src裡面的url\n",
    "starStr = '**'.join(starList) # 接成string\n",
    "# starList[0]['src']\n",
    "if re.findall('/BT_Coin_b.gif',starStr):\n",
    "    starNum = 0.5\n",
    "else:\n",
    "    starNum = 0\n",
    "starNum += len(re.findall('/BT_Coin_a.gif',starStr))\n",
    "print('星星幾顆:{}'.format(starNum))\n",
    "# starStr"
   ]
  },
  {
   "cell_type": "code",
   "execution_count": 56,
   "metadata": {
    "collapsed": false
   },
   "outputs": [
    {
     "name": "stdout",
     "output_type": "stream",
     "text": [
      "星星幾顆:4.5\n"
     ]
    },
    {
     "data": {
      "text/plain": [
       "4.5"
      ]
     },
     "execution_count": 56,
     "metadata": {},
     "output_type": "execute_result"
    }
   ],
   "source": [
    "getFundStar(fieldSoup[-3])"
   ]
  },
  {
   "cell_type": "markdown",
   "metadata": {},
   "source": [
    "#### 歷任經理人"
   ]
  },
  {
   "cell_type": "code",
   "execution_count": 119,
   "metadata": {
    "collapsed": false
   },
   "outputs": [
    {
     "name": "stdout",
     "output_type": "stream",
     "text": [
      "['楊明昌', '2017/2/3至今', 0.0, 4.06, 3.71, '永豐高科技基金\\n永豐領航科技基金']\n",
      "['林靜怡', '2014/08/01至2017/2/2', 30.0, 27.23, 1.21, '']\n",
      "['李盈儀', '2014/05/02至2014/7/31', 2.0, 7.63, 5.97, '永豐中小基金\\n永豐永豐基金']\n",
      "['邱鶴倫', '2012/04/01至2014/5/1', 25.0, 46.81, 10.82, '']\n",
      "['謝其勛', '2011/04/29至2012/3/31', 11.0, -22.13, -12.25, '']\n",
      "['李維岳', '2010/04/20至2011/4/28', 12.0, 6.0, 15.11, '']\n",
      "['謝其勛', '2007/11/05至2010/4/19', 29.0, -27.62, -15.3, '']\n",
      "['張家維', '2003/01/02至2007/11/4', 58.0, 201.6, 108.27, '']\n",
      "['謝宗權', '2002/03/20至2003/1/1', 10.0, -41.2, -26.52, '']\n",
      "['葉順吉', '2001/03/01至2002/3/19', 12.0, 5.08, 7.4, '']\n",
      "['林大鈞', '1998/09/01至2001/2/28', 29.0, 21.6, -16.56, '富蘭克林華美積極回報債券組合基金-累積型(台幣)(本基金有相當比重投資於非投資等級之高風險債券且基金之配息來源可能為本金)\\n富蘭克林華美積極回報債券組合基金-分配型(台幣)(本基金有相當比重投資於非投資等級之高風險債券且基金之配息來源可能為本金)\\n富蘭克林華美積極回報債券組合基金-累積型(美元)(本基金有相當比重投資於非投資等級之高風險債券且基金之配息來源可能為本金)\\n富蘭克林華美積極回報債券組合基金-分配型(人民幣)(本基金有相當比重投資於非投資等級之高風險債券且基金之配息來源可能為本金)\\n富蘭克林華美全球投資級債券基金-分配型(台幣)(本基金之配息來源可能為本金)\\n富蘭克林華美積極回報債券組合基金-分配型(美元)(本基金有相當比重投資於非投資等級之高風險債券且基金之配息來源可能為本金)\\n富蘭克林華美全球投資級債券基金-分配型(美元)(本基金之配息來源可能為本金)\\n富蘭克林華美積極回報債券組合基金-累積型(人民幣)(本基金有相當比重投資於非投資等級之高風險債券且基金之配息來源可能為本金)\\n富蘭克林華美全球投資級債券基金-累積型(台幣)(本基金之配息來源可能為本金)\\n富蘭克林華美全球投資級債券基金-累積型(美元)(本基金之配息來源可能為本金)']\n"
     ]
    }
   ],
   "source": [
    "managerList = []\n",
    "\n",
    "managerBSTable = soup.select('#oMainTable')[1]\n",
    "\n",
    "\n",
    "managerList = []\n",
    "for manager in managerBSTable.select('tr')[2:]:\n",
    "    row = []\n",
    "    for index,field in enumerate(manager.select('td')):\n",
    "        try:\n",
    "            row.append(float(field.text)) # 轉換數字部分\n",
    "        except ValueError as e:\n",
    "            row.append(field.text) \n",
    "    print(row)"
   ]
  },
  {
   "cell_type": "markdown",
   "metadata": {},
   "source": [
    "### 持股狀況"
   ]
  },
  {
   "cell_type": "code",
   "execution_count": 187,
   "metadata": {
    "collapsed": true
   },
   "outputs": [],
   "source": [
    "url_fund = 'http://mmafund.sinopac.com/w/wr/wr04.djhtm?a=ACJS24-Z21'\n",
    "res =requests.get(url_fund)"
   ]
  },
  {
   "cell_type": "code",
   "execution_count": 188,
   "metadata": {
    "collapsed": false
   },
   "outputs": [
    {
     "name": "stderr",
     "output_type": "stream",
     "text": [
      "C:\\Anaconda2\\envs\\py3k\\lib\\site-packages\\bs4\\__init__.py:181: UserWarning: No parser was explicitly specified, so I'm using the best available HTML parser for this system (\"lxml\"). This usually isn't a problem, but if you run this code on another system, or in a different virtual environment, it may use a different parser and behave differently.\n",
      "\n",
      "The code that caused this warning is on line 193 of the file C:\\Anaconda2\\envs\\py3k\\lib\\runpy.py. To get rid of this warning, change code that looks like this:\n",
      "\n",
      " BeautifulSoup([your markup])\n",
      "\n",
      "to this:\n",
      "\n",
      " BeautifulSoup([your markup], \"lxml\")\n",
      "\n",
      "  markup_type=markup_type))\n"
     ]
    }
   ],
   "source": [
    "soup = BS(res.text)"
   ]
  },
  {
   "cell_type": "code",
   "execution_count": 189,
   "metadata": {
    "collapsed": false
   },
   "outputs": [
    {
     "name": "stdout",
     "output_type": "stream",
     "text": [
      "2017/01\n"
     ]
    }
   ],
   "source": [
    "update_dateStr = soup.select('#oMainTable')[1].select('tr')[0].text # 資料月份\n",
    "update_date = re.findall(r'\\d+/\\d+',update_dateStr)[0]\n",
    "print(update_date)"
   ]
  },
  {
   "cell_type": "code",
   "execution_count": 190,
   "metadata": {
    "collapsed": false
   },
   "outputs": [
    {
     "name": "stdout",
     "output_type": "stream",
     "text": [
      "row1:['股票名稱', '持股(千股)', '比例', '增減'] \n",
      "row2:['股票名稱', '持股(千股)', '比例', '增減']\n",
      "row1:['Tencent', 'N/A', '6.65', 'N/A'] \n",
      "row2:['KOITO MFG CO', 'N/A', '3.07', '-0.14%']\n",
      "row1:['大立光', '6', '6.61', '4.36%'] \n",
      "row2:['華夏滬深300指數ETF', 'N/A', '2.36', '0.00%']\n",
      "row1:['台積電', '130', '5.97', '0.05%'] \n",
      "row2:['Telekomunikasi Indonesia TBK', 'N/A', '2.25', '-0.15%']\n",
      "row1:['NIDEC CORP', 'N/A', '3.63', '0.14%'] \n",
      "row2:['正新', '145', '2.24', '0.89%']\n",
      "row1:['環球晶', '90', '3.19', '-3.25%'] \n",
      "row2:['iShares 安碩富時A50 中國指數ETF', 'N/A', '2.23', '0.03%']\n"
     ]
    }
   ],
   "source": [
    "for e in soup.select('#oMainTable')[1].select('tr')[1:]:\n",
    "    row1 = []; row2=[];\n",
    "    for index,field in enumerate(e.select('td')):\n",
    "        if index > 3:\n",
    "            row2.append(field.text)\n",
    "        else:\n",
    "            row1.append(field.text)\n",
    "    print('row1:%s \\nrow2:%s' %(row1,row2))"
   ]
  },
  {
   "cell_type": "markdown",
   "metadata": {},
   "source": [
    "### 基金持股分布\n",
    "\n",
    "* 依持有類股\n",
    "* 依產業\n",
    "* 依區域\n",
    "\n",
    "資料藏在js語法裏頭"
   ]
  },
  {
   "cell_type": "code",
   "execution_count": 177,
   "metadata": {
    "collapsed": false
   },
   "outputs": [
    {
     "data": {
      "text/plain": [
       "[<div class=\"wfb1ar\">資料日期：2017/02/17</div>,\n",
       " <div id=\"SysJustWebGraphDIV1\"></div>]"
      ]
     },
     "execution_count": 177,
     "metadata": {},
     "output_type": "execute_result"
    }
   ],
   "source": [
    "soup.select('#oMainTable')[2].select('div')"
   ]
  },
  {
   "cell_type": "code",
   "execution_count": 194,
   "metadata": {
    "collapsed": false
   },
   "outputs": [
    {
     "name": "stdout",
     "output_type": "stream",
     "text": [
      "DJGraphObj1;\r\n",
      "\tvar $DJGraphObj2;\r\n",
      "\tvar $DJGraphObj3;\r\n",
      "\t\r\n",
      "\tvar sRenderTo1 = 'SysJustWebGraphDIV1';\r\n",
      "\tvar sRenderTo2 = 'SysJustWebGraphDIV2';\r\n",
      "\tvar sRenderTo3 = 'SysJustWebGraphDIV3';\r\n",
      "\t\r\n",
      "\t$(document).ready(function () {\r\n",
      "\t\tif (!!$DJWebGraph) {\r\n",
      "\r\n",
      "\t\t\t$DJGraphObj1 = new $DJWebGraph();\r\n",
      "\t        $DJGraphObj2 = new $DJWebGraph();\r\n",
      "\t\t\t$DJGraphObj3 = new $DJWebGraph();\r\n",
      "        \t\r\n",
      "\t\t\tif (sRenderTo1 != '')\r\n",
      "\t\t\t{\r\n",
      "\t\t\t\t$DJGraphObj1.CreateGraphObject({\r\n",
      "\t\t\t\t\t'CanvasClass': 'pie', //表示為 PIE 圖形\r\n",
      "\t\t\t\t\t'ID': 'wb04-1',\r\n",
      "\t\t\t\t\t'Width': '500',\r\n",
      "\t\t\t\t\t'Height': '300',\r\n",
      "\t\t\t\t\t'RenderTo': sRenderTo1,\r\n",
      "\t\t\t\t\t'Title': ['', '基金持股分佈-依持有類股[萬元]','亞洲不含日本','日本','大陸地區','上市光電','上市半導體','上櫃半導體','上市橡膠','上市電子零組件','上市油電燃氣','上櫃其他電子','上市電腦及週邊設備','其它'],\r\n",
      "\t\t\t\t\t'PieBorder' : '0',\r\n",
      "\t\t\t\t\t'BgColor': 'ffffff',\r\n",
      "\t\t\t\t\t'PieNOTB': 0,\t\t//0:顯示表格,1:不顯示表格,2:不顯示表格,只顯示名稱\r\n",
      "\t\t\t\t\t'PieSplit': ['1','0','0','0','0','0','0','0','0','0','0','0'],\r\n",
      "\t\t\t\t\t'PieV': ['16416','4583','3558','2681','2431','1619','937','892','844','440','279','5702'],\r\n",
      "\t\t\t\t\t'Pie_AddHeaders': '名稱 投資金額(以萬元為單位) 比例' \r\n",
      "\t\t\t\t});\r\n",
      "\t\t\t}\r\n",
      "            \r\n",
      "\t\t\tif (sRenderTo2 != '')\r\n",
      "\t\t\t{\r\n",
      "\t\t\t\t$DJGraphObj2.CreateGraphObject({\r\n",
      "\t\t\t\t\t'CanvasClass': 'pie', //表示為 PIE 圖形\r\n",
      "\t\t\t\t\t'ID': 'wb04-2',\r\n",
      "\t\t\t\t\t'Width': '500',\r\n",
      "\t\t\t\t\t'Height': '300',\r\n",
      "\t\t\t\t\t'RenderTo': sRenderTo2,\r\n",
      "\t\t\t\t\t'Title': ['', '基金持股分佈-依區域[萬元]','香港','台灣','中國','日本','現金','東南亞','韓國'],\r\n",
      "\t\t\t\t\t'PieBorder' : '0',\r\n",
      "\t\t\t\t\t'BgColor': 'ffffff',\r\n",
      "\t\t\t\t\t'PieNOTB': 0,\t\t//0:顯示表格,1:不顯示表格,2:不顯示表格,只顯示名稱\r\n",
      "\t\t\t\t\t'PieSplit': ['1','0','0','0','0','0','0'],\r\n",
      "\t\t\t\t\t'PieV': ['10823','9652','6179','4684','4402','4321','323'],\r\n",
      "\t\t\t\t\t'Pie_AddHeaders': '依區域 投資金額(以萬元為單位) 比例'\r\n",
      "\t\t\t\t});\r\n",
      "\t\t\t}\r\n",
      "\t\t\t\r\n",
      "\t\t\tif (sRenderTo3 != '')\r\n",
      "\t\t\t{\r\n",
      "\t\t\t\t$DJGraphObj3.CreateGraphObject({\r\n",
      "\t\t\t\t\t'CanvasClass': 'pie', //表示為 PIE 圖形\r\n",
      "\t\t\t\t\t'ID': 'wb04-2',\r\n",
      "\t\t\t\t\t'Width': '500',\r\n",
      "\t\t\t\t\t'Height': '300',\r\n",
      "\t\t\t\t\t'RenderTo': sRenderTo3,\r\n",
      "\t\t\t\t\t'Title': ['', '基金持股分佈-依產業[萬元]','科技','工業','消費','金融保險','現金','A股ETF','能源','原物料','公共事業','醫療保健','其他'],\r\n",
      "\t\t\t\t\t'PieBorder' : '0',\r\n",
      "\t\t\t\t\t'BgColor': 'ffffff',\r\n",
      "\t\t\t\t\t'PieNOTB': 0,\t\t//0:顯示表格,1:不顯示表格,2:不顯示表格,只顯示名稱\r\n",
      "\t\t\t\t\t'PieSplit': ['1','0','0','0','0','0','0','0','0','0','0'],\r\n",
      "\t\t\t\t\t'PieV': ['13044','6502','5048','4765','4402','1858','1696','1656','848','525','40'],\r\n",
      "\t\t\t\t\t'Pie_AddHeaders': '依產業 投資金額(以萬元為單位) 比例'\r\n",
      "\t\t\t\t});\r\n",
      "\t\t\t}\r\n",
      "\t\t}\r\n",
      "\t});\r\n",
      "//-->\r\n",
      "</SCRIPT>\r\n",
      "\n"
     ]
    }
   ],
   "source": [
    "string1 = 'DJGraphObj1'\n",
    "html_text = res.text\n",
    "target_text = html_text[html_text.index(string1):]\n",
    "# print(html_text[html_text.index(string1):])\n",
    "print(target_text)"
   ]
  },
  {
   "cell_type": "code",
   "execution_count": 317,
   "metadata": {
    "collapsed": false
   },
   "outputs": [
    {
     "name": "stdout",
     "output_type": "stream",
     "text": [
      " ['', '基金持股分佈-依持有類股[萬元]','亞洲不含日本','日本','大陸地區','上市光電','上市半導體','上櫃半導體','上市橡膠','上市電子零組件','上市油電燃氣','上櫃其他電子','上市電腦及週邊設備','其它'],\r\n"
     ]
    }
   ],
   "source": [
    "pat1 = r\"(?:\\'Title\\':)(.+)\"\n",
    "investTitle = re.findall(pat,target_text)\n",
    "print(investTitle[0])"
   ]
  },
  {
   "cell_type": "code",
   "execution_count": 330,
   "metadata": {
    "collapsed": false
   },
   "outputs": [
    {
     "data": {
      "text/plain": [
       "['',\n",
       " '基金持股分佈-依持有類股[萬元]',\n",
       " '亞洲不含日本',\n",
       " '日本',\n",
       " '大陸地區',\n",
       " '上市光電',\n",
       " '上市半導體',\n",
       " '上櫃半導體',\n",
       " '上市橡膠',\n",
       " '上市電子零組件',\n",
       " '上市油電燃氣',\n",
       " '上櫃其他電子',\n",
       " '上市電腦及週邊設備',\n",
       " '其它']"
      ]
     },
     "execution_count": 330,
     "metadata": {},
     "output_type": "execute_result"
    }
   ],
   "source": [
    "pat2 = r\"(?:\\')(.*?)(?:\\')\"\n",
    "investTitleByStock = re.findall(pat2,investTitle[0]) ## 依產業標題\n",
    "investTitleByStock"
   ]
  },
  {
   "cell_type": "code",
   "execution_count": 332,
   "metadata": {
    "collapsed": false
   },
   "outputs": [
    {
     "data": {
      "text/plain": [
       "['', '基金持股分佈-依區域[萬元]', '香港', '台灣', '中國', '日本', '現金', '東南亞', '韓國']"
      ]
     },
     "execution_count": 332,
     "metadata": {},
     "output_type": "execute_result"
    }
   ],
   "source": [
    "investTitleByArea = re.findall(pat2,investTitle[1])\n",
    "investTitleByArea"
   ]
  },
  {
   "cell_type": "code",
   "execution_count": 315,
   "metadata": {
    "collapsed": false
   },
   "outputs": [
    {
     "data": {
      "text/plain": [
       "['',\n",
       " '基金持股分佈-依產業[萬元]',\n",
       " '科技',\n",
       " '工業',\n",
       " '消費',\n",
       " '金融保險',\n",
       " '現金',\n",
       " 'A股ETF',\n",
       " '能源',\n",
       " '原物料',\n",
       " '公共事業',\n",
       " '醫療保健',\n",
       " '其他']"
      ]
     },
     "execution_count": 315,
     "metadata": {},
     "output_type": "execute_result"
    }
   ],
   "source": [
    "investTitleByIndustry = re.findall(pat2,investTitle[2])\n",
    "investTitleByIndustry"
   ]
  },
  {
   "cell_type": "code",
   "execution_count": 335,
   "metadata": {
    "collapsed": false
   },
   "outputs": [],
   "source": [
    "pat3 = r\"(?:\\'PieV\\':)(.+)\"\n",
    "investByStock = re.findall(pat2,re.findall(pat3,target_text)[0])\n",
    "investByArea = re.findall(pat2,re.findall(pat3,target_text)[1])\n",
    "investByIndustry = re.findall(pat2,re.findall(pat3,target_text)[2])"
   ]
  },
  {
   "cell_type": "markdown",
   "metadata": {},
   "source": [
    "______"
   ]
  },
  {
   "cell_type": "markdown",
   "metadata": {},
   "source": [
    "# 輔助函數"
   ]
  },
  {
   "cell_type": "code",
   "execution_count": 6,
   "metadata": {
    "collapsed": true
   },
   "outputs": [],
   "source": [
    "def getFundStar(starTag):\n",
    "    '''取得基金評等數字(影像<星星>標記 --> 數字)\n",
    "    params ------\n",
    "    starTag: 含有星號圖案的bs4 tag\n",
    "    return: 基金評等(int)\n",
    "    '''\n",
    "    starList = starTag.select('img') # bs4 tag\n",
    "    starList = [star['src'] for star in starList ] # 取出src裡面的url\n",
    "    starStr = '**'.join(starList) # 接成string\n",
    "    if re.findall('/BT_Coin_b.gif',starStr):\n",
    "        starNum = 0.5\n",
    "    else:\n",
    "        starNum = 0\n",
    "    starNum += len(re.findall('/BT_Coin_a.gif',starStr))\n",
    "    print('星星幾顆:{}'.format(starNum))\n",
    "    return starNum"
   ]
  },
  {
   "cell_type": "code",
   "execution_count": 57,
   "metadata": {
    "collapsed": false
   },
   "outputs": [],
   "source": [
    "def getDomesticShareHolding(html_text):\n",
    "    \"\"\"取得國內持股資料\n",
    "    剖析mma中html含有js程式碼，資料隱藏在js其中\n",
    "    params\n",
    "    html_text : raw text(str)\n",
    "    return : defaultdict(list of tuple)\n",
    "    \"\"\"\n",
    "    string1 = 'DJGraphObj1' # 切出目標字串    \n",
    "    target_text = html_text[html_text.index(string1):]\n",
    "    \n",
    "    pat1 = r\"(?:\\'Title\\':)(.+)\"\n",
    "    investTitle = re.findall(pat1,target_text) # 取得並切分表單table\n",
    "           \n",
    "    pat2 = r\"(?:\\')(.*?)(?:\\')\" # 取出包含在 ' '內的字串\n",
    "    pat3 = r\"(?:\\'PieV\\':)(.+)\" # 取出包含在 PieV 後的字串\n",
    "#     investTitleByStock = re.findall(pat2,investTitle[0]) ## 依產業標題(List)\n",
    "#     investTitleByStock\n",
    "    table = defaultdict(list)\n",
    "    for index,titleText in enumerate(investTitle):\n",
    "        titleList = re.findall(pat2,titleText)\n",
    "        if len(titleList) == 1:\n",
    "            continue\n",
    "        colname = titleList[1]\n",
    "        titleList = titleList[2:]\n",
    "        valueList = re.findall(pat2,re.findall(pat3,target_text)[index])\n",
    "#         print(titleList,valueList)\n",
    "        table[colname]= (list(zip(titleList,valueList)))\n",
    "    return table"
   ]
  },
  {
   "cell_type": "code",
   "execution_count": 64,
   "metadata": {
    "collapsed": true
   },
   "outputs": [],
   "source": []
  },
  {
   "cell_type": "code",
   "execution_count": 116,
   "metadata": {
    "collapsed": false
   },
   "outputs": [],
   "source": [
    "def getDomesticStockHolding(soup):\n",
    "    \"\"\"取得國內持股資料中股票張數\n",
    "    params \n",
    "    ======\n",
    "    input: soup --- html經BS包裝後變數\n",
    "    return : list of list of tuple [[(股票名稱,xxx),(持股(千股),oooo),(比例,...),(增減,...)]]\n",
    "    \"\"\"\n",
    "\n",
    "    def parseElement(e):\n",
    "        \"\"\"利用此函數剖析表格內元素\n",
    "        \"\"\"\n",
    "        row1 = []; row2=[];\n",
    "        for index,field in enumerate(e.select('td')):        \n",
    "            if index > 3:\n",
    "                row2.append(field.text)\n",
    "            else:\n",
    "                row1.append(field.text)\n",
    "        return row1,row2\n",
    "    \n",
    "    fundShareTableList = []\n",
    "    rowData = {}\n",
    "    for index,e in enumerate(soup.select('#oMainTable')[1].select('tr')[1:]):\n",
    "        colnames = []    \n",
    "        if index == 0:\n",
    "            col1,col2 = parseElement(e)            \n",
    "        else:            \n",
    "            row1,row2 = parseElement(e)\n",
    "#             rowData[col1]=row1\n",
    "            \n",
    "            fundShareTableList.append(list(zip(col1,row1))) \n",
    "            fundShareTableList.append(list(zip(col2,row2)))\n",
    "    \n",
    "    return fundShareTableList"
   ]
  },
  {
   "cell_type": "code",
   "execution_count": 117,
   "metadata": {
    "collapsed": false
   },
   "outputs": [
    {
     "name": "stdout",
     "output_type": "stream",
     "text": [
      "['台積電', '345', '7.77', '-0.50%']\n",
      "['大立光', '10', '5.40', '0.40%']\n",
      "['環球晶圓', 'N/A', '4.43', '1.39%']\n",
      "['華新科', '900', '4.21', '0.01%']\n",
      "['台半', '949', '4.17', '-0.25%']\n"
     ]
    }
   ],
   "source": [
    "tables = getDomesticStockHolding(soup)"
   ]
  },
  {
   "cell_type": "code",
   "execution_count": 110,
   "metadata": {
    "collapsed": false
   },
   "outputs": [
    {
     "data": {
      "text/plain": [
       "[('股票名稱', '持股(千股)', '比例', '增減'), ('台積電', '345', '7.77', '-0.50%')]"
      ]
     },
     "execution_count": 110,
     "metadata": {},
     "output_type": "execute_result"
    }
   ],
   "source": [
    "list(zip(*tables[0]))\n",
    "    "
   ]
  },
  {
   "cell_type": "code",
   "execution_count": 87,
   "metadata": {
    "collapsed": false
   },
   "outputs": [
    {
     "name": "stdout",
     "output_type": "stream",
     "text": [
      "['股票名稱', '持股(千股)', '比例', '增減']\n",
      "['雙鴻', '326', '3.67', '-0.58%']\n",
      "['同欣電', '245', '3.52', '-0.04%']\n",
      "['愛普', '330', '3.27', '0.13%']\n",
      "['盟立', '680', '3.19', '-0.16%']\n",
      "['台勝科', '373', '3.13', '-0.07%']\n"
     ]
    }
   ],
   "source": [
    "for e in soup.select('#oMainTable')[1].select('tr')[1:]:\n",
    "    row1,row2 = parseElement(e)\n",
    "    print(row2)"
   ]
  },
  {
   "cell_type": "code",
   "execution_count": 356,
   "metadata": {
    "collapsed": false
   },
   "outputs": [
    {
     "data": {
      "text/plain": [
       "[('香港', '10823'),\n",
       " ('台灣', '9652'),\n",
       " ('中國', '6179'),\n",
       " ('日本', '4684'),\n",
       " ('現金', '4402'),\n",
       " ('東南亞', '4321'),\n",
       " ('韓國', '323')]"
      ]
     },
     "execution_count": 356,
     "metadata": {},
     "output_type": "execute_result"
    }
   ],
   "source": [
    "test['基金持股分佈-依區域[萬元]']"
   ]
  },
  {
   "cell_type": "code",
   "execution_count": 61,
   "metadata": {
    "collapsed": false
   },
   "outputs": [
    {
     "name": "stderr",
     "output_type": "stream",
     "text": [
      "C:\\Anaconda2\\envs\\py3k\\lib\\site-packages\\bs4\\__init__.py:181: UserWarning: No parser was explicitly specified, so I'm using the best available HTML parser for this system (\"lxml\"). This usually isn't a problem, but if you run this code on another system, or in a different virtual environment, it may use a different parser and behave differently.\n",
      "\n",
      "The code that caused this warning is on line 193 of the file C:\\Anaconda2\\envs\\py3k\\lib\\runpy.py. To get rid of this warning, change code that looks like this:\n",
      "\n",
      " BeautifulSoup([your markup])\n",
      "\n",
      "to this:\n",
      "\n",
      " BeautifulSoup([your markup], \"lxml\")\n",
      "\n",
      "  markup_type=markup_type))\n"
     ]
    }
   ],
   "source": [
    "url = 'http://mmafund.sinopac.com/w/wr/wr04.djhtm?a=ACSH03-170'\n",
    "res = requests.get(url)\n",
    "html_text = res.text\n",
    "soup = BS(html_text)"
   ]
  },
  {
   "cell_type": "code",
   "execution_count": 62,
   "metadata": {
    "collapsed": false
   },
   "outputs": [
    {
     "data": {
      "text/plain": [
       "defaultdict(list,\n",
       "            {'基金持股分佈-依持有類股[萬元]': [('上市半導體', '18374'),\n",
       "              ('上櫃半導體', '12738'),\n",
       "              ('上市光電', '10835'),\n",
       "              ('上市電子零組件', '8001'),\n",
       "              ('上櫃電子零組件', '6394'),\n",
       "              ('上市其他', '4573'),\n",
       "              ('上櫃其他電子', '3213'),\n",
       "              ('上市其他電子', '2653'),\n",
       "              ('上市電機機械', '3510'),\n",
       "              ('上市通信網路', '1425'),\n",
       "              ('上市建材營造', '1953'),\n",
       "              ('上櫃通信網路', '1104'),\n",
       "              ('其它', '7622')]})"
      ]
     },
     "execution_count": 62,
     "metadata": {},
     "output_type": "execute_result"
    }
   ],
   "source": [
    "getDomesticShareHolding(html_text)"
   ]
  }
 ],
 "metadata": {
  "anaconda-cloud": {},
  "kernelspec": {
   "display_name": "Python [conda env:py3k]",
   "language": "python",
   "name": "conda-env-py3k-py"
  },
  "language_info": {
   "codemirror_mode": {
    "name": "ipython",
    "version": 3
   },
   "file_extension": ".py",
   "mimetype": "text/x-python",
   "name": "python",
   "nbconvert_exporter": "python",
   "pygments_lexer": "ipython3",
   "version": "3.6.0"
  }
 },
 "nbformat": 4,
 "nbformat_minor": 1
}
