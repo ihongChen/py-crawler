{
 "cells": [
  {
   "cell_type": "markdown",
   "metadata": {},
   "source": [
    "## Ptt \n",
    "\n",
    "目標網站: [Ptt八卦版](https://www.ptt.cc/bbs/Gossiping/index.html)\n",
    "\n",
    "學習目標: 查找cookie與使用"
   ]
  },
  {
   "cell_type": "code",
   "execution_count": 2,
   "metadata": {
    "collapsed": false
   },
   "outputs": [],
   "source": [
    "import requests\n",
    "from bs4 import BeautifulSoup as BS"
   ]
  },
  {
   "cell_type": "code",
   "execution_count": 13,
   "metadata": {
    "collapsed": true
   },
   "outputs": [],
   "source": [
    "url = 'https://www.ptt.cc/bbs/Gossiping/index.html'\n",
    "res =requests.get(url)"
   ]
  },
  {
   "cell_type": "markdown",
   "metadata": {},
   "source": [
    "直接使用套件會發現碰到18歲禁止進入"
   ]
  },
  {
   "cell_type": "code",
   "execution_count": 14,
   "metadata": {
    "collapsed": false
   },
   "outputs": [
    {
     "name": "stdout",
     "output_type": "stream",
     "text": [
      "<!DOCTYPE html>\n",
      "<html>\n",
      "\t<head>\n",
      "\t\t<meta charset=\"utf-8\">\n",
      "\t\t\n",
      "\n",
      "<meta name=\"viewport\" content=\"width=device-width, initial-scale=1\">\n",
      "\n",
      "<title>批踢踢實業坊</title>\n",
      "\n",
      "<link rel=\"stylesheet\" type=\"text/css\" href=\"//images.ptt.cc/v2.20/bbs-common.css\">\n",
      "<link rel=\"stylesheet\" type=\"text/css\" href=\"//images.ptt.cc/v2.20/bbs-base.css\" media=\"screen\">\n",
      "<link rel=\"stylesheet\" type=\"text/css\" href=\"//images.ptt.cc/v2.20/bbs-custom.css\">\n",
      "<link rel=\"stylesheet\" type=\"text/css\" href=\"//images.ptt.cc/v2.20/pushstream.css\" media=\"screen\">\n",
      "<link rel=\"stylesheet\" type=\"text/css\" href=\"//images.ptt.cc/v2.20/bbs-print.css\" media=\"print\">\n",
      "\n",
      "\n",
      "<script src=\"//ajax.googleapis.com/ajax/libs/jquery/2.1.1/jquery.min.js\"></script>\n",
      "<script src=\"//images.ptt.cc/v2.20/bbs.js\"></script>\n",
      "\n",
      "\n",
      "\t\t\n",
      "\n",
      "<script type=\"text/javascript\">\n",
      "\n",
      "  var _gaq = _gaq || [];\n",
      "  _gaq.push(['_setAccount', 'UA-32365737-1']);\n",
      "  _gaq.push(['_setDomainName', 'ptt.cc']);\n",
      "  _gaq.push(['_trackPageview']);\n",
      "\n",
      "  (function() {\n",
      "    var ga = document.createElement('script'); ga.type = 'text/javascript'; ga.async = true;\n",
      "    ga.src = ('https:' == document.location.protocol ? 'https://ssl' : 'http://www') + '.google-analytics.com/ga.js';\n",
      "    var s = document.getElementsByTagName('script')[0]; s.parentNode.insertBefore(ga, s);\n",
      "  })();\n",
      "\n",
      "</script>\n",
      "\n",
      "\n",
      "\t</head>\n",
      "    <body>\n",
      "\t\t\n",
      "<div class=\"bbs-screen bbs-content\">\n",
      "    <img class=\"over18-notice\" src=\"//images.ptt.cc/v2.20/ticrf_r_red_n.gif\">\n",
      "    <div class=\"over18-notice\">\n",
      "        <p>本網站已依網站內容分級規定處理</p>\n",
      "\n",
      "        <p>警告︰您即將進入之看板內容需滿十八歲方可瀏覽。</p>\n",
      "\n",
      "        <p>根據「電腦網路內容分級處理辦法」第六條第三款規定，本網站已於各限制級網頁依照台灣網站分級推廣基金會之規定標示。\n",
      "        若您尚未年滿十八歲，請點選離開。若您已滿十八歲，亦不可將本區之內容派發、傳閱、出售、出租、交給或借予年齡未滿18歲的人士瀏覽，或將本網站內容向該人士出示、播放或放映。</p>\n",
      "    </div>\n",
      "</div>\n",
      "\n",
      "<div class=\"bbs-screen bbs-content center clear\">\n",
      "    <form action=\"/ask/over18\" method=\"post\">\n",
      "        <input type=\"hidden\" name=\"from\" value=\"/bbs/Gossiping/index.html\">\n",
      "        <div class=\"over18-button-container\">\n",
      "            <button class=\"btn-big\" type=\"submit\" name=\"yes\" value=\"yes\">我同意，我已年滿十八歲<br><small>進入</small></button>\n",
      "        </div>\n",
      "        <div class=\"over18-button-container\">\n",
      "            <button class=\"btn-big\" type=\"submit\" name=\"no\" value=\"no\">未滿十八歲或不同意本條款<br><small>離開</small></button>\n",
      "        </div>\n",
      "    </form>\n",
      "</div>\n",
      "\n",
      "    </body>\n",
      "</html>\n",
      "\n"
     ]
    }
   ],
   "source": [
    "print res.text"
   ]
  },
  {
   "cell_type": "markdown",
   "metadata": {},
   "source": [
    "點入後，發現在網頁 ``index.html``偷塞入一個`over18=1`的`cookie` requests套件可以很方便的模擬這種行為"
   ]
  },
  {
   "cell_type": "code",
   "execution_count": 15,
   "metadata": {
    "collapsed": false
   },
   "outputs": [
    {
     "name": "stderr",
     "output_type": "stream",
     "text": [
      "C:\\Anaconda2\\lib\\site-packages\\requests\\packages\\urllib3\\connectionpool.py:791: InsecureRequestWarning: Unverified HTTPS request is being made. Adding certificate verification is strongly advised. See: https://urllib3.readthedocs.org/en/latest/security.html\n",
      "  InsecureRequestWarning)\n"
     ]
    }
   ],
   "source": [
    "res = requests.get(url, cookies=dict(over18=\"1\"), verify=False)"
   ]
  },
  {
   "cell_type": "code",
   "execution_count": 18,
   "metadata": {
    "collapsed": false
   },
   "outputs": [
    {
     "name": "stdout",
     "output_type": "stream",
     "text": [
      "<!DOCTYPE html>\n",
      "<html>\n",
      "\t<head>\n",
      "\t\t<meta charset=\"utf-8\">\n",
      "\t\t\n",
      "\n",
      "<meta name=\"viewport\" content=\"width=device-width, initial-scale=1\">\n",
      "\n",
      "<title>看板 Gossiping 文章列表 - 批踢踢實業坊</title>\n",
      "\n",
      "<link rel=\"stylesheet\" type=\"text/css\" href=\"//images.ptt.cc/v2.20/bbs-common.css\">\n",
      "<link rel=\"stylesheet\" type=\"text/css\" href=\"//images.ptt.cc/v2.20/bbs-base.css\" media=\"screen\">\n",
      "<link rel=\"stylesheet\" type=\"text/css\" href=\"//images.ptt.cc/v2.20/bbs-custom.css\">\n",
      "<link rel=\"stylesheet\" type=\"text/css\" href=\"//images.ptt.cc/v\n"
     ]
    }
   ],
   "source": [
    "print res.text[:500]"
   ]
  },
  {
   "cell_type": "code",
   "execution_count": 20,
   "metadata": {
    "collapsed": true
   },
   "outputs": [],
   "source": [
    "import pandas as pd"
   ]
  },
  {
   "cell_type": "code",
   "execution_count": 37,
   "metadata": {
    "collapsed": false
   },
   "outputs": [],
   "source": [
    "soup = BS(res.text)\n",
    "title_list = [e.text for e in soup.select('.title')]\n",
    "authour_list = [e.text for e in soup.select('.author')]\n",
    "date_list = [e.text for e in soup.select('.date')]\n",
    "push_list = [e.text for e in soup.select('.nrec')]\n",
    "url_list = [e['href'] for e in soup.select('.title > a')]\n",
    "\n",
    "df = pd.DataFrame()\n",
    "df['push'] = push_list\n",
    "df['date'] = date_list\n",
    "df['title'] = title_list\n",
    "df['author'] = authour_list\n",
    "# df['url'] = url_list"
   ]
  },
  {
   "cell_type": "code",
   "execution_count": 60,
   "metadata": {
    "collapsed": false
   },
   "outputs": [
    {
     "data": {
      "text/plain": [
       "'/bbs/Gossiping/M.1479888478.A.AF7.html'"
      ]
     },
     "execution_count": 60,
     "metadata": {},
     "output_type": "execute_result"
    }
   ],
   "source": [
    "soup.select('.title')[0].select('a')[0].get('href')"
   ]
  },
  {
   "cell_type": "markdown",
   "metadata": {},
   "source": [
    "### 需要特別處理異常狀況(刪文)"
   ]
  },
  {
   "cell_type": "code",
   "execution_count": 70,
   "metadata": {
    "collapsed": false
   },
   "outputs": [
    {
     "name": "stdout",
     "output_type": "stream",
     "text": [
      "<a href=\"/bbs/Gossiping/M.1479888478.A.AF7.html\">[問卦]  復興航空員工可以包圍母公司嗎？</a>\n",
      "<a href=\"/bbs/Gossiping/M.1479888494.A.B12.html\">Re: [問卦] 蔣光頭沒來台灣、台灣能有今天嗎</a>\n",
      "<a href=\"/bbs/Gossiping/M.1479888562.A.BB3.html\">Re: [問卦] 蔣光頭沒來台灣、台灣能有今天嗎</a>\n",
      "<a href=\"/bbs/Gossiping/M.1479888572.A.4C5.html\">Re: [新聞] 復航刁難！勞資協商資方竟問「你是誰」</a>\n",
      "<a href=\"/bbs/Gossiping/M.1479888593.A.4A3.html\">Re: [新聞] 蔡英文提醒年輕人找工作不要太挑 有工作</a>\n",
      "<a href=\"/bbs/Gossiping/M.1479888614.A.304.html\">[問卦] 懷孕的人不能跟狗在同個環境</a>\n",
      "<a href=\"/bbs/Gossiping/M.1479888640.A.289.html\">Re: [問卦] 航航是黃興大將軍轉世嗎</a>\n",
      "<a href=\"/bbs/Gossiping/M.1479888682.A.801.html\">[問卦] 中國是不是已經沒有競爭力了？</a>\n",
      "<a href=\"/bbs/Gossiping/M.1479888693.A.C3C.html\">Re: [新聞] 女生納入徵兵範圍？國防部回應了........</a>\n",
      "<a href=\"/bbs/Gossiping/M.1479888696.A.18D.html\">[新聞] 銀行團要求興航重整，支持政府接管降低</a>\n",
      "<a href=\"/bbs/Gossiping/M.1479888709.A.FF7.html\">Re: [新聞] 馮翊綱談文化總會：沒文化素養的人 只能</a>\n",
      "<a href=\"/bbs/Gossiping/M.1479888714.A.6FC.html\">Re: [新聞] 傳蘋果首席設計師　跟iPhone掰了</a>\n",
      "[]\n",
      "<a href=\"/bbs/Gossiping/M.1479888720.A.875.html\">[問卦] 有沒有每到週三就想吃麥當勞的八卦？</a>\n",
      "<a href=\"/bbs/Gossiping/M.1479888772.A.EDC.html\">[問卦] 為何復興航空關門大吉沒人慶祝</a>\n",
      "<a href=\"/bbs/Gossiping/M.1479888784.A.0C9.html\">Re: [爆卦] 賴清德：勞檢會造成民怨</a>\n",
      "<a href=\"/bbs/Gossiping/M.1471338439.A.5B1.html\">[公告] 八卦板板規(2016.08.16)</a>\n",
      "<a href=\"/bbs/Gossiping/M.1479750763.A.91F.html\">[協尋] 11/21 晚上國道一號南下彰化路段行車紀</a>\n",
      "<a href=\"/bbs/Gossiping/M.1479739811.A.EED.html\">[協尋] 求11/17號  嘉義民雄行車紀錄器</a>\n",
      "<a href=\"/bbs/Gossiping/M.1479631379.A.A6D.html\">[協尋] 代PO 11/10 建國南路 行車紀錄/監視影像</a>\n",
      "<a href=\"/bbs/Gossiping/M.1477932607.A.BBF.html\">[公告] 十一月份置底閒聊區</a>\n"
     ]
    }
   ],
   "source": [
    "url_list = [] \n",
    "for e in soup.select('.title'):\n",
    "    try:\n",
    "        url_list.append(e.select('a')[0]['href'])\n",
    "        print e.select('a')[0]\n",
    "    except IndexError:\n",
    "        url_list.append(None)\n",
    "        print e.select('a')"
   ]
  },
  {
   "cell_type": "code",
   "execution_count": 71,
   "metadata": {
    "collapsed": false
   },
   "outputs": [],
   "source": [
    "df['url'] = url_list"
   ]
  },
  {
   "cell_type": "code",
   "execution_count": 69,
   "metadata": {
    "collapsed": false
   },
   "outputs": [
    {
     "data": {
      "text/html": [
       "<div>\n",
       "<table border=\"1\" class=\"dataframe\">\n",
       "  <thead>\n",
       "    <tr style=\"text-align: right;\">\n",
       "      <th></th>\n",
       "      <th>push</th>\n",
       "      <th>date</th>\n",
       "      <th>title</th>\n",
       "      <th>author</th>\n",
       "      <th>url</th>\n",
       "    </tr>\n",
       "  </thead>\n",
       "  <tbody>\n",
       "    <tr>\n",
       "      <th>0</th>\n",
       "      <td>1</td>\n",
       "      <td>11/23</td>\n",
       "      <td>\\n[問卦]  復興航空員工可以包圍母公司嗎？\\n</td>\n",
       "      <td>Cocochia</td>\n",
       "      <td>/bbs/Gossiping/M.1479888478.A.AF7.html</td>\n",
       "    </tr>\n",
       "    <tr>\n",
       "      <th>1</th>\n",
       "      <td>5</td>\n",
       "      <td>11/23</td>\n",
       "      <td>\\nRe: [問卦] 蔣光頭沒來台灣、台灣能有今天嗎\\n</td>\n",
       "      <td>rial</td>\n",
       "      <td>/bbs/Gossiping/M.1479888494.A.B12.html</td>\n",
       "    </tr>\n",
       "    <tr>\n",
       "      <th>2</th>\n",
       "      <td></td>\n",
       "      <td>11/23</td>\n",
       "      <td>\\nRe: [問卦] 蔣光頭沒來台灣、台灣能有今天嗎\\n</td>\n",
       "      <td>XDboy</td>\n",
       "      <td>/bbs/Gossiping/M.1479888562.A.BB3.html</td>\n",
       "    </tr>\n",
       "    <tr>\n",
       "      <th>3</th>\n",
       "      <td>1</td>\n",
       "      <td>11/23</td>\n",
       "      <td>\\nRe: [新聞] 復航刁難！勞資協商資方竟問「你是誰」\\n</td>\n",
       "      <td>arierme</td>\n",
       "      <td>/bbs/Gossiping/M.1479888572.A.4C5.html</td>\n",
       "    </tr>\n",
       "    <tr>\n",
       "      <th>4</th>\n",
       "      <td>1</td>\n",
       "      <td>11/23</td>\n",
       "      <td>\\nRe: [新聞] 蔡英文提醒年輕人找工作不要太挑 有工作\\n</td>\n",
       "      <td>hopixar</td>\n",
       "      <td>/bbs/Gossiping/M.1479888593.A.4A3.html</td>\n",
       "    </tr>\n",
       "    <tr>\n",
       "      <th>5</th>\n",
       "      <td>3</td>\n",
       "      <td>11/23</td>\n",
       "      <td>\\n[問卦] 懷孕的人不能跟狗在同個環境\\n</td>\n",
       "      <td>yis000000</td>\n",
       "      <td>/bbs/Gossiping/M.1479888614.A.304.html</td>\n",
       "    </tr>\n",
       "    <tr>\n",
       "      <th>6</th>\n",
       "      <td>2</td>\n",
       "      <td>11/23</td>\n",
       "      <td>\\nRe: [問卦] 航航是黃興大將軍轉世嗎\\n</td>\n",
       "      <td>ttn851227</td>\n",
       "      <td>/bbs/Gossiping/M.1479888640.A.289.html</td>\n",
       "    </tr>\n",
       "    <tr>\n",
       "      <th>7</th>\n",
       "      <td>1</td>\n",
       "      <td>11/23</td>\n",
       "      <td>\\n[問卦] 中國是不是已經沒有競爭力了？\\n</td>\n",
       "      <td>nurais1127</td>\n",
       "      <td>/bbs/Gossiping/M.1479888682.A.801.html</td>\n",
       "    </tr>\n",
       "    <tr>\n",
       "      <th>8</th>\n",
       "      <td>2</td>\n",
       "      <td>11/23</td>\n",
       "      <td>\\nRe: [新聞] 女生納入徵兵範圍？國防部回應了........\\n</td>\n",
       "      <td>z66214328</td>\n",
       "      <td>/bbs/Gossiping/M.1479888693.A.C3C.html</td>\n",
       "    </tr>\n",
       "    <tr>\n",
       "      <th>9</th>\n",
       "      <td></td>\n",
       "      <td>11/23</td>\n",
       "      <td>\\n[新聞] 銀行團要求興航重整，支持政府接管降低\\n</td>\n",
       "      <td>pm2001</td>\n",
       "      <td>/bbs/Gossiping/M.1479888696.A.18D.html</td>\n",
       "    </tr>\n",
       "    <tr>\n",
       "      <th>10</th>\n",
       "      <td></td>\n",
       "      <td>11/23</td>\n",
       "      <td>\\nRe: [新聞] 馮翊綱談文化總會：沒文化素養的人 只能\\n</td>\n",
       "      <td>Linama</td>\n",
       "      <td>/bbs/Gossiping/M.1479888709.A.FF7.html</td>\n",
       "    </tr>\n",
       "    <tr>\n",
       "      <th>11</th>\n",
       "      <td></td>\n",
       "      <td>11/23</td>\n",
       "      <td>\\nRe: [新聞] 傳蘋果首席設計師　跟iPhone掰了\\n</td>\n",
       "      <td>chien0923</td>\n",
       "      <td>/bbs/Gossiping/M.1479888714.A.6FC.html</td>\n",
       "    </tr>\n",
       "    <tr>\n",
       "      <th>12</th>\n",
       "      <td></td>\n",
       "      <td>11/23</td>\n",
       "      <td>\\n\\t\\t\\t\\n\\t\\t\\t\\t(本文已被刪除) [shaqgod]\\n\\t\\t\\t\\n...</td>\n",
       "      <td>-</td>\n",
       "      <td>[]</td>\n",
       "    </tr>\n",
       "    <tr>\n",
       "      <th>13</th>\n",
       "      <td>1</td>\n",
       "      <td>11/23</td>\n",
       "      <td>\\n[問卦] 有沒有每到週三就想吃麥當勞的八卦？\\n</td>\n",
       "      <td>smilekevinyu</td>\n",
       "      <td>/bbs/Gossiping/M.1479888720.A.875.html</td>\n",
       "    </tr>\n",
       "    <tr>\n",
       "      <th>14</th>\n",
       "      <td>1</td>\n",
       "      <td>11/23</td>\n",
       "      <td>\\n[問卦] 為何復興航空關門大吉沒人慶祝\\n</td>\n",
       "      <td>Odakyu</td>\n",
       "      <td>/bbs/Gossiping/M.1479888772.A.EDC.html</td>\n",
       "    </tr>\n",
       "    <tr>\n",
       "      <th>15</th>\n",
       "      <td></td>\n",
       "      <td>11/23</td>\n",
       "      <td>\\nRe: [爆卦] 賴清德：勞檢會造成民怨\\n</td>\n",
       "      <td>bulden</td>\n",
       "      <td>/bbs/Gossiping/M.1479888784.A.0C9.html</td>\n",
       "    </tr>\n",
       "    <tr>\n",
       "      <th>16</th>\n",
       "      <td></td>\n",
       "      <td>8/16</td>\n",
       "      <td>\\n[公告] 八卦板板規(2016.08.16)\\n</td>\n",
       "      <td>Bignana</td>\n",
       "      <td>/bbs/Gossiping/M.1471338439.A.5B1.html</td>\n",
       "    </tr>\n",
       "    <tr>\n",
       "      <th>17</th>\n",
       "      <td>9</td>\n",
       "      <td>11/22</td>\n",
       "      <td>\\n[協尋] 11/21 晚上國道一號南下彰化路段行車紀\\n</td>\n",
       "      <td>eric52015516</td>\n",
       "      <td>/bbs/Gossiping/M.1479750763.A.91F.html</td>\n",
       "    </tr>\n",
       "    <tr>\n",
       "      <th>18</th>\n",
       "      <td>11</td>\n",
       "      <td>11/21</td>\n",
       "      <td>\\n[協尋] 求11/17號  嘉義民雄行車紀錄器\\n</td>\n",
       "      <td>a1091331</td>\n",
       "      <td>/bbs/Gossiping/M.1479739811.A.EED.html</td>\n",
       "    </tr>\n",
       "    <tr>\n",
       "      <th>19</th>\n",
       "      <td>2</td>\n",
       "      <td>11/20</td>\n",
       "      <td>\\n[協尋] 代PO 11/10 建國南路 行車紀錄/監視影像\\n</td>\n",
       "      <td>VJ2004</td>\n",
       "      <td>/bbs/Gossiping/M.1479631379.A.A6D.html</td>\n",
       "    </tr>\n",
       "    <tr>\n",
       "      <th>20</th>\n",
       "      <td>52</td>\n",
       "      <td>11/01</td>\n",
       "      <td>\\n[公告] 十一月份置底閒聊區\\n</td>\n",
       "      <td>kasion</td>\n",
       "      <td>/bbs/Gossiping/M.1477932607.A.BBF.html</td>\n",
       "    </tr>\n",
       "  </tbody>\n",
       "</table>\n",
       "</div>"
      ],
      "text/plain": [
       "   push   date                                              title  \\\n",
       "0     1  11/23                          \\n[問卦]  復興航空員工可以包圍母公司嗎？\\n   \n",
       "1     5  11/23                       \\nRe: [問卦] 蔣光頭沒來台灣、台灣能有今天嗎\\n   \n",
       "2        11/23                       \\nRe: [問卦] 蔣光頭沒來台灣、台灣能有今天嗎\\n   \n",
       "3     1  11/23                    \\nRe: [新聞] 復航刁難！勞資協商資方竟問「你是誰」\\n   \n",
       "4     1  11/23                   \\nRe: [新聞] 蔡英文提醒年輕人找工作不要太挑 有工作\\n   \n",
       "5     3  11/23                             \\n[問卦] 懷孕的人不能跟狗在同個環境\\n   \n",
       "6     2  11/23                           \\nRe: [問卦] 航航是黃興大將軍轉世嗎\\n   \n",
       "7     1  11/23                            \\n[問卦] 中國是不是已經沒有競爭力了？\\n   \n",
       "8     2  11/23               \\nRe: [新聞] 女生納入徵兵範圍？國防部回應了........\\n   \n",
       "9        11/23                        \\n[新聞] 銀行團要求興航重整，支持政府接管降低\\n   \n",
       "10       11/23                   \\nRe: [新聞] 馮翊綱談文化總會：沒文化素養的人 只能\\n   \n",
       "11       11/23                    \\nRe: [新聞] 傳蘋果首席設計師　跟iPhone掰了\\n   \n",
       "12       11/23  \\n\\t\\t\\t\\n\\t\\t\\t\\t(本文已被刪除) [shaqgod]\\n\\t\\t\\t\\n...   \n",
       "13    1  11/23                         \\n[問卦] 有沒有每到週三就想吃麥當勞的八卦？\\n   \n",
       "14    1  11/23                            \\n[問卦] 為何復興航空關門大吉沒人慶祝\\n   \n",
       "15       11/23                           \\nRe: [爆卦] 賴清德：勞檢會造成民怨\\n   \n",
       "16        8/16                         \\n[公告] 八卦板板規(2016.08.16)\\n   \n",
       "17    9  11/22                     \\n[協尋] 11/21 晚上國道一號南下彰化路段行車紀\\n   \n",
       "18   11  11/21                        \\n[協尋] 求11/17號  嘉義民雄行車紀錄器\\n   \n",
       "19    2  11/20                  \\n[協尋] 代PO 11/10 建國南路 行車紀錄/監視影像\\n   \n",
       "20   52  11/01                                 \\n[公告] 十一月份置底閒聊區\\n   \n",
       "\n",
       "          author                                     url  \n",
       "0       Cocochia  /bbs/Gossiping/M.1479888478.A.AF7.html  \n",
       "1           rial  /bbs/Gossiping/M.1479888494.A.B12.html  \n",
       "2          XDboy  /bbs/Gossiping/M.1479888562.A.BB3.html  \n",
       "3        arierme  /bbs/Gossiping/M.1479888572.A.4C5.html  \n",
       "4        hopixar  /bbs/Gossiping/M.1479888593.A.4A3.html  \n",
       "5      yis000000  /bbs/Gossiping/M.1479888614.A.304.html  \n",
       "6      ttn851227  /bbs/Gossiping/M.1479888640.A.289.html  \n",
       "7     nurais1127  /bbs/Gossiping/M.1479888682.A.801.html  \n",
       "8      z66214328  /bbs/Gossiping/M.1479888693.A.C3C.html  \n",
       "9         pm2001  /bbs/Gossiping/M.1479888696.A.18D.html  \n",
       "10        Linama  /bbs/Gossiping/M.1479888709.A.FF7.html  \n",
       "11     chien0923  /bbs/Gossiping/M.1479888714.A.6FC.html  \n",
       "12             -                                      []  \n",
       "13  smilekevinyu  /bbs/Gossiping/M.1479888720.A.875.html  \n",
       "14        Odakyu  /bbs/Gossiping/M.1479888772.A.EDC.html  \n",
       "15        bulden  /bbs/Gossiping/M.1479888784.A.0C9.html  \n",
       "16       Bignana  /bbs/Gossiping/M.1471338439.A.5B1.html  \n",
       "17  eric52015516  /bbs/Gossiping/M.1479750763.A.91F.html  \n",
       "18      a1091331  /bbs/Gossiping/M.1479739811.A.EED.html  \n",
       "19        VJ2004  /bbs/Gossiping/M.1479631379.A.A6D.html  \n",
       "20        kasion  /bbs/Gossiping/M.1477932607.A.BBF.html  "
      ]
     },
     "execution_count": 69,
     "metadata": {},
     "output_type": "execute_result"
    }
   ],
   "source": [
    "df"
   ]
  },
  {
   "cell_type": "code",
   "execution_count": 25,
   "metadata": {
    "collapsed": false
   },
   "outputs": [
    {
     "data": {
      "text/plain": [
       "push      object\n",
       "date      object\n",
       "title     object\n",
       "author    object\n",
       "dtype: object"
      ]
     },
     "execution_count": 25,
     "metadata": {},
     "output_type": "execute_result"
    }
   ],
   "source": [
    "df.dtypes"
   ]
  }
 ],
 "metadata": {
  "kernelspec": {
   "display_name": "Python 2",
   "language": "python",
   "name": "python2"
  },
  "language_info": {
   "codemirror_mode": {
    "name": "ipython",
    "version": 2
   },
   "file_extension": ".py",
   "mimetype": "text/x-python",
   "name": "python",
   "nbconvert_exporter": "python",
   "pygments_lexer": "ipython2",
   "version": "2.7.12"
  }
 },
 "nbformat": 4,
 "nbformat_minor": 0
}
