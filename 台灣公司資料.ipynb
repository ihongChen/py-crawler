{
 "cells": [
  {
   "cell_type": "markdown",
   "metadata": {},
   "source": [
    "# 台灣公司資料\n",
    "\n",
    "* 抓取檔案來自[台灣公司資料](http://company.g0v.ronny.tw/)\n",
    "* 欄位定義看[這邊](http://company.g0v.ronny.tw/index/columns)\n",
    "* 資料下載位置在[這裡](http://ronnywang-twcompany.s3-website-ap-northeast-1.amazonaws.com/index.html)"
   ]
  },
  {
   "cell_type": "code",
   "execution_count": 1,
   "metadata": {
    "collapsed": true
   },
   "outputs": [],
   "source": [
    "import requests\n",
    "import pandas as pd "
   ]
  },
  {
   "cell_type": "code",
   "execution_count": 2,
   "metadata": {
    "collapsed": true
   },
   "outputs": [],
   "source": [
    "url = 'http://ronnywang-twcompany.s3-website-ap-northeast-1.amazonaws.com/files/'"
   ]
  },
  {
   "cell_type": "code",
   "execution_count": 3,
   "metadata": {
    "collapsed": false
   },
   "outputs": [],
   "source": [
    "# http://ronnywang-twcompany.s3-website-ap-northeast-1.amazonaws.com/files/00000000.json.gz\n",
    "file_indexes = ['00000000','10000000','20000000','30000000','40000000','50000000','60000000','70000000','80000000','90000000']\n",
    "# file_name = file_indexes[0] + '.json.gz'\n",
    "path = '../data/'"
   ]
  },
  {
   "cell_type": "code",
   "execution_count": 4,
   "metadata": {
    "collapsed": false
   },
   "outputs": [
    {
     "data": {
      "text/plain": [
       "'http://ronnywang-twcompany.s3-website-ap-northeast-1.amazonaws.com/files/00000000.jsonl.gz'"
      ]
     },
     "execution_count": 4,
     "metadata": {},
     "output_type": "execute_result"
    }
   ],
   "source": [
    "url + file_indexes[0] + '.jsonl.gz'"
   ]
  },
  {
   "cell_type": "code",
   "execution_count": 5,
   "metadata": {
    "collapsed": true
   },
   "outputs": [],
   "source": [
    "def download_gz(path=path,file_indexes=file_indexes):\n",
    "    ## 大型公司資料 00000000.json.gz \n",
    "    for item in file_indexes:\n",
    "        url_data = url + item + '.jsonl.gz'\n",
    "        res = requests.get(url_data)\n",
    "        storage_path = path + item + '.jsonl.gz'\n",
    "        with open(storage_path,'wb') as handle:\n",
    "            if not res.ok:\n",
    "                print('oops, something wrong!')\n",
    "            else:\n",
    "                for block in res.iter_content(1024):\n",
    "                    handle.write(block)\n",
    "                print '{} is downloaded'.format(item+'.jsonl.gz')\n",
    "    ## 小企業資料 business-00000000.json.gz\n",
    "    for item in file_indexes:\n",
    "        file_path = 'bussiness-' + item + '.jsonl.gz'\n",
    "        url_data = url + file_path\n",
    "        res = requests.get(url_data)\n",
    "        storage_path = path + file_path        \n",
    "        with open(storage_path,'wb') as handle:\n",
    "            if not res.ok:\n",
    "                print('oops, something wrong')\n",
    "            else:\n",
    "                for block in res.iter_content(1024):\n",
    "                    handle.write(block)        \n",
    "                print '{} is downloaded'.format(file_path)"
   ]
  },
  {
   "cell_type": "code",
   "execution_count": 6,
   "metadata": {
    "collapsed": false
   },
   "outputs": [
    {
     "name": "stdout",
     "output_type": "stream",
     "text": [
      "00000000.jsonl.gz is downloaded\n",
      "10000000.jsonl.gz is downloaded\n",
      "20000000.jsonl.gz is downloaded\n",
      "30000000.jsonl.gz is downloaded\n",
      "40000000.jsonl.gz is downloaded\n",
      "50000000.jsonl.gz is downloaded\n",
      "60000000.jsonl.gz is downloaded\n",
      "70000000.jsonl.gz is downloaded\n",
      "80000000.jsonl.gz is downloaded\n",
      "90000000.jsonl.gz is downloaded\n",
      "bussiness-00000000.jsonl.gz is downloaded\n",
      "bussiness-10000000.jsonl.gz is downloaded\n",
      "bussiness-20000000.jsonl.gz is downloaded\n",
      "bussiness-30000000.jsonl.gz is downloaded\n",
      "bussiness-40000000.jsonl.gz is downloaded\n",
      "bussiness-50000000.jsonl.gz is downloaded\n",
      "bussiness-60000000.jsonl.gz is downloaded\n",
      "bussiness-70000000.jsonl.gz is downloaded\n",
      "bussiness-80000000.jsonl.gz is downloaded\n",
      "bussiness-90000000.jsonl.gz is downloaded\n"
     ]
    }
   ],
   "source": [
    "download_gz()"
   ]
  },
  {
   "cell_type": "markdown",
   "metadata": {},
   "source": [
    "## 處理.gz檔案"
   ]
  },
  {
   "cell_type": "code",
   "execution_count": 1,
   "metadata": {
    "collapsed": true
   },
   "outputs": [],
   "source": [
    "import gzip\n",
    "import json"
   ]
  },
  {
   "cell_type": "code",
   "execution_count": 2,
   "metadata": {
    "collapsed": false
   },
   "outputs": [],
   "source": [
    "data = []\n",
    "with gzip.open('../data/00000000.jsonl.gz') as f:\n",
    "    for line in f:\n",
    "        data.append(line)"
   ]
  },
  {
   "cell_type": "code",
   "execution_count": 3,
   "metadata": {
    "collapsed": false
   },
   "outputs": [
    {
     "data": {
      "text/plain": [
       "{u'id': u'16',\n",
       " u'\\u4ee3\\u8868\\u4eba\\u59d3\\u540d': u'\\u738b\\u632f\\u6797',\n",
       " u'\\u516c\\u53f8\\u540d\\u7a31': u'\\u5bcc\\u53f0\\u6a5f\\u68b0\\u958b\\u767c\\u5efa\\u8a2d\\u6709\\u9650\\u516c\\u53f8',\n",
       " u'\\u516c\\u53f8\\u6240\\u5728\\u5730': u'\\u81fa\\u5317\\u5e02\\u677e\\u5c71\\u5340\\u5357\\u4eac\\u6771\\u8def4\\u6bb5120\\u5df719\\u5f0423\\u865f\\ufe391\\ufe3a',\n",
       " u'\\u516c\\u53f8\\u72c0\\u6cc1': u'\\u6838\\u51c6\\u8a2d\\u7acb',\n",
       " u'\\u6240\\u71df\\u4e8b\\u696d\\u8cc7\\u6599': [[u'',\n",
       "   u'\\u6a5f\\u68b0\\u958b\\u767c\\u5de5\\u7a0b\\u4e4b\\u627f\\u652c'],\n",
       "  [u'',\n",
       "   u'\\u9053\\u8def\\u571f\\u6728\\u5efa\\u7bc9\\u6a4b\\u6a11\\u7b49\\u4e4b\\u5de5\\u7a0b\\u4e4b\\u627f\\u652c'],\n",
       "  [u'', u'\\u571f\\u5730\\u958b\\u767c\\u898f\\u5283\\u6539\\u826f\\u8a2d\\u8a08'],\n",
       "  [u'', u'\\u793e\\u5340\\u570b\\u6c11\\u4f4f\\u5b85\\u7814\\u7a76\\u53ca\\u8a2d\\u8a08'],\n",
       "  [u'',\n",
       "   u'\\u8207\\u524d\\u5404\\u9805\\u6709\\u95dc\\u9032\\u7bc9\\u6750\\u6599\\u7d93\\u92b7\\u53ca\\u7522\\u88fd'],\n",
       "  [u'',\n",
       "   u'\\u6709\\u95dc\\u524d\\u9805\\u696d\\u52d9\\u4e4b\\u7d93\\u71df\\u8207\\u6295\\u8cc7']],\n",
       " u'\\u6700\\u5f8c\\u6838\\u51c6\\u8b8a\\u66f4\\u65e5\\u671f': None,\n",
       " u'\\u6838\\u51c6\\u8a2d\\u7acb\\u65e5\\u671f': {u'day': 30,\n",
       "  u'month': 4,\n",
       "  u'year': 1979},\n",
       " u'\\u767b\\u8a18\\u6a5f\\u95dc': u'\\u81fa\\u5317\\u5e02\\u653f\\u5e9c',\n",
       " u'\\u7d93\\u7406\\u4eba\\u540d\\u55ae': [],\n",
       " u'\\u8463\\u76e3\\u4e8b\\u540d\\u55ae': [{u'\\u51fa\\u8cc7\\u984d': u'1,000,000',\n",
       "   u'\\u59d3\\u540d': u'\\u738b\\u632f\\u6797',\n",
       "   u'\\u5e8f\\u865f': u'0000',\n",
       "   u'\\u6240\\u4ee3\\u8868\\u6cd5\\u4eba': u'',\n",
       "   u'\\u8077\\u7a31': u'\\u57f7\\u884c\\u696d\\u52d9\\u80a1\\u6771'}],\n",
       " u'\\u8cc7\\u672c\\u7e3d\\u984d(\\u5143)': u'1,000,000'}"
      ]
     },
     "execution_count": 3,
     "metadata": {},
     "output_type": "execute_result"
    }
   ],
   "source": [
    "data0 = json.loads(data[0])\n",
    "data1 = json.loads(data[1])\n",
    "data1"
   ]
  },
  {
   "cell_type": "code",
   "execution_count": 4,
   "metadata": {
    "collapsed": false
   },
   "outputs": [
    {
     "name": "stdout",
     "output_type": "stream",
     "text": [
      "代表人姓名/所營事業資料/經理人名單/核准設立日期/公司所在地/資本總額(元)/停業日期(迄)/董監事名單/舊營業項目資料/停業日期(起)/登記機關/最後核准變更日期/公司狀況/id/公司名稱\n"
     ]
    }
   ],
   "source": [
    "print '/'.join(data0.keys())"
   ]
  },
  {
   "cell_type": "markdown",
   "metadata": {},
   "source": [
    "## 存入SQL"
   ]
  },
  {
   "cell_type": "code",
   "execution_count": 5,
   "metadata": {
    "collapsed": false
   },
   "outputs": [
    {
     "data": {
      "text/plain": [
       "'ascii'"
      ]
     },
     "execution_count": 5,
     "metadata": {},
     "output_type": "execute_result"
    }
   ],
   "source": [
    "import sys\n",
    "sys.getdefaultencoding()"
   ]
  },
  {
   "cell_type": "code",
   "execution_count": 6,
   "metadata": {
    "collapsed": true
   },
   "outputs": [],
   "source": [
    "import pypyodbc\n",
    "import datetime"
   ]
  },
  {
   "cell_type": "markdown",
   "metadata": {},
   "source": [
    "## 整理table\n",
    "### 公司法人資料"
   ]
  },
  {
   "cell_type": "code",
   "execution_count": 7,
   "metadata": {
    "collapsed": false
   },
   "outputs": [
    {
     "data": {
      "text/plain": [
       "datetime.datetime(2016, 12, 1, 0, 0)"
      ]
     },
     "execution_count": 7,
     "metadata": {},
     "output_type": "execute_result"
    }
   ],
   "source": [
    "datetime.datetime.strptime('20161201','%Y%m%d')"
   ]
  },
  {
   "cell_type": "code",
   "execution_count": 8,
   "metadata": {
    "collapsed": false
   },
   "outputs": [
    {
     "name": "stdout",
     "output_type": "stream",
     "text": [
      "None\n",
      "//機械開發工程之承攬//道路土木建築橋樑等之工程之承攬//土地開發規劃改良設計//社區國民住宅研究及設計//與前各項有關進築材料經銷及產製//有關前項業務之經營與投資\n"
     ]
    }
   ],
   "source": [
    "\n",
    "def get_company_info_str(data):\n",
    "    if data:\n",
    "        temp_info = ''\n",
    "        for e in data:\n",
    "            for j in e:                \n",
    "                temp_info += '/'+j.encode('utf8') \n",
    "        return temp_info\n",
    "    else:\n",
    "        return None\n",
    "print get_company_info_str(data0[u'所營事業資料'])\n",
    "print get_company_info_str(data1[u'所營事業資料'])   \n"
   ]
  },
  {
   "cell_type": "code",
   "execution_count": 9,
   "metadata": {
    "collapsed": false
   },
   "outputs": [],
   "source": [
    "def get_date(data_date):\n",
    "    if data_date:\n",
    "        [month,day,year] = data_date.values()\n",
    "        return datetime.datetime.strptime(str(year)+'-' + str(month)+'-' +str(day),'%Y-%m-%d')\n",
    "    else:\n",
    "        return None\n",
    "# data0[u'停業日期(起)']"
   ]
  },
  {
   "cell_type": "code",
   "execution_count": 10,
   "metadata": {
    "collapsed": false
   },
   "outputs": [],
   "source": [
    "get_date(data0[u'停業日期(迄)'])"
   ]
  },
  {
   "cell_type": "code",
   "execution_count": 65,
   "metadata": {
    "collapsed": false
   },
   "outputs": [],
   "source": [
    "data_temp = {}\n",
    "data_temp['id'] = str(data0['id'])\n",
    "data_temp[u'公司狀況'] = data0[u'公司狀況']\n",
    "data_temp[u'公司名稱'] = data0[u'公司名稱']\n",
    "data_temp[u'資本總額(元)'] = int((data0[u'資本總額(元)']).replace(',',''))\n",
    "data_temp[u'代表人姓名'] = data0[u'代表人姓名']\n",
    "data_temp[u'公司所在地'] = data0[u'公司所在地']\n",
    "data_temp[u'登記機關'] = data0[u'登記機關']\n",
    "data_temp[u'核准設立日期'] = get_date(data0[u'核准設立日期'])\n",
    "data_temp[u'最後核准變更日期'] = get_date(data0[u'最後核准變更日期'])\n",
    "data_temp[u'所營事業資料'] = get_company_info_str(data0[u'所營事業資料'])\n",
    "data_temp[u'停業日期(起)'] = get_date(data0[u'停業日期(起)'])\n",
    "data_temp[u'停業日期(迄)'] = get_date(data0[u'停業日期(迄)'])\n",
    "data_temp[u'舊營業項目資料'] = data0[u'舊營業項目資料']"
   ]
  },
  {
   "cell_type": "code",
   "execution_count": 70,
   "metadata": {
    "collapsed": false
   },
   "outputs": [],
   "source": [
    "data_temp.values()\n",
    "datasets = [data_temp]"
   ]
  },
  {
   "cell_type": "code",
   "execution_count": 85,
   "metadata": {
    "collapsed": true
   },
   "outputs": [],
   "source": [
    "conn = pypyodbc.connect(\"DRIVER={SQL Server};SERVER=dbm_public;UID=sa;PWD=01060728;DATABASE=External;\")\n",
    "cursor = conn.cursor()"
   ]
  },
  {
   "cell_type": "code",
   "execution_count": 34,
   "metadata": {
    "collapsed": false
   },
   "outputs": [],
   "source": [
    "# def create_db(table,cursor):\n",
    "sql_create = u\"\"\"\n",
    "create table [公司法人資料]\n",
    "(\n",
    "    [ID] varchar(40) not null,\n",
    "    [公司狀況] VARCHAR(10),\n",
    "    [公司名稱] VARCHAR(100),\n",
    "    [資本總額(元)] BIGINT,\n",
    "    [代表人姓名] VARCHAR(50) ,\n",
    "    [公司所在地] VARCHAR(200),\n",
    "    [登記機關] VARCHAR(20),\n",
    "    [核准設立日期] smalldatetime,\n",
    "    [最後核准變更日期] smalldatetime,\n",
    "    [所營事業資料] VARCHAR(3000),\n",
    "    [停業日期(起)] smalldatetime,\n",
    "    [停業日期(迄)] smalldatetime,\n",
    "    [舊營業項目資料] VARCHAR(2000),\n",
    "    constraint pk_id primary key (ID)\n",
    ")\n",
    "\"\"\"\n",
    "cursor.execute(sql_create)\n",
    "cursor.commit()"
   ]
  },
  {
   "cell_type": "code",
   "execution_count": 72,
   "metadata": {
    "collapsed": false
   },
   "outputs": [
    {
     "name": "stdout",
     "output_type": "stream",
     "text": [
      "[代表人姓名],[所營事業資料],[核准設立日期],[公司所在地],[資本總額],[停業日期起],[舊營業項目資料],[登記機關],[停業日期迄],[最後核准變更日期],[公司狀況],[id],[公司名稱]\n"
     ]
    }
   ],
   "source": [
    "print fields"
   ]
  },
  {
   "cell_type": "code",
   "execution_count": 86,
   "metadata": {
    "collapsed": false
   },
   "outputs": [],
   "source": [
    "\n",
    "for index, row in enumerate(datasets):\n",
    "    # row data\n",
    "    # {key:value,key2:value2,...}\n",
    "    fields = ','.join([ '['+e+ ']' for e in row.keys()])\n",
    "    values = row.values()\n",
    "    num_quest = '?' + ',?' * (len(row.keys())-1)\n",
    "#     try:\n",
    "    sql_insert = u\"\"\"INSERT INTO {0}({1}) VALUES({2})\"\"\".format(\n",
    "        table, fields, num_quest)\n",
    "\n",
    "    # print sql_insert ## check SQL SYNTAX\n",
    "    cursor.execute(sql_insert, values)\n",
    "    cursor.commit()\n",
    "#     except:\n",
    "#         print('error!!')"
   ]
  },
  {
   "cell_type": "code",
   "execution_count": 52,
   "metadata": {
    "collapsed": false
   },
   "outputs": [
    {
     "name": "stdout",
     "output_type": "stream",
     "text": [
      "INSERT INTO 公司法人資料([u'[\\u4ee3\\u8868\\u4eba\\u59d3\\u540d]', u'[\\u6240\\u71df\\u4e8b\\u696d\\u8cc7\\u6599]', u'[\\u6838\\u51c6\\u8a2d\\u7acb\\u65e5\\u671f]', u'[\\u516c\\u53f8\\u6240\\u5728\\u5730]', u'[\\u8cc7\\u672c\\u7e3d\\u984d]', u'[\\u505c\\u696d\\u65e5\\u671f\\u8d77]', u'[\\u820a\\u71df\\u696d\\u9805\\u76ee\\u8cc7\\u6599]', u'[\\u767b\\u8a18\\u6a5f\\u95dc]', u'[\\u505c\\u696d\\u65e5\\u671f\\u8fc4]', u'[\\u6700\\u5f8c\\u6838\\u51c6\\u8b8a\\u66f4\\u65e5\\u671f]', u'[\\u516c\\u53f8\\u72c0\\u6cc1]', '[id]', u'[\\u516c\\u53f8\\u540d\\u7a31]']) VALUES(?,?,?,?,?,?,?,?,?,?,?,?,?)\n"
     ]
    }
   ],
   "source": [
    "sql_insert = u\"\"\"INSERT INTO {0}({1}) VALUES({2})\"\"\".format(\n",
    "        table, fields, num_quest)\n",
    "print sql_insert"
   ]
  },
  {
   "cell_type": "code",
   "execution_count": 178,
   "metadata": {
    "collapsed": false
   },
   "outputs": [],
   "source": [
    "def to_db(datasets,table,cursor):\n",
    "    \n",
    "    for index, row in enumerate(datasets):\n",
    "        # row data        \n",
    "        fields = ','.join([ '['+e+ ']' for e in row.keys()]) # 欄位        \n",
    "        values = row.values() # 值\n",
    "        num_quest = '?' + ',?' * (len(row.keys())-1)\n",
    "        try:\n",
    "            sql_insert = u\"\"\"INSERT INTO {0}({1}) VALUES({2})\"\"\".format(\n",
    "                table, fields, num_quest)\n",
    "            \n",
    "            cursor.execute(sql_insert, values)\n",
    "            # print \"row index : %d, success!\" %index\n",
    "        except pypyodbc.IntegrityError as e:\n",
    "            print 'Data key Duplicate!! Forbiden'+str(e)    \n",
    "    cursor.commit()"
   ]
  },
  {
   "cell_type": "code",
   "execution_count": 97,
   "metadata": {
    "collapsed": false
   },
   "outputs": [],
   "source": [
    "table = u'公司法人資料' \n",
    "to_db(datasets,table,cursor)"
   ]
  },
  {
   "cell_type": "markdown",
   "metadata": {},
   "source": [
    "###  公司董監事資料"
   ]
  },
  {
   "cell_type": "code",
   "execution_count": 109,
   "metadata": {
    "collapsed": false
   },
   "outputs": [
    {
     "name": "stdout",
     "output_type": "stream",
     "text": [
      "序號/出資額/姓名/職稱/所代表法人\n"
     ]
    }
   ],
   "source": [
    "print '/'.join(data1[u'董監事名單'][0].keys())"
   ]
  },
  {
   "cell_type": "code",
   "execution_count": 117,
   "metadata": {
    "collapsed": false
   },
   "outputs": [
    {
     "name": "stdout",
     "output_type": "stream",
     "text": [
      "{u'\\u5e8f\\u865f': u'0000', u'\\u51fa\\u8cc7\\u984d': u'1,000,000', u'\\u59d3\\u540d': u'\\u738b\\u632f\\u6797', u'\\u8077\\u7a31': u'\\u57f7\\u884c\\u696d\\u52d9\\u80a1\\u6771', u'\\u6240\\u4ee3\\u8868\\u6cd5\\u4eba': u''}\n"
     ]
    }
   ],
   "source": [
    "for e in data1[u'董監事名單']:\n",
    "    print e"
   ]
  },
  {
   "cell_type": "code",
   "execution_count": 120,
   "metadata": {
    "collapsed": false
   },
   "outputs": [
    {
     "name": "stdout",
     "output_type": "stream",
     "text": [
      "序號/出資額/姓名/職稱/所代表法人\n"
     ]
    }
   ],
   "source": [
    "print '/'.join(data1[u'董監事名單'][0].keys())"
   ]
  },
  {
   "cell_type": "code",
   "execution_count": 183,
   "metadata": {
    "collapsed": false
   },
   "outputs": [],
   "source": [
    "def get_director_lists(row):\n",
    "    director_lists = []\n",
    "    director = {}\n",
    "    id = row['id']\n",
    "    for e in row[u'董監事名單']:\n",
    "        director['id'] = id\n",
    "        director[u'姓名'] = e.get(u'姓名')\n",
    "        director[u'職稱'] = e.get(u'職稱')\n",
    "        director[u'出資額'] = int(e.get(u'出資額').replace(',',''))\n",
    "        director[u'所代表法人'] = e.get(u'所代表法人')\n",
    "        director_lists.append(director)\n",
    "    return director_lists"
   ]
  },
  {
   "cell_type": "code",
   "execution_count": 184,
   "metadata": {
    "collapsed": false
   },
   "outputs": [],
   "source": [
    "to_db(get_director_lists(data1),u'公司董監事',cursor)"
   ]
  },
  {
   "cell_type": "markdown",
   "metadata": {},
   "source": [
    "### 公司經理人資料"
   ]
  },
  {
   "cell_type": "code",
   "execution_count": 140,
   "metadata": {
    "collapsed": false
   },
   "outputs": [],
   "source": [
    "data3 = json.loads(data[100])"
   ]
  },
  {
   "cell_type": "code",
   "execution_count": 142,
   "metadata": {
    "collapsed": false
   },
   "outputs": [
    {
     "name": "stdout",
     "output_type": "stream",
     "text": [
      "序號/到職日期/姓名\n"
     ]
    }
   ],
   "source": [
    "print '/'.join(data3[u'經理人名單'][0].keys())"
   ]
  },
  {
   "cell_type": "code",
   "execution_count": 144,
   "metadata": {
    "collapsed": false
   },
   "outputs": [
    {
     "data": {
      "text/plain": [
       "[u'0001', {u'day': 25, u'month': 10, u'year': 2011}, u'\\u6797\\u6b63\\u5e38']"
      ]
     },
     "execution_count": 144,
     "metadata": {},
     "output_type": "execute_result"
    }
   ],
   "source": [
    "data3[u'經理人名單'][0].values()"
   ]
  },
  {
   "cell_type": "code",
   "execution_count": 147,
   "metadata": {
    "collapsed": true
   },
   "outputs": [],
   "source": [
    "def get_manager_lists(row):\n",
    "    manager_lists = []\n",
    "    manager = {}\n",
    "    id = row['id']\n",
    "    for e in row[u'經理人名單']:\n",
    "        manager['id'] = id\n",
    "        manager[u'姓名'] = e.get(u'姓名')\n",
    "        manager[u'到職日期'] = get_date(e.get(u'到職日期'))\n",
    "        manager_lists.append(manager)\n",
    "    return manager_lists"
   ]
  },
  {
   "cell_type": "code",
   "execution_count": 179,
   "metadata": {
    "collapsed": false
   },
   "outputs": [],
   "source": [
    "table = u'公司經理人'\n",
    "data_manager_lists = get_manager_lists(data3)\n",
    "to_db(data_manager_lists,table,cursor2)"
   ]
  }
 ],
 "metadata": {
  "anaconda-cloud": {},
  "kernelspec": {
   "display_name": "Python [default]",
   "language": "python",
   "name": "python2"
  },
  "language_info": {
   "codemirror_mode": {
    "name": "ipython",
    "version": 2
   },
   "file_extension": ".py",
   "mimetype": "text/x-python",
   "name": "python",
   "nbconvert_exporter": "python",
   "pygments_lexer": "ipython2",
   "version": "2.7.12"
  }
 },
 "nbformat": 4,
 "nbformat_minor": 1
}
