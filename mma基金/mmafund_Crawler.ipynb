{
 "cells": [
  {
   "cell_type": "markdown",
   "metadata": {},
   "source": [
    "# MMA基金資料"
   ]
  },
  {
   "cell_type": "code",
   "execution_count": 1,
   "metadata": {
    "collapsed": true
   },
   "outputs": [],
   "source": [
    "import requests\n",
    "from bs4 import BeautifulSoup as BS\n",
    "import pandas as pd"
   ]
  },
  {
   "cell_type": "code",
   "execution_count": 2,
   "metadata": {
    "collapsed": true
   },
   "outputs": [],
   "source": [
    "import re\n",
    "from collections import defaultdict"
   ]
  },
  {
   "cell_type": "code",
   "execution_count": 3,
   "metadata": {
    "collapsed": true
   },
   "outputs": [],
   "source": [
    "requests.packages.urllib3.disable_warnings()  # disable warning insecure"
   ]
  },
  {
   "cell_type": "markdown",
   "metadata": {},
   "source": [
    "______"
   ]
  },
  {
   "cell_type": "markdown",
   "metadata": {},
   "source": [
    "## 取得基金id "
   ]
  },
  {
   "cell_type": "markdown",
   "metadata": {},
   "source": [
    "#### 國內基金公司"
   ]
  },
  {
   "cell_type": "code",
   "execution_count": 4,
   "metadata": {
    "collapsed": true
   },
   "outputs": [],
   "source": [
    "url_id = 'http://mmafund.sinopac.com/w/js/wtfundjs.djjs'\n",
    "res = requests.get(url_id)\n",
    "html_id = res.text\n",
    "soup = BS(html_id,\"lxml\")"
   ]
  },
  {
   "cell_type": "code",
   "execution_count": 30,
   "metadata": {
    "collapsed": false
   },
   "outputs": [],
   "source": [
    "tfund_corpStr = re.findall(r\"(?:tfund_corp=\\\")(.+)(?:\\\")\",html_id)[0]\n",
    "tfund_corpids = [e for index,e in enumerate(re.split(r\"@1@\",tfund_corpStr)) if index%2 == 0 ]\n",
    "tfund_names = [e for index,e in enumerate(re.split(r\"@1@\",tfund_corpStr)) if index%2 != 0 ]\n",
    "tfund_corpList = list(zip(tfund_corpids,tfund_names))"
   ]
  },
  {
   "cell_type": "code",
   "execution_count": 47,
   "metadata": {
    "collapsed": false
   },
   "outputs": [],
   "source": [
    "tfund_corpDict = {k:v for k,v in zip(tfund_corpids,tfund_names)}\n",
    "    "
   ]
  },
  {
   "cell_type": "code",
   "execution_count": 48,
   "metadata": {
    "collapsed": false
   },
   "outputs": [
    {
     "data": {
      "text/plain": [
       "[('BFZDSA', '中國信託投信'),\n",
       " ('BFZYTA', '元大投信'),\n",
       " ('BFZJSA', '日盛投信'),\n",
       " ('BFZ010', '台新投信'),\n",
       " ('BFZ001', '未來資產投信'),\n",
       " ('BFZGCA', '永豐投信'),\n",
       " ('BFZIIA', '兆豐國際投信'),\n",
       " ('BFZ002', '安聯投信'),\n",
       " ('BFZAPA', '宏利投信'),\n",
       " ('BFZBRA', '貝萊德投信'),\n",
       " ('BFZMLA', '保德信投信'),\n",
       " ('BFZ005', '施羅德投信'),\n",
       " ('BFZAIA', '柏瑞投信'),\n",
       " ('BFZCYA', '國泰投信'),\n",
       " ('BFZ013', '康和期經'),\n",
       " ('BFZNCA', '第一金投信'),\n",
       " ('BFZPSA', '統一投信'),\n",
       " ('BFZICA', '野村投信'),\n",
       " ('BFZ004', '凱基投信'),\n",
       " ('BFZFPA', '富邦投信')]"
      ]
     },
     "execution_count": 48,
     "metadata": {},
     "output_type": "execute_result"
    }
   ],
   "source": [
    "tfund_corpList[:20]"
   ]
  },
  {
   "cell_type": "code",
   "execution_count": 49,
   "metadata": {
    "collapsed": false
   },
   "outputs": [],
   "source": [
    "tfund_type = re.split(\"@1@\",re.findall(r\"(?:tfund_type=\\\")(.+)(?:\\\")\",html_id)[0])"
   ]
  },
  {
   "cell_type": "markdown",
   "metadata": {},
   "source": [
    "### 基金id清單"
   ]
  },
  {
   "cell_type": "markdown",
   "metadata": {},
   "source": [
    "* 國內"
   ]
  },
  {
   "cell_type": "code",
   "execution_count": 4,
   "metadata": {
    "collapsed": true
   },
   "outputs": [],
   "source": [
    "url_fundid= 'http://mmafund.sinopac.com/w/js/WtFundlistJS.djjs'\n",
    "html_fundids = requests.get(url_fundid).text"
   ]
  },
  {
   "cell_type": "code",
   "execution_count": 5,
   "metadata": {
    "collapsed": false
   },
   "outputs": [],
   "source": [
    "fundids_Str = re.findall(r\"(?:g_TFundList = ')(.+)(?:\\')\",html_fundids)[0]\n",
    "fundDict = defaultdict(list)\n",
    "for index,nameStr in enumerate(re.split(r\";|!\",fundids_Str)):\n",
    "    if index != 0:\n",
    "        fundid,name = nameStr.split(',')\n",
    "        if '-' in fundid:\n",
    "            fundDict[fundid] = name\n"
   ]
  },
  {
   "cell_type": "code",
   "execution_count": 6,
   "metadata": {
    "collapsed": false
   },
   "outputs": [
    {
     "name": "stdout",
     "output_type": "stream",
     "text": [
      "基金數:715\n"
     ]
    }
   ],
   "source": [
    "print('基金數:{}'.format(len(fundDict)))"
   ]
  },
  {
   "cell_type": "markdown",
   "metadata": {},
   "source": [
    "* 境外"
   ]
  },
  {
   "cell_type": "code",
   "execution_count": 7,
   "metadata": {
    "collapsed": true
   },
   "outputs": [],
   "source": [
    "url_f_fund = 'http://mmafund.sinopac.com/w/js/WFundlistJS.djjs'\n",
    "html_ffundids = requests.get(url_f_fund).text"
   ]
  },
  {
   "cell_type": "code",
   "execution_count": 8,
   "metadata": {
    "collapsed": false
   },
   "outputs": [],
   "source": [
    "wfundids_Str = re.findall(r\"(?:g_WFundList = ')(.+)(?:\\')\",html_ffundids)[0]\n",
    "wfundDict = defaultdict(list)\n",
    "for index,nameStr in enumerate(re.split(r\";|!\",wfundids_Str)):\n",
    "    if index != 0:\n",
    "        wfundid,name = nameStr.split(',')\n",
    "        if '-' in wfundid:\n",
    "            wfundDict[wfundid] = name"
   ]
  },
  {
   "cell_type": "code",
   "execution_count": 9,
   "metadata": {
    "collapsed": false
   },
   "outputs": [
    {
     "name": "stdout",
     "output_type": "stream",
     "text": [
      "境外基金數:2035\n"
     ]
    }
   ],
   "source": [
    "print('境外基金數:{}'.format(len(wfundDict)))"
   ]
  },
  {
   "cell_type": "code",
   "execution_count": 171,
   "metadata": {
    "collapsed": true
   },
   "outputs": [
    {
     "name": "stdout",
     "output_type": "stream",
     "text": [
      "星星幾顆:3\n",
      "oops~資料更新嚕!!\n",
      "oops~資料更新嚕!!\n",
      "星星幾顆:2.5\n",
      "oops~資料更新嚕!!\n",
      "oops~資料更新嚕!!\n",
      "星星幾顆:3\n",
      "oops~資料更新嚕!!\n",
      "oops~資料更新嚕!!\n",
      "星星幾顆:5\n",
      "oops~資料更新嚕!!\n",
      "oops~資料更新嚕!!\n",
      "星星幾顆:4\n",
      "oops~資料更新嚕!!\n",
      "oops~資料更新嚕!!\n",
      "星星幾顆:2.5\n",
      "oops~資料更新嚕!!\n",
      "oops~資料更新嚕!!\n",
      "星星幾顆:1\n",
      "oops~資料更新嚕!!\n",
      "oops~資料更新嚕!!\n",
      "星星幾顆:1\n",
      "oops~資料更新嚕!!\n",
      "oops~資料更新嚕!!\n",
      "星星幾顆:4\n",
      "oops~資料更新嚕!!\n",
      "oops~資料更新嚕!!\n",
      "星星幾顆:2.5\n",
      "oops~資料更新嚕!!\n",
      "oops~資料更新嚕!!\n"
     ]
    }
   ],
   "source": [
    "fundidsTestList = list(fundDict.keys())[:10]\n",
    "## 取得國內基金基本資料/經理人資料 ##\n",
    "url_domestic_base = 'http://mmafund.sinopac.com/w/wr/'\n",
    "for fundid in fundidsTestList[:10]:\n",
    "    soup_domestic_info = BS(requests.get(url_domestic_base + 'wr01.djhtm?a=' + fundid).text,\"lxml\")\n",
    "    fundInfo_domestic = getFundBasicInfo(soup_domestic_info)\n",
    "    fundManager_domestic = getFundManager(soup_domestic_info)\n",
    "    dictToDb(fundInfo_domestic,'[MMA國內基金基本資料]',con)\n",
    "    dictToDb(fundManager_domestic,'[MMA國內基金歷任經理人]',con)\n",
    "    "
   ]
  },
  {
   "cell_type": "code",
   "execution_count": 92,
   "metadata": {
    "collapsed": false
   },
   "outputs": [
    {
     "name": "stdout",
     "output_type": "stream",
     "text": [
      "oops~資料更新嚕!!\n"
     ]
    }
   ],
   "source": [
    "dictToDb(fundManager_domestic,'[MMA國內基金歷任經理人]',con)"
   ]
  },
  {
   "cell_type": "code",
   "execution_count": 85,
   "metadata": {
    "collapsed": false
   },
   "outputs": [
    {
     "name": "stdout",
     "output_type": "stream",
     "text": [
      "oops~資料更新嚕!!\n"
     ]
    }
   ],
   "source": [
    "test_manager = getFundManager(soup_domestic_info)\n",
    "dictToDb(test_manager,'[MMA國內基金歷任經理人]',con)"
   ]
  },
  {
   "cell_type": "markdown",
   "metadata": {},
   "source": [
    "## 國內"
   ]
  },
  {
   "cell_type": "markdown",
   "metadata": {},
   "source": [
    "### 基本資料\n"
   ]
  },
  {
   "cell_type": "code",
   "execution_count": 566,
   "metadata": {
    "collapsed": true
   },
   "outputs": [],
   "source": [
    "uid = 'ACUS03-UN2'\n",
    "url_basic = 'http://mmafund.sinopac.com/w/wr/wr01.djhtm?a=ACUS03-UN2'\n",
    "res = requests.get(url_basic)"
   ]
  },
  {
   "cell_type": "code",
   "execution_count": 570,
   "metadata": {
    "collapsed": false
   },
   "outputs": [],
   "source": [
    "soup = BS(res.text,\"lxml\")"
   ]
  },
  {
   "cell_type": "markdown",
   "metadata": {},
   "source": [
    "* 基本資料"
   ]
  },
  {
   "cell_type": "code",
   "execution_count": 571,
   "metadata": {
    "collapsed": false
   },
   "outputs": [
    {
     "data": {
      "text/plain": [
       "'ACUS03-UN2'"
      ]
     },
     "execution_count": 571,
     "metadata": {},
     "output_type": "execute_result"
    }
   ],
   "source": [
    "# r\"(?:a=)(.+)\"\n",
    "fundid = re.findall(r'(?:a=)(.+)',soup.select('#itemTab')[0].find('a').get('href'))[0]\n",
    "fundid"
   ]
  },
  {
   "cell_type": "code",
   "execution_count": 572,
   "metadata": {
    "collapsed": false
   },
   "outputs": [
    {
     "name": "stdout",
     "output_type": "stream",
     "text": [
      "星星幾顆:4.5\n"
     ]
    },
    {
     "data": {
      "text/plain": [
       "['ACUS03-UN2',\n",
       " '永豐領航科技基金',\n",
       " '永豐投信',\n",
       " '1998年9月4日',\n",
       " '楊明昌',\n",
       " '6.43台幣 (2017/01/31)',\n",
       " '2.00(台幣)',\n",
       " '國內股票開放型科技類',\n",
       " '中國信託銀行',\n",
       " '台灣',\n",
       " '台灣',\n",
       " 4.5,\n",
       " '本基金以投資從事或轉投資於通訊、資訊、半導體、關鍵性零組件、生物工程、消費性電子、精密機械與自動化、航太、高級材料、特用化學與製藥、醫療保健、污染防治、資源開發、高級感測及其他經財政部會同主管機關認定重要科技之上市、上櫃股票為主，投資總額不低於淨資產之60%']"
      ]
     },
     "execution_count": 572,
     "metadata": {},
     "output_type": "execute_result"
    }
   ],
   "source": [
    "fieldSoup = soup.select('.wfb5l')\n",
    "fieldList = [uid]\n",
    "for e in fieldSoup[:10]:\n",
    "#     print(e.text)\n",
    "    fieldList.append(e.text)\n",
    "starNum = getFundStar(fieldSoup[-3])\n",
    "fieldList.append(starNum)\n",
    "fieldList.append(fieldSoup[-1].text)\n",
    "fieldList"
   ]
  },
  {
   "cell_type": "code",
   "execution_count": 573,
   "metadata": {
    "collapsed": false
   },
   "outputs": [
    {
     "data": {
      "text/plain": [
       "[('uid', 'ACUS03-UN2'),\n",
       " ('基金名稱', '永豐領航科技基金'),\n",
       " ('基金公司', '永豐投信'),\n",
       " ('成立日期', '1998年9月4日'),\n",
       " ('基金經理人', '楊明昌'),\n",
       " ('基金規模(億)', '6.43台幣 (2017/01/31)'),\n",
       " ('成立時規模(億)', '2.00(台幣)'),\n",
       " ('基金類型', '國內股票開放型科技類'),\n",
       " ('保管銀行', '中國信託銀行'),\n",
       " ('主要投資區域', '台灣'),\n",
       " ('投資區域', '台灣'),\n",
       " ('基金評等', 4.5),\n",
       " ('投資標的',\n",
       "  '本基金以投資從事或轉投資於通訊、資訊、半導體、關鍵性零組件、生物工程、消費性電子、精密機械與自動化、航太、高級材料、特用化學與製藥、醫療保健、污染防治、資源開發、高級感測及其他經財政部會同主管機關認定重要科技之上市、上櫃股票為主，投資總額不低於淨資產之60%')]"
      ]
     },
     "execution_count": 573,
     "metadata": {},
     "output_type": "execute_result"
    }
   ],
   "source": [
    "info_colName = [\n",
    "    'uid',\n",
    "    '基金名稱',\n",
    "    '基金公司',\n",
    "    '成立日期',\n",
    "    '基金經理人',\n",
    "    '基金規模(億)',\n",
    "    '成立時規模(億)',\n",
    "    '基金類型',\n",
    "    '保管銀行',\n",
    "    '主要投資區域',\n",
    "    '投資區域',\n",
    "    '基金評等',\n",
    "    '投資標的'\n",
    "]\n",
    "list(zip(info_colName,fieldList))"
   ]
  },
  {
   "cell_type": "markdown",
   "metadata": {},
   "source": [
    "* 找星星幾枚?"
   ]
  },
  {
   "cell_type": "code",
   "execution_count": 574,
   "metadata": {
    "collapsed": false
   },
   "outputs": [
    {
     "name": "stdout",
     "output_type": "stream",
     "text": [
      "星星幾顆:4.5\n"
     ]
    }
   ],
   "source": [
    "starList = fieldSoup[-3].select('img') # bs4 tag\n",
    "starList = [star['src'] for star in starList ] # 取出src裡面的url\n",
    "starStr = '**'.join(starList) # 接成string\n",
    "# starList[0]['src']\n",
    "if re.findall('/BT_Coin_b.gif',starStr):\n",
    "    starNum = 0.5\n",
    "else:\n",
    "    starNum = 0\n",
    "starNum += len(re.findall('/BT_Coin_a.gif',starStr))\n",
    "print('星星幾顆:{}'.format(starNum))\n",
    "# starStr"
   ]
  },
  {
   "cell_type": "code",
   "execution_count": 575,
   "metadata": {
    "collapsed": false
   },
   "outputs": [
    {
     "name": "stdout",
     "output_type": "stream",
     "text": [
      "星星幾顆:4.5\n"
     ]
    },
    {
     "data": {
      "text/plain": [
       "4.5"
      ]
     },
     "execution_count": 575,
     "metadata": {},
     "output_type": "execute_result"
    }
   ],
   "source": [
    "getFundStar(fieldSoup[-3])"
   ]
  },
  {
   "cell_type": "markdown",
   "metadata": {},
   "source": [
    "#### 歷任經理人"
   ]
  },
  {
   "cell_type": "code",
   "execution_count": 576,
   "metadata": {
    "collapsed": false
   },
   "outputs": [
    {
     "name": "stdout",
     "output_type": "stream",
     "text": [
      "['楊明昌', '2017/2/3至今', 1.0, 4.21, 3.41, '永豐高科技基金\\n永豐領航科技基金']\n",
      "['林靜怡', '2014/08/01至2017/2/2', 30.0, 27.23, 1.21, '']\n",
      "['李盈儀', '2014/05/02至2014/7/31', 2.0, 7.63, 5.97, '永豐中小基金\\n永豐永豐基金']\n",
      "['邱鶴倫', '2012/04/01至2014/5/1', 25.0, 46.81, 10.82, '']\n",
      "['謝其勛', '2011/04/29至2012/3/31', 11.0, -22.13, -12.25, '']\n",
      "['李維岳', '2010/04/20至2011/4/28', 12.0, 6.0, 15.11, '']\n",
      "['謝其勛', '2007/11/05至2010/4/19', 29.0, -27.62, -15.3, '']\n",
      "['張家維', '2003/01/02至2007/11/4', 58.0, 201.6, 108.27, '']\n",
      "['謝宗權', '2002/03/20至2003/1/1', 10.0, -41.2, -26.52, '']\n",
      "['葉順吉', '2001/03/01至2002/3/19', 12.0, 5.08, 7.4, '']\n",
      "['林大鈞', '1998/09/01至2001/2/28', 29.0, 21.6, -16.56, '富蘭克林華美積極回報債券組合基金-累積型(台幣)(本基金有相當比重投資於非投資等級之高風險債券且基金之配息來源可能為本金)\\n富蘭克林華美積極回報債券組合基金-分配型(台幣)(本基金有相當比重投資於非投資等級之高風險債券且基金之配息來源可能為本金)\\n富蘭克林華美積極回報債券組合基金-累積型(美元)(本基金有相當比重投資於非投資等級之高風險債券且基金之配息來源可能為本金)\\n富蘭克林華美積極回報債券組合基金-分配型(人民幣)(本基金有相當比重投資於非投資等級之高風險債券且基金之配息來源可能為本金)\\n富蘭克林華美全球投資級債券基金-分配型(台幣)(本基金之配息來源可能為本金)\\n富蘭克林華美積極回報債券組合基金-分配型(美元)(本基金有相當比重投資於非投資等級之高風險債券且基金之配息來源可能為本金)\\n富蘭克林華美全球投資級債券基金-分配型(美元)(本基金之配息來源可能為本金)\\n富蘭克林華美積極回報債券組合基金-累積型(人民幣)(本基金有相當比重投資於非投資等級之高風險債券且基金之配息來源可能為本金)\\n富蘭克林華美全球投資級債券基金-累積型(台幣)(本基金之配息來源可能為本金)\\n富蘭克林華美全球投資級債券基金-累積型(美元)(本基金之配息來源可能為本金)']\n"
     ]
    }
   ],
   "source": [
    "managerList = []\n",
    "\n",
    "managerBSTable = soup.select('#oMainTable')[1]\n",
    "\n",
    "\n",
    "managerList = []\n",
    "for manager in managerBSTable.select('tr')[2:]:\n",
    "    row = []\n",
    "    for index,field in enumerate(manager.select('td')):\n",
    "        try:\n",
    "            row.append(float(field.text)) # 轉換數字部分\n",
    "        except ValueError as e:\n",
    "            row.append(field.text) \n",
    "    print(row)"
   ]
  },
  {
   "cell_type": "markdown",
   "metadata": {},
   "source": [
    "### 持股狀況"
   ]
  },
  {
   "cell_type": "code",
   "execution_count": 94,
   "metadata": {
    "collapsed": true
   },
   "outputs": [],
   "source": [
    "url_fund = 'http://mmafund.sinopac.com/w/wr/wr04.djhtm?a=ACJS24-Z21'\n",
    "res =requests.get(url_fund)"
   ]
  },
  {
   "cell_type": "code",
   "execution_count": 95,
   "metadata": {
    "collapsed": false
   },
   "outputs": [],
   "source": [
    "soup = BS(res.text,\"lxml\")"
   ]
  },
  {
   "cell_type": "code",
   "execution_count": 96,
   "metadata": {
    "collapsed": false
   },
   "outputs": [
    {
     "name": "stdout",
     "output_type": "stream",
     "text": [
      "2017/01\n"
     ]
    }
   ],
   "source": [
    "update_dateStr = soup.select('#oMainTable')[1].select('tr')[0].text # 資料月份\n",
    "update_date = re.findall(r'\\d+/\\d+',update_dateStr)[0]\n",
    "print(update_date)"
   ]
  },
  {
   "cell_type": "code",
   "execution_count": 580,
   "metadata": {
    "collapsed": false
   },
   "outputs": [
    {
     "name": "stdout",
     "output_type": "stream",
     "text": [
      "row1:['股票名稱', '持股(千股)', '比例', '增減'] \n",
      "row2:['股票名稱', '持股(千股)', '比例', '增減']\n",
      "row1:['Tencent', 'N/A', '6.65', 'N/A'] \n",
      "row2:['KOITO MFG CO', 'N/A', '3.07', '-0.14%']\n",
      "row1:['大立光', '6', '6.61', '4.36%'] \n",
      "row2:['華夏滬深300指數ETF', 'N/A', '2.36', '0.00%']\n",
      "row1:['台積電', '130', '5.97', '0.05%'] \n",
      "row2:['Telekomunikasi Indonesia TBK', 'N/A', '2.25', '-0.15%']\n",
      "row1:['NIDEC CORP', 'N/A', '3.63', '0.14%'] \n",
      "row2:['正新', '145', '2.24', '0.89%']\n",
      "row1:['環球晶', '90', '3.19', '-3.25%'] \n",
      "row2:['iShares 安碩富時A50 中國指數ETF', 'N/A', '2.23', '0.03%']\n"
     ]
    }
   ],
   "source": [
    "for e in soup.select('#oMainTable')[1].select('tr')[1:]:\n",
    "    row1 = []; row2=[];\n",
    "    for index,field in enumerate(e.select('td')):\n",
    "        if index > 3:\n",
    "            row2.append(field.text)\n",
    "        else:\n",
    "            row1.append(field.text)\n",
    "    print('row1:%s \\nrow2:%s' %(row1,row2))"
   ]
  },
  {
   "cell_type": "code",
   "execution_count": 98,
   "metadata": {
    "collapsed": false
   },
   "outputs": [
    {
     "name": "stdout",
     "output_type": "stream",
     "text": [
      "資料月份 2017/01\n",
      "oops~資料更新嚕!!\n"
     ]
    }
   ],
   "source": [
    "dictToDb(getDomesticStockHolding(soup),'[MMA國內基金持股狀況_個股]',con)"
   ]
  },
  {
   "cell_type": "code",
   "execution_count": 99,
   "metadata": {
    "collapsed": false
   },
   "outputs": [
    {
     "name": "stdout",
     "output_type": "stream",
     "text": [
      "fundid:ACJS24-Z21\n"
     ]
    },
    {
     "data": {
      "text/plain": [
       "[defaultdict(list,\n",
       "             {'fundid': 'ACJS24-Z21',\n",
       "              '投資金額(萬元)': ['16416',\n",
       "               '4583',\n",
       "               '3558',\n",
       "               '2681',\n",
       "               '2431',\n",
       "               '1619',\n",
       "               '937',\n",
       "               '892',\n",
       "               '844',\n",
       "               '440',\n",
       "               '279',\n",
       "               '5702'],\n",
       "              '資料日期': '2017/01/31',\n",
       "              '項目': ['亞洲不含日本',\n",
       "               '日本',\n",
       "               '大陸地區',\n",
       "               '上市光電',\n",
       "               '上市半導體',\n",
       "               '上櫃半導體',\n",
       "               '上市橡膠',\n",
       "               '上市電子零組件',\n",
       "               '上市油電燃氣',\n",
       "               '上櫃其他電子',\n",
       "               '上市電腦及週邊設備',\n",
       "               '其它']}),\n",
       " defaultdict(list,\n",
       "             {'fundid': 'ACJS24-Z21',\n",
       "              '投資金額(萬元)': ['10823',\n",
       "               '9652',\n",
       "               '6179',\n",
       "               '4684',\n",
       "               '4402',\n",
       "               '4321',\n",
       "               '323'],\n",
       "              '資料日期': '2017/01/31',\n",
       "              '項目': ['香港', '台灣', '中國', '日本', '現金', '東南亞', '韓國']}),\n",
       " defaultdict(list,\n",
       "             {'fundid': 'ACJS24-Z21',\n",
       "              '投資金額(萬元)': ['13044',\n",
       "               '6502',\n",
       "               '5048',\n",
       "               '4765',\n",
       "               '4402',\n",
       "               '1858',\n",
       "               '1696',\n",
       "               '1656',\n",
       "               '848',\n",
       "               '525',\n",
       "               '40'],\n",
       "              '資料日期': '2017/01/31',\n",
       "              '項目': ['科技',\n",
       "               '工業',\n",
       "               '消費',\n",
       "               '金融保險',\n",
       "               '現金',\n",
       "               'A股ETF',\n",
       "               '能源',\n",
       "               '原物料',\n",
       "               '公共事業',\n",
       "               '醫療保健',\n",
       "               '其他']})]"
      ]
     },
     "execution_count": 99,
     "metadata": {},
     "output_type": "execute_result"
    }
   ],
   "source": [
    "getDomesticShareHolding(res.text)"
   ]
  },
  {
   "cell_type": "markdown",
   "metadata": {},
   "source": [
    "### 基金持股分布\n",
    "\n",
    "* 依持有類股\n",
    "* 依產業\n",
    "* 依區域\n",
    "\n",
    "資料藏在js語法裏頭"
   ]
  },
  {
   "cell_type": "code",
   "execution_count": 581,
   "metadata": {
    "collapsed": false
   },
   "outputs": [
    {
     "data": {
      "text/plain": [
       "[<div class=\"wfb1ar\">資料日期：2017/02/17</div>,\n",
       " <div id=\"SysJustWebGraphDIV1\"></div>]"
      ]
     },
     "execution_count": 581,
     "metadata": {},
     "output_type": "execute_result"
    }
   ],
   "source": [
    "soup.select('#oMainTable')[2].select('div')"
   ]
  },
  {
   "cell_type": "code",
   "execution_count": 582,
   "metadata": {
    "collapsed": true
   },
   "outputs": [
    {
     "name": "stdout",
     "output_type": "stream",
     "text": [
      "DJGraphObj1;\r\n",
      "\tvar $DJGraphObj2;\r\n",
      "\tvar $DJGraphObj3;\r\n",
      "\t\r\n",
      "\tvar sRenderTo1 = 'SysJustWebGraphDIV1';\r\n",
      "\tvar sRenderTo2 = 'SysJustWebGraphDIV2';\r\n",
      "\tvar sRenderTo3 = 'SysJustWebGraphDIV3';\r\n",
      "\t\r\n",
      "\t$(document).ready(function () {\r\n",
      "\t\tif (!!$DJWebGraph) {\r\n",
      "\r\n",
      "\t\t\t$DJGraphObj1 = new $DJWebGraph();\r\n",
      "\t        $DJGraphObj2 = new $DJWebGraph();\r\n",
      "\t\t\t$DJGraphObj3 = new $DJWebGraph();\r\n",
      "        \t\r\n",
      "\t\t\tif (sRenderTo1 != '')\r\n",
      "\t\t\t{\r\n",
      "\t\t\t\t$DJGraphObj1.CreateGraphObject({\r\n",
      "\t\t\t\t\t'CanvasClass': 'pie', //表示為 PIE 圖形\r\n",
      "\t\t\t\t\t'ID': 'wb04-1',\r\n",
      "\t\t\t\t\t'Width': '500',\r\n",
      "\t\t\t\t\t'Height': '300',\r\n",
      "\t\t\t\t\t'RenderTo': sRenderTo1,\r\n",
      "\t\t\t\t\t'Title': ['', '基金持股分佈-依持有類股[萬元]','亞洲不含日本','日本','大陸地區','上市光電','上市半導體','上櫃半導體','上市橡膠','上市電子零組件','上市油電燃氣','上櫃其他電子','上市電腦及週邊設備','其它'],\r\n",
      "\t\t\t\t\t'PieBorder' : '0',\r\n",
      "\t\t\t\t\t'BgColor': 'ffffff',\r\n",
      "\t\t\t\t\t'PieNOTB': 0,\t\t//0:顯示表格,1:不顯示表格,2:不顯示表格,只顯示名稱\r\n",
      "\t\t\t\t\t'PieSplit': ['1','0','0','0','0','0','0','0','0','0','0','0'],\r\n",
      "\t\t\t\t\t'PieV': ['16416','4583','3558','2681','2431','1619','937','892','844','440','279','5702'],\r\n",
      "\t\t\t\t\t'Pie_AddHeaders': '名稱 投資金額(以萬元為單位) 比例' \r\n",
      "\t\t\t\t});\r\n",
      "\t\t\t}\r\n",
      "            \r\n",
      "\t\t\tif (sRenderTo2 != '')\r\n",
      "\t\t\t{\r\n",
      "\t\t\t\t$DJGraphObj2.CreateGraphObject({\r\n",
      "\t\t\t\t\t'CanvasClass': 'pie', //表示為 PIE 圖形\r\n",
      "\t\t\t\t\t'ID': 'wb04-2',\r\n",
      "\t\t\t\t\t'Width': '500',\r\n",
      "\t\t\t\t\t'Height': '300',\r\n",
      "\t\t\t\t\t'RenderTo': sRenderTo2,\r\n",
      "\t\t\t\t\t'Title': ['', '基金持股分佈-依區域[萬元]','香港','台灣','中國','日本','現金','東南亞','韓國'],\r\n",
      "\t\t\t\t\t'PieBorder' : '0',\r\n",
      "\t\t\t\t\t'BgColor': 'ffffff',\r\n",
      "\t\t\t\t\t'PieNOTB': 0,\t\t//0:顯示表格,1:不顯示表格,2:不顯示表格,只顯示名稱\r\n",
      "\t\t\t\t\t'PieSplit': ['1','0','0','0','0','0','0'],\r\n",
      "\t\t\t\t\t'PieV': ['10823','9652','6179','4684','4402','4321','323'],\r\n",
      "\t\t\t\t\t'Pie_AddHeaders': '依區域 投資金額(以萬元為單位) 比例'\r\n",
      "\t\t\t\t});\r\n",
      "\t\t\t}\r\n",
      "\t\t\t\r\n",
      "\t\t\tif (sRenderTo3 != '')\r\n",
      "\t\t\t{\r\n",
      "\t\t\t\t$DJGraphObj3.CreateGraphObject({\r\n",
      "\t\t\t\t\t'CanvasClass': 'pie', //表示為 PIE 圖形\r\n",
      "\t\t\t\t\t'ID': 'wb04-2',\r\n",
      "\t\t\t\t\t'Width': '500',\r\n",
      "\t\t\t\t\t'Height': '300',\r\n",
      "\t\t\t\t\t'RenderTo': sRenderTo3,\r\n",
      "\t\t\t\t\t'Title': ['', '基金持股分佈-依產業[萬元]','科技','工業','消費','金融保險','現金','A股ETF','能源','原物料','公共事業','醫療保健','其他'],\r\n",
      "\t\t\t\t\t'PieBorder' : '0',\r\n",
      "\t\t\t\t\t'BgColor': 'ffffff',\r\n",
      "\t\t\t\t\t'PieNOTB': 0,\t\t//0:顯示表格,1:不顯示表格,2:不顯示表格,只顯示名稱\r\n",
      "\t\t\t\t\t'PieSplit': ['1','0','0','0','0','0','0','0','0','0','0'],\r\n",
      "\t\t\t\t\t'PieV': ['13044','6502','5048','4765','4402','1858','1696','1656','848','525','40'],\r\n",
      "\t\t\t\t\t'Pie_AddHeaders': '依產業 投資金額(以萬元為單位) 比例'\r\n",
      "\t\t\t\t});\r\n",
      "\t\t\t}\r\n",
      "\t\t}\r\n",
      "\t});\r\n",
      "//-->\r\n",
      "</SCRIPT>\r\n",
      "\n"
     ]
    }
   ],
   "source": [
    "string1 = 'DJGraphObj1'\n",
    "html_text = res.text\n",
    "target_text = html_text[html_text.index(string1):]\n",
    "# print(html_text[html_text.index(string1):])\n",
    "print(target_text)"
   ]
  },
  {
   "cell_type": "code",
   "execution_count": 584,
   "metadata": {
    "collapsed": false
   },
   "outputs": [
    {
     "name": "stdout",
     "output_type": "stream",
     "text": [
      " ['', '基金持股分佈-依持有類股[萬元]','亞洲不含日本','日本','大陸地區','上市光電','上市半導體','上櫃半導體','上市橡膠','上市電子零組件','上市油電燃氣','上櫃其他電子','上市電腦及週邊設備','其它'],\r\n"
     ]
    }
   ],
   "source": [
    "pat1 = r\"(?:\\'Title\\':)(.+)\"\n",
    "investTitle = re.findall(pat1,target_text)\n",
    "print(investTitle[0])"
   ]
  },
  {
   "cell_type": "code",
   "execution_count": 585,
   "metadata": {
    "collapsed": false
   },
   "outputs": [
    {
     "data": {
      "text/plain": [
       "['',\n",
       " '基金持股分佈-依持有類股[萬元]',\n",
       " '亞洲不含日本',\n",
       " '日本',\n",
       " '大陸地區',\n",
       " '上市光電',\n",
       " '上市半導體',\n",
       " '上櫃半導體',\n",
       " '上市橡膠',\n",
       " '上市電子零組件',\n",
       " '上市油電燃氣',\n",
       " '上櫃其他電子',\n",
       " '上市電腦及週邊設備',\n",
       " '其它']"
      ]
     },
     "execution_count": 585,
     "metadata": {},
     "output_type": "execute_result"
    }
   ],
   "source": [
    "pat2 = r\"(?:\\')(.*?)(?:\\')\"\n",
    "investTitleByStock = re.findall(pat2,investTitle[0]) ## 依產業標題\n",
    "investTitleByStock"
   ]
  },
  {
   "cell_type": "code",
   "execution_count": 586,
   "metadata": {
    "collapsed": false
   },
   "outputs": [
    {
     "data": {
      "text/plain": [
       "['', '基金持股分佈-依區域[萬元]', '香港', '台灣', '中國', '日本', '現金', '東南亞', '韓國']"
      ]
     },
     "execution_count": 586,
     "metadata": {},
     "output_type": "execute_result"
    }
   ],
   "source": [
    "investTitleByArea = re.findall(pat2,investTitle[1])\n",
    "investTitleByArea"
   ]
  },
  {
   "cell_type": "code",
   "execution_count": 587,
   "metadata": {
    "collapsed": false
   },
   "outputs": [
    {
     "data": {
      "text/plain": [
       "['',\n",
       " '基金持股分佈-依產業[萬元]',\n",
       " '科技',\n",
       " '工業',\n",
       " '消費',\n",
       " '金融保險',\n",
       " '現金',\n",
       " 'A股ETF',\n",
       " '能源',\n",
       " '原物料',\n",
       " '公共事業',\n",
       " '醫療保健',\n",
       " '其他']"
      ]
     },
     "execution_count": 587,
     "metadata": {},
     "output_type": "execute_result"
    }
   ],
   "source": [
    "investTitleByIndustry = re.findall(pat2,investTitle[2])\n",
    "investTitleByIndustry"
   ]
  },
  {
   "cell_type": "code",
   "execution_count": 588,
   "metadata": {
    "collapsed": false
   },
   "outputs": [],
   "source": [
    "pat3 = r\"(?:\\'PieV\\':)(.+)\"\n",
    "investByStock = re.findall(pat2,re.findall(pat3,target_text)[0])\n",
    "investByArea = re.findall(pat2,re.findall(pat3,target_text)[1])\n",
    "investByIndustry = re.findall(pat2,re.findall(pat3,target_text)[2])"
   ]
  },
  {
   "cell_type": "markdown",
   "metadata": {},
   "source": [
    "## 境外"
   ]
  },
  {
   "cell_type": "markdown",
   "metadata": {},
   "source": [
    "### 基金基本資料"
   ]
  },
  {
   "cell_type": "code",
   "execution_count": 143,
   "metadata": {
    "collapsed": false
   },
   "outputs": [],
   "source": [
    "url_wbTest_info = 'http://mmafund.sinopac.com/w/wb/wb01.djhtm?a=ANZ11-A06'\n",
    "html_text_wb = requests.get(url_wbTest_info).text\n",
    "soup = BS(html_text_wb,\"lxml\")"
   ]
  },
  {
   "cell_type": "code",
   "execution_count": 592,
   "metadata": {
    "collapsed": false
   },
   "outputs": [
    {
     "name": "stdout",
     "output_type": "stream",
     "text": [
      "星星幾顆:3\n"
     ]
    },
    {
     "data": {
      "text/plain": [
       "['安本環球英國股票基金',\n",
       " 'Aberdeen Global-UK Equity Fund A2',\n",
       " 'Aberdeen安本投顧',\n",
       " 'Aberdeen安本資產管理',\n",
       " 'FTSE ALL Share',\n",
       " '1988/04/26',\n",
       " '盧森堡',\n",
       " '37 百萬英鎊(2016/12/31)',\n",
       " '英鎊',\n",
       " '單一國家型基金',\n",
       " '英國',\n",
       " '股票型',\n",
       " '法國巴黎銀行盧森堡分行',\n",
       " 'Y',\n",
       " '泛歐洲股票團隊',\n",
       " 3,\n",
       " '本基金的投資目標是通過將該項基金至少三分之二的資產，投資於在英國設有註冊辦事處的公司；及/ 或在英國進行大部份業務活動的公司；及/ 或其大部份資產來自在英國設有註冊辦事處的公司的控股公司所發行的股票及股票相關證券。該項基金的基本貨幣是英鎊。']"
      ]
     },
     "execution_count": 592,
     "metadata": {},
     "output_type": "execute_result"
    }
   ],
   "source": [
    "fieldSoup = soup.select('.wfb5l')\n",
    "fieldList = []\n",
    "for e in fieldSoup[:15]:\n",
    "#     print(e.text)\n",
    "    fieldList.append(e.text)\n",
    "starNum = getFundStar(fieldSoup[-4])\n",
    "fieldList.append(starNum)\n",
    "fieldList.append(fieldSoup[-2].text)\n",
    "fieldList"
   ]
  },
  {
   "cell_type": "code",
   "execution_count": 399,
   "metadata": {
    "collapsed": false
   },
   "outputs": [
    {
     "name": "stdout",
     "output_type": "stream",
     "text": [
      "基金名稱\n",
      "基金英文名稱\n",
      "台灣總代理\n",
      "海外發行公司\n",
      "指標指數\n",
      "成立日期\n",
      "註冊地\n",
      "基金規模\n",
      "計價幣別\n",
      "基金類型\n",
      "投資區域\n",
      "投資標的\n",
      "保管機構\n",
      "傘狀基金\n",
      "經理人\n",
      "基金評等\n",
      "文件下載\n",
      "投資策略\n",
      "投資人服務及保護\n"
     ]
    },
    {
     "data": {
      "text/plain": [
       "17"
      ]
     },
     "execution_count": 399,
     "metadata": {},
     "output_type": "execute_result"
    }
   ],
   "source": [
    "titleList = []\n",
    "for title in soup.select('.wfb3c'):\n",
    "    print(title.text)\n",
    "    titleList.append(title.text)\n",
    "index = [-1,-2]\n",
    "for popele in index :\n",
    "    titleList.pop(popele)\n",
    "len(titleList)"
   ]
  },
  {
   "cell_type": "code",
   "execution_count": 408,
   "metadata": {
    "collapsed": true
   },
   "outputs": [],
   "source": [
    "colNames = [\n",
    "    '基金名稱',\n",
    "    '基金英文名稱',\n",
    "    '台灣總代理',\n",
    "    '海外發行公司',\n",
    "    '指標指數',\n",
    "    '成立日期',\n",
    "    '註冊地',\n",
    "    '基金規模',\n",
    "    '計價幣別',\n",
    "    '基金類型',\n",
    "    '投資區域',\n",
    "    '投資標的',\n",
    "    '保管機構',\n",
    "    '傘狀基金',\n",
    "    '經理人',\n",
    "    '基金評等',    \n",
    "    '投資策略'    \n",
    "]"
   ]
  },
  {
   "cell_type": "code",
   "execution_count": 411,
   "metadata": {
    "collapsed": false
   },
   "outputs": [
    {
     "data": {
      "text/plain": [
       "[('基金名稱', '安本環球英國股票基金'),\n",
       " ('基金英文名稱', 'Aberdeen Global-UK Equity Fund A2'),\n",
       " ('台灣總代理', 'Aberdeen安本投顧'),\n",
       " ('海外發行公司', 'Aberdeen安本資產管理'),\n",
       " ('指標指數', 'FTSE ALL Share'),\n",
       " ('成立日期', '1988/04/26'),\n",
       " ('註冊地', '盧森堡'),\n",
       " ('基金規模', '37 百萬英鎊(2016/12/31)'),\n",
       " ('計價幣別', '英鎊'),\n",
       " ('基金類型', '單一國家型基金'),\n",
       " ('投資區域', '英國'),\n",
       " ('投資標的', '股票型'),\n",
       " ('保管機構', '法國巴黎銀行盧森堡分行'),\n",
       " ('傘狀基金', 'Y'),\n",
       " ('經理人', '泛歐洲股票團隊'),\n",
       " ('基金評等', 3),\n",
       " ('投資策略',\n",
       "  '本基金的投資目標是通過將該項基金至少三分之二的資產，投資於在英國設有註冊辦事處的公司；及/ 或在英國進行大部份業務活動的公司；及/ 或其大部份資產來自在英國設有註冊辦事處的公司的控股公司所發行的股票及股票相關證券。該項基金的基本貨幣是英鎊。')]"
      ]
     },
     "execution_count": 411,
     "metadata": {},
     "output_type": "execute_result"
    }
   ],
   "source": [
    "list(zip(colNames,fieldList))"
   ]
  },
  {
   "cell_type": "code",
   "execution_count": 130,
   "metadata": {
    "collapsed": true
   },
   "outputs": [],
   "source": [
    "def getForeignFundInfo(soup):\n",
    "    \"\"\"取得境外基金基本資訊\n",
    "    params\n",
    "    ======\n",
    "    input : soup (BeautifulSoup)\n",
    "    output : defaultdict --> {'fundid':xxxx, '保管機構'}\n",
    "    \"\"\"\n",
    "    ## fundid ##\n",
    "    fundid = re.findall(r\"(?:a=)(.+)\",soup.select('#itemTab')[0].find('a').get('href'))[0]\n",
    "    \n",
    "    fieldSoup = soup.select('.wfb5l')\n",
    "    fieldList = []\n",
    "    for e in fieldSoup[:15]:\n",
    "    #     print(e.text)\n",
    "        fieldList.append(e.text)\n",
    "    starNum = getFundStar(fieldSoup[-4])\n",
    "    fieldList.append(starNum)\n",
    "    fieldList.append(fieldSoup[-2].text)\n",
    "    colNames = [\n",
    "        '基金名稱',\n",
    "        '基金英文名稱',\n",
    "        '台灣總代理',\n",
    "        '海外發行公司',\n",
    "        '指標指數',\n",
    "        '成立日期',\n",
    "        '註冊地',\n",
    "        '基金規模',\n",
    "        '計價幣別',\n",
    "        '基金類型',\n",
    "        '投資區域',\n",
    "        '投資標的',\n",
    "        '保管機構',\n",
    "        '傘狀基金',\n",
    "        '經理人',\n",
    "        '基金評等',    \n",
    "        '投資策略'    \n",
    "    ]\n",
    "    dataList = list(zip(colNames,fieldList))\n",
    "    fundInfo_dict = defaultdict(list)\n",
    "    fundInfo_dict['fundid'] = fundid\n",
    "    for name,v in dataList:\n",
    "        fundInfo_dict[name] = v\n",
    "    return fundInfo_dict"
   ]
  },
  {
   "cell_type": "code",
   "execution_count": 144,
   "metadata": {
    "collapsed": false
   },
   "outputs": [
    {
     "name": "stdout",
     "output_type": "stream",
     "text": [
      "星星幾顆:3\n"
     ]
    },
    {
     "data": {
      "text/plain": [
       "defaultdict(list,\n",
       "            {'fundid': 'ANZ11-A06',\n",
       "             '保管機構': '法國巴黎銀行盧森堡分行',\n",
       "             '傘狀基金': 'Y',\n",
       "             '台灣總代理': 'Aberdeen安本投顧',\n",
       "             '基金名稱': '安本環球英國股票基金',\n",
       "             '基金英文名稱': 'Aberdeen Global-UK Equity Fund A2',\n",
       "             '基金規模': '37 百萬英鎊(2016/12/31)',\n",
       "             '基金評等': 3,\n",
       "             '基金類型': '單一國家型基金',\n",
       "             '成立日期': '1988/04/26',\n",
       "             '投資區域': '英國',\n",
       "             '投資標的': '股票型',\n",
       "             '投資策略': '本基金的投資目標是通過將該項基金至少三分之二的資產，投資於在英國設有註冊辦事處的公司；及/ 或在英國進行大部份業務活動的公司；及/ 或其大部份資產來自在英國設有註冊辦事處的公司的控股公司所發行的股票及股票相關證券。該項基金的基本貨幣是英鎊。',\n",
       "             '指標指數': 'FTSE ALL Share',\n",
       "             '海外發行公司': 'Aberdeen安本資產管理',\n",
       "             '經理人': '泛歐洲股票團隊',\n",
       "             '計價幣別': '英鎊',\n",
       "             '註冊地': '盧森堡'})"
      ]
     },
     "execution_count": 144,
     "metadata": {},
     "output_type": "execute_result"
    }
   ],
   "source": [
    "getForeignFundInfo(soup)"
   ]
  },
  {
   "cell_type": "code",
   "execution_count": 146,
   "metadata": {
    "collapsed": false
   },
   "outputs": [
    {
     "name": "stdout",
     "output_type": "stream",
     "text": [
      "星星幾顆:3\n",
      "oops~資料更新嚕!!\n"
     ]
    }
   ],
   "source": [
    "dictToDb(getForeignFundInfo(soup),'[MMA境外基金基本資料]',con)"
   ]
  },
  {
   "cell_type": "markdown",
   "metadata": {},
   "source": [
    "### 海外持股狀況"
   ]
  },
  {
   "cell_type": "code",
   "execution_count": 147,
   "metadata": {
    "collapsed": false
   },
   "outputs": [],
   "source": [
    "url_wbTest_stock = 'http://mmafund.sinopac.com/w/wb/wb04.djhtm?a=ANZ45-A28'\n",
    "html_text_wb = requests.get(url_wbTest_stock).text\n",
    "soup = BS(html_text_wb,\"lxml\")"
   ]
  },
  {
   "cell_type": "markdown",
   "metadata": {},
   "source": [
    "#### 最後一個table \n",
    "[網頁](http://mmafund.sinopac.com/w/wb/wb04.djhtm?a=ANZ45-A28)"
   ]
  },
  {
   "cell_type": "code",
   "execution_count": 440,
   "metadata": {
    "collapsed": true
   },
   "outputs": [
    {
     "data": {
      "text/plain": [
       "[(<td class=\"wfb2l\">TSMC 台積電,台灣</td>, <td class=\"wfb2r\">3.80% </td>),\n",
       " (<td class=\"wfb2l\">Astra International 阿斯特拉國際,印尼</td>,\n",
       "  <td class=\"wfb2r\">3.70% </td>),\n",
       " (<td class=\"wfb2l\">AIA Group 友邦保險,中國/香港</td>, <td class=\"wfb2r\">3.10% </td>),\n",
       " (<td class=\"wfb2l\">ITC (消費必需品),印度</td>, <td class=\"wfb2r\">2.80% </td>),\n",
       " (<td class=\"wfb2l\">Grupo Financiero Banorte (金融),墨西哥</td>,\n",
       "  <td class=\"wfb2r\">2.60% </td>)]"
      ]
     },
     "execution_count": 440,
     "metadata": {},
     "output_type": "execute_result"
    }
   ],
   "source": [
    "list(zip(soup.select('.wfb2l'),soup.select('.wfb2r')))"
   ]
  },
  {
   "cell_type": "code",
   "execution_count": 441,
   "metadata": {
    "collapsed": false
   },
   "outputs": [
    {
     "data": {
      "text/plain": [
       "[(<td class=\"wfb5l\">Samsung Electronics 三星電子,南韓</td>,\n",
       "  <td class=\"wfb5r\">4.70% </td>),\n",
       " (<td class=\"wfb5l\">Housing Dev Finance (金融),印度</td>,\n",
       "  <td class=\"wfb5r\">3.80% </td>),\n",
       " (<td class=\"wfb5l\">China Mobile 中國移動,中國/香港</td>,\n",
       "  <td class=\"wfb5r\">3.30% </td>),\n",
       " (<td class=\"wfb5l\">Fomento Economico Mexicano (消費必需品),墨西哥</td>,\n",
       "  <td class=\"wfb5r\">2.80% </td>),\n",
       " (<td class=\"wfb5l\">Banco Bradesco-Adr (金融),巴西</td>,\n",
       "  <td class=\"wfb5r\">2.70% </td>)]"
      ]
     },
     "execution_count": 441,
     "metadata": {},
     "output_type": "execute_result"
    }
   ],
   "source": [
    "list(zip(soup.select('.wfb5l'),soup.select('.wfb5r')))"
   ]
  },
  {
   "cell_type": "code",
   "execution_count": 601,
   "metadata": {
    "collapsed": true
   },
   "outputs": [
    {
     "data": {
      "text/plain": [
       "[('TSMC 台積電,台灣',\n",
       "  'Astra International 阿斯特拉國際,印尼',\n",
       "  'AIA Group 友邦保險,中國/香港',\n",
       "  'ITC (消費必需品),印度',\n",
       "  'Grupo Financiero Banorte (金融),墨西哥',\n",
       "  'Samsung Electronics 三星電子,南韓',\n",
       "  'Housing Dev Finance (金融),印度',\n",
       "  'China Mobile 中國移動,中國/香港',\n",
       "  'Fomento Economico Mexicano (消費必需品),墨西哥',\n",
       "  'Banco Bradesco-Adr (金融),巴西'),\n",
       " ('3.80%',\n",
       "  '3.70%',\n",
       "  '3.10%',\n",
       "  '2.80%',\n",
       "  '2.60%',\n",
       "  '4.70%',\n",
       "  '3.80%',\n",
       "  '3.30%',\n",
       "  '2.80%',\n",
       "  '2.70%')]"
      ]
     },
     "execution_count": 601,
     "metadata": {},
     "output_type": "execute_result"
    }
   ],
   "source": [
    "a = list(zip(soup.select('.wfb2l'),soup.select('.wfb2r')))\n",
    "b = list(zip(soup.select('.wfb5l'),soup.select('.wfb5r')))\n",
    "list(zip(*[(e1.text,e2.text.strip()) for (e1,e2) in a+b]))\n",
    "# for e in test:\n",
    "#     print(list(e))"
   ]
  },
  {
   "cell_type": "code",
   "execution_count": 520,
   "metadata": {
    "collapsed": false
   },
   "outputs": [
    {
     "data": {
      "text/plain": [
       "'2016/12/31'"
      ]
     },
     "execution_count": 520,
     "metadata": {},
     "output_type": "execute_result"
    }
   ],
   "source": [
    "update_date = '/'.join(re.findall(r\"\\d+\",soup.select('.wfb1ar')[0].text))\n",
    "update_date"
   ]
  },
  {
   "cell_type": "code",
   "execution_count": 457,
   "metadata": {
    "collapsed": false
   },
   "outputs": [
    {
     "name": "stdout",
     "output_type": "stream",
     "text": [
      "資料月份:2016/12\n"
     ]
    }
   ],
   "source": [
    "update_date = '/'.join(re.findall(r\"\\d+\",soup.select('.wfb1ar')[-1].text)) ## 資料月份\n",
    "print('資料月份:{}'.format(update_date))"
   ]
  },
  {
   "cell_type": "code",
   "execution_count": 148,
   "metadata": {
    "collapsed": true
   },
   "outputs": [],
   "source": [
    "def getForeignStockHolding(soup):\n",
    "    \n",
    "    \"\"\"取得[境外]持股資料中股票張數(表格)\n",
    "    params \n",
    "    ======\n",
    "    input: soup --- html經BS包裝後變數\n",
    "    return : defaultdict {持股名稱:[],\n",
    "                            fundid:[],                            \n",
    "                            比例:[],\n",
    "                            資料月份,[]}\n",
    "    \n",
    "    \"\"\"\n",
    "    ### fundid ####\n",
    "    fundid = re.findall(r\"(?:a=)(.+)\",soup.select('#itemTab')[0].find('a').get('href'))[0]\n",
    "    \n",
    "    ### 資料月份 ###    \n",
    "    update_date = '/'.join(re.findall(r\"\\d+\",soup.select('.wfb1ar')[-1].text)) ## 資料月份\n",
    "    print('資料月份:{}'.format(update_date))\n",
    "    \n",
    "    a = list(zip(soup.select('.wfb2l'),soup.select('.wfb2r')))\n",
    "    b = list(zip(soup.select('.wfb5l'),soup.select('.wfb5r')))\n",
    "    dataList = zip(*[(e1.text,e2.text.strip()) for (e1,e2) in a+b]) # [(k1,k2,k3),(v1,v2,v3...)]\n",
    "    \n",
    "    colNames = ['持股名稱','比例']\n",
    "    foreignStockDict = defaultdict(list)\n",
    "    foreignStockDict['資料月份'] = update_date\n",
    "    foreignStockDict['fundid'] = fundid\n",
    "    for index,data in enumerate(dataList):\n",
    "        foreignStockDict[colNames[index]] = list(data)\n",
    "#     print(foreignStockDict)\n",
    "\n",
    "    return foreignStockDict"
   ]
  },
  {
   "cell_type": "code",
   "execution_count": 150,
   "metadata": {
    "collapsed": false
   },
   "outputs": [
    {
     "name": "stdout",
     "output_type": "stream",
     "text": [
      "資料月份:2016/12\n",
      "oops~資料更新嚕!!\n"
     ]
    }
   ],
   "source": [
    "dictToDb(getForeignStockHolding(soup),'[MMA境外基金持股狀況_個股]',con)"
   ]
  },
  {
   "cell_type": "markdown",
   "metadata": {},
   "source": [
    "#### 圓餅圖\n",
    "[網頁](http://mmafund.sinopac.com/w/wb/wb04.djhtm?a=ANZ45-A28)"
   ]
  },
  {
   "cell_type": "code",
   "execution_count": 475,
   "metadata": {
    "collapsed": false
   },
   "outputs": [
    {
     "name": "stdout",
     "output_type": "stream",
     "text": [
      "['基金持股分佈-依區域[萬元]', '印度', '其他國家', '中國/香港', '巴西', '墨西哥', '南韓', '泰國', '印尼', '俄羅斯', '台灣', '南非', '現金']\n",
      "['基金持股分佈-依產業[萬元]', '金融', '消費必需品', '資訊科技', '可選消費品', '原物料', '其他產業', '不動產', '能源', '現金']\n"
     ]
    }
   ],
   "source": [
    "for index,titleText in enumerate(investTitle):\n",
    "    titleList =re.findall(pat2,titleText)\n",
    "    print(titleList)"
   ]
  },
  {
   "cell_type": "code",
   "execution_count": 487,
   "metadata": {
    "collapsed": false
   },
   "outputs": [
    {
     "data": {
      "text/plain": [
       "'ANZ45-A28'"
      ]
     },
     "execution_count": 487,
     "metadata": {},
     "output_type": "execute_result"
    }
   ],
   "source": [
    "re.findall(r\"(?:a=)(.+)\",soup.select('#itemTab')[0].find('a').get('href'))[0]\n"
   ]
  },
  {
   "cell_type": "code",
   "execution_count": 154,
   "metadata": {
    "collapsed": false
   },
   "outputs": [],
   "source": [
    "def getForeignShareHolding(html_text):\n",
    "    \"\"\"取得境外持股資料(圓餅圖)\n",
    "    剖析mma中html含有js程式碼，資料隱藏在js其中\n",
    "    params\n",
    "    html_text : raw text(str)\n",
    "    return : list of defaultdict\n",
    "    \"\"\"\n",
    "    def getShareHoldingTable(stockGroupList):\n",
    "        \"\"\"轉換國外持股圓餅圖資料(getForeignShareHolding)為dict格式(pd.dataframe可直接使用)    \n",
    "        \"\"\"\n",
    "        stockGroup = defaultdict(list)\n",
    "        for index,(k,v) in enumerate(stockGroupList):\n",
    "\n",
    "            if index >1:\n",
    "                stockGroup['項目'].append(k) \n",
    "                stockGroup['投資金額(美元:萬)'].append(v)\n",
    "            else:\n",
    "                stockGroup[k] = v\n",
    "        return stockGroup\n",
    "    \n",
    "    soup = BS(html_text,\"lxml\")\n",
    "    update_date = '/'.join(re.findall(r\"\\d+\",soup.select('.wfb1ar')[0].text)) ## 資料更新日期\n",
    "    \n",
    "    ### fundid ####\n",
    "    fundid = re.findall(r\"(?:a=)(.+)\",soup.select('#itemTab')[0].find('a').get('href'))[0]\n",
    "    ###############\n",
    "    \n",
    "    string1 = 'DJGraphObj1' # 切出目標字串    \n",
    "    target_text = html_text_wb[html_text_wb.index(string1):]\n",
    "\n",
    "    pat1 = r\"(?:\\'Title\\':)(.+)\"\n",
    "    investTitle = re.findall(pat1,target_text) # 取得並切分表單table\n",
    "\n",
    "    pat2 = r\"(?:\\')(.*?)(?:\\')\" # 取出包含在 ' '內的字串\n",
    "    pat3 = r\"(?:\\'PieV\\':)(.+)\" # 取出包含在 PieV 後的字串\n",
    "    #     investTitleByStock = re.findall(pat2,investTitle[0]) ## 依產業標題(List)\n",
    "    #     investTitleByStock\n",
    "    table = defaultdict(list)\n",
    "    tableAns = []\n",
    "    \n",
    "    for index,titleText in enumerate(investTitle):\n",
    "        titleList = re.findall(pat2,titleText)\n",
    "        if len(titleList) == 1:\n",
    "            continue\n",
    "        colname = titleList[0]\n",
    "        titleList = titleList[1:]\n",
    "        titleList.insert(0,'fundid')\n",
    "        titleList.insert(1,'資料日期')\n",
    "        valueList = re.findall(pat2,re.findall(pat3,target_text)[index])\n",
    "        valueList.insert(0,fundid)\n",
    "        valueList.insert(1,update_date)\n",
    "        \n",
    "        table[colname]= list(zip(titleList,valueList))\n",
    "        \n",
    "        typeName = ['持有類股','區域','產業']\n",
    "        share_Holding_Dict = getShareHoldingTable(table[colname])\n",
    "        share_Holding_Dict['分類'] = typeName[index]\n",
    "        \n",
    "        tableAns.append(share_Holding_Dict)\n",
    "        \n",
    "    return tableAns"
   ]
  },
  {
   "cell_type": "code",
   "execution_count": 155,
   "metadata": {
    "collapsed": false
   },
   "outputs": [],
   "source": [
    "foreign_share = getForeignShareHolding(html_text_wb)"
   ]
  },
  {
   "cell_type": "code",
   "execution_count": 169,
   "metadata": {
    "collapsed": false
   },
   "outputs": [
    {
     "name": "stdout",
     "output_type": "stream",
     "text": [
      "oops~資料更新嚕!!\n"
     ]
    }
   ],
   "source": [
    "dictToDb(foreign_share[0],'[MMA境外基金持股狀況_分類]',con)"
   ]
  },
  {
   "cell_type": "code",
   "execution_count": 170,
   "metadata": {
    "collapsed": false
   },
   "outputs": [
    {
     "name": "stdout",
     "output_type": "stream",
     "text": [
      "oops~資料更新嚕!!\n"
     ]
    }
   ],
   "source": [
    "dictToDb(foreign_share[1],'MMA境外基金持股狀況_分類',con)"
   ]
  },
  {
   "cell_type": "code",
   "execution_count": 527,
   "metadata": {
    "collapsed": false
   },
   "outputs": [
    {
     "data": {
      "text/html": [
       "<div>\n",
       "<table border=\"1\" class=\"dataframe\">\n",
       "  <thead>\n",
       "    <tr style=\"text-align: right;\">\n",
       "      <th></th>\n",
       "      <th>fundid</th>\n",
       "      <th>投資金額(美元:萬)</th>\n",
       "      <th>項目</th>\n",
       "    </tr>\n",
       "  </thead>\n",
       "  <tbody>\n",
       "    <tr>\n",
       "      <th>0</th>\n",
       "      <td>ANZ45-A28</td>\n",
       "      <td>97440</td>\n",
       "      <td>印度</td>\n",
       "    </tr>\n",
       "    <tr>\n",
       "      <th>1</th>\n",
       "      <td>ANZ45-A28</td>\n",
       "      <td>91640</td>\n",
       "      <td>其他國家</td>\n",
       "    </tr>\n",
       "    <tr>\n",
       "      <th>2</th>\n",
       "      <td>ANZ45-A28</td>\n",
       "      <td>89320</td>\n",
       "      <td>中國/香港</td>\n",
       "    </tr>\n",
       "    <tr>\n",
       "      <th>3</th>\n",
       "      <td>ANZ45-A28</td>\n",
       "      <td>70760</td>\n",
       "      <td>巴西</td>\n",
       "    </tr>\n",
       "    <tr>\n",
       "      <th>4</th>\n",
       "      <td>ANZ45-A28</td>\n",
       "      <td>42340</td>\n",
       "      <td>墨西哥</td>\n",
       "    </tr>\n",
       "    <tr>\n",
       "      <th>5</th>\n",
       "      <td>ANZ45-A28</td>\n",
       "      <td>41760</td>\n",
       "      <td>南韓</td>\n",
       "    </tr>\n",
       "    <tr>\n",
       "      <th>6</th>\n",
       "      <td>ANZ45-A28</td>\n",
       "      <td>29000</td>\n",
       "      <td>泰國</td>\n",
       "    </tr>\n",
       "    <tr>\n",
       "      <th>7</th>\n",
       "      <td>ANZ45-A28</td>\n",
       "      <td>28420</td>\n",
       "      <td>印尼</td>\n",
       "    </tr>\n",
       "    <tr>\n",
       "      <th>8</th>\n",
       "      <td>ANZ45-A28</td>\n",
       "      <td>27840</td>\n",
       "      <td>俄羅斯</td>\n",
       "    </tr>\n",
       "    <tr>\n",
       "      <th>9</th>\n",
       "      <td>ANZ45-A28</td>\n",
       "      <td>27260</td>\n",
       "      <td>台灣</td>\n",
       "    </tr>\n",
       "    <tr>\n",
       "      <th>10</th>\n",
       "      <td>ANZ45-A28</td>\n",
       "      <td>26100</td>\n",
       "      <td>南非</td>\n",
       "    </tr>\n",
       "    <tr>\n",
       "      <th>11</th>\n",
       "      <td>ANZ45-A28</td>\n",
       "      <td>8120</td>\n",
       "      <td>現金</td>\n",
       "    </tr>\n",
       "  </tbody>\n",
       "</table>\n",
       "</div>"
      ],
      "text/plain": [
       "       fundid 投資金額(美元:萬)     項目\n",
       "0   ANZ45-A28      97440     印度\n",
       "1   ANZ45-A28      91640   其他國家\n",
       "2   ANZ45-A28      89320  中國/香港\n",
       "3   ANZ45-A28      70760     巴西\n",
       "4   ANZ45-A28      42340    墨西哥\n",
       "5   ANZ45-A28      41760     南韓\n",
       "6   ANZ45-A28      29000     泰國\n",
       "7   ANZ45-A28      28420     印尼\n",
       "8   ANZ45-A28      27840    俄羅斯\n",
       "9   ANZ45-A28      27260     台灣\n",
       "10  ANZ45-A28      26100     南非\n",
       "11  ANZ45-A28       8120     現金"
      ]
     },
     "execution_count": 527,
     "metadata": {},
     "output_type": "execute_result"
    }
   ],
   "source": [
    "pd.DataFrame(foreign_share[0])"
   ]
  },
  {
   "cell_type": "code",
   "execution_count": 541,
   "metadata": {
    "collapsed": false
   },
   "outputs": [
    {
     "data": {
      "text/html": [
       "<div>\n",
       "<table border=\"1\" class=\"dataframe\">\n",
       "  <thead>\n",
       "    <tr style=\"text-align: right;\">\n",
       "      <th></th>\n",
       "      <th>fundid</th>\n",
       "      <th>投資金額(美元:萬)</th>\n",
       "      <th>資料日期</th>\n",
       "      <th>項目</th>\n",
       "    </tr>\n",
       "  </thead>\n",
       "  <tbody>\n",
       "    <tr>\n",
       "      <th>0</th>\n",
       "      <td>ANZ45-A28</td>\n",
       "      <td>165300</td>\n",
       "      <td>2016/12/31</td>\n",
       "      <td>金融</td>\n",
       "    </tr>\n",
       "    <tr>\n",
       "      <th>1</th>\n",
       "      <td>ANZ45-A28</td>\n",
       "      <td>101500</td>\n",
       "      <td>2016/12/31</td>\n",
       "      <td>消費必需品</td>\n",
       "    </tr>\n",
       "    <tr>\n",
       "      <th>2</th>\n",
       "      <td>ANZ45-A28</td>\n",
       "      <td>73080</td>\n",
       "      <td>2016/12/31</td>\n",
       "      <td>資訊科技</td>\n",
       "    </tr>\n",
       "    <tr>\n",
       "      <th>3</th>\n",
       "      <td>ANZ45-A28</td>\n",
       "      <td>56260</td>\n",
       "      <td>2016/12/31</td>\n",
       "      <td>可選消費品</td>\n",
       "    </tr>\n",
       "    <tr>\n",
       "      <th>4</th>\n",
       "      <td>ANZ45-A28</td>\n",
       "      <td>52780</td>\n",
       "      <td>2016/12/31</td>\n",
       "      <td>原物料</td>\n",
       "    </tr>\n",
       "    <tr>\n",
       "      <th>5</th>\n",
       "      <td>ANZ45-A28</td>\n",
       "      <td>47560</td>\n",
       "      <td>2016/12/31</td>\n",
       "      <td>其他產業</td>\n",
       "    </tr>\n",
       "    <tr>\n",
       "      <th>6</th>\n",
       "      <td>ANZ45-A28</td>\n",
       "      <td>39440</td>\n",
       "      <td>2016/12/31</td>\n",
       "      <td>不動產</td>\n",
       "    </tr>\n",
       "    <tr>\n",
       "      <th>7</th>\n",
       "      <td>ANZ45-A28</td>\n",
       "      <td>35960</td>\n",
       "      <td>2016/12/31</td>\n",
       "      <td>能源</td>\n",
       "    </tr>\n",
       "    <tr>\n",
       "      <th>8</th>\n",
       "      <td>ANZ45-A28</td>\n",
       "      <td>8120</td>\n",
       "      <td>2016/12/31</td>\n",
       "      <td>現金</td>\n",
       "    </tr>\n",
       "  </tbody>\n",
       "</table>\n",
       "</div>"
      ],
      "text/plain": [
       "      fundid 投資金額(美元:萬)        資料日期     項目\n",
       "0  ANZ45-A28     165300  2016/12/31     金融\n",
       "1  ANZ45-A28     101500  2016/12/31  消費必需品\n",
       "2  ANZ45-A28      73080  2016/12/31   資訊科技\n",
       "3  ANZ45-A28      56260  2016/12/31  可選消費品\n",
       "4  ANZ45-A28      52780  2016/12/31    原物料\n",
       "5  ANZ45-A28      47560  2016/12/31   其他產業\n",
       "6  ANZ45-A28      39440  2016/12/31    不動產\n",
       "7  ANZ45-A28      35960  2016/12/31     能源\n",
       "8  ANZ45-A28       8120  2016/12/31     現金"
      ]
     },
     "execution_count": 541,
     "metadata": {},
     "output_type": "execute_result"
    }
   ],
   "source": [
    "pd.DataFrame(foreign_share[1])"
   ]
  },
  {
   "cell_type": "code",
   "execution_count": 516,
   "metadata": {
    "collapsed": false
   },
   "outputs": [
    {
     "data": {
      "text/html": [
       "<div>\n",
       "<table border=\"1\" class=\"dataframe\">\n",
       "  <thead>\n",
       "    <tr style=\"text-align: right;\">\n",
       "      <th></th>\n",
       "      <th>fundid</th>\n",
       "      <th>投資金額(美元:萬)</th>\n",
       "      <th>項目</th>\n",
       "    </tr>\n",
       "  </thead>\n",
       "  <tbody>\n",
       "    <tr>\n",
       "      <th>0</th>\n",
       "      <td>ANZ45-A28</td>\n",
       "      <td>165300</td>\n",
       "      <td>金融</td>\n",
       "    </tr>\n",
       "    <tr>\n",
       "      <th>1</th>\n",
       "      <td>ANZ45-A28</td>\n",
       "      <td>101500</td>\n",
       "      <td>消費必需品</td>\n",
       "    </tr>\n",
       "    <tr>\n",
       "      <th>2</th>\n",
       "      <td>ANZ45-A28</td>\n",
       "      <td>73080</td>\n",
       "      <td>資訊科技</td>\n",
       "    </tr>\n",
       "    <tr>\n",
       "      <th>3</th>\n",
       "      <td>ANZ45-A28</td>\n",
       "      <td>56260</td>\n",
       "      <td>可選消費品</td>\n",
       "    </tr>\n",
       "    <tr>\n",
       "      <th>4</th>\n",
       "      <td>ANZ45-A28</td>\n",
       "      <td>52780</td>\n",
       "      <td>原物料</td>\n",
       "    </tr>\n",
       "    <tr>\n",
       "      <th>5</th>\n",
       "      <td>ANZ45-A28</td>\n",
       "      <td>47560</td>\n",
       "      <td>其他產業</td>\n",
       "    </tr>\n",
       "    <tr>\n",
       "      <th>6</th>\n",
       "      <td>ANZ45-A28</td>\n",
       "      <td>39440</td>\n",
       "      <td>不動產</td>\n",
       "    </tr>\n",
       "    <tr>\n",
       "      <th>7</th>\n",
       "      <td>ANZ45-A28</td>\n",
       "      <td>35960</td>\n",
       "      <td>能源</td>\n",
       "    </tr>\n",
       "    <tr>\n",
       "      <th>8</th>\n",
       "      <td>ANZ45-A28</td>\n",
       "      <td>8120</td>\n",
       "      <td>現金</td>\n",
       "    </tr>\n",
       "  </tbody>\n",
       "</table>\n",
       "</div>"
      ],
      "text/plain": [
       "      fundid 投資金額(美元:萬)     項目\n",
       "0  ANZ45-A28     165300     金融\n",
       "1  ANZ45-A28     101500  消費必需品\n",
       "2  ANZ45-A28      73080   資訊科技\n",
       "3  ANZ45-A28      56260  可選消費品\n",
       "4  ANZ45-A28      52780    原物料\n",
       "5  ANZ45-A28      47560   其他產業\n",
       "6  ANZ45-A28      39440    不動產\n",
       "7  ANZ45-A28      35960     能源\n",
       "8  ANZ45-A28       8120     現金"
      ]
     },
     "execution_count": 516,
     "metadata": {},
     "output_type": "execute_result"
    }
   ],
   "source": [
    "pd.DataFrame(tableAns[1])"
   ]
  },
  {
   "cell_type": "code",
   "execution_count": null,
   "metadata": {
    "collapsed": true
   },
   "outputs": [],
   "source": []
  },
  {
   "cell_type": "code",
   "execution_count": null,
   "metadata": {
    "collapsed": true
   },
   "outputs": [],
   "source": []
  },
  {
   "cell_type": "code",
   "execution_count": null,
   "metadata": {
    "collapsed": true
   },
   "outputs": [],
   "source": []
  },
  {
   "cell_type": "code",
   "execution_count": null,
   "metadata": {
    "collapsed": true
   },
   "outputs": [],
   "source": []
  },
  {
   "cell_type": "code",
   "execution_count": null,
   "metadata": {
    "collapsed": true
   },
   "outputs": [],
   "source": []
  },
  {
   "cell_type": "code",
   "execution_count": null,
   "metadata": {
    "collapsed": true
   },
   "outputs": [],
   "source": []
  },
  {
   "cell_type": "code",
   "execution_count": null,
   "metadata": {
    "collapsed": true
   },
   "outputs": [],
   "source": []
  },
  {
   "cell_type": "markdown",
   "metadata": {},
   "source": [
    "______"
   ]
  },
  {
   "cell_type": "markdown",
   "metadata": {},
   "source": [
    "# 輔助函數"
   ]
  },
  {
   "cell_type": "code",
   "execution_count": 17,
   "metadata": {
    "collapsed": true
   },
   "outputs": [],
   "source": [
    "def getFundBasicInfo(soup):\n",
    "    \"\"\"\n",
    "    取得基金基本資料\n",
    "    \n",
    "    params\n",
    "    ======\n",
    "    input  : soup\n",
    "    output : defaultDict ==>{'fundid': 'ACUS03-UN2','主要投資區域': '台灣',\n",
    "                            '保管銀行': '中國信託銀行','基金公司': '永豐投信',...}\n",
    "    \"\"\"\n",
    "    #### fundid ####\n",
    "    fundid = re.findall(r'(?:a=)(.+)',soup.select('#itemTab')[0].find('a').get('href'))[0]\n",
    "    ################\n",
    "    fieldSoup = soup.select('.wfb5l')\n",
    "    fieldList = [fundid]\n",
    "    for e in fieldSoup[:10]:\n",
    "    #     print(e.text)\n",
    "        fieldList.append(e.text)\n",
    "    starNum = getFundStar(fieldSoup[-3])\n",
    "    fieldList.append(starNum)\n",
    "    fieldList.append(fieldSoup[-1].text)\n",
    "    info_colName = [\n",
    "        'fundid',\n",
    "        '基金名稱',\n",
    "        '基金公司',\n",
    "        '成立日期',\n",
    "        '基金經理人',\n",
    "        '基金規模(億)',\n",
    "        '成立時規模(億)',\n",
    "        '基金類型',\n",
    "        '保管銀行',\n",
    "        '主要投資區域',\n",
    "        '投資區域',\n",
    "        '基金評等',\n",
    "        '投資標的'\n",
    "    ]\n",
    "    dataList = list(zip(info_colName,fieldList)) ## list of tuples ==> [(fundid,xxxx),(基金名稱,xxxxx),(基金公司,xxxx),...]\n",
    "    \n",
    "    dataDict = defaultdict(list)\n",
    "    ## 將資料格式轉換為 defaultdict ##\n",
    "    for k,v in dataList:\n",
    "        dataDict[k] = v\n",
    "    return dataDict"
   ]
  },
  {
   "cell_type": "code",
   "execution_count": 18,
   "metadata": {
    "collapsed": false
   },
   "outputs": [],
   "source": [
    "def getFundManager(soup):\n",
    "    \"\"\"\n",
    "    取得歷任經理人資料\n",
    "    \"\"\"\n",
    "    #### fundid ####\n",
    "    fundid = re.findall(r'(?:a=)(.+)',soup.select('#itemTab')[0].find('a').get('href'))[0]\n",
    "    ################\n",
    "    managerList = []\n",
    "    managerDict = defaultdict(list)\n",
    "    managerBSTable = soup.select('#oMainTable')[1]\n",
    "\n",
    "    colNames = [        \n",
    "        '經理人',\n",
    "        '時間',\n",
    "        '期間(月)',\n",
    "        '操作績效(%)',\n",
    "        '台股績效(%)',\n",
    "        '現任基金'\n",
    "    ]\n",
    "#     managerList = []\n",
    "    managerDict['fundid'] = fundid\n",
    "    for index,manager in enumerate(managerBSTable.select('tr')[2:]):\n",
    "        row = []\n",
    "        for index,field in enumerate(manager.select('td')):\n",
    "            try:\n",
    "                field = float(field.text)\n",
    "                row.append(field) # 轉換數字部分\n",
    "            except ValueError as e:\n",
    "                field = field.text\n",
    "                row.append(field) \n",
    "            managerDict[colNames[index]].append(field) \n",
    "#         print(row)\n",
    "    return managerDict"
   ]
  },
  {
   "cell_type": "code",
   "execution_count": 19,
   "metadata": {
    "collapsed": true
   },
   "outputs": [],
   "source": [
    "def getFundStar(starTag):\n",
    "    '''取得基金評等數字(影像<星星>標記 --> 數字)\n",
    "    params ------\n",
    "    starTag: 含有星號圖案的bs4 tag\n",
    "    return: 基金評等(int)\n",
    "    '''\n",
    "    starList = starTag.select('img') # bs4 tag\n",
    "    starList = [star['src'] for star in starList ] # 取出src裡面的url\n",
    "    starStr = '**'.join(starList) # 接成string\n",
    "    if re.findall('/BT_Coin_b.gif',starStr):\n",
    "        starNum = 0.5\n",
    "    else:\n",
    "        starNum = 0\n",
    "    starNum += len(re.findall('/BT_Coin_a.gif',starStr))\n",
    "    print('星星幾顆:{}'.format(starNum))\n",
    "    return starNum"
   ]
  },
  {
   "cell_type": "code",
   "execution_count": 106,
   "metadata": {
    "collapsed": false
   },
   "outputs": [],
   "source": [
    "def getDomesticShareHolding(html_text):\n",
    "    \"\"\"取得國內持股資料(圓餅圖)\n",
    "    剖析mma中html含有js程式碼，資料隱藏在js其中\n",
    "    params\n",
    "    html_text : raw text(str)\n",
    "    return : list of defaultdict\n",
    "    \"\"\"\n",
    "    def getShareHoldingTable(stockGroupList):\n",
    "        \"\"\"轉換國內持股圓餅圖資料(getDomesticShareHolding)為dict格式(pd.dataframe可直接使用)    \n",
    "        \"\"\"\n",
    "        stockGroup = defaultdict(list)\n",
    "        for index,(k,v) in enumerate(stockGroupList):\n",
    "\n",
    "            if index >1:\n",
    "                stockGroup['項目'].append(k) \n",
    "                stockGroup['投資金額(萬元)'].append(v)\n",
    "            else:\n",
    "                stockGroup[k] = v\n",
    "        return stockGroup\n",
    "\n",
    "    ### 取得 fundid ###\n",
    "    soup = BS(html_text,\"lxml\")\n",
    "    fundid = re.findall(r\"(?:a=)(.+)\",soup.select('#itemTab')[0].find('a').get('href'))[0]\n",
    "    print('fundid:{}'.format(fundid))\n",
    "    ##### 取得 資料日期 ####\n",
    "    update_dateStr = re.findall(r\"\\d+\\/\\d+\\/\\d+\",soup.select('.wfb1ar')[-1].text)[0] # xx分布--資料日期\n",
    "    #######################\n",
    "    string1 = 'DJGraphObj1' # 切出目標字串    \n",
    "    target_text = html_text[html_text.index(string1):]\n",
    "    \n",
    "    pat1 = r\"(?:\\'Title\\':)(.+)\"\n",
    "    investTitle = re.findall(pat1,target_text) # 取得並切分表單table\n",
    "           \n",
    "    pat2 = r\"(?:\\')(.*?)(?:\\')\" # 取出包含在 ' '內的字串\n",
    "    pat3 = r\"(?:\\'PieV\\':)(.+)\" # 取出包含在 PieV 後的字串\n",
    "#     investTitleByStock = re.findall(pat2,investTitle[0]) ## 依產業標題(List)\n",
    "#     investTitleByStock\n",
    "    table = defaultdict(list)\n",
    "    tableAns = []\n",
    "    for index,titleText in enumerate(investTitle):\n",
    "        titleList = re.findall(pat2,titleText)\n",
    "        if len(titleList) == 1:\n",
    "            continue\n",
    "        colname = titleList[1]\n",
    "        titleList = titleList[2:]\n",
    "        titleList.insert(0,'fundid')\n",
    "        titleList.insert(1,'資料日期')\n",
    "        valueList = re.findall(pat2,re.findall(pat3,target_text)[index])\n",
    "        valueList.insert(0,fundid)\n",
    "        valueList.insert(1,update_dateStr)\n",
    "#         print(titleList,valueList)\n",
    "        table[colname]= list(zip(titleList,valueList))\n",
    "        \n",
    "        share_Holding_dict = getShareHoldingTable(table[colname])\n",
    "        \n",
    "        \n",
    "        typeName = ['持有類股','區域','產業']\n",
    "        share_Holding_dict['分類'] = typeName[index]\n",
    "        \n",
    "        tableAns.append(share_Holding_dict)\n",
    "    return tableAns"
   ]
  },
  {
   "cell_type": "code",
   "execution_count": 128,
   "metadata": {
    "collapsed": false
   },
   "outputs": [
    {
     "name": "stdout",
     "output_type": "stream",
     "text": [
      "fundid:ACJS24-Z21\n",
      "oops~資料更新嚕!!\n"
     ]
    }
   ],
   "source": [
    "temp1,temp2,temp3 = getDomesticShareHolding(res.text)\n",
    "pd.DataFrame(temp1)\n",
    "dictToDb(temp3,'[MMA國內基金持股狀況_分類]',con)"
   ]
  },
  {
   "cell_type": "code",
   "execution_count": 125,
   "metadata": {
    "collapsed": false
   },
   "outputs": [
    {
     "data": {
      "text/plain": [
       "dict_values([{'fundid': 'ACKY36-187', '主要投資區域': '印度', '保管銀行': '台新銀行', '基金公司': '元大投信', '基金名稱': '元大印度指數基金', '基金經理人': '劉偉正', '基金規模(億)': '1.91台幣 (2017/01/31)', '基金評等': 2.5, '基金類型': '跨國投資指數型', '成立日期': '2010年9月24日', '成立時規模(億)': '6.22(台幣)', '投資區域': '印度', '投資標的': '1.中華民國境內之上市及上櫃股票、承銷股票、存託憑證、受益憑證(含指數股票型基金) 、進行指數股票型基金之實物申購買回、政府公債、公司債(含次順位公司債)、可轉換公司債、附認股權公司債、無擔保公司債、金融債券(包含次順位金融債券)、依金融資產證券化條例公開招募之受益證券或資產基礎證券及經金管會核准於國內募集發行之國際金融組織債券。\\r\\n2.投資於經金管會核准之國外有價證券，本基金三檔子基金分別包含上述主要投資國家或地區之證券交易所及根據標的指數成分股於國外之證券交易所及上述國家或地區經金管會核准之店頭市場所發行及交易之股票、承銷股票、受益憑證、基金股份、投資單位、存託憑證、指數股票型基金、進行指數股票型基金之實物申購買回及經金管會核准或申報生效得募集及銷售之外國基金管理機構所發行或經理之受益憑證、基金股份或投資單位，或符合金管會規定之任一信用評等等級，於上述投資所在國或地區交易，並由國家或機構所保證或發行之債券(含金融資產證券化商品及不動產證券化商品)。'}])"
      ]
     },
     "execution_count": 125,
     "metadata": {},
     "output_type": "execute_result"
    }
   ],
   "source": [
    "pd.DataFrame(temp1)\n",
    "df.T.to_dict().values()"
   ]
  },
  {
   "cell_type": "code",
   "execution_count": 21,
   "metadata": {
    "collapsed": true
   },
   "outputs": [],
   "source": [
    "def getShareHoldingTable(stockGroupList):\n",
    "    \"\"\"轉換國內持股圓餅圖資料(getDomesticShareHolding)為dict格式(pd.dataframe可直接使用)    \n",
    "    \"\"\"\n",
    "    stockGroup = defaultdict(list)\n",
    "    for index,(k,v) in enumerate(stockGroupList):\n",
    "\n",
    "        if index >1:\n",
    "            stockGroup['項目'].append(k) \n",
    "            stockGroup['投資金額(萬元)'].append(v)\n",
    "        else:\n",
    "            stockGroup[k] = v\n",
    "    return stockGroup"
   ]
  },
  {
   "cell_type": "code",
   "execution_count": 22,
   "metadata": {
    "collapsed": false
   },
   "outputs": [],
   "source": [
    "def getDomesticStockHolding(soup):\n",
    "    \"\"\"取得國內持股資料中股票張數(表格)\n",
    "    params \n",
    "    ======\n",
    "    input: soup --- html經BS包裝後變數\n",
    "    return : defaultdict {增減:[],\n",
    "                            股票名稱:[],\n",
    "                            持股(千股):[],\n",
    "                            比例:[],\n",
    "                            資料月份,[]}\n",
    "    \"\"\"\n",
    "    ### 取得 fundid ###\n",
    "    fundid = re.findall(r\"(?:a=)(.+)\",soup.select('#itemTab')[0].find('a').get('href'))[0]\n",
    "    ###############\n",
    "    \n",
    "    def parseElement(e):\n",
    "        \"\"\"利用此函數剖析表格內元素\n",
    "        \"\"\"\n",
    "        row1 = []; row2=[];\n",
    "        for index,field in enumerate(e.select('td')):        \n",
    "            if index > 3:\n",
    "                row2.append(field.text)\n",
    "            else:\n",
    "                row1.append(field.text)\n",
    "        return row1,row2\n",
    "    \n",
    "    \n",
    "    ######## 資料月份 ##########\n",
    "    update_dateStr = soup.select('#oMainTable')[1].select('tr')[0].text # 資料月份\n",
    "    update_date = re.findall(r'\\d+/\\d+',update_dateStr)[0]\n",
    "    date_colname = '資料月份'\n",
    "    print(date_colname,update_date)\n",
    "    \n",
    "    ###########################\n",
    "    \n",
    "    \n",
    "    fundShareTableList = []\n",
    "    rowData = {}\n",
    "    for index,e in enumerate(soup.select('#oMainTable')[1].select('tr')[1:]):\n",
    "        colnames = []\n",
    "        if index == 0:\n",
    "            col1,col2 = parseElement(e)\n",
    "            col1+=['fundid',date_colname]\n",
    "            col2+=['fundid',date_colname]\n",
    "        else:            \n",
    "            row1,row2 = parseElement(e)\n",
    "            row1+=[fundid,update_date]\n",
    "            row2+=[fundid,update_date]\n",
    "            \n",
    "            fundShareTableList.append(list(zip(col1,row1))) \n",
    "            fundShareTableList.append(list(zip(col2,row2)))\n",
    "    ### 輸出成dict格式 ##\n",
    "    stocks_dict = defaultdict(list)\n",
    "    for row in fundShareTableList:\n",
    "        for name,value in row:    \n",
    "            stocks_dict[name].append(value)\n",
    "    return stocks_dict"
   ]
  },
  {
   "cell_type": "code",
   "execution_count": 83,
   "metadata": {
    "collapsed": true
   },
   "outputs": [],
   "source": [
    "def dictToDb(data_dict,table,con):\n",
    "    \"\"\" 利用dict資料格式(配合pypyodbc)寫入tsql-2000\n",
    "    \n",
    "    資料若有重複(判斷fundID),先刪除資料再插入\n",
    "    \n",
    "    params\n",
    "    ======\n",
    "    inputs : \n",
    "        data_dict : dict or defaultdict \n",
    "        table : 寫入的table name\n",
    "        con   : 透過pypyodbc.connect 建立成功的連線\n",
    "    output : None\n",
    "    \"\"\"\n",
    "    \n",
    "    cursor = con.cursor()\n",
    "    sql_insert = \"\"\"INSERT INTO {} VALUES ({})\"\"\"\n",
    "    sql_delete = \"\"\"DELETE FROM {} WHERE fundID = '{}' \"\"\"\n",
    "    try:\n",
    "        df = pd.DataFrame(data_dict)\n",
    "    except ValueError as e:\n",
    "        df = pd.DataFrame([data_dict])\n",
    "    keyList = list(df.columns)\n",
    "    \n",
    "    quest = '?' + ',?'*(df.shape[1]-1)\n",
    "    for e in list(df.T.to_dict().values()):\n",
    "        try:\n",
    "            cursor.execute(sql_insert.format(table,quest),list(e.values()))\n",
    "#             print(sql_insert.format(table,quest),list(e.values()))\n",
    "        except pypyodbc.IntegrityError:\n",
    "            fundid = e['fundid'][0] if type(e['fundid'])==list else e['fundid']\n",
    "            cursor.execute(sql_delete.format(table,e['fundid']))\n",
    "            cursor.execute(sql_insert.format(table,quest),list(e.values()))\n",
    "    print(\"oops~資料更新嚕!!\")\n",
    "    cursor.close()\n",
    "    con.commit()"
   ]
  },
  {
   "cell_type": "markdown",
   "metadata": {},
   "source": [
    "_______"
   ]
  },
  {
   "cell_type": "markdown",
   "metadata": {},
   "source": [
    "## 資料庫"
   ]
  },
  {
   "cell_type": "code",
   "execution_count": 11,
   "metadata": {
    "collapsed": true
   },
   "outputs": [],
   "source": [
    "import pypyodbc"
   ]
  },
  {
   "cell_type": "code",
   "execution_count": 12,
   "metadata": {
    "collapsed": false
   },
   "outputs": [],
   "source": [
    "con = pypyodbc.connect(\"DRIVER={SQL Server};SERVER=xxxxxxxxx;UID=xxxxxx;PWD=xxxxxxx;DATABASE=External\")\n",
    "cursor = con.cursor()"
   ]
  },
  {
   "cell_type": "code",
   "execution_count": 371,
   "metadata": {
    "collapsed": true
   },
   "outputs": [],
   "source": [
    "sql_insert = \"\"\"\n",
    "INSERT INTO [基金持股狀況_依持有類股分] \n",
    "VALUES (?,?,?,?)\n",
    "\"\"\"\n"
   ]
  },
  {
   "cell_type": "code",
   "execution_count": 357,
   "metadata": {
    "collapsed": true
   },
   "outputs": [],
   "source": [
    "df = pd.DataFrame(dataToDB_dict)"
   ]
  },
  {
   "cell_type": "code",
   "execution_count": 343,
   "metadata": {
    "collapsed": false
   },
   "outputs": [],
   "source": [
    "dataToDB_dict = ACJS24_Z21[0]\n",
    "dataToDB_pd_dict = pd.DataFrame(dataToDB_dict).to_dict()\n"
   ]
  },
  {
   "cell_type": "code",
   "execution_count": 350,
   "metadata": {
    "collapsed": false
   },
   "outputs": [
    {
     "data": {
      "text/plain": [
       "dict_keys(['fundid', '投資金額(萬元)', '資料日期', '項目'])"
      ]
     },
     "execution_count": 350,
     "metadata": {},
     "output_type": "execute_result"
    }
   ],
   "source": [
    "dataToDB_pd_dict.keys()\n",
    "    "
   ]
  },
  {
   "cell_type": "code",
   "execution_count": 377,
   "metadata": {
    "collapsed": false
   },
   "outputs": [
    {
     "name": "stdout",
     "output_type": "stream",
     "text": [
      "dict_values(['ACJS24-Z21', '16416', '2017/01/31', '亞洲不含日本'])\n",
      "dict_values(['ACJS24-Z21', '4583', '2017/01/31', '日本'])\n",
      "dict_values(['ACJS24-Z21', '3558', '2017/01/31', '大陸地區'])\n",
      "dict_values(['ACJS24-Z21', '2681', '2017/01/31', '上市光電'])\n",
      "dict_values(['ACJS24-Z21', '2431', '2017/01/31', '上市半導體'])\n",
      "dict_values(['ACJS24-Z21', '1619', '2017/01/31', '上櫃半導體'])\n",
      "dict_values(['ACJS24-Z21', '937', '2017/01/31', '上市橡膠'])\n",
      "dict_values(['ACJS24-Z21', '892', '2017/01/31', '上市電子零組件'])\n",
      "dict_values(['ACJS24-Z21', '844', '2017/01/31', '上市油電燃氣'])\n",
      "dict_values(['ACJS24-Z21', '440', '2017/01/31', '上櫃其他電子'])\n",
      "dict_values(['ACJS24-Z21', '279', '2017/01/31', '上市電腦及週邊設備'])\n",
      "dict_values(['ACJS24-Z21', '5702', '2017/01/31', '其它'])\n"
     ]
    }
   ],
   "source": [
    "for e in list(df.T.to_dict().values()):\n",
    "#     cursor.execute(sql_insert,list(e.values()))\n",
    "    print(list(e.values()))"
   ]
  },
  {
   "cell_type": "code",
   "execution_count": 375,
   "metadata": {
    "collapsed": true
   },
   "outputs": [],
   "source": [
    "con.commit()"
   ]
  },
  {
   "cell_type": "code",
   "execution_count": 379,
   "metadata": {
    "collapsed": false
   },
   "outputs": [
    {
     "name": "stdout",
     "output_type": "stream",
     "text": [
      "['ACJS24-Z21', '16416', '2017/01/31', '亞洲不含日本']\n",
      "['ACJS24-Z21', '4583', '2017/01/31', '日本']\n",
      "['ACJS24-Z21', '3558', '2017/01/31', '大陸地區']\n",
      "['ACJS24-Z21', '2681', '2017/01/31', '上市光電']\n",
      "['ACJS24-Z21', '2431', '2017/01/31', '上市半導體']\n",
      "['ACJS24-Z21', '1619', '2017/01/31', '上櫃半導體']\n",
      "['ACJS24-Z21', '937', '2017/01/31', '上市橡膠']\n",
      "['ACJS24-Z21', '892', '2017/01/31', '上市電子零組件']\n",
      "['ACJS24-Z21', '844', '2017/01/31', '上市油電燃氣']\n",
      "['ACJS24-Z21', '440', '2017/01/31', '上櫃其他電子']\n",
      "['ACJS24-Z21', '279', '2017/01/31', '上市電腦及週邊設備']\n",
      "['ACJS24-Z21', '5702', '2017/01/31', '其它']\n"
     ]
    }
   ],
   "source": [
    "for e in df.T.to_dict().values():\n",
    "    print(list(e.values()))\n"
   ]
  }
 ],
 "metadata": {
  "anaconda-cloud": {},
  "kernelspec": {
   "display_name": "Python [conda env:py3k]",
   "language": "python",
   "name": "conda-env-py3k-py"
  },
  "language_info": {
   "codemirror_mode": {
    "name": "ipython",
    "version": 3
   },
   "file_extension": ".py",
   "mimetype": "text/x-python",
   "name": "python",
   "nbconvert_exporter": "python",
   "pygments_lexer": "ipython3",
   "version": "3.6.0"
  }
 },
 "nbformat": 4,
 "nbformat_minor": 1
}
