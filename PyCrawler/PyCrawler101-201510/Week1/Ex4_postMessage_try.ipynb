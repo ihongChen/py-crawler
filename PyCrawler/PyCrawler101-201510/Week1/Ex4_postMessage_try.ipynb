{
 "cells": [
  {
   "cell_type": "code",
   "execution_count": 1,
   "metadata": {
    "collapsed": true
   },
   "outputs": [],
   "source": [
    "import requests\n",
    "import pandas as pd\n"
   ]
  },
  {
   "cell_type": "code",
   "execution_count": 2,
   "metadata": {
    "collapsed": true
   },
   "outputs": [],
   "source": [
    "from datetime import datetime"
   ]
  },
  {
   "cell_type": "code",
   "execution_count": 3,
   "metadata": {
    "collapsed": true
   },
   "outputs": [],
   "source": [
    "message = \"TEST MESSAGE \" + str(datetime.now())\n",
    "postData = {\"content\":message}"
   ]
  },
  {
   "cell_type": "code",
   "execution_count": 5,
   "metadata": {
    "collapsed": false
   },
   "outputs": [],
   "source": [
    "res = requests.post(\"http://apt-bonbon-93413.appspot.com/sign\",data=postData)"
   ]
  },
  {
   "cell_type": "code",
   "execution_count": 7,
   "metadata": {
    "collapsed": false
   },
   "outputs": [
    {
     "data": {
      "text/plain": [
       "u'<!DOCTYPE html>\\n\\n<html>\\n  <head>\\n    <link type=\"text/css\" rel=\"stylesheet\" href=\"/bootstrap/css/bootstrap.css\" rel=\"stylesheet\">\\n    <link type=\"text/css\" rel=\"stylesheet\" href=\"/bootstrap/css/bootstrap-responsive.css\" rel=\"stylesheet\">\\n    <style type=\"text/css\">\\n      body {\\n        padding-top: 40px;\\n        padding-bottom: 40px;\\n        background-color: #f5f5f5;\\n      }\\n      blockquote {\\n        margin-bottom: 10px;\\n        border-left-color: #bbb;\\n      }\\n      form {\\n        margin-top: 10px;\\n      }\\n      .form-signin input[type=\"text\"] {\\n        font-size: 16px;\\n        height: auto;\\n        margin-bottom: 15px;\\n        padding: 7px 9px;\\n      }\\n      .row {\\n        margin-left: 0px;\\n        margin-top: 10px;\\n        overflow: scroll;\\n      }\\n    </style>\\n  </head>\\n  <body>\\n    <div class=\"navbar navbar-inverse navbar-fixed-top\">\\n      <div class=\"navbar-inner\">\\n        <div class=\"container\">\\n          <button type=\"button\" class=\"btn btn-navbar\" data-toggle=\"collapse\" data-target=\".nav-collapse\">\\n            <span class=\"icon-bar\"></span>\\n            <span class=\"icon-bar\"></span>\\n            <span class=\"icon-bar\"></span>\\n          </button>\\n          <a class=\"brand\" href=\"#\">App Engine Guestbook</a>\\n          <div class=\"nav-collapse collapse pull-right\">\\n            <a href=\"https://www.google.com/accounts/ServiceLogin?service=ah&passive=true&continue=https://appengine.google.com/_ah/conflogin%3Fcontinue%3Dhttp://apt-bonbon-93413.appspot.com/&ltmpl=gm&shdf=Ch0LEgZhaG5hbWUaEWNyYXdsZXItZ3Vlc3Rib29rDBICYWgiFBktC1i1U6rHEl-4nNPrHvGjQherKAEyFLyeTRaumVrwf6WbRtk2GxoP4J-g\" class=\"btn\">Login</a>\\n          </div>\\n        </div>\\n      </div>\\n    </div>\\n    <div class=\"container\">\\n\\n      \\n      <div class=\"row\">\\n        \\n         An anonymous person wrote:\\n        \\n        <blockquote>TEST MESSAGE 2015-10-03 05:11:08.043618</blockquote>\\n      </div>\\n      \\n      <div class=\"row\">\\n        \\n         An anonymous person wrote:\\n        \\n        <blockquote>TEST MESSAGE 2015-10-03 05:11:08.043618</blockquote>\\n      </div>\\n      \\n      <div class=\"row\">\\n        \\n         An anonymous person wrote:\\n        \\n        <blockquote>test</blockquote>\\n      </div>\\n      \\n      <div class=\"row\">\\n        \\n         An anonymous person wrote:\\n        \\n        <blockquote>[TEST Posting Message] \\u4eca\\u5929\\u5929\\u6c23\\u5f88\\u597d At 2015-07-26 18:06:24</blockquote>\\n      </div>\\n      \\n      <div class=\"row\">\\n        \\n         An anonymous person wrote:\\n        \\n        <blockquote>\\u4eca\\u5929\\u5929\\u6c23\\u5f88\\u597d1437904957.66164</blockquote>\\n      </div>\\n      \\n      <div class=\"row\">\\n        \\n         An anonymous person wrote:\\n        \\n        <blockquote>[TEST Posting Message] \\u4eca\\u5929\\u5929\\u6c23\\u5f88\\u597d At 2015-07-24 15:38:06</blockquote>\\n      </div>\\n      \\n      <div class=\"row\">\\n        \\n         An anonymous person wrote:\\n        \\n        <blockquote>\\u4eca\\u5929\\u5929\\u6c23\\u5f88\\u597d1437723430.877</blockquote>\\n      </div>\\n      \\n      <div class=\"row\">\\n        \\n         An anonymous person wrote:\\n        \\n        <blockquote>[TEST Posting Message] Hi At 2015-07-23 16:24:46</blockquote>\\n      </div>\\n      \\n      <div class=\"row\">\\n        \\n         An anonymous person wrote:\\n        \\n        <blockquote>Hello1437639885.91153</blockquote>\\n      </div>\\n      \\n      <div class=\"row\">\\n        \\n         An anonymous person wrote:\\n        \\n        <blockquote>[TEST Posting Message] TEST At 2015-07-23 16:24:02</blockquote>\\n      </div>\\n      \\n\\n      <form action=\"/sign\" method=\"post\">\\n        <div><textarea name=\"content\" class=\"input-block-level\" rows=\"3\"></textarea></div>\\n        <div><input type=\"submit\" class=\"btn btn-large btn-primary\" value=\"Sign Guestbook\"></div>\\n      </form>\\n\\n        </div>\\n  </body>\\n</html>\\n'"
      ]
     },
     "execution_count": 7,
     "metadata": {},
     "output_type": "execute_result"
    }
   ],
   "source": [
    "res.text"
   ]
  },
  {
   "cell_type": "code",
   "execution_count": null,
   "metadata": {
    "collapsed": true
   },
   "outputs": [],
   "source": []
  }
 ],
 "metadata": {
  "kernelspec": {
   "display_name": "Python 2",
   "language": "python",
   "name": "python2"
  },
  "language_info": {
   "codemirror_mode": {
    "name": "ipython",
    "version": 2
   },
   "file_extension": ".py",
   "mimetype": "text/x-python",
   "name": "python",
   "nbconvert_exporter": "python",
   "pygments_lexer": "ipython2",
   "version": "2.7.10"
  }
 },
 "nbformat": 4,
 "nbformat_minor": 0
}
