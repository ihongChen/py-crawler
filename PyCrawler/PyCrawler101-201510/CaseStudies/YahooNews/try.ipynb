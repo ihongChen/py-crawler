{
 "cells": [
  {
   "cell_type": "code",
   "execution_count": 1,
   "metadata": {
    "collapsed": true
   },
   "outputs": [],
   "source": [
    "import requests\n",
    "from pyquery import PyQuery"
   ]
  },
  {
   "cell_type": "code",
   "execution_count": 26,
   "metadata": {
    "collapsed": true
   },
   "outputs": [],
   "source": [
    "url = \"https://tw.news.yahoo.com/%E9%AB%98%E7%88%BE%E5%A4%AB-%E6%9F%AF%E8%96%A9%E7%88%BE%E8%8C%B2%E5%8F%88%E6%90%B6%E9%A0%AD%E9%87%87-%E9%80%A3%E5%85%A9%E5%B9%B4%E8%91%A1%E8%90%84%E7%89%99%E9%96%8B%E5%B1%80%E9%A0%98%E5%85%88-035911639--golf.html\""
   ]
  },
  {
   "cell_type": "markdown",
   "metadata": {},
   "source": [
    "#  中文網址的祕密"
   ]
  },
  {
   "cell_type": "code",
   "execution_count": 27,
   "metadata": {
    "collapsed": true
   },
   "outputs": [],
   "source": [
    "import urllib"
   ]
  },
  {
   "cell_type": "code",
   "execution_count": 30,
   "metadata": {
    "collapsed": false
   },
   "outputs": [
    {
     "name": "stdout",
     "output_type": "stream",
     "text": [
      "https://tw.news.yahoo.com/%E9%AB%98%E7%88%BE%E5%A4%AB-%E6%9F%AF%E8%96%A9%E7%88%BE%E8%8C%B2%E5%8F%88%E6%90%B6%E9%A0%AD%E9%87%87-%E9%80%A3%E5%85%A9%E5%B9%B4%E8%91%A1%E8%90%84%E7%89%99%E9%96%8B%E5%B1%80%E9%A0%98%E5%85%88-035911639--golf.html\n"
     ]
    }
   ],
   "source": [
    "print url"
   ]
  },
  {
   "cell_type": "code",
   "execution_count": 29,
   "metadata": {
    "collapsed": false
   },
   "outputs": [
    {
     "name": "stdout",
     "output_type": "stream",
     "text": [
      "https://tw.news.yahoo.com/高爾夫-柯薩爾茲又搶頭采-連兩年葡萄牙開局領先-035911639--golf.html\n"
     ]
    }
   ],
   "source": [
    "print urllib.unquote(url)"
   ]
  },
  {
   "cell_type": "markdown",
   "metadata": {},
   "source": [
    "# 蒐集 Raw Data"
   ]
  },
  {
   "cell_type": "code",
   "execution_count": 31,
   "metadata": {
    "collapsed": true
   },
   "outputs": [],
   "source": [
    "res = requests.get(url)"
   ]
  },
  {
   "cell_type": "code",
   "execution_count": 32,
   "metadata": {
    "collapsed": true
   },
   "outputs": [],
   "source": [
    "S = PyQuery(res.text)"
   ]
  },
  {
   "cell_type": "code",
   "execution_count": 36,
   "metadata": {
    "collapsed": false
   },
   "outputs": [
    {
     "name": "stdout",
     "output_type": "stream",
     "text": [
      "高爾夫》柯薩爾茲又搶頭采，連兩年葡萄牙開局領先\n"
     ]
    }
   ],
   "source": [
    "print S(\".headline\").text()"
   ]
  },
  {
   "cell_type": "code",
   "execution_count": 37,
   "metadata": {
    "collapsed": false
   },
   "outputs": [
    {
     "name": "stdout",
     "output_type": "stream",
     "text": [
      "羅開Golf 頻道\n"
     ]
    }
   ],
   "source": [
    "print S(\".logo\").attr(\"alt\")"
   ]
  },
  {
   "cell_type": "code",
   "execution_count": 38,
   "metadata": {
    "collapsed": false
   },
   "outputs": [
    {
     "name": "stdout",
     "output_type": "stream",
     "text": [
      "羅開Golf 頻道\n"
     ]
    }
   ],
   "source": [
    "print S(\".provider.org\").text()"
   ]
  },
  {
   "cell_type": "code",
   "execution_count": 40,
   "metadata": {
    "collapsed": false
   },
   "outputs": [
    {
     "name": "stdout",
     "output_type": "stream",
     "text": [
      "2015-10-16T03:59:11Z\n"
     ]
    }
   ],
   "source": [
    "print S(\"abbr\").attr(\"title\")"
   ]
  },
  {
   "cell_type": "code",
   "execution_count": 44,
   "metadata": {
    "collapsed": false
   },
   "outputs": [
    {
     "name": "stdout",
     "output_type": "stream",
     "text": [
      "<div itemscope itemtype=\"https://schema.org/Article\">\n",
      "\t<meta itemprop=\"datePublished\" content=\"2015-10-16T03:59:11Z\">\n",
      "\t<meta itemprop=\"provider\" content=\"羅開Golf 頻道\">\n",
      "\t<meta itemprop=\"headline\" content=\"高爾夫》柯薩爾茲又搶頭采，連兩年葡萄牙開局領先\">\n",
      "\t<meta itemprop=\"description\" content=\"【羅開新聞中心Minsey Weng綜合報導】比利時重砲手Nicolas Colsaerts（尼可拉斯•柯薩爾茲）又在Oceanico Victoria ...\">\n",
      "\t<div class=\"yom-mod yom-art-content \" id=\"mediaarticlebody\" itemprop=\"articleBody\"><div class=\"bd\"><!-- google_ad_section_start --><p class=\"first\">【羅開新聞中心Minsey Weng綜合報導】比利時重砲手Nicolas Colsaerts（尼可拉斯•柯薩爾茲）又在Oceanico Victoria Golf Course（維多利亞海洋高爾夫俱樂部）飆低桿了，週四攻下低於標準桿七桿的六十四桿，和英格蘭選手Andy Sullivan（安迪•蘇利文）並列Portugal Masters（葡萄牙名人賽）領先榜。<br><br>回顧一年前的賽事，柯薩爾茲開局如入無人之境，差一桿就可以躋身五字頭俱樂部，不過接著打六十七桿，反倒落後三桿，結果最後比賽因天候影響縮短為三十六洞，只能眼睜睜看著法國選手Alexander Levy（亞歷山德•雷維）不戰而勝。<br><br>相隔十二個月，柯薩爾茲又在首回合發飆，分別在十七和第五兩個五桿洞射下老鷹，另有四記博蒂，可惜第七洞吞下當天唯一的柏忌，錯失單獨領先，他說道：「我在這個地方的紀錄不錯，過去打得非常好，所以感覺很自在。」<br><br>「我想我給自己製造非常多的機會，雖然有些沒把握住，不過結果還不賴。很高興打出低於標準桿七桿的成績，也許可以來到八、九或著十，但七桿已經是很好的開始了。」<br><br>年初贏得South African Open Championship hosted by the City of Ekurhuleni（南非公開賽）和Joburg Open（約堡公開賽）的蘇利文，之後有兩場比賽打進前十，但近況相對不理想。沒關係，本週來到葡萄牙也有絕佳的開始，前十二洞攻下六城，終場繳出一張八博蒂和一柏忌的佳績。<br><br>「今天的揮桿狀態很好，似乎又找回信心。」世界排名暫居六十六的蘇利文說道：「比賽中段打得非常好，美中不足是在十六洞吞下柏忌。」<br><br>今年崛起的另一位比利時選手Thomas Pieters（湯瑪斯•彼特斯），先前連贏D+D REAL Czech Masters（捷克名人賽）和KLM Open（荷蘭公開賽），本週又製造了絕佳的機會，以七博蒂和一柏忌的六十五桿開出，和南非選手Thomas Aiken（湯瑪斯•艾肯）、蘇格蘭David Drysdale（大衛•德萊史戴爾）及西班牙的Eduardo De la Riva（艾多爾多•戴拉利瓦）並列第三。<br><br>至於場中第一高手德國名將Martin Kaymer（馬汀•凱默爾）只打出七十桿，並列四十七，而奧利地籍的第二高手Bernd Wiesberger（本德•韋斯伯格）六十八桿，並列二十二。</p>\n",
      "<!-- google_ad_section_end --></div></div>\n",
      "\t</div>\n"
     ]
    }
   ],
   "source": [
    "print S('div[itemtype=\"https://schema.org/Article\"]').outerHtml()"
   ]
  },
  {
   "cell_type": "code",
   "execution_count": null,
   "metadata": {
    "collapsed": true
   },
   "outputs": [],
   "source": []
  },
  {
   "cell_type": "code",
   "execution_count": 52,
   "metadata": {
    "collapsed": true
   },
   "outputs": [],
   "source": [
    "data = {\"datePublished\": S('div[itemtype=\"https://schema.org/Article\"] > meta[itemprop=\"datePublished\"]').attr(\"content\"),\n",
    "        \"provider\": S('div[itemtype=\"https://schema.org/Article\"] > meta[itemprop=\"provider\"]').attr(\"content\"),\n",
    "        \"headline\": S('div[itemtype=\"https://schema.org/Article\"] > meta[itemprop=\"headline\"]').attr(\"content\"),\n",
    "        \"description\": S('div[itemtype=\"https://schema.org/Article\"] > meta[itemprop=\"description\"]').attr(\"content\"),\n",
    "        \"articleBody\": S('div[itemtype=\"https://schema.org/Article\"] > div[itemprop=\"articleBody\"]').outerHtml(),}"
   ]
  },
  {
   "cell_type": "code",
   "execution_count": 53,
   "metadata": {
    "collapsed": false
   },
   "outputs": [
    {
     "data": {
      "text/plain": [
       "{'articleBody': u'<div class=\"yom-mod yom-art-content \" id=\"mediaarticlebody\" itemprop=\"articleBody\"><div class=\"bd\"><!-- google_ad_section_start --><p class=\"first\">\\u3010\\u7f85\\u958b\\u65b0\\u805e\\u4e2d\\u5fc3Minsey Weng\\u7d9c\\u5408\\u5831\\u5c0e\\u3011\\u6bd4\\u5229\\u6642\\u91cd\\u7832\\u624bNicolas Colsaerts\\uff08\\u5c3c\\u53ef\\u62c9\\u65af\\u2022\\u67ef\\u85a9\\u723e\\u8332\\uff09\\u53c8\\u5728Oceanico Victoria Golf Course\\uff08\\u7dad\\u591a\\u5229\\u4e9e\\u6d77\\u6d0b\\u9ad8\\u723e\\u592b\\u4ff1\\u6a02\\u90e8\\uff09\\u98c6\\u4f4e\\u687f\\u4e86\\uff0c\\u9031\\u56db\\u653b\\u4e0b\\u4f4e\\u65bc\\u6a19\\u6e96\\u687f\\u4e03\\u687f\\u7684\\u516d\\u5341\\u56db\\u687f\\uff0c\\u548c\\u82f1\\u683c\\u862d\\u9078\\u624bAndy Sullivan\\uff08\\u5b89\\u8fea\\u2022\\u8607\\u5229\\u6587\\uff09\\u4e26\\u5217Portugal Masters\\uff08\\u8461\\u8404\\u7259\\u540d\\u4eba\\u8cfd\\uff09\\u9818\\u5148\\u699c\\u3002<br><br>\\u56de\\u9867\\u4e00\\u5e74\\u524d\\u7684\\u8cfd\\u4e8b\\uff0c\\u67ef\\u85a9\\u723e\\u8332\\u958b\\u5c40\\u5982\\u5165\\u7121\\u4eba\\u4e4b\\u5883\\uff0c\\u5dee\\u4e00\\u687f\\u5c31\\u53ef\\u4ee5\\u8e8b\\u8eab\\u4e94\\u5b57\\u982d\\u4ff1\\u6a02\\u90e8\\uff0c\\u4e0d\\u904e\\u63a5\\u8457\\u6253\\u516d\\u5341\\u4e03\\u687f\\uff0c\\u53cd\\u5012\\u843d\\u5f8c\\u4e09\\u687f\\uff0c\\u7d50\\u679c\\u6700\\u5f8c\\u6bd4\\u8cfd\\u56e0\\u5929\\u5019\\u5f71\\u97ff\\u7e2e\\u77ed\\u70ba\\u4e09\\u5341\\u516d\\u6d1e\\uff0c\\u53ea\\u80fd\\u773c\\u775c\\u775c\\u770b\\u8457\\u6cd5\\u570b\\u9078\\u624bAlexander Levy\\uff08\\u4e9e\\u6b77\\u5c71\\u5fb7\\u2022\\u96f7\\u7dad\\uff09\\u4e0d\\u6230\\u800c\\u52dd\\u3002<br><br>\\u76f8\\u9694\\u5341\\u4e8c\\u500b\\u6708\\uff0c\\u67ef\\u85a9\\u723e\\u8332\\u53c8\\u5728\\u9996\\u56de\\u5408\\u767c\\u98c6\\uff0c\\u5206\\u5225\\u5728\\u5341\\u4e03\\u548c\\u7b2c\\u4e94\\u5169\\u500b\\u4e94\\u687f\\u6d1e\\u5c04\\u4e0b\\u8001\\u9df9\\uff0c\\u53e6\\u6709\\u56db\\u8a18\\u535a\\u8482\\uff0c\\u53ef\\u60dc\\u7b2c\\u4e03\\u6d1e\\u541e\\u4e0b\\u7576\\u5929\\u552f\\u4e00\\u7684\\u67cf\\u5fcc\\uff0c\\u932f\\u5931\\u55ae\\u7368\\u9818\\u5148\\uff0c\\u4ed6\\u8aaa\\u9053\\uff1a\\u300c\\u6211\\u5728\\u9019\\u500b\\u5730\\u65b9\\u7684\\u7d00\\u9304\\u4e0d\\u932f\\uff0c\\u904e\\u53bb\\u6253\\u5f97\\u975e\\u5e38\\u597d\\uff0c\\u6240\\u4ee5\\u611f\\u89ba\\u5f88\\u81ea\\u5728\\u3002\\u300d<br><br>\\u300c\\u6211\\u60f3\\u6211\\u7d66\\u81ea\\u5df1\\u88fd\\u9020\\u975e\\u5e38\\u591a\\u7684\\u6a5f\\u6703\\uff0c\\u96d6\\u7136\\u6709\\u4e9b\\u6c92\\u628a\\u63e1\\u4f4f\\uff0c\\u4e0d\\u904e\\u7d50\\u679c\\u9084\\u4e0d\\u8cf4\\u3002\\u5f88\\u9ad8\\u8208\\u6253\\u51fa\\u4f4e\\u65bc\\u6a19\\u6e96\\u687f\\u4e03\\u687f\\u7684\\u6210\\u7e3e\\uff0c\\u4e5f\\u8a31\\u53ef\\u4ee5\\u4f86\\u5230\\u516b\\u3001\\u4e5d\\u6216\\u8457\\u5341\\uff0c\\u4f46\\u4e03\\u687f\\u5df2\\u7d93\\u662f\\u5f88\\u597d\\u7684\\u958b\\u59cb\\u4e86\\u3002\\u300d<br><br>\\u5e74\\u521d\\u8d0f\\u5f97South African Open Championship hosted by the City of Ekurhuleni\\uff08\\u5357\\u975e\\u516c\\u958b\\u8cfd\\uff09\\u548cJoburg Open\\uff08\\u7d04\\u5821\\u516c\\u958b\\u8cfd\\uff09\\u7684\\u8607\\u5229\\u6587\\uff0c\\u4e4b\\u5f8c\\u6709\\u5169\\u5834\\u6bd4\\u8cfd\\u6253\\u9032\\u524d\\u5341\\uff0c\\u4f46\\u8fd1\\u6cc1\\u76f8\\u5c0d\\u4e0d\\u7406\\u60f3\\u3002\\u6c92\\u95dc\\u4fc2\\uff0c\\u672c\\u9031\\u4f86\\u5230\\u8461\\u8404\\u7259\\u4e5f\\u6709\\u7d55\\u4f73\\u7684\\u958b\\u59cb\\uff0c\\u524d\\u5341\\u4e8c\\u6d1e\\u653b\\u4e0b\\u516d\\u57ce\\uff0c\\u7d42\\u5834\\u7e73\\u51fa\\u4e00\\u5f35\\u516b\\u535a\\u8482\\u548c\\u4e00\\u67cf\\u5fcc\\u7684\\u4f73\\u7e3e\\u3002<br><br>\\u300c\\u4eca\\u5929\\u7684\\u63ee\\u687f\\u72c0\\u614b\\u5f88\\u597d\\uff0c\\u4f3c\\u4e4e\\u53c8\\u627e\\u56de\\u4fe1\\u5fc3\\u3002\\u300d\\u4e16\\u754c\\u6392\\u540d\\u66ab\\u5c45\\u516d\\u5341\\u516d\\u7684\\u8607\\u5229\\u6587\\u8aaa\\u9053\\uff1a\\u300c\\u6bd4\\u8cfd\\u4e2d\\u6bb5\\u6253\\u5f97\\u975e\\u5e38\\u597d\\uff0c\\u7f8e\\u4e2d\\u4e0d\\u8db3\\u662f\\u5728\\u5341\\u516d\\u6d1e\\u541e\\u4e0b\\u67cf\\u5fcc\\u3002\\u300d<br><br>\\u4eca\\u5e74\\u5d1b\\u8d77\\u7684\\u53e6\\u4e00\\u4f4d\\u6bd4\\u5229\\u6642\\u9078\\u624bThomas Pieters\\uff08\\u6e6f\\u746a\\u65af\\u2022\\u5f7c\\u7279\\u65af\\uff09\\uff0c\\u5148\\u524d\\u9023\\u8d0fD+D REAL Czech Masters\\uff08\\u6377\\u514b\\u540d\\u4eba\\u8cfd\\uff09\\u548cKLM Open\\uff08\\u8377\\u862d\\u516c\\u958b\\u8cfd\\uff09\\uff0c\\u672c\\u9031\\u53c8\\u88fd\\u9020\\u4e86\\u7d55\\u4f73\\u7684\\u6a5f\\u6703\\uff0c\\u4ee5\\u4e03\\u535a\\u8482\\u548c\\u4e00\\u67cf\\u5fcc\\u7684\\u516d\\u5341\\u4e94\\u687f\\u958b\\u51fa\\uff0c\\u548c\\u5357\\u975e\\u9078\\u624bThomas Aiken\\uff08\\u6e6f\\u746a\\u65af\\u2022\\u827e\\u80af\\uff09\\u3001\\u8607\\u683c\\u862dDavid Drysdale\\uff08\\u5927\\u885b\\u2022\\u5fb7\\u840a\\u53f2\\u6234\\u723e\\uff09\\u53ca\\u897f\\u73ed\\u7259\\u7684Eduardo De la Riva\\uff08\\u827e\\u591a\\u723e\\u591a\\u2022\\u6234\\u62c9\\u5229\\u74e6\\uff09\\u4e26\\u5217\\u7b2c\\u4e09\\u3002<br><br>\\u81f3\\u65bc\\u5834\\u4e2d\\u7b2c\\u4e00\\u9ad8\\u624b\\u5fb7\\u570b\\u540d\\u5c07Martin Kaymer\\uff08\\u99ac\\u6c40\\u2022\\u51f1\\u9ed8\\u723e\\uff09\\u53ea\\u6253\\u51fa\\u4e03\\u5341\\u687f\\uff0c\\u4e26\\u5217\\u56db\\u5341\\u4e03\\uff0c\\u800c\\u5967\\u5229\\u5730\\u7c4d\\u7684\\u7b2c\\u4e8c\\u9ad8\\u624bBernd Wiesberger\\uff08\\u672c\\u5fb7\\u2022\\u97cb\\u65af\\u4f2f\\u683c\\uff09\\u516d\\u5341\\u516b\\u687f\\uff0c\\u4e26\\u5217\\u4e8c\\u5341\\u4e8c\\u3002</p>\\n<!-- google_ad_section_end --></div></div>',\n",
       " 'datePublished': '2015-10-16T03:59:11Z',\n",
       " 'description': u'\\u3010\\u7f85\\u958b\\u65b0\\u805e\\u4e2d\\u5fc3Minsey Weng\\u7d9c\\u5408\\u5831\\u5c0e\\u3011\\u6bd4\\u5229\\u6642\\u91cd\\u7832\\u624bNicolas Colsaerts\\uff08\\u5c3c\\u53ef\\u62c9\\u65af\\u2022\\u67ef\\u85a9\\u723e\\u8332\\uff09\\u53c8\\u5728Oceanico Victoria ...',\n",
       " 'headline': u'\\u9ad8\\u723e\\u592b\\u300b\\u67ef\\u85a9\\u723e\\u8332\\u53c8\\u6436\\u982d\\u91c7\\uff0c\\u9023\\u5169\\u5e74\\u8461\\u8404\\u7259\\u958b\\u5c40\\u9818\\u5148',\n",
       " 'provider': u'\\u7f85\\u958bGolf \\u983b\\u9053'}"
      ]
     },
     "execution_count": 53,
     "metadata": {},
     "output_type": "execute_result"
    }
   ],
   "source": [
    "data"
   ]
  },
  {
   "cell_type": "code",
   "execution_count": null,
   "metadata": {
    "collapsed": true
   },
   "outputs": [],
   "source": []
  },
  {
   "cell_type": "markdown",
   "metadata": {},
   "source": [
    "# 點開網站"
   ]
  },
  {
   "cell_type": "code",
   "execution_count": 54,
   "metadata": {
    "collapsed": true
   },
   "outputs": [],
   "source": [
    "url = \"https://tw.news.yahoo.com/sports/\""
   ]
  },
  {
   "cell_type": "code",
   "execution_count": 55,
   "metadata": {
    "collapsed": true
   },
   "outputs": [],
   "source": [
    "res = requests.get(url)"
   ]
  },
  {
   "cell_type": "code",
   "execution_count": 56,
   "metadata": {
    "collapsed": true
   },
   "outputs": [],
   "source": [
    "S = PyQuery(res.text)"
   ]
  },
  {
   "cell_type": "code",
   "execution_count": 61,
   "metadata": {
    "collapsed": false
   },
   "outputs": [
    {
     "name": "stdout",
     "output_type": "stream",
     "text": [
      "[u'https://tw.news.yahoo.com/sports/\\u4e2d\\u83ef\\u8077\\u68d2-\\u4e2d\\u4fe1\\u5144\\u5f1f-\\u96d6\\u7136\\u4e0d\\u662f\\u6bcf\\u5929\\u8d0f-\\u4f46\\u662f\\u4eca\\u5e74-\\u5b9a\\u8d0f-112016463.html', u'https://tw.news.yahoo.com/sports/\\u7e3d\\u51a0\\u8ecd\\u8cfd\\u5144\\u5f1f\\u6d32\\u969b\\u4e3b\\u5834-\\u5317\\u4e2d\\u5357\\u8a2d\\u63a5\\u99c1\\u8eca-085610004--mlb.html', u'https://tw.news.yahoo.com/sports/\\u4e2d\\u8077-\\u5168\\u733f\\u4e3b\\u5834\\u7e3d\\u51a0\\u8ecd\\u6230-10\\u865f\\u968a\\u53cb\\u912d\\u7fbd\\u7fd4\\u958b\\u7403-090132649--mlb.html', u'https://tw.news.yahoo.com/sports/\\u9577\\u8000\\u76c3-17\\u6b72\\u58fd\\u661f\\u674e\\u5bb6\\u617717\\u5206-\\u7387\\u5357\\u5c71\\u6649\\u56db\\u5f37-101649058--nba.html', u'https://tw.news.yahoo.com/sports/\\u7fbd\\u7403-\\u82e6\\u62303\\u5c40\\u6649\\u7d1a-\\u738b\\u5b50\\u7dad-\\u5ea6\\u8166\\u888b\\u7576\\u6a5f-084301084.html', u'https://tw.news.yahoo.com/sports/\\u912d\\u55bb\\u8ed2\\u64ca\\u6557\\u5433\\u73c8\\u6176-\\u596acbsa\\u51a0\\u8ecd-100613945.html', u'https://tw.news.yahoo.com/sports/\\u529b\\u62fc\\u7e3d\\u51a0\\u8ecd-\\u4e2d\\u4fe1\\u7403\\u5718\\u796d1500\\u842c\\u734e\\u91d1-113115391--mlb.html', u'https://tw.news.yahoo.com/sports/\\u68d2\\u7403\\u6a02\\u571217\\u65e5\\u958b\\u5712-mlb\\u963f\\u5951\\u723e\\u73fe\\u8eab-114916373--mlb.html', u'https://tw.news.yahoo.com/sports/mlb-\\u5305\\u723a\\u7529\\u68d2\\u592a\\u56c2\\u5f35-\\u88ab\\u8b4f-\\u8ddf\\u5c0f\\u5b69-\\u6a23-054655760.html', u'https://tw.news.yahoo.com/sports/\\u9577\\u8000\\u76c3-\\u5357\\u6e56-\\u5317-\\u5973\\u672b\\u5f79\\u96d9\\u8d0f-\\u967d\\u660e-\\u5357\\u5c71\\u4e5f\\u6709\\u6536\\u7a6b-073701758--nba.html', u'https://tw.news.yahoo.com/sports/\\u9ad8\\u723e\\u592b-\\u695a\\u96c5\\u5e15\\u5eb7\\u8d85\\u524d\\u738b\\u60c5\\u8a13-\\u6fb3\\u9580\\u516c\\u958b\\u8cfd-\\u99ac\\u7576\\u5148-005310290--golf.html', u'https://tw.news.yahoo.com/sports/lol\\u516b\\u5f37ahq\\u6253\\u738b-\\u9069\\u9022\\u968a\\u9577\\u897f\\u9580\\u751f\\u65e5-053205700.html', u'https://tw.news.yahoo.com/sports/mlb-\\u5305\\u723a\\u7529\\u68d2\\u592a\\u56c2\\u5f35-\\u88ab\\u8b4f-\\u8ddf\\u5c0f\\u5b69-\\u6a23-054655760.html', u'https://tw.news.yahoo.com/sports/\\u53f0\\u7063\\u5927\\u8cfd\\u6843\\u733f\\u62da\\u9023\\u9738-\\u5144\\u5f1f\\u5fa9\\u4ec7-\\u6230-004100790--mlb.html', u'https://tw.news.yahoo.com/sports/\\u5927\\u90fd\\u67033\\u6bd42\\u9053\\u5947-\\u5c07\\u548c\\u5c0f\\u718a\\u722d\\u596a\\u570b\\u806f\\u51a0\\u8ecd-032800831--mlb.html', u'https://tw.news.yahoo.com/sports/mlb\\u68d2\\u7403\\u6a02\\u5712\\u9996\\u767b\\u53f0-\\u9054\\u7f8e\\u9080\\u660e\\u661f\\u6295\\u624b-\\u6559\\u4f60\\u8b8a\\u8eab\\u5f37\\u6253\\u738b-033000496.html', u'https://tw.news.yahoo.com/sports/mlb-\\u5927\\u90fd\\u6703\\u81f4\\u52dd\\u8f5f-\\u6b8a\\u6b7b\\u6230\\u6dd8\\u6c70\\u9053\\u5947-033920317.html', u'https://tw.news.yahoo.com/sports/\\u5927\\u90fd\\u67033\\u6bd42\\u64ca\\u6557\\u9053\\u5947-\\u5c07\\u548c\\u5c0f\\u718a\\u722d\\u596a\\u570b\\u806f\\u51a0\\u8ecd-035457382--mlb.html', u'https://tw.news.yahoo.com/sports/nba\\u71b1\\u8eab\\u8cfd-\\u67ef\\u745e\\u5c55\\u73fe\\u8d85\\u9ad8\\u6548\\u80fd-\\u52c7\\u58eb\\u5927\\u52dd\\u706b\\u7bad-045727709--nba.html', u'https://tw.news.yahoo.com/sports/\\u6b50\\u767b\\u672a\\u812b\\u96aa-\\u5b58\\u6d3b\\u6a5f\\u7387\\u50c5-\\u534a-215008663.html', u'https://tw.news.yahoo.com/sports/nba\\u71b1\\u8eab\\u8cfd-\\u8a79\\u59c6\\u65af\\u7f3a\\u9663\\u55ac\\u6cbb17-8-\\u6e9c\\u99ac\\u9001\\u9a0e\\u58eb5\\u9023\\u6557-044434337--nba.html', u'https://tw.news.yahoo.com/sports/\\u9577\\u8000\\u76c3-\\u4e09\\u7bad\\u982d-58\\u5206-\\u5357\\u6e56\\u514b\\u5317-\\u5973\\u7dca\\u54ac\\u6de1\\u6c34\\u5546\\u5de5-141552518--nba.html', u'https://tw.news.yahoo.com/sports/nba\\u71b1\\u8eab\\u8cfd-\\u674e\\u7d0d\\u5fb720\\u5206-\\u99ac\\u523a\\u7b2c\\u4e09\\u7bc0\\u5d29\\u76e4\\u8f38\\u8001\\u9df93\\u9023\\u6557-041820283--nba.html', u'https://tw.news.yahoo.com/sports/nba-\\u52c7\\u58eb\\u88c1\\u6389\\u5f8c\\u885b\\u672c-\\u6208\\u767b-024515937--nba.html', u'https://tw.news.yahoo.com/sports/\\u9ad8\\u723e\\u592b-\\u67ef\\u85a9\\u723e\\u8332\\u53c8\\u6436\\u982d\\u91c7-\\u9023\\u5169\\u5e74\\u8461\\u8404\\u7259\\u958b\\u5c40\\u9818\\u5148-035911639--golf.html', u'https://tw.news.yahoo.com/sports/\\u97d3\\u4e9e\\u9280\\u884c\\u9326\\u6a19\\u8cfd\\u6b21\\u8f2a-\\u66fe\\u96c5\\u59ae\\u885d\\u4e0a\\u7b2c5-091510628--golf.html', u'https://tw.news.yahoo.com/sports/\\u9ad8\\u723e\\u592b-\\u666f\\u65b0\\u540d\\u4eba\\u805a\\u843d\\u63d0\\u4f9b\\u96b1\\u79c1\\u5305\\u5ec2-\\u7df4\\u7403\\u4e0d\\u53d7\\u5e72\\u64fe-044810861--golf.html', u'https://tw.news.yahoo.com/sports/\\u9ad8\\u723e\\u592b-\\u6734\\u57ce\\u70ab\\u72c2\\u98c6\\u516d\\u5341\\u4e8c\\u687f-\\u5e73\\u97d3\\u4e9e\\u9326\\u6a19\\u8cfd\\u6700\\u4f4e\\u7d00\\u9304-140420774--golf.html', u'https://tw.news.yahoo.com/sports/\\u97d3\\u4e9e\\u9280\\u8cfd\\u9996\\u8f2a-\\u96c5\\u59ae\\u843d\\u5f8c8\\u687f-215008060--golf.html', u'https://tw.news.yahoo.com/sports/\\u9ad8\\u723e\\u592b-\\u9673\\u4e4b\\u654f\\u9032\\u8ecdncaa-\\u76ee\\u524d\\u696d\\u9918\\u4e16\\u754c\\u6392\\u540d\\u4e03\\u5341\\u4e5d-010309803--golf.html', u'https://tw.news.yahoo.com/sports/\\u53f0\\u7063\\u7db2\\u7403-\\u54e5\\u76e7\\u5f65\\u52f3-\\u4e0a\\u6d77\\u8ffd\\u6797\\u4f86\\u8702-174828629--nba.html', u'https://tw.news.yahoo.com/sports/\\u7f8e\\u7db2\\u671f\\u9593\\u5728\\u66f4\\u8863\\u5ba4\\u6454\\u50b7-\\u5e03\\u590f\\u63a7\\u544a\\u7f8e\\u7db2\\u5354\\u6703-033528120--ten.html', u'https://tw.news.yahoo.com/sports/\\u4e0a\\u6d77\\u5927\\u5e2b\\u8cfd-\\u7a46\\u745e\\u9006\\u8f49\\u4f0a\\u65af\\u7d0d-\\u6649\\u7d1a\\u516b\\u5f37-032317920--ten.html', u'https://tw.news.yahoo.com/sports/\\u9999\\u6e2f\\u7db2\\u8cfd-20\\u6b72\\u5c0f\\u5c07\\u674e\\u4e9e\\u8ed2\\u5e36\\u50b7\\u4e09\\u76e4\\u60dc\\u8ca0\\u82f1\\u570b\\u524d-\\u59ca-163354991--ten.html', u'https://tw.news.yahoo.com/sports/\\u7db2\\u7403-\\u7206\\u51b7\\u9000-\\u8cbb\\u7238-\\u897f\\u73ed\\u7259\\u9ed1\\u99ac-\\u6c92\\u60f3\\u904e\\u6703\\u8d0f-094348957.html', u'https://tw.news.yahoo.com/sports/\\u4e0a\\u6d77\\u5927\\u5e2b\\u8cfd-\\u8cbb\\u5fb7\\u52d2\\u9996\\u5834\\u906d\\u7206\\u51b7\\u51fa\\u5c40-\\u885b\\u5195\\u51a0\\u8ecd\\u5931\\u5229-172747252--ten.html', u'https://tw.news.yahoo.com/sports/\\u82f1\\u96c4\\u806f\\u76df8\\u5f37\\u8cfd\\u6557-\\u9583\\u96fb\\u72fc-\\u76e1\\u529b\\u7121\\u907a\\u61be-004900299.html', u'https://tw.news.yahoo.com/sports/\\u8db3\\u7403-\\u975e\\u8db3\\u5148\\u751f\\u63d0\\u540d\\u51fa\\u7210-\\u4e9e\\u4e9e\\u5716\\u96f7\\u5c0b\\u6c425\\u9023\\u9738-031759860.html', u'https://tw.news.yahoo.com/sports/\\u8db3\\u7403-\\u4ee3\\u50b3\\u5947\\u7d42\\u843d\\u5e55-38\\u6b72\\u52de\\u723e11\\u6708\\u6b63\\u5f0f\\u9000\\u5f79-033814924.html', u'https://tw.news.yahoo.com/sports/\\u912d\\u55bb\\u8ed2\\u64ca\\u6557\\u5433\\u73c8\\u6176-\\u596acbsa\\u51a0\\u8ecd-100613945.html', u'https://tw.news.yahoo.com/sports/\\u7fbd\\u7403-\\u53f0\\u7063\\u7537\\u55ae\\u5468\\u5929\\u6210-\\u7537\\u96d9\\u674e\\u8521\\u914d\\u540c\\u95d6\\u4e39\\u9ea5\\u9802\\u7d1a\\u8cfd\\u516b\\u5f37-040527826--spt.html', u'https://tw.news.yahoo.com/sports/\\u82f1\\u8d85-2017\\u5378\\u5175\\u7b26-\\u6eab\\u683c-\\u6703\\u5728\\u69cd\\u624b\\u72c0\\u614b\\u597d\\u7684\\u6642\\u5019\\u96e2\\u958b-042538055.html', u'https://tw.news.yahoo.com/sports/\\u9ad8\\u723e\\u592b-\\u6d2a\\u5065\\u582f\\u98c6\\u516d\\u5341\\u56db\\u687f-\\u6fb3\\u9580\\u4e09\\u5341\\u516d\\u6d1e\\u8e8d\\u5c45\\u9818\\u5148-162309031--golf.html', u'https://tw.news.yahoo.com/sports/\\u4e16\\u8db3\\u4e9e\\u6d32\\u5340\\u8cc7\\u683c\\u8cfd-11\\u670817\\u65e5\\u9ad8\\u96c4\\u6230\\u4f0a\\u62c9\\u514b-\\u9580\\u7968\\u958b\\u8ce3-160828833--sow.html', u'https://tw.news.yahoo.com/sports/\\u9ad8\\u723e\\u592b-\\u76e7\\u5efa\\u9806\\u88dc\\u9032\\u8056\\u5b89\\u6771\\u5c3c\\u5967-\\u8499\\u54e5\\u99ac\\u5229-\\u99ac\\u683c\\u722d\\u9f8d\\u982d-151310115--golf.html', u'https://tw.news.yahoo.com/sports/\\u9ad8\\u723e\\u592b-\\u91d1\\u9df9\\u8cfd\\u7b2c\\u4e8c\\u5929-\\u8449\\u5049\\u5fd7-\\u6d2a\\u99ff\\u525b\\u4e26\\u5217\\u9818\\u5148-150310624--golf.html', u'https://tw.news.yahoo.com/sports/\\u9577\\u8000\\u76c3-\\u6de1\\u6c345\\u9023\\u52dd\\u5c01\\u540e-\\u5433\\u4f91\\u8431mvp-\\u9673\\u7f8e\\u8389\\u6700\\u4f73\\u6559\\u7df4-141736421--nba.html', u'https://tw.news.yahoo.com/sports/\\u6fb3\\u9580\\u8cfd\\u6b21\\u8f2a7\\u9ce50\\u67cf\\u5fcc-\\u6d2a\\u5065\\u582f\\u8e8d\\u9818\\u5148-141619417--golf.html', u'https://tw.news.yahoo.com/sports/\\u9577\\u8000\\u76c3-\\u5468\\u6842\\u7fbd\\u88e1\\u5916\\u901a\\u5403-\\u7387\\u5357\\u6e56\\u514b\\u80fd\\u4ec1\\u6649\\u56db\\u5f37\\u62da\\u5357\\u5c71-141316720--nba.html', u'https://tw.news.yahoo.com/sports/\\u9577\\u8000\\u76c3-\\u65c5\\u7f8e\\u5c0f\\u5c07\\u6797\\u5ead\\u8b19\\u6b78\\u968a-\\u4e2d\\u83efu16\\u6649\\u56db\\u5f37\\u8207\\u677e\\u5c71\\u7a7a\\u4e2d\\u5c0d\\u6c7a-140623680--nba.html', u'https://tw.news.yahoo.com/sports/mlb-\\u58a8\\u83f2\\u81f4\\u52dd\\u8f5f-\\u5927\\u90fd\\u6703\\u6649\\u7d1a\\u570b\\u806f\\u51a0\\u8ecd\\u6230-140323911--mlb.html', u'https://tw.news.yahoo.com/sports/\\u4e2d\\u83ef\\u8077\\u68d2-\\u5144\\u5f1fg1\\u514b\\u62c9\\u5e1d-\\u53ef\\u80fd\\u6703\\u786c\\u62da147-132700091.html']\n"
     ]
    }
   ],
   "source": [
    "print [\"https://tw.news.yahoo.com\" + url for url in S(\"a.title\").map(lambda i,e:PyQuery(e).attr(\"href\")) if url != \"#\"]"
   ]
  },
  {
   "cell_type": "code",
   "execution_count": null,
   "metadata": {
    "collapsed": true
   },
   "outputs": [],
   "source": []
  }
 ],
 "metadata": {
  "kernelspec": {
   "display_name": "Python 2",
   "language": "python",
   "name": "python2"
  },
  "language_info": {
   "codemirror_mode": {
    "name": "ipython",
    "version": 2
   },
   "file_extension": ".py",
   "mimetype": "text/x-python",
   "name": "python",
   "nbconvert_exporter": "python",
   "pygments_lexer": "ipython2",
   "version": "2.7.10"
  }
 },
 "nbformat": 4,
 "nbformat_minor": 0
}
