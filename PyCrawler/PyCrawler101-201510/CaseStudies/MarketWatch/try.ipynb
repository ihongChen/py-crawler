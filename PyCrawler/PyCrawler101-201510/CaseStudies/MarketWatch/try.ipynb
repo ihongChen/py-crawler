{
 "cells": [
  {
   "cell_type": "markdown",
   "metadata": {},
   "source": [
    "# Latest News"
   ]
  },
  {
   "cell_type": "code",
   "execution_count": null,
   "metadata": {
    "collapsed": true
   },
   "outputs": [],
   "source": []
  },
  {
   "cell_type": "code",
   "execution_count": 1,
   "metadata": {
    "collapsed": true
   },
   "outputs": [],
   "source": [
    "import requests\n",
    "from pyquery import PyQuery"
   ]
  },
  {
   "cell_type": "code",
   "execution_count": 2,
   "metadata": {
    "collapsed": false
   },
   "outputs": [],
   "source": [
    "s = requests.Session()"
   ]
  },
  {
   "cell_type": "code",
   "execution_count": 3,
   "metadata": {
    "collapsed": true
   },
   "outputs": [],
   "source": [
    "headers = {\n",
    "    \"User-Agent\":\"Mozilla/5.0 (X11; Linux x86_64) AppleWebKit/537.36 (KHTML, like Gecko) Chrome/45.0.2454.101 Safari/537.36\"\n",
    "}"
   ]
  },
  {
   "cell_type": "code",
   "execution_count": 4,
   "metadata": {
    "collapsed": true
   },
   "outputs": [],
   "source": [
    "s.headers.update(headers)"
   ]
  },
  {
   "cell_type": "code",
   "execution_count": 5,
   "metadata": {
    "collapsed": false
   },
   "outputs": [],
   "source": [
    "res1 = s.get(\"http://www.marketwatch.com/newsviewer\")"
   ]
  },
  {
   "cell_type": "code",
   "execution_count": 6,
   "metadata": {
    "collapsed": false
   },
   "outputs": [
    {
     "data": {
      "text/plain": [
       "{'Connection': 'keep-alive', 'Accept-Encoding': 'gzip, deflate', 'Accept': '*/*', 'User-Agent': 'Mozilla/5.0 (X11; Linux x86_64) AppleWebKit/537.36 (KHTML, like Gecko) Chrome/45.0.2454.101 Safari/537.36'}"
      ]
     },
     "execution_count": 6,
     "metadata": {},
     "output_type": "execute_result"
    }
   ],
   "source": [
    "s.headers"
   ]
  },
  {
   "cell_type": "code",
   "execution_count": 7,
   "metadata": {
    "collapsed": false
   },
   "outputs": [
    {
     "data": {
      "text/plain": [
       "{'kayla': 'g=ed472ce509334db58c567c5ffd55a979'}"
      ]
     },
     "execution_count": 7,
     "metadata": {},
     "output_type": "execute_result"
    }
   ],
   "source": [
    "s.cookies.get_dict()"
   ]
  },
  {
   "cell_type": "code",
   "execution_count": 8,
   "metadata": {
    "collapsed": true
   },
   "outputs": [],
   "source": [
    "S = PyQuery(res1.text)"
   ]
  },
  {
   "cell_type": "code",
   "execution_count": 10,
   "metadata": {
    "collapsed": false
   },
   "outputs": [
    {
     "name": "stdout",
     "output_type": "stream",
     "text": [
      "~~~~~~~~~~~~~~~~~~~~~\n",
      "~~~~~~~~~~~~~~~~~~~~~\n",
      "~~~~~~~~~~~~~~~~~~~~~\n",
      "~~~~~~~~~~~~~~~~~~~~~\n",
      "~~~~~~~~~~~~~~~~~~~~~\n",
      "~~~~~~~~~~~~~~~~~~~~~\n",
      "~~~~~~~~~~~~~~~~~~~~~\n",
      "~~~~~~~~~~~~~~~~~~~~~\n",
      "~~~~~~~~~~~~~~~~~~~~~\n",
      "~~~~~~~~~~~~~~~~~~~~~\n",
      "~~~~~~~~~~~~~~~~~~~~~\n",
      "~~~~~~~~~~~~~~~~~~~~~\n",
      "~~~~~~~~~~~~~~~~~~~~~\n",
      "~~~~~~~~~~~~~~~~~~~~~\n",
      "~~~~~~~~~~~~~~~~~~~~~\n",
      "~~~~~~~~~~~~~~~~~~~~~\n",
      "~~~~~~~~~~~~~~~~~~~~~\n",
      "~~~~~~~~~~~~~~~~~~~~~\n",
      "~~~~~~~~~~~~~~~~~~~~~\n",
      "~~~~~~~~~~~~~~~~~~~~~\n",
      "~~~~~~~~~~~~~~~~~~~~~\n",
      "~~~~~~~~~~~~~~~~~~~~~\n",
      "~~~~~~~~~~~~~~~~~~~~~\n",
      "~~~~~~~~~~~~~~~~~~~~~\n",
      "~~~~~~~~~~~~~~~~~~~~~\n",
      "~~~~~~~~~~~~~~~~~~~~~\n",
      "~~~~~~~~~~~~~~~~~~~~~\n",
      "~~~~~~~~~~~~~~~~~~~~~\n",
      "~~~~~~~~~~~~~~~~~~~~~\n",
      "~~~~~~~~~~~~~~~~~~~~~\n",
      "~~~~~~~~~~~~~~~~~~~~~\n",
      "~~~~~~~~~~~~~~~~~~~~~\n",
      "~~~~~~~~~~~~~~~~~~~~~\n",
      "~~~~~~~~~~~~~~~~~~~~~\n",
      "~~~~~~~~~~~~~~~~~~~~~\n",
      "~~~~~~~~~~~~~~~~~~~~~\n",
      "~~~~~~~~~~~~~~~~~~~~~\n",
      "~~~~~~~~~~~~~~~~~~~~~\n",
      "~~~~~~~~~~~~~~~~~~~~~\n",
      "~~~~~~~~~~~~~~~~~~~~~\n"
     ]
    }
   ],
   "source": [
    "for d in S(\"#mktwheadlines ol > li\").map(lambda i,e: {\"id\": PyQuery(e).attr(\"id\"),\n",
    "                                                      \"timestamp\": PyQuery(e).attr(\"timestamp\"),\n",
    "                                                      \"title\": PyQuery(e)(\".nv-text-cont\").text(),\n",
    "                                                      \"details\": PyQuery(e)(\".nv-details\").outerHtml()}):\n",
    "    print \"~~~~~~~~~~~~~~~~~~~~~\"\n",
    "    #print d"
   ]
  },
  {
   "cell_type": "code",
   "execution_count": 11,
   "metadata": {
    "collapsed": true
   },
   "outputs": [],
   "source": [
    "data = S(\"#mktwheadlines ol > li\").map(lambda i,e: {\"id\": PyQuery(e).attr(\"id\"),\n",
    "                                                      \"timestamp\": PyQuery(e).attr(\"timestamp\"),\n",
    "                                                      \"title\": PyQuery(e)(\".nv-text-cont\").text(),\n",
    "                                                      \"details\": PyQuery(e)(\".nv-details\").outerHtml()})"
   ]
  },
  {
   "cell_type": "code",
   "execution_count": 12,
   "metadata": {
    "collapsed": true
   },
   "outputs": [],
   "source": [
    "import pandas as pd"
   ]
  },
  {
   "cell_type": "code",
   "execution_count": 13,
   "metadata": {
    "collapsed": false
   },
   "outputs": [
    {
     "data": {
      "text/plain": [
       "'1187684310'"
      ]
     },
     "execution_count": 13,
     "metadata": {},
     "output_type": "execute_result"
    }
   ],
   "source": [
    "data[-1][\"id\"]"
   ]
  },
  {
   "cell_type": "code",
   "execution_count": 15,
   "metadata": {
    "collapsed": false
   },
   "outputs": [
    {
     "data": {
      "text/plain": [
       "'10/16/2015+2:52:19+PM'"
      ]
     },
     "execution_count": 15,
     "metadata": {},
     "output_type": "execute_result"
    }
   ],
   "source": [
    "data[-1][\"timestamp\"].replace(\" \",\"+\")"
   ]
  },
  {
   "cell_type": "code",
   "execution_count": 16,
   "metadata": {
    "collapsed": false
   },
   "outputs": [
    {
     "data": {
      "text/plain": [
       "[{'timestamp': '10/16/2015 10:04:40 PM', 'details': u'<div class=\"nv-details\">\\t\\t\\t\\t&#13;\\n\\t\\t\\t\\t<div>&#13;\\n\\t\\t\\t\\t\\t<img class=\"thumb\" src=\"http://s.marketwatch.com/public/resources/MWimages/MW-CJ943_DHL_dr_MA_20140625102532.jpg\">&#13;\\n\\t\\t\\t\\t\\t&#13;\\n\\t\\t\\t\\t\\t\\t<span>By Sally French</span>&#13;\\n          <span>Oct. 16, 2015, 10:05 p.m. EST</span>&#13;\\n\\t\\t\\t\\t</div>&#13;\\n\\t\\t\\t\\t<p class=\"abs\">&#13;\\n\\t\\t\\t\\tThe federal government will announce a plan within days that will require anyone who buys a drone to register it with the Department of Transportation.&#13;\\n\\t\\t\\t\\t\\t\\t\\t&#13;\\n\\t\\t\\t\\t\\t\\t\\t&#13;\\n\\t\\t\\t\\t\\t\\t<a class=\"read-more\" rel=\"nofollow\" href=\"/story/all-drones-to-require-federal-registration-2015-10-16\" target=\"_blank\">Full Story</a>&#13;\\n\\t\\t\\t\\t</p>\\t\\t\\t\\t&#13;\\n\\t\\t\\t\\t<div class=\"bgq-cont\">&#13;\\n          &#13;\\n                           &#13;\\n\\t\\t\\t\\t\\t\\t\\t      <div class=\"bgQuote   inst down\">&#13;\\n\\t\\t\\t\\t\\t\\t\\t\\t      <div class=\"comp-name\"><strong><a href=\"/investing/stock/PARRO?countrycode=FR\" target=\"_blank\">Parrot S.A.</a></strong></div>&#13;\\n                      <span class=\"bgChannel\">/quotes/zigman/163338/delayed</span>&#13;\\n\\t\\t\\t\\t\\t\\t\\t\\t      <div class=\"comp-data\">&#13;\\n\\t\\t\\t\\t\\t\\t\\t\\t\\t      <span class=\"disp symbol\"><a href=\"/investing/stock/PARRO?countrycode=FR\" target=\"_blank\">PARRO</a></span>&#13;\\n\\t\\t\\t\\t\\t\\t\\t\\t\\t      <span class=\"disp bgLast\">41.36</span> &#13;\\n\\t\\t\\t\\t\\t\\t\\t\\t\\t      <span class=\"disp bgChange\">-0.78</span>&#13;\\n\\t\\t\\t\\t\\t\\t\\t\\t\\t      <span class=\"disp bgPercentChange\">-1.85%</span>\\t\\t\\t\\t\\t\\t\\t\\t&#13;\\n\\t\\t\\t\\t\\t\\t\\t\\t      </div>&#13;\\n\\t\\t\\t\\t\\t\\t\\t\\t      <div style=\"clear:both;\"></div>\\t\\t\\t\\t\\t\\t\\t\\t\\t\\t\\t\\t\\t\\t\\t\\t&#13;\\n\\t\\t\\t\\t\\t\\t\\t\\t&#13;\\n\\t\\t\\t\\t\\t\\t\\t\\t\\t      <div duration=\"1dy\" freq=\"5mi\" class=\"chart\" symbol=\"FR:PARRO\" id=\"chart_cont1603965130\"></div>&#13;\\n\\t\\t\\t\\t\\t\\t\\t\\t\\t      <div style=\"clear:both;\"></div>\\t&#13;\\n\\t\\t\\t\\t\\t\\t\\t      </div>&#13;\\n\\t\\t\\t\\t\\t\\t\\t\\t\\t\\t\\t\\t\\t\\t\\t&#13;\\n                           &#13;\\n\\t\\t\\t\\t\\t\\t\\t      <div class=\"bgQuote   inst up\">&#13;\\n\\t\\t\\t\\t\\t\\t\\t\\t      <div class=\"comp-name\"><strong><a href=\"/investing/stock/AMZN\" target=\"_blank\">Amazon.com Inc.</a></strong></div>&#13;\\n                      <span class=\"bgChannel\">/quotes/zigman/63011/composite</span>&#13;\\n\\t\\t\\t\\t\\t\\t\\t\\t      <div class=\"comp-data\">&#13;\\n\\t\\t\\t\\t\\t\\t\\t\\t\\t      <span class=\"disp symbol\"><a href=\"/investing/stock/AMZN\" target=\"_blank\">AMZN</a></span>&#13;\\n\\t\\t\\t\\t\\t\\t\\t\\t\\t      <span class=\"disp bgLast\">570.76</span> &#13;\\n\\t\\t\\t\\t\\t\\t\\t\\t\\t      <span class=\"disp bgChange\">+8.32</span>&#13;\\n\\t\\t\\t\\t\\t\\t\\t\\t\\t      <span class=\"disp bgPercentChange\">+1.48%</span>\\t\\t\\t\\t\\t\\t\\t\\t&#13;\\n\\t\\t\\t\\t\\t\\t\\t\\t      </div>&#13;\\n\\t\\t\\t\\t\\t\\t\\t\\t      <div style=\"clear:both;\"></div>\\t\\t\\t\\t\\t\\t\\t\\t\\t\\t\\t\\t\\t\\t\\t\\t&#13;\\n\\t\\t\\t\\t\\t\\t\\t\\t&#13;\\n\\t\\t\\t\\t\\t\\t\\t\\t\\t      <div duration=\"1dy\" freq=\"5mi\" class=\"chart\" symbol=\"US:AMZN\" id=\"chart_cont1811140540\"></div>&#13;\\n\\t\\t\\t\\t\\t\\t\\t\\t\\t      <div style=\"clear:both;\"></div>\\t&#13;\\n\\t\\t\\t\\t\\t\\t\\t      </div>&#13;\\n\\t\\t\\t\\t\\t\\t\\t\\t\\t\\t\\t\\t\\t\\t\\t\\t\\t\\t\\t\\t&#13;\\n\\t\\t\\t\\t</div>&#13;\\n\\t\\t\\t</div>', 'id': '1187708781', 'title': 'All drones to require federal registration'}, {'timestamp': '10/16/2015 7:52:22 PM', 'details': u'<div class=\"nv-details\">\\t\\t\\t\\t&#13;\\n\\t\\t\\t\\t<div>&#13;\\n\\t\\t\\t\\t\\t<img class=\"thumb\" src=\"http://s.marketwatch.com/public/resources/MWimages/MW-DW595_mylitt_MA_20151016193001.jpg\">&#13;\\n\\t\\t\\t\\t\\t&#13;\\n\\t\\t\\t\\t\\t\\t<span>By Sally French</span>&#13;\\n\\t\\t\\t\\t\\t<span>The Margin</span>&#13;\\n          <span>Oct. 16, 2015, 7:52 p.m. EST</span>&#13;\\n\\t\\t\\t\\t</div>&#13;\\n\\t\\t\\t\\t<p class=\"abs\">&#13;\\n\\t\\t\\t\\tAttention \\u201cBronies,\\u201d fans of Princess Celestia and anyone who enjoys an impossibly cute dining experience: A My Little Pony Cafe is now open in the Harajuku neighborhood of Tokyo, Japan.&#13;\\n\\t\\t\\t\\t\\t\\t\\t&#13;\\n\\t\\t\\t\\t\\t\\t\\t&#13;\\n\\t\\t\\t\\t\\t\\t<a class=\"read-more\" rel=\"nofollow\" href=\"/story/a-my-little-pony-cafe-opened-in-japan-2015-10-16\" target=\"_blank\">Full Story</a>&#13;\\n\\t\\t\\t\\t</p>\\t\\t\\t\\t&#13;\\n\\t\\t\\t\\t<div class=\"bgq-cont\">&#13;\\n          &#13;\\n                           &#13;\\n\\t\\t\\t\\t\\t\\t\\t      <div class=\"bgQuote   inst up\">&#13;\\n\\t\\t\\t\\t\\t\\t\\t\\t      <div class=\"comp-name\"><strong><a href=\"/investing/stock/HAS\" target=\"_blank\">Hasbro Inc.</a></strong></div>&#13;\\n                      <span class=\"bgChannel\">/quotes/zigman/2380080/composite</span>&#13;\\n\\t\\t\\t\\t\\t\\t\\t\\t      <div class=\"comp-data\">&#13;\\n\\t\\t\\t\\t\\t\\t\\t\\t\\t      <span class=\"disp symbol\"><a href=\"/investing/stock/HAS\" target=\"_blank\">HAS</a></span>&#13;\\n\\t\\t\\t\\t\\t\\t\\t\\t\\t      <span class=\"disp bgLast\">77.78</span> &#13;\\n\\t\\t\\t\\t\\t\\t\\t\\t\\t      <span class=\"disp bgChange\">+2.45</span>&#13;\\n\\t\\t\\t\\t\\t\\t\\t\\t\\t      <span class=\"disp bgPercentChange\">+3.25%</span>\\t\\t\\t\\t\\t\\t\\t\\t&#13;\\n\\t\\t\\t\\t\\t\\t\\t\\t      </div>&#13;\\n\\t\\t\\t\\t\\t\\t\\t\\t      <div style=\"clear:both;\"></div>\\t\\t\\t\\t\\t\\t\\t\\t\\t\\t\\t\\t\\t\\t\\t\\t&#13;\\n\\t\\t\\t\\t\\t\\t\\t\\t&#13;\\n\\t\\t\\t\\t\\t\\t\\t\\t\\t      <div duration=\"1dy\" freq=\"5mi\" class=\"chart\" symbol=\"US:HAS\" id=\"chart_cont728890670\"></div>&#13;\\n\\t\\t\\t\\t\\t\\t\\t\\t\\t      <div style=\"clear:both;\"></div>\\t&#13;\\n\\t\\t\\t\\t\\t\\t\\t      </div>&#13;\\n\\t\\t\\t\\t\\t\\t\\t\\t\\t\\t\\t\\t\\t\\t\\t\\t\\t\\t\\t\\t&#13;\\n\\t\\t\\t\\t</div>&#13;\\n\\t\\t\\t</div>', 'id': '1187703449', 'title': 'A My Little Pony cafe opened in Japan'}, {'timestamp': '10/16/2015 6:46:21 PM', 'details': u'<div class=\"nv-details\">\\t\\t\\t\\t&#13;\\n\\t\\t\\t\\t<div>&#13;\\n\\t\\t\\t\\t\\t&#13;\\n\\t\\t\\t\\t\\t\\t<span>By Priya Anand</span>&#13;\\n\\t\\t\\t\\t\\t<span>Personal Finance Daily</span>&#13;\\n          <span>Oct. 16, 2015, 6:46 p.m. EST</span>&#13;\\n\\t\\t\\t\\t</div>&#13;\\n\\t\\t\\t\\t<p class=\"abs\">&#13;\\n\\t\\t\\t\\tWhy you need less sleep than you think, and a new tool to help with your college search.&#13;\\n\\t\\t\\t\\t\\t\\t\\t&#13;\\n\\t\\t\\t\\t\\t\\t\\t&#13;\\n\\t\\t\\t\\t\\t\\t<a class=\"read-more\" rel=\"nofollow\" href=\"/story/you-dont-need-that-much-sleep-and-new-help-for-your-college-search-2015-10-16\" target=\"_blank\">Full Story</a>&#13;\\n\\t\\t\\t\\t</p>\\t\\t\\t\\t&#13;\\n\\t\\t\\t</div>', 'id': '1187700113', 'title': u'You don\\u2019t need that much sleep, and new help for your college search'}, {'timestamp': '10/16/2015 6:30:42 PM', 'details': u'<div class=\"nv-details\">\\t\\t\\t\\t&#13;\\n\\t\\t\\t\\t<div>&#13;\\n\\t\\t\\t\\t\\t&#13;\\n\\t\\t\\t\\t\\t\\t<span>By Josh Beckerman</span>&#13;\\n\\t\\t\\t\\t\\t<span>The Wall Street Journal</span>&#13;\\n          <span>Oct. 16, 2015, 6:31 p.m. EST</span>&#13;\\n\\t\\t\\t\\t</div>&#13;\\n\\t\\t\\t\\t<p class=\"abs\">&#13;\\n\\t\\t\\t\\tNetwork gear company Arris Group Inc. said its pending $2.1 billion purchase of British set-top-box maker Pace PLC will be delayed due to regulatory inquiries. &#13;\\n\\t\\t\\t\\t\\t\\t\\t&#13;\\n\\t\\t\\t\\t\\t\\t\\t&#13;\\n\\t\\t\\t\\t\\t\\t<a class=\"read-more\" rel=\"nofollow\" href=\"/story/regulatory-issues-delay-arris-deal-for-pace-2015-10-16\" target=\"_blank\">Full Story</a>&#13;\\n\\t\\t\\t\\t</p>\\t\\t\\t\\t&#13;\\n\\t\\t\\t</div>', 'id': '1187699390', 'title': 'Regulatory issues delay Arris deal for Pace'}, {'timestamp': '10/16/2015 6:24:23 PM', 'details': u'<div class=\"nv-details\">\\t\\t\\t\\t&#13;\\n\\t\\t\\t\\t<div>&#13;\\n\\t\\t\\t\\t\\t&#13;\\n\\t\\t\\t\\t\\t\\t<span>By Alexandra Berzon</span>&#13;\\n\\t\\t\\t\\t\\t<span>The Wall Street Journal</span>&#13;\\n          <span>Oct. 16, 2015, 6:24 p.m. EST</span>&#13;\\n\\t\\t\\t\\t</div>&#13;\\n\\t\\t\\t\\t<p class=\"abs\">&#13;\\n\\t\\t\\t\\tThe main trade association for the fantasy-sports industry has received a grand jury subpoena in an ongoing federal investigation into the legality and practices of the fast-growing fantasy sports business, according to a person familiar with the matter. &#13;\\n\\t\\t\\t\\t\\t\\t\\t&#13;\\n\\t\\t\\t\\t\\t\\t\\t&#13;\\n\\t\\t\\t\\t\\t\\t<a class=\"read-more\" rel=\"nofollow\" href=\"/story/federal-investigation-into-daily-fantasy-sports-leads-to-subpoena-for-trade-association-2015-10-16\" target=\"_blank\">Full Story</a>&#13;\\n\\t\\t\\t\\t</p>\\t\\t\\t\\t&#13;\\n\\t\\t\\t</div>', 'id': '1187698985', 'title': 'Federal investigation into daily fantasy sports leads to subpoena for trade association'}, {'timestamp': '10/16/2015 5:57:37 PM', 'details': u'<div class=\"nv-details\">\\t\\t\\t\\t&#13;\\n\\t\\t\\t\\t<div>&#13;\\n\\t\\t\\t\\t\\t&#13;\\n\\t\\t\\t\\t\\t\\t<span>By Priya Anand</span>&#13;\\n          <span>Oct. 16, 2015, 5:58 p.m. EST</span>&#13;\\n\\t\\t\\t\\t</div>&#13;\\n\\t\\t\\t\\t<p class=\"abs\">&#13;\\n\\t\\t\\t\\tFinancial firms with inadequate cybersecurity measures may face cases from regulators.&#13;\\n\\t\\t\\t\\t\\t\\t\\t&#13;\\n\\t\\t\\t\\t\\t\\t\\t&#13;\\n\\t\\t\\t\\t\\t\\t<a class=\"read-more\" rel=\"nofollow\" href=\"/story/a-crackdown-is-coming-on-firms-with-lax-cybersecurity-2015-10-16\" target=\"_blank\">Full Story</a>&#13;\\n\\t\\t\\t\\t</p>\\t\\t\\t\\t&#13;\\n\\t\\t\\t</div>', 'id': '1187697578', 'title': 'A crackdown is coming on firms with lax cybersecurity'}, {'timestamp': '10/16/2015 5:49:49 PM', 'details': u'<div class=\"nv-details\">\\t\\t\\t\\t&#13;\\n\\t\\t\\t\\t<div>&#13;\\n\\t\\t\\t\\t\\t&#13;\\n\\t\\t\\t\\t\\t\\t<span>By Claudia Assis</span>&#13;\\n          <span>Oct. 16, 2015, 5:50 p.m. EST</span>&#13;\\n\\t\\t\\t\\t</div>&#13;\\n\\t\\t\\t\\t<p class=\"abs\">&#13;\\n\\t\\t\\t\\tMatch Group Inc. filed for an initial public offering Friday, seeking to sell at least $100 million worth of shares. The company behind several dating sites, including Tinder, OKCupid, and Match, said it had 4.7 million paid members and about 59 million monthly active...&#13;\\n\\t\\t\\t\\t\\t\\t\\t&#13;\\n\\t\\t\\t\\t\\t\\t\\t&#13;\\n\\t\\t\\t\\t\\t\\t<a class=\"read-more\" rel=\"nofollow\" href=\"/story/tinder-okcupid-parent-match-group-files-for-ipo-2015-10-16\" target=\"_blank\">Full Story</a>&#13;\\n\\t\\t\\t\\t</p>\\t\\t\\t\\t&#13;\\n\\t\\t\\t\\t<div class=\"bgq-cont\">&#13;\\n          &#13;\\n                           &#13;\\n\\t\\t\\t\\t\\t\\t\\t      <div class=\"bgQuote   inst up\">&#13;\\n\\t\\t\\t\\t\\t\\t\\t\\t      <div class=\"comp-name\"><strong><a href=\"/investing/stock/IACI\" target=\"_blank\">IAC/InterActiveCorp.</a></strong></div>&#13;\\n                      <span class=\"bgChannel\">/quotes/zigman/111865/composite</span>&#13;\\n\\t\\t\\t\\t\\t\\t\\t\\t      <div class=\"comp-data\">&#13;\\n\\t\\t\\t\\t\\t\\t\\t\\t\\t      <span class=\"disp symbol\"><a href=\"/investing/stock/IACI\" target=\"_blank\">IACI</a></span>&#13;\\n\\t\\t\\t\\t\\t\\t\\t\\t\\t      <span class=\"disp bgLast\">71.37</span> &#13;\\n\\t\\t\\t\\t\\t\\t\\t\\t\\t      <span class=\"disp bgChange\">+0.60</span>&#13;\\n\\t\\t\\t\\t\\t\\t\\t\\t\\t      <span class=\"disp bgPercentChange\">+0.85%</span>\\t\\t\\t\\t\\t\\t\\t\\t&#13;\\n\\t\\t\\t\\t\\t\\t\\t\\t      </div>&#13;\\n\\t\\t\\t\\t\\t\\t\\t\\t      <div style=\"clear:both;\"></div>\\t\\t\\t\\t\\t\\t\\t\\t\\t\\t\\t\\t\\t\\t\\t\\t&#13;\\n\\t\\t\\t\\t\\t\\t\\t\\t&#13;\\n\\t\\t\\t\\t\\t\\t\\t\\t\\t      <div duration=\"1dy\" freq=\"5mi\" class=\"chart\" symbol=\"US:IACI\" id=\"chart_cont1293544944\"></div>&#13;\\n\\t\\t\\t\\t\\t\\t\\t\\t\\t      <div style=\"clear:both;\"></div>\\t&#13;\\n\\t\\t\\t\\t\\t\\t\\t      </div>&#13;\\n\\t\\t\\t\\t\\t\\t\\t\\t\\t\\t\\t\\t\\t\\t\\t\\t\\t\\t\\t\\t&#13;\\n\\t\\t\\t\\t</div>&#13;\\n\\t\\t\\t</div>', 'id': '1187697208', 'title': 'Tinder, OKCupid parent Match Group files for IPO'}, {'timestamp': '10/16/2015 5:42:42 PM', 'details': u'<div class=\"nv-details\">\\t\\t\\t\\t&#13;\\n\\t\\t\\t\\t<div>&#13;\\n\\t\\t\\t\\t\\t&#13;\\n\\t\\t\\t\\t\\t\\t<span>By Ben Dummett </span>&#13;\\n          <span>Oct. 16, 2015, 5:43 p.m. EST</span>&#13;\\n\\t\\t\\t\\t</div>&#13;\\n\\t\\t\\t\\t<p class=\"abs\">&#13;\\n\\t\\t\\t\\tBombardier Inc. remains focused on filing for an initial public offering in the fourth-quarter to sell a minority stake of its train business depending on market conditions, John Paul Macdonald, a spokesman for the Canadian train and plane manufacturer said Friday.&#13;\\n\\t\\t\\t\\t\\t\\t\\t&#13;\\n\\t\\t\\t\\t\\t\\t\\t&#13;\\n\\t\\t\\t\\t\\t\\t<a class=\"read-more\" rel=\"nofollow\" href=\"/story/bombardier-still-aiming-for-fourth-quarter-ipo-filing-for-rail-unit-2015-10-16-171034242\" target=\"_blank\">Full Story</a>&#13;\\n\\t\\t\\t\\t</p>\\t\\t\\t\\t&#13;\\n\\t\\t\\t</div>', 'id': '1187696831', 'title': 'Bombardier still aiming for fourth-quarter IPO filing for rail unit'}, {'timestamp': '10/16/2015 5:31:00 PM', 'details': u'<div class=\"nv-details\">\\t\\t\\t\\t\\t\\t\\t\\t&#13;\\n\\t\\t\\t</div>', 'id': '1187696149', 'title': 'Match Group Inc. is company behind several dating sites'}, {'timestamp': '10/16/2015 5:29:11 PM', 'details': u'<div class=\"nv-details\">\\t\\t\\t\\t\\t\\t\\t\\t&#13;\\n\\t\\t\\t</div>', 'id': '1187696054', 'title': 'Match Group Inc. files for IPO'}, {'timestamp': '10/16/2015 5:28:18 PM', 'details': u'<div class=\"nv-details\">\\t\\t\\t\\t&#13;\\n\\t\\t\\t\\t<div>&#13;\\n\\t\\t\\t\\t\\t<img class=\"thumb\" src=\"http://s.marketwatch.com/public/resources/MWimages/MW-DW585_Back_t_MA_20151016152604.jpg\">&#13;\\n\\t\\t\\t\\t\\t&#13;\\n\\t\\t\\t\\t\\t\\t<span>By Kathleen Burke</span>&#13;\\n          <span>Oct. 16, 2015, 5:28 p.m. EST</span>&#13;\\n\\t\\t\\t\\t</div>&#13;\\n\\t\\t\\t\\t<p class=\"abs\">&#13;\\n\\t\\t\\t\\tWednesday marks \\u2018Back to the Future Day\\u2019 and companies are getting creative to celebrate.&#13;\\n\\t\\t\\t\\t\\t\\t\\t&#13;\\n\\t\\t\\t\\t\\t\\t\\t&#13;\\n\\t\\t\\t\\t\\t\\t<a class=\"read-more\" rel=\"nofollow\" href=\"/story/retailers-take-consumers-back-to-the-future-2015-10-16\" target=\"_blank\">Full Story</a>&#13;\\n\\t\\t\\t\\t</p>\\t\\t\\t\\t&#13;\\n\\t\\t\\t\\t<div class=\"bgq-cont\">&#13;\\n          &#13;\\n                           &#13;\\n\\t\\t\\t\\t\\t\\t\\t      <div class=\"bgQuote   inst down\">&#13;\\n\\t\\t\\t\\t\\t\\t\\t\\t      <div class=\"comp-name\"><strong><a href=\"/investing/stock/WMT\" target=\"_blank\">Wal-Mart Stores Inc.</a></strong></div>&#13;\\n                      <span class=\"bgChannel\">/quotes/zigman/245476/composite</span>&#13;\\n\\t\\t\\t\\t\\t\\t\\t\\t      <div class=\"comp-data\">&#13;\\n\\t\\t\\t\\t\\t\\t\\t\\t\\t      <span class=\"disp symbol\"><a href=\"/investing/stock/WMT\" target=\"_blank\">WMT</a></span>&#13;\\n\\t\\t\\t\\t\\t\\t\\t\\t\\t      <span class=\"disp bgLast\">58.89</span> &#13;\\n\\t\\t\\t\\t\\t\\t\\t\\t\\t      <span class=\"disp bgChange\">-0.44</span>&#13;\\n\\t\\t\\t\\t\\t\\t\\t\\t\\t      <span class=\"disp bgPercentChange\">-0.74%</span>\\t\\t\\t\\t\\t\\t\\t\\t&#13;\\n\\t\\t\\t\\t\\t\\t\\t\\t      </div>&#13;\\n\\t\\t\\t\\t\\t\\t\\t\\t      <div style=\"clear:both;\"></div>\\t\\t\\t\\t\\t\\t\\t\\t\\t\\t\\t\\t\\t\\t\\t\\t&#13;\\n\\t\\t\\t\\t\\t\\t\\t\\t&#13;\\n\\t\\t\\t\\t\\t\\t\\t\\t\\t      <div duration=\"1dy\" freq=\"5mi\" class=\"chart\" symbol=\"US:WMT\" id=\"chart_cont1240477934\"></div>&#13;\\n\\t\\t\\t\\t\\t\\t\\t\\t\\t      <div style=\"clear:both;\"></div>\\t&#13;\\n\\t\\t\\t\\t\\t\\t\\t      </div>&#13;\\n\\t\\t\\t\\t\\t\\t\\t\\t\\t\\t\\t\\t\\t\\t\\t&#13;\\n                           &#13;\\n\\t\\t\\t\\t\\t\\t\\t      <div class=\"bgQuote   inst up\">&#13;\\n\\t\\t\\t\\t\\t\\t\\t\\t      <div class=\"comp-name\"><strong><a href=\"/investing/stock/PEP\" target=\"_blank\">PepsiCo Inc.</a></strong></div>&#13;\\n                      <span class=\"bgChannel\">/quotes/zigman/238082/composite</span>&#13;\\n\\t\\t\\t\\t\\t\\t\\t\\t      <div class=\"comp-data\">&#13;\\n\\t\\t\\t\\t\\t\\t\\t\\t\\t      <span class=\"disp symbol\"><a href=\"/investing/stock/PEP\" target=\"_blank\">PEP</a></span>&#13;\\n\\t\\t\\t\\t\\t\\t\\t\\t\\t      <span class=\"disp bgLast\">99.70</span> &#13;\\n\\t\\t\\t\\t\\t\\t\\t\\t\\t      <span class=\"disp bgChange\">+1.42</span>&#13;\\n\\t\\t\\t\\t\\t\\t\\t\\t\\t      <span class=\"disp bgPercentChange\">+1.44%</span>\\t\\t\\t\\t\\t\\t\\t\\t&#13;\\n\\t\\t\\t\\t\\t\\t\\t\\t      </div>&#13;\\n\\t\\t\\t\\t\\t\\t\\t\\t      <div style=\"clear:both;\"></div>\\t\\t\\t\\t\\t\\t\\t\\t\\t\\t\\t\\t\\t\\t\\t\\t&#13;\\n\\t\\t\\t\\t\\t\\t\\t\\t&#13;\\n\\t\\t\\t\\t\\t\\t\\t\\t\\t      <div duration=\"1dy\" freq=\"5mi\" class=\"chart\" symbol=\"US:PEP\" id=\"chart_cont1596708389\"></div>&#13;\\n\\t\\t\\t\\t\\t\\t\\t\\t\\t      <div style=\"clear:both;\"></div>\\t&#13;\\n\\t\\t\\t\\t\\t\\t\\t      </div>&#13;\\n\\t\\t\\t\\t\\t\\t\\t\\t\\t\\t\\t\\t\\t\\t\\t\\t\\t\\t\\t\\t&#13;\\n\\t\\t\\t\\t</div>&#13;\\n\\t\\t\\t</div>', 'id': '1187696024', 'title': u'Retailers take consumers \\u2018Back to the Future\\u2019'}, {'timestamp': '10/16/2015 5:20:03 PM', 'details': u'<div class=\"nv-details\">\\t\\t\\t\\t&#13;\\n\\t\\t\\t\\t<div>&#13;\\n\\t\\t\\t\\t\\t<img class=\"thumb\" src=\"http://s.marketwatch.com/public/resources/MWimages/MW-DW450_walmar_MA_20151015040549.jpg\">&#13;\\n\\t\\t\\t\\t\\t&#13;\\n\\t\\t\\t\\t\\t\\t<span>By Sue Chang</span>&#13;\\n\\t\\t\\t\\t\\t<span>Market Extra</span>&#13;\\n          <span>Oct. 16, 2015, 5:20 p.m. EST</span>&#13;\\n\\t\\t\\t\\t</div>&#13;\\n\\t\\t\\t\\t<p class=\"abs\">&#13;\\n\\t\\t\\t\\tRetail and economic bellwether Wal-Mart Stores sank 12% this week, its worst weekly percentage drop since October 2008, after releasing a downbeat earnings outlook for fiscal 2017.&#13;\\n\\t\\t\\t\\t\\t\\t\\t&#13;\\n\\t\\t\\t\\t\\t\\t\\t&#13;\\n\\t\\t\\t\\t\\t\\t<a class=\"read-more\" rel=\"nofollow\" href=\"/story/bellwether-wal-mart-suffers-worst-week-since-2008-2015-10-16\" target=\"_blank\">Full Story</a>&#13;\\n\\t\\t\\t\\t</p>\\t\\t\\t\\t&#13;\\n\\t\\t\\t\\t<div class=\"bgq-cont\">&#13;\\n          &#13;\\n                           &#13;\\n\\t\\t\\t\\t\\t\\t\\t      <div class=\"bgQuote   inst up\">&#13;\\n\\t\\t\\t\\t\\t\\t\\t\\t      <div class=\"comp-name\"><strong><a href=\"/investing/stock/DJIA\" target=\"_blank\">Dow Jones Industrial Average</a></strong></div>&#13;\\n                      <span class=\"bgChannel\">/quotes/zigman/627449/realtime</span>&#13;\\n\\t\\t\\t\\t\\t\\t\\t\\t      <div class=\"comp-data\">&#13;\\n\\t\\t\\t\\t\\t\\t\\t\\t\\t      <span class=\"disp symbol\"><a href=\"/investing/stock/DJIA\" target=\"_blank\">DJIA</a></span>&#13;\\n\\t\\t\\t\\t\\t\\t\\t\\t\\t      <span class=\"disp bgLast\">17,215.97</span> &#13;\\n\\t\\t\\t\\t\\t\\t\\t\\t\\t      <span class=\"disp bgChange\">+74.22</span>&#13;\\n\\t\\t\\t\\t\\t\\t\\t\\t\\t      <span class=\"disp bgPercentChange\">+0.43%</span>\\t\\t\\t\\t\\t\\t\\t\\t&#13;\\n\\t\\t\\t\\t\\t\\t\\t\\t      </div>&#13;\\n\\t\\t\\t\\t\\t\\t\\t\\t      <div style=\"clear:both;\"></div>\\t\\t\\t\\t\\t\\t\\t\\t\\t\\t\\t\\t\\t\\t\\t\\t&#13;\\n\\t\\t\\t\\t\\t\\t\\t\\t&#13;\\n\\t\\t\\t\\t\\t\\t\\t\\t\\t      <div duration=\"1dy\" freq=\"5mi\" class=\"chart\" symbol=\"US:DJIA\" id=\"chart_cont70394702\"></div>&#13;\\n\\t\\t\\t\\t\\t\\t\\t\\t\\t      <div style=\"clear:both;\"></div>\\t&#13;\\n\\t\\t\\t\\t\\t\\t\\t      </div>&#13;\\n\\t\\t\\t\\t\\t\\t\\t\\t\\t\\t\\t\\t\\t\\t\\t&#13;\\n                           &#13;\\n\\t\\t\\t\\t\\t\\t\\t      <div class=\"bgQuote   inst down\">&#13;\\n\\t\\t\\t\\t\\t\\t\\t\\t      <div class=\"comp-name\"><strong><a href=\"/investing/stock/WMT\" target=\"_blank\">Wal-Mart Stores Inc.</a></strong></div>&#13;\\n                      <span class=\"bgChannel\">/quotes/zigman/245476/composite</span>&#13;\\n\\t\\t\\t\\t\\t\\t\\t\\t      <div class=\"comp-data\">&#13;\\n\\t\\t\\t\\t\\t\\t\\t\\t\\t      <span class=\"disp symbol\"><a href=\"/investing/stock/WMT\" target=\"_blank\">WMT</a></span>&#13;\\n\\t\\t\\t\\t\\t\\t\\t\\t\\t      <span class=\"disp bgLast\">58.89</span> &#13;\\n\\t\\t\\t\\t\\t\\t\\t\\t\\t      <span class=\"disp bgChange\">-0.44</span>&#13;\\n\\t\\t\\t\\t\\t\\t\\t\\t\\t      <span class=\"disp bgPercentChange\">-0.74%</span>\\t\\t\\t\\t\\t\\t\\t\\t&#13;\\n\\t\\t\\t\\t\\t\\t\\t\\t      </div>&#13;\\n\\t\\t\\t\\t\\t\\t\\t\\t      <div style=\"clear:both;\"></div>\\t\\t\\t\\t\\t\\t\\t\\t\\t\\t\\t\\t\\t\\t\\t\\t&#13;\\n\\t\\t\\t\\t\\t\\t\\t\\t&#13;\\n\\t\\t\\t\\t\\t\\t\\t\\t\\t      <div duration=\"1dy\" freq=\"5mi\" class=\"chart\" symbol=\"US:WMT\" id=\"chart_cont1240477934\"></div>&#13;\\n\\t\\t\\t\\t\\t\\t\\t\\t\\t      <div style=\"clear:both;\"></div>\\t&#13;\\n\\t\\t\\t\\t\\t\\t\\t      </div>&#13;\\n\\t\\t\\t\\t\\t\\t\\t\\t\\t\\t\\t\\t\\t\\t\\t\\t\\t\\t\\t\\t&#13;\\n\\t\\t\\t\\t</div>&#13;\\n\\t\\t\\t</div>', 'id': '1187695274', 'title': 'Bellwether Wal-Mart suffers worst week since 2008'}, {'timestamp': '10/16/2015 5:14:51 PM', 'details': u'<div class=\"nv-details\">\\t\\t\\t\\t&#13;\\n\\t\\t\\t\\t<div>&#13;\\n\\t\\t\\t\\t\\t&#13;\\n\\t\\t\\t\\t\\t\\t<span>By MarketWatch.com</span>&#13;\\n          <span>Oct. 16, 2015, 5:15 p.m. EST</span>&#13;\\n\\t\\t\\t\\t</div>&#13;\\n\\t\\t\\t\\t<p class=\"abs\">&#13;\\n\\t\\t\\t\\tSyngenta AG is confronting more frustration among some shareholders as the Swiss agribusiness company struggles with persistent challenges in its pesticide and seed business following its rebuff this summer of a takeover proposal from rival Monsanto Co.&#13;\\n\\t\\t\\t\\t\\t\\t\\t&#13;\\n\\t\\t\\t\\t\\t\\t\\t&#13;\\n\\t\\t\\t\\t\\t\\t<a class=\"read-more\" rel=\"nofollow\" href=\"/story/syngenta-investors-agitate-after-monsanto-bid-2015-10-16\" target=\"_blank\">Full Story</a>&#13;\\n\\t\\t\\t\\t</p>\\t\\t\\t\\t&#13;\\n\\t\\t\\t\\t<div class=\"bgq-cont\">&#13;\\n          &#13;\\n                           &#13;\\n\\t\\t\\t\\t\\t\\t\\t      <div class=\"bgQuote   inst up\">&#13;\\n\\t\\t\\t\\t\\t\\t\\t\\t      <div class=\"comp-name\"><strong><a href=\"/investing/stock/APAM\" target=\"_blank\">Artisan Partners Asset Management Inc.</a></strong></div>&#13;\\n                      <span class=\"bgChannel\">/quotes/zigman/14445676/composite</span>&#13;\\n\\t\\t\\t\\t\\t\\t\\t\\t      <div class=\"comp-data\">&#13;\\n\\t\\t\\t\\t\\t\\t\\t\\t\\t      <span class=\"disp symbol\"><a href=\"/investing/stock/APAM\" target=\"_blank\">APAM</a></span>&#13;\\n\\t\\t\\t\\t\\t\\t\\t\\t\\t      <span class=\"disp bgLast\">35.36</span> &#13;\\n\\t\\t\\t\\t\\t\\t\\t\\t\\t      <span class=\"disp bgChange\">+0.84</span>&#13;\\n\\t\\t\\t\\t\\t\\t\\t\\t\\t      <span class=\"disp bgPercentChange\">+2.43%</span>\\t\\t\\t\\t\\t\\t\\t\\t&#13;\\n\\t\\t\\t\\t\\t\\t\\t\\t      </div>&#13;\\n\\t\\t\\t\\t\\t\\t\\t\\t      <div style=\"clear:both;\"></div>\\t\\t\\t\\t\\t\\t\\t\\t\\t\\t\\t\\t\\t\\t\\t\\t&#13;\\n\\t\\t\\t\\t\\t\\t\\t\\t&#13;\\n\\t\\t\\t\\t\\t\\t\\t\\t\\t      <div duration=\"1dy\" freq=\"5mi\" class=\"chart\" symbol=\"US:APAM\" id=\"chart_cont1482019677\"></div>&#13;\\n\\t\\t\\t\\t\\t\\t\\t\\t\\t      <div style=\"clear:both;\"></div>\\t&#13;\\n\\t\\t\\t\\t\\t\\t\\t      </div>&#13;\\n\\t\\t\\t\\t\\t\\t\\t\\t\\t\\t\\t\\t\\t\\t\\t&#13;\\n                           &#13;\\n\\t\\t\\t\\t\\t\\t\\t      <div class=\"bgQuote   inst down\">&#13;\\n\\t\\t\\t\\t\\t\\t\\t\\t      <div class=\"comp-name\"><strong><a href=\"/investing/stock/MON\" target=\"_blank\">Monsanto Co.</a></strong></div>&#13;\\n                      <span class=\"bgChannel\">/quotes/zigman/267799/composite</span>&#13;\\n\\t\\t\\t\\t\\t\\t\\t\\t      <div class=\"comp-data\">&#13;\\n\\t\\t\\t\\t\\t\\t\\t\\t\\t      <span class=\"disp symbol\"><a href=\"/investing/stock/MON\" target=\"_blank\">MON</a></span>&#13;\\n\\t\\t\\t\\t\\t\\t\\t\\t\\t      <span class=\"disp bgLast\">89.97</span> &#13;\\n\\t\\t\\t\\t\\t\\t\\t\\t\\t      <span class=\"disp bgChange\">-0.72</span>&#13;\\n\\t\\t\\t\\t\\t\\t\\t\\t\\t      <span class=\"disp bgPercentChange\">-0.79%</span>\\t\\t\\t\\t\\t\\t\\t\\t&#13;\\n\\t\\t\\t\\t\\t\\t\\t\\t      </div>&#13;\\n\\t\\t\\t\\t\\t\\t\\t\\t      <div style=\"clear:both;\"></div>\\t\\t\\t\\t\\t\\t\\t\\t\\t\\t\\t\\t\\t\\t\\t\\t&#13;\\n\\t\\t\\t\\t\\t\\t\\t\\t&#13;\\n\\t\\t\\t\\t\\t\\t\\t\\t\\t      <div duration=\"1dy\" freq=\"5mi\" class=\"chart\" symbol=\"US:MON\" id=\"chart_cont77678072\"></div>&#13;\\n\\t\\t\\t\\t\\t\\t\\t\\t\\t      <div style=\"clear:both;\"></div>\\t&#13;\\n\\t\\t\\t\\t\\t\\t\\t      </div>&#13;\\n\\t\\t\\t\\t\\t\\t\\t\\t\\t\\t\\t\\t\\t\\t\\t\\t\\t\\t\\t\\t&#13;\\n\\t\\t\\t\\t</div>&#13;\\n\\t\\t\\t</div>', 'id': '1187694927', 'title': 'Syngenta investors agitate after Monsanto bid'}, {'timestamp': '10/16/2015 5:00:07 PM', 'details': u'<div class=\"nv-details\">\\t\\t\\t\\t&#13;\\n\\t\\t\\t\\t<div>&#13;\\n\\t\\t\\t\\t\\t&#13;\\n\\t\\t\\t\\t\\t\\t<span>By MarketWatch</span>&#13;\\n\\t\\t\\t\\t\\t<span>NewsWatch</span>&#13;\\n          <span>Oct. 16, 2015, 5:00 p.m. EST</span>&#13;\\n\\t\\t\\t\\t</div>&#13;\\n\\t\\t\\t\\t<p class=\"abs\">&#13;\\n\\t\\t\\t\\t\\n    Emerging-markets assets are posting a surprising recovery as expectations for a near-term Federal Reserve interest-rate hike have deteriorated. \\n  &#13;\\n\\t\\t\\t\\t\\t\\t\\t&#13;\\n\\t\\t\\t\\t\\t\\t\\t&#13;\\n\\t\\t\\t\\t\\t\\t<a class=\"read-more\" rel=\"nofollow\" href=\"/story/is-this-the-beginning-of-the-emerging-market-rally-2015-10-16-1710307\" target=\"_blank\">Full Story</a>&#13;\\n\\t\\t\\t\\t</p>\\t\\t\\t\\t&#13;\\n\\t\\t\\t</div>', 'id': '1187693769', 'title': 'Is this the beginning of the emerging-market rally?'}, {'timestamp': '10/16/2015 4:50:52 PM', 'details': u'<div class=\"nv-details\">\\t\\t\\t\\t&#13;\\n\\t\\t\\t\\t<div>&#13;\\n\\t\\t\\t\\t\\t&#13;\\n\\t\\t\\t\\t\\t\\t<span>By Richard Rosso</span>&#13;\\n\\t\\t\\t\\t\\t<span>Retirement Weekly</span>&#13;\\n          <span>Oct. 16, 2015, 4:51 p.m. EST</span>&#13;\\n\\t\\t\\t\\t</div>&#13;\\n\\t\\t\\t\\t<p class=\"abs\">&#13;\\n\\t\\t\\t\\tThere\\u2019s never an opportune time to retire, regardless of the preparation and the formal financial planning undertaken to ensure liftoff. &#13;\\n\\t\\t\\t\\t\\t\\t\\t&#13;\\n\\t\\t\\t\\t\\t\\t\\t&#13;\\n\\t\\t\\t\\t\\t\\t<a class=\"read-more\" rel=\"nofollow\" href=\"/story/how-to-brace-for-the-unknown-in-an-imperfect-retirement-2015-10-16\" target=\"_blank\">Full Story</a>&#13;\\n\\t\\t\\t\\t</p>\\t\\t\\t\\t&#13;\\n\\t\\t\\t</div>', 'id': '1187692980', 'title': u'How to brace for the unknown in an \\u2018imperfect\\u2019 retirement'}, {'timestamp': '10/16/2015 4:46:43 PM', 'details': u'<div class=\"nv-details\">\\t\\t\\t\\t&#13;\\n\\t\\t\\t\\t<div>&#13;\\n\\t\\t\\t\\t\\t<img class=\"thumb\" src=\"http://s.marketwatch.com/public/resources/MWimages/MW-CU657_MCD_mc_MA_20140922125703.jpg\">&#13;\\n\\t\\t\\t\\t\\t&#13;\\n\\t\\t\\t\\t\\t\\t<span>By Tonya Garcia</span>&#13;\\n          <span>Oct. 16, 2015, 4:47 p.m. EST</span>&#13;\\n\\t\\t\\t\\t</div>&#13;\\n\\t\\t\\t\\t<p class=\"abs\">&#13;\\n\\t\\t\\t\\tA Nomura study finds franchisees are mixed about McDonald\\u2019s all-day breakfast, but YouGov finds customers happy.&#13;\\n\\t\\t\\t\\t\\t\\t\\t&#13;\\n\\t\\t\\t\\t\\t\\t\\t&#13;\\n\\t\\t\\t\\t\\t\\t<a class=\"read-more\" rel=\"nofollow\" href=\"/story/franchisees-mixed-on-mcdonalds-all-day-breakfast-but-customers-are-lovin-it-2015-10-16\" target=\"_blank\">Full Story</a>&#13;\\n\\t\\t\\t\\t</p>\\t\\t\\t\\t&#13;\\n\\t\\t\\t\\t<div class=\"bgq-cont\">&#13;\\n          &#13;\\n                           &#13;\\n\\t\\t\\t\\t\\t\\t\\t      <div class=\"bgQuote   inst up\">&#13;\\n\\t\\t\\t\\t\\t\\t\\t\\t      <div class=\"comp-name\"><strong><a href=\"/investing/stock/MCD\" target=\"_blank\">McDonald\\'s Corp.</a></strong></div>&#13;\\n                      <span class=\"bgChannel\">/quotes/zigman/233369/composite</span>&#13;\\n\\t\\t\\t\\t\\t\\t\\t\\t      <div class=\"comp-data\">&#13;\\n\\t\\t\\t\\t\\t\\t\\t\\t\\t      <span class=\"disp symbol\"><a href=\"/investing/stock/MCD\" target=\"_blank\">MCD</a></span>&#13;\\n\\t\\t\\t\\t\\t\\t\\t\\t\\t      <span class=\"disp bgLast\">104.82</span> &#13;\\n\\t\\t\\t\\t\\t\\t\\t\\t\\t      <span class=\"disp bgChange\">+1.16</span>&#13;\\n\\t\\t\\t\\t\\t\\t\\t\\t\\t      <span class=\"disp bgPercentChange\">+1.12%</span>\\t\\t\\t\\t\\t\\t\\t\\t&#13;\\n\\t\\t\\t\\t\\t\\t\\t\\t      </div>&#13;\\n\\t\\t\\t\\t\\t\\t\\t\\t      <div style=\"clear:both;\"></div>\\t\\t\\t\\t\\t\\t\\t\\t\\t\\t\\t\\t\\t\\t\\t\\t&#13;\\n\\t\\t\\t\\t\\t\\t\\t\\t&#13;\\n\\t\\t\\t\\t\\t\\t\\t\\t\\t      <div duration=\"1dy\" freq=\"5mi\" class=\"chart\" symbol=\"US:MCD\" id=\"chart_cont1891690390\"></div>&#13;\\n\\t\\t\\t\\t\\t\\t\\t\\t\\t      <div style=\"clear:both;\"></div>\\t&#13;\\n\\t\\t\\t\\t\\t\\t\\t      </div>&#13;\\n\\t\\t\\t\\t\\t\\t\\t\\t\\t\\t\\t\\t\\t\\t\\t\\t\\t\\t\\t\\t&#13;\\n\\t\\t\\t\\t</div>&#13;\\n\\t\\t\\t</div>', 'id': '1187692612', 'title': u'Franchisees mixed on McDonald\\u2019s all-day breakfast, but customers are lovin\\u2019 it'}, {'timestamp': '10/16/2015 4:45:13 PM', 'details': u'<div class=\"nv-details\">\\t\\t\\t\\t&#13;\\n\\t\\t\\t\\t<div>&#13;\\n\\t\\t\\t\\t\\t&#13;\\n\\t\\t\\t\\t\\t\\t<span>By Robert Powell</span>&#13;\\n\\t\\t\\t\\t\\t<span>Retirement Weekly</span>&#13;\\n          <span>Oct. 16, 2015, 4:45 p.m. EST</span>&#13;\\n\\t\\t\\t\\t</div>&#13;\\n\\t\\t\\t\\t<p class=\"abs\">&#13;\\n\\t\\t\\t\\tSteve Oshins recently released the first-ever, interactive Dynasty Trust State Rankings Chart.&#13;\\n\\t\\t\\t\\t\\t\\t\\t&#13;\\n\\t\\t\\t\\t\\t\\t\\t&#13;\\n\\t\\t\\t\\t\\t\\t<a class=\"read-more\" rel=\"nofollow\" href=\"/story/whats-a-dynasty-trust-2015-10-16\" target=\"_blank\">Full Story</a>&#13;\\n\\t\\t\\t\\t</p>\\t\\t\\t\\t&#13;\\n\\t\\t\\t</div>', 'id': '1187692593', 'title': u'What\\u2019s a dynasty trust?'}, {'timestamp': '10/16/2015 4:40:26 PM', 'details': u'<div class=\"nv-details\">\\t\\t\\t\\t&#13;\\n\\t\\t\\t\\t<div>&#13;\\n\\t\\t\\t\\t\\t&#13;\\n\\t\\t\\t\\t\\t\\t<span>By Robert Powell</span>&#13;\\n\\t\\t\\t\\t\\t<span>Retirement Weekly</span>&#13;\\n          <span>Oct. 16, 2015, 4:40 p.m. EST</span>&#13;\\n\\t\\t\\t\\t</div>&#13;\\n\\t\\t\\t\\t<p class=\"abs\">&#13;\\n\\t\\t\\t\\tA U.S. District Court has ordered Foot Locker to reform its cash balance plan to calculate accrued benefits in a way expected by participants.&#13;\\n\\t\\t\\t\\t\\t\\t\\t&#13;\\n\\t\\t\\t\\t\\t\\t\\t&#13;\\n\\t\\t\\t\\t\\t\\t<a class=\"read-more\" rel=\"nofollow\" href=\"/story/retirement-news-the-week-in-review-2015-10-16\" target=\"_blank\">Full Story</a>&#13;\\n\\t\\t\\t\\t</p>\\t\\t\\t\\t&#13;\\n\\t\\t\\t</div>', 'id': '1187692219', 'title': 'Retirement news: The week in review'}, {'timestamp': '10/16/2015 4:39:26 PM', 'details': u'<div class=\"nv-details\">\\t\\t\\t\\t&#13;\\n\\t\\t\\t\\t<div>&#13;\\n\\t\\t\\t\\t\\t<img class=\"thumb\" src=\"http://s.marketwatch.com/public/resources/MWimages/MW-DE655_econ_m_MA_20150202132624.jpg\">&#13;\\n\\t\\t\\t\\t\\t&#13;\\n\\t\\t\\t\\t\\t\\t<span>By Ellie Ismailidou</span>&#13;\\n\\t\\t\\t\\t\\t<span>Bond Report</span>&#13;\\n          <span>Oct. 16, 2015, 4:39 p.m. EST</span>&#13;\\n\\t\\t\\t\\t</div>&#13;\\n\\t\\t\\t\\t<p class=\"abs\">&#13;\\n\\t\\t\\t\\tTreasury prices fall Friday, driving yields to their largest two-day rise in two weeks, as a risk-on sentiment returns to equity markets and investors sell bonds in favor of riskier assets.  &#13;\\n\\t\\t\\t\\t\\t\\t\\t&#13;\\n\\t\\t\\t\\t\\t\\t\\t&#13;\\n\\t\\t\\t\\t\\t\\t<a class=\"read-more\" rel=\"nofollow\" href=\"/story/treasury-yields-unchanged-after-recent-rallies-subside-2015-10-16\" target=\"_blank\">Full Story</a>&#13;\\n\\t\\t\\t\\t</p>\\t\\t\\t\\t&#13;\\n\\t\\t\\t\\t<div class=\"bgq-cont\">&#13;\\n          &#13;\\n                           &#13;\\n\\t\\t\\t\\t\\t\\t\\t      <div class=\"bgQuote   inst up\">&#13;\\n\\t\\t\\t\\t\\t\\t\\t\\t      <div class=\"comp-name\"><strong><a href=\"/investing/stock/TMUBMUSD10Y?countrycode=BX\" target=\"_blank\">U.S. 10 Year Treasury Note</a></strong></div>&#13;\\n                      <span class=\"bgChannel\">/quotes/zigman/15866666/realtime</span>&#13;\\n\\t\\t\\t\\t\\t\\t\\t\\t      <div class=\"comp-data\">&#13;\\n\\t\\t\\t\\t\\t\\t\\t\\t\\t      <span class=\"disp symbol\"><a href=\"/investing/stock/TMUBMUSD10Y?countrycode=BX\" target=\"_blank\">TMUBMUSD10Y</a></span>&#13;\\n\\t\\t\\t\\t\\t\\t\\t\\t\\t      <span class=\"disp bgLast\">2.03</span> &#13;\\n\\t\\t\\t\\t\\t\\t\\t\\t\\t      <span class=\"disp bgChange\">+0.02</span>&#13;\\n\\t\\t\\t\\t\\t\\t\\t\\t\\t      <span class=\"disp bgPercentChange\">+0.88%</span>\\t\\t\\t\\t\\t\\t\\t\\t&#13;\\n\\t\\t\\t\\t\\t\\t\\t\\t      </div>&#13;\\n\\t\\t\\t\\t\\t\\t\\t\\t      <div style=\"clear:both;\"></div>\\t\\t\\t\\t\\t\\t\\t\\t\\t\\t\\t\\t\\t\\t\\t\\t&#13;\\n\\t\\t\\t\\t\\t\\t\\t\\t&#13;\\n\\t\\t\\t\\t\\t\\t\\t\\t\\t      <div duration=\"1dy\" freq=\"5mi\" class=\"chart\" symbol=\"BX:TMUBMUSD10Y\" id=\"chart_cont314854775\"></div>&#13;\\n\\t\\t\\t\\t\\t\\t\\t\\t\\t      <div style=\"clear:both;\"></div>\\t&#13;\\n\\t\\t\\t\\t\\t\\t\\t      </div>&#13;\\n\\t\\t\\t\\t\\t\\t\\t\\t\\t\\t\\t\\t\\t\\t\\t&#13;\\n                           &#13;\\n\\t\\t\\t\\t\\t\\t\\t      <div class=\"bgQuote   inst up\">&#13;\\n\\t\\t\\t\\t\\t\\t\\t\\t      <div class=\"comp-name\"><strong><a href=\"/investing/stock/TMUBMUSD30Y?countrycode=BX\" target=\"_blank\">U.S. 30 Year Treasury Bond</a></strong></div>&#13;\\n                      <span class=\"bgChannel\">/quotes/zigman/15866668/realtime</span>&#13;\\n\\t\\t\\t\\t\\t\\t\\t\\t      <div class=\"comp-data\">&#13;\\n\\t\\t\\t\\t\\t\\t\\t\\t\\t      <span class=\"disp symbol\"><a href=\"/investing/stock/TMUBMUSD30Y?countrycode=BX\" target=\"_blank\">TMUBMUSD30Y</a></span>&#13;\\n\\t\\t\\t\\t\\t\\t\\t\\t\\t      <span class=\"disp bgLast\">2.88</span> &#13;\\n\\t\\t\\t\\t\\t\\t\\t\\t\\t      <span class=\"disp bgChange\">+0.02</span>&#13;\\n\\t\\t\\t\\t\\t\\t\\t\\t\\t      <span class=\"disp bgPercentChange\">+0.61%</span>\\t\\t\\t\\t\\t\\t\\t\\t&#13;\\n\\t\\t\\t\\t\\t\\t\\t\\t      </div>&#13;\\n\\t\\t\\t\\t\\t\\t\\t\\t      <div style=\"clear:both;\"></div>\\t\\t\\t\\t\\t\\t\\t\\t\\t\\t\\t\\t\\t\\t\\t\\t&#13;\\n\\t\\t\\t\\t\\t\\t\\t\\t&#13;\\n\\t\\t\\t\\t\\t\\t\\t\\t\\t      <div duration=\"1dy\" freq=\"5mi\" class=\"chart\" symbol=\"BX:TMUBMUSD30Y\" id=\"chart_cont314854713\"></div>&#13;\\n\\t\\t\\t\\t\\t\\t\\t\\t\\t      <div style=\"clear:both;\"></div>\\t&#13;\\n\\t\\t\\t\\t\\t\\t\\t      </div>&#13;\\n\\t\\t\\t\\t\\t\\t\\t\\t\\t\\t\\t\\t\\t\\t\\t\\t\\t\\t\\t\\t&#13;\\n\\t\\t\\t\\t</div>&#13;\\n\\t\\t\\t</div>', 'id': '1187692099', 'title': 'Treasury yields post largest two-day increase in two weeks'}, {'timestamp': '10/16/2015 4:35:53 PM', 'details': u'<div class=\"nv-details\">\\t\\t\\t\\t&#13;\\n\\t\\t\\t\\t<div>&#13;\\n\\t\\t\\t\\t\\t&#13;\\n\\t\\t\\t\\t\\t\\t<span>By Robert Powell</span>&#13;\\n\\t\\t\\t\\t\\t<span>Retirement Weekly</span>&#13;\\n          <span>Oct. 16, 2015, 4:36 p.m. EST</span>&#13;\\n\\t\\t\\t\\t</div>&#13;\\n\\t\\t\\t\\t<p class=\"abs\">&#13;\\n\\t\\t\\t\\tReality Shares has filed with the Securities and Exchange Commission for approval of three exchange-traded funds pursuing dividend-oriented strategies to invest in equities of U.S. real-estate companies, based on its \\u201cDivcon\\u201d rating system.&#13;\\n\\t\\t\\t\\t\\t\\t\\t&#13;\\n\\t\\t\\t\\t\\t\\t\\t&#13;\\n\\t\\t\\t\\t\\t\\t<a class=\"read-more\" rel=\"nofollow\" href=\"/story/investments-for-retirement-2015-10-16\" target=\"_blank\">Full Story</a>&#13;\\n\\t\\t\\t\\t</p>\\t\\t\\t\\t&#13;\\n\\t\\t\\t</div>', 'id': '1187691791', 'title': 'Investments for retirement'}, {'timestamp': '10/16/2015 4:35:20 PM', 'details': u'<div class=\"nv-details\">\\t\\t\\t\\t&#13;\\n\\t\\t\\t\\t<div>&#13;\\n\\t\\t\\t\\t\\t&#13;\\n\\t\\t\\t\\t\\t\\t<span>By Claudia Assis</span>&#13;\\n          <span>Oct. 16, 2015, 4:35 p.m. EST</span>&#13;\\n\\t\\t\\t\\t</div>&#13;\\n\\t\\t\\t\\t<p class=\"abs\">&#13;\\n\\t\\t\\t\\tEllipse Technologies Inc. on Friday filed for an initial public offering, seeking to sell $75 million worth of shares. The Aliso Viejo, Calif., medical technology company makes adjustable orthopedic implants. Underwriters include Piper Jaffray and William Blair. The...&#13;\\n\\t\\t\\t\\t\\t\\t\\t&#13;\\n\\t\\t\\t\\t\\t\\t\\t&#13;\\n\\t\\t\\t\\t\\t\\t<a class=\"read-more\" rel=\"nofollow\" href=\"/story/ellipse-technologies-files-for-75-million-ipo-2015-10-16\" target=\"_blank\">Full Story</a>&#13;\\n\\t\\t\\t\\t</p>\\t\\t\\t\\t&#13;\\n\\t\\t\\t</div>', 'id': '1187691734', 'title': 'Ellipse Technologies files for $75 million IPO'}, {'timestamp': '10/16/2015 4:33:10 PM', 'details': u'<div class=\"nv-details\">\\t\\t\\t\\t&#13;\\n\\t\\t\\t\\t<div>&#13;\\n\\t\\t\\t\\t\\t<img class=\"thumb\" src=\"http://s.marketwatch.com/public/resources/MWimages/MW-DO082_bull_h_MA_20150615122905.jpg\">&#13;\\n\\t\\t\\t\\t\\t&#13;\\n\\t\\t\\t\\t\\t\\t<span>By Sue Chang</span>&#13;\\n\\t\\t\\t\\t\\t<span>Market Snapshot</span>&#13;\\n          <span>Oct. 16, 2015, 4:33 p.m. EST</span>&#13;\\n\\t\\t\\t\\t</div>&#13;\\n\\t\\t\\t\\t<p class=\"abs\">&#13;\\n\\t\\t\\t\\tU.S. stocks end Friday\\u2019s choppy session slightly higher, ending a third consecutive week with gains as investors appeared to shrug off a number of lackluster earnings and mixed economic data &#13;\\n\\t\\t\\t\\t\\t\\t\\t&#13;\\n\\t\\t\\t\\t\\t\\t\\t&#13;\\n\\t\\t\\t\\t\\t\\t<a class=\"read-more\" rel=\"nofollow\" href=\"/story/wall-street-looks-for-signs-sp-500-can-hang-onto-2000-2015-10-16\" target=\"_blank\">Full Story</a>&#13;\\n\\t\\t\\t\\t</p>\\t\\t\\t\\t&#13;\\n\\t\\t\\t\\t<div class=\"bgq-cont\">&#13;\\n          &#13;\\n                           &#13;\\n\\t\\t\\t\\t\\t\\t\\t      <div class=\"bgQuote   inst up\">&#13;\\n\\t\\t\\t\\t\\t\\t\\t\\t      <div class=\"comp-name\"><strong><a href=\"/investing/stock/SPX\" target=\"_blank\">S&amp;P 500 Index</a></strong></div>&#13;\\n                      <span class=\"bgChannel\">/quotes/zigman/3870025/realtime</span>&#13;\\n\\t\\t\\t\\t\\t\\t\\t\\t      <div class=\"comp-data\">&#13;\\n\\t\\t\\t\\t\\t\\t\\t\\t\\t      <span class=\"disp symbol\"><a href=\"/investing/stock/SPX\" target=\"_blank\">SPX</a></span>&#13;\\n\\t\\t\\t\\t\\t\\t\\t\\t\\t      <span class=\"disp bgLast\">2,033.11</span> &#13;\\n\\t\\t\\t\\t\\t\\t\\t\\t\\t      <span class=\"disp bgChange\">+9.25</span>&#13;\\n\\t\\t\\t\\t\\t\\t\\t\\t\\t      <span class=\"disp bgPercentChange\">+0.46%</span>\\t\\t\\t\\t\\t\\t\\t\\t&#13;\\n\\t\\t\\t\\t\\t\\t\\t\\t      </div>&#13;\\n\\t\\t\\t\\t\\t\\t\\t\\t      <div style=\"clear:both;\"></div>\\t\\t\\t\\t\\t\\t\\t\\t\\t\\t\\t\\t\\t\\t\\t\\t&#13;\\n\\t\\t\\t\\t\\t\\t\\t\\t&#13;\\n\\t\\t\\t\\t\\t\\t\\t\\t\\t      <div duration=\"1dy\" freq=\"5mi\" class=\"chart\" symbol=\"US:SPX\" id=\"chart_cont124732823\"></div>&#13;\\n\\t\\t\\t\\t\\t\\t\\t\\t\\t      <div style=\"clear:both;\"></div>\\t&#13;\\n\\t\\t\\t\\t\\t\\t\\t      </div>&#13;\\n\\t\\t\\t\\t\\t\\t\\t\\t\\t\\t\\t\\t\\t\\t\\t&#13;\\n                           &#13;\\n\\t\\t\\t\\t\\t\\t\\t      <div class=\"bgQuote   inst up\">&#13;\\n\\t\\t\\t\\t\\t\\t\\t\\t      <div class=\"comp-name\"><strong><a href=\"/investing/stock/DJIA\" target=\"_blank\">Dow Jones Industrial Average</a></strong></div>&#13;\\n                      <span class=\"bgChannel\">/quotes/zigman/627449/realtime</span>&#13;\\n\\t\\t\\t\\t\\t\\t\\t\\t      <div class=\"comp-data\">&#13;\\n\\t\\t\\t\\t\\t\\t\\t\\t\\t      <span class=\"disp symbol\"><a href=\"/investing/stock/DJIA\" target=\"_blank\">DJIA</a></span>&#13;\\n\\t\\t\\t\\t\\t\\t\\t\\t\\t      <span class=\"disp bgLast\">17,215.97</span> &#13;\\n\\t\\t\\t\\t\\t\\t\\t\\t\\t      <span class=\"disp bgChange\">+74.22</span>&#13;\\n\\t\\t\\t\\t\\t\\t\\t\\t\\t      <span class=\"disp bgPercentChange\">+0.43%</span>\\t\\t\\t\\t\\t\\t\\t\\t&#13;\\n\\t\\t\\t\\t\\t\\t\\t\\t      </div>&#13;\\n\\t\\t\\t\\t\\t\\t\\t\\t      <div style=\"clear:both;\"></div>\\t\\t\\t\\t\\t\\t\\t\\t\\t\\t\\t\\t\\t\\t\\t\\t&#13;\\n\\t\\t\\t\\t\\t\\t\\t\\t&#13;\\n\\t\\t\\t\\t\\t\\t\\t\\t\\t      <div duration=\"1dy\" freq=\"5mi\" class=\"chart\" symbol=\"US:DJIA\" id=\"chart_cont70394702\"></div>&#13;\\n\\t\\t\\t\\t\\t\\t\\t\\t\\t      <div style=\"clear:both;\"></div>\\t&#13;\\n\\t\\t\\t\\t\\t\\t\\t      </div>&#13;\\n\\t\\t\\t\\t\\t\\t\\t\\t\\t\\t\\t\\t\\t\\t\\t\\t\\t\\t\\t\\t&#13;\\n\\t\\t\\t\\t</div>&#13;\\n\\t\\t\\t</div>', 'id': '1187691587', 'title': 'U.S. stocks score third straight weekly rise'}, {'timestamp': '10/16/2015 4:32:10 PM', 'details': u'<div class=\"nv-details\">\\t\\t\\t\\t&#13;\\n\\t\\t\\t\\t<div>&#13;\\n\\t\\t\\t\\t\\t<img class=\"thumb\" src=\"http://s.marketwatch.com/public/resources/MWimages/MW-CY318_white__MA_20141104134757.jpg\">&#13;\\n\\t\\t\\t\\t\\t&#13;\\n\\t\\t\\t\\t\\t\\t<span>By Francine McKenna</span>&#13;\\n\\t\\t\\t\\t\\t<span>Capitol Report</span>&#13;\\n          <span>Oct. 16, 2015, 4:32 p.m. EST</span>&#13;\\n\\t\\t\\t\\t</div>&#13;\\n\\t\\t\\t\\t<p class=\"abs\">&#13;\\n\\t\\t\\t\\tSecurities and Exchange Commission Chairwoman Mary Jo White told an audience of hedge fund managers and investors on Friday that the regulator\\u2019s intense scrutiny of the private funds industry is paying off. &#13;\\n\\t\\t\\t\\t\\t\\t\\t&#13;\\n\\t\\t\\t\\t\\t\\t\\t&#13;\\n\\t\\t\\t\\t\\t\\t<a class=\"read-more\" rel=\"nofollow\" href=\"/story/secs-hedge-fund-reviews-show-advisors-keeping-trades-for-themselves-2015-10-16\" target=\"_blank\">Full Story</a>&#13;\\n\\t\\t\\t\\t</p>\\t\\t\\t\\t&#13;\\n\\t\\t\\t</div>', 'id': '1187691414', 'title': u'SEC\\u2019s hedge fund reviews show advisors keeping trades for themselves'}, {'timestamp': '10/16/2015 4:30:12 PM', 'details': u'<div class=\"nv-details\">\\t\\t\\t\\t&#13;\\n\\t\\t\\t\\t<div>&#13;\\n\\t\\t\\t\\t\\t&#13;\\n\\t\\t\\t\\t\\t\\t<span>By Robert Powell</span>&#13;\\n\\t\\t\\t\\t\\t<span>Retirement Weekly</span>&#13;\\n          <span>Oct. 16, 2015, 4:30 p.m. EST</span>&#13;\\n\\t\\t\\t\\t</div>&#13;\\n\\t\\t\\t\\t<p class=\"abs\">&#13;\\n\\t\\t\\t\\tPapers, surveys and retirement research worth a closer look.&#13;\\n\\t\\t\\t\\t\\t\\t\\t&#13;\\n\\t\\t\\t\\t\\t\\t\\t&#13;\\n\\t\\t\\t\\t\\t\\t<a class=\"read-more\" rel=\"nofollow\" href=\"/story/retirement-research-worth-reading-2015-10-16\" target=\"_blank\">Full Story</a>&#13;\\n\\t\\t\\t\\t</p>\\t\\t\\t\\t&#13;\\n\\t\\t\\t</div>', 'id': '1187691354', 'title': 'Retirement research worth reading'}, {'timestamp': '10/16/2015 4:16:26 PM', 'details': u'<div class=\"nv-details\">\\t\\t\\t\\t&#13;\\n\\t\\t\\t\\t<div>&#13;\\n\\t\\t\\t\\t\\t<img class=\"thumb\" src=\"http://s.marketwatch.com/public/resources/MWimages/MW-DW587_russia_MA_20151016160757.jpg\">&#13;\\n\\t\\t\\t\\t\\t&#13;\\n\\t\\t\\t\\t\\t\\t<span>By Richard Haass</span>&#13;\\n\\t\\t\\t\\t\\t<span>Project Syndicate</span>&#13;\\n          <span>Oct. 16, 2015, 4:16 p.m. EST</span>&#13;\\n\\t\\t\\t\\t</div>&#13;\\n\\t\\t\\t\\t<p class=\"abs\">&#13;\\n\\t\\t\\t\\tVladimir Putin\\u2019s intervention in Syria could lead to a political solution that eases Bashar al-Assad out of power, writes Richard  Haass.&#13;\\n\\t\\t\\t\\t\\t\\t\\t&#13;\\n\\t\\t\\t\\t\\t\\t\\t&#13;\\n\\t\\t\\t\\t\\t\\t<a class=\"read-more\" rel=\"nofollow\" href=\"/story/testing-putin-in-syria-2015-10-16\" target=\"_blank\">Full Story</a>&#13;\\n\\t\\t\\t\\t</p>\\t\\t\\t\\t&#13;\\n\\t\\t\\t</div>', 'id': '1187690079', 'title': 'Testing Putin in Syria'}, {'timestamp': '10/16/2015 4:04:10 PM', 'details': u'<div class=\"nv-details\">\\t\\t\\t\\t&#13;\\n\\t\\t\\t\\t<div>&#13;\\n\\t\\t\\t\\t\\t&#13;\\n\\t\\t\\t\\t\\t\\t<span>By Anora Mahmudova</span>&#13;\\n          <span>Oct. 16, 2015, 4:04 p.m. EST</span>&#13;\\n\\t\\t\\t\\t</div>&#13;\\n\\t\\t\\t\\t<p class=\"abs\">&#13;\\n\\t\\t\\t\\tU.S. stocks  ended Friday\\'s session slightly higher, ending a third consecutive week with gains. The S&amp;P 500  closed 9.21 points, or 0.5%, higher at 2,033.07, its best level since Aug. 20. The benchmark index gained 0.9% over the week. The Dow Jones Industrial Average...&#13;\\n\\t\\t\\t\\t\\t\\t\\t&#13;\\n\\t\\t\\t\\t\\t\\t\\t&#13;\\n\\t\\t\\t\\t\\t\\t<a class=\"read-more\" rel=\"nofollow\" href=\"/story/us-stocks-end-third-straight-week-with-gains-2015-10-16\" target=\"_blank\">Full Story</a>&#13;\\n\\t\\t\\t\\t</p>\\t\\t\\t\\t&#13;\\n\\t\\t\\t\\t<div class=\"bgq-cont\">&#13;\\n          &#13;\\n                           &#13;\\n\\t\\t\\t\\t\\t\\t\\t      <div class=\"bgQuote   inst up\">&#13;\\n\\t\\t\\t\\t\\t\\t\\t\\t      <div class=\"comp-name\"><strong><a href=\"/investing/stock/SPX\" target=\"_blank\">S&amp;P 500 Index</a></strong></div>&#13;\\n                      <span class=\"bgChannel\">/quotes/zigman/3870025/realtime</span>&#13;\\n\\t\\t\\t\\t\\t\\t\\t\\t      <div class=\"comp-data\">&#13;\\n\\t\\t\\t\\t\\t\\t\\t\\t\\t      <span class=\"disp symbol\"><a href=\"/investing/stock/SPX\" target=\"_blank\">SPX</a></span>&#13;\\n\\t\\t\\t\\t\\t\\t\\t\\t\\t      <span class=\"disp bgLast\">2,033.11</span> &#13;\\n\\t\\t\\t\\t\\t\\t\\t\\t\\t      <span class=\"disp bgChange\">+9.25</span>&#13;\\n\\t\\t\\t\\t\\t\\t\\t\\t\\t      <span class=\"disp bgPercentChange\">+0.46%</span>\\t\\t\\t\\t\\t\\t\\t\\t&#13;\\n\\t\\t\\t\\t\\t\\t\\t\\t      </div>&#13;\\n\\t\\t\\t\\t\\t\\t\\t\\t      <div style=\"clear:both;\"></div>\\t\\t\\t\\t\\t\\t\\t\\t\\t\\t\\t\\t\\t\\t\\t\\t&#13;\\n\\t\\t\\t\\t\\t\\t\\t\\t&#13;\\n\\t\\t\\t\\t\\t\\t\\t\\t\\t      <div duration=\"1dy\" freq=\"5mi\" class=\"chart\" symbol=\"US:SPX\" id=\"chart_cont124732823\"></div>&#13;\\n\\t\\t\\t\\t\\t\\t\\t\\t\\t      <div style=\"clear:both;\"></div>\\t&#13;\\n\\t\\t\\t\\t\\t\\t\\t      </div>&#13;\\n\\t\\t\\t\\t\\t\\t\\t\\t\\t\\t\\t\\t\\t\\t\\t&#13;\\n                           &#13;\\n\\t\\t\\t\\t\\t\\t\\t      <div class=\"bgQuote   inst up\">&#13;\\n\\t\\t\\t\\t\\t\\t\\t\\t      <div class=\"comp-name\"><strong><a href=\"/investing/stock/DJIA\" target=\"_blank\">Dow Jones Industrial Average</a></strong></div>&#13;\\n                      <span class=\"bgChannel\">/quotes/zigman/627449/realtime</span>&#13;\\n\\t\\t\\t\\t\\t\\t\\t\\t      <div class=\"comp-data\">&#13;\\n\\t\\t\\t\\t\\t\\t\\t\\t\\t      <span class=\"disp symbol\"><a href=\"/investing/stock/DJIA\" target=\"_blank\">DJIA</a></span>&#13;\\n\\t\\t\\t\\t\\t\\t\\t\\t\\t      <span class=\"disp bgLast\">17,215.97</span> &#13;\\n\\t\\t\\t\\t\\t\\t\\t\\t\\t      <span class=\"disp bgChange\">+74.22</span>&#13;\\n\\t\\t\\t\\t\\t\\t\\t\\t\\t      <span class=\"disp bgPercentChange\">+0.43%</span>\\t\\t\\t\\t\\t\\t\\t\\t&#13;\\n\\t\\t\\t\\t\\t\\t\\t\\t      </div>&#13;\\n\\t\\t\\t\\t\\t\\t\\t\\t      <div style=\"clear:both;\"></div>\\t\\t\\t\\t\\t\\t\\t\\t\\t\\t\\t\\t\\t\\t\\t\\t&#13;\\n\\t\\t\\t\\t\\t\\t\\t\\t&#13;\\n\\t\\t\\t\\t\\t\\t\\t\\t\\t      <div duration=\"1dy\" freq=\"5mi\" class=\"chart\" symbol=\"US:DJIA\" id=\"chart_cont70394702\"></div>&#13;\\n\\t\\t\\t\\t\\t\\t\\t\\t\\t      <div style=\"clear:both;\"></div>\\t&#13;\\n\\t\\t\\t\\t\\t\\t\\t      </div>&#13;\\n\\t\\t\\t\\t\\t\\t\\t\\t\\t\\t\\t\\t\\t\\t\\t\\t\\t\\t\\t\\t&#13;\\n\\t\\t\\t\\t</div>&#13;\\n\\t\\t\\t</div>', 'id': '1187691592', 'title': 'U.S. stocks end third straight week with gains'}, {'timestamp': '10/16/2015 4:02:43 PM', 'details': u'<div class=\"nv-details\">\\t\\t\\t\\t&#13;\\n\\t\\t\\t\\t<div>&#13;\\n\\t\\t\\t\\t\\t<img class=\"thumb\" src=\"http://s.marketwatch.com/public/resources/MWimages/MW-DH568_dollar_MA_20150312131144.jpg\">&#13;\\n\\t\\t\\t\\t\\t&#13;\\n\\t\\t\\t\\t\\t\\t<span>By Joseph Adinolfi</span>&#13;\\n\\t\\t\\t\\t\\t<span>Currencies</span>&#13;\\n          <span>Oct. 16, 2015, 4:03 p.m. EST</span>&#13;\\n\\t\\t\\t\\t</div>&#13;\\n\\t\\t\\t\\t<p class=\"abs\">&#13;\\n\\t\\t\\t\\tThe U.S. dollar finished the week essentially flat against the euro on Friday amid shifting expectations on the future course of monetary policy in both the U.S. and the eurozone. &#13;\\n\\t\\t\\t\\t\\t\\t\\t&#13;\\n\\t\\t\\t\\t\\t\\t\\t&#13;\\n\\t\\t\\t\\t\\t\\t<a class=\"read-more\" rel=\"nofollow\" href=\"/story/dollar-loosens-yen-grip-rises-after-nearly-two-month-lows-2015-10-16\" target=\"_blank\">Full Story</a>&#13;\\n\\t\\t\\t\\t</p>\\t\\t\\t\\t&#13;\\n\\t\\t\\t\\t<div class=\"bgq-cont\">&#13;\\n          &#13;\\n                           &#13;\\n\\t\\t\\t\\t\\t\\t\\t      <div class=\"bgQuote bgCurrencyFormatting  inst up\">&#13;\\n\\t\\t\\t\\t\\t\\t\\t\\t      <div class=\"comp-name\"><strong><a href=\"/investing/stock/USDJPY\" target=\"_blank\">Japanese Yen</a></strong></div>&#13;\\n                      <span class=\"bgChannel\">/quotes/zigman/16008150/realtime/sampled</span>&#13;\\n\\t\\t\\t\\t\\t\\t\\t\\t      <div class=\"comp-data\">&#13;\\n\\t\\t\\t\\t\\t\\t\\t\\t\\t      <span class=\"disp symbol\"><a href=\"/investing/stock/USDJPY\" target=\"_blank\">USDJPY</a></span>&#13;\\n\\t\\t\\t\\t\\t\\t\\t\\t\\t      <span class=\"disp bgLast\">119.4670</span> &#13;\\n\\t\\t\\t\\t\\t\\t\\t\\t\\t      <span class=\"disp bgChange\">+0.5680</span>&#13;\\n\\t\\t\\t\\t\\t\\t\\t\\t\\t      <span class=\"disp bgPercentChange\">+0.4777%</span>\\t\\t\\t\\t\\t\\t\\t\\t&#13;\\n\\t\\t\\t\\t\\t\\t\\t\\t      </div>&#13;\\n\\t\\t\\t\\t\\t\\t\\t\\t      <div style=\"clear:both;\"></div>\\t\\t\\t\\t\\t\\t\\t\\t\\t\\t\\t\\t\\t\\t\\t\\t&#13;\\n\\t\\t\\t\\t\\t\\t\\t\\t&#13;\\n\\t\\t\\t\\t\\t\\t\\t\\t\\t      <div duration=\"1dy\" freq=\"5mi\" class=\"chart\" symbol=\"US:USDJPY\" id=\"chart_cont656411651\"></div>&#13;\\n\\t\\t\\t\\t\\t\\t\\t\\t\\t      <div style=\"clear:both;\"></div>\\t&#13;\\n\\t\\t\\t\\t\\t\\t\\t      </div>&#13;\\n\\t\\t\\t\\t\\t\\t\\t\\t\\t\\t\\t\\t\\t\\t\\t&#13;\\n                           &#13;\\n\\t\\t\\t\\t\\t\\t\\t      <div class=\"bgQuote bgCurrencyFormatting  inst down\">&#13;\\n\\t\\t\\t\\t\\t\\t\\t\\t      <div class=\"comp-name\"><strong><a href=\"/investing/stock/EURUSD\" target=\"_blank\">Euro</a></strong></div>&#13;\\n                      <span class=\"bgChannel\">/quotes/zigman/16008136/realtime/sampled</span>&#13;\\n\\t\\t\\t\\t\\t\\t\\t\\t      <div class=\"comp-data\">&#13;\\n\\t\\t\\t\\t\\t\\t\\t\\t\\t      <span class=\"disp symbol\"><a href=\"/investing/stock/EURUSD\" target=\"_blank\">EURUSD</a></span>&#13;\\n\\t\\t\\t\\t\\t\\t\\t\\t\\t      <span class=\"disp bgLast\">1.1350</span> &#13;\\n\\t\\t\\t\\t\\t\\t\\t\\t\\t      <span class=\"disp bgChange\">-0.0034</span>&#13;\\n\\t\\t\\t\\t\\t\\t\\t\\t\\t      <span class=\"disp bgPercentChange\">-0.2987%</span>\\t\\t\\t\\t\\t\\t\\t\\t&#13;\\n\\t\\t\\t\\t\\t\\t\\t\\t      </div>&#13;\\n\\t\\t\\t\\t\\t\\t\\t\\t      <div style=\"clear:both;\"></div>\\t\\t\\t\\t\\t\\t\\t\\t\\t\\t\\t\\t\\t\\t\\t\\t&#13;\\n\\t\\t\\t\\t\\t\\t\\t\\t&#13;\\n\\t\\t\\t\\t\\t\\t\\t\\t\\t      <div duration=\"1dy\" freq=\"5mi\" class=\"chart\" symbol=\"US:EURUSD\" id=\"chart_cont2139702522\"></div>&#13;\\n\\t\\t\\t\\t\\t\\t\\t\\t\\t      <div style=\"clear:both;\"></div>\\t&#13;\\n\\t\\t\\t\\t\\t\\t\\t      </div>&#13;\\n\\t\\t\\t\\t\\t\\t\\t\\t\\t\\t\\t\\t\\t\\t\\t\\t\\t\\t\\t\\t&#13;\\n\\t\\t\\t\\t</div>&#13;\\n\\t\\t\\t</div>', 'id': '1187688914', 'title': 'Dollar finishes flat against the euro after volatile week'}, {'timestamp': '10/16/2015 4:01:40 PM', 'details': u'<div class=\"nv-details\">\\t\\t\\t\\t\\t\\t\\t\\t&#13;\\n\\t\\t\\t\\t<div class=\"bgq-cont\">&#13;\\n          &#13;\\n                           &#13;\\n\\t\\t\\t\\t\\t\\t\\t      <div class=\"bgQuote   inst up\">&#13;\\n\\t\\t\\t\\t\\t\\t\\t\\t      <div class=\"comp-name\"><strong><a href=\"/investing/stock/SPX\" target=\"_blank\">S&amp;P 500 Index</a></strong></div>&#13;\\n                      <span class=\"bgChannel\">/quotes/zigman/3870025/realtime</span>&#13;\\n\\t\\t\\t\\t\\t\\t\\t\\t      <div class=\"comp-data\">&#13;\\n\\t\\t\\t\\t\\t\\t\\t\\t\\t      <span class=\"disp symbol\"><a href=\"/investing/stock/SPX\" target=\"_blank\">SPX</a></span>&#13;\\n\\t\\t\\t\\t\\t\\t\\t\\t\\t      <span class=\"disp bgLast\">2,033.11</span> &#13;\\n\\t\\t\\t\\t\\t\\t\\t\\t\\t      <span class=\"disp bgChange\">+9.25</span>&#13;\\n\\t\\t\\t\\t\\t\\t\\t\\t\\t      <span class=\"disp bgPercentChange\">+0.46%</span>\\t\\t\\t\\t\\t\\t\\t\\t&#13;\\n\\t\\t\\t\\t\\t\\t\\t\\t      </div>&#13;\\n\\t\\t\\t\\t\\t\\t\\t\\t      <div style=\"clear:both;\"></div>\\t\\t\\t\\t\\t\\t\\t\\t\\t\\t\\t\\t\\t\\t\\t\\t&#13;\\n\\t\\t\\t\\t\\t\\t\\t\\t&#13;\\n\\t\\t\\t\\t\\t\\t\\t\\t\\t      <div duration=\"1dy\" freq=\"5mi\" class=\"chart\" symbol=\"US:SPX\" id=\"chart_cont124732823\"></div>&#13;\\n\\t\\t\\t\\t\\t\\t\\t\\t\\t      <div style=\"clear:both;\"></div>\\t&#13;\\n\\t\\t\\t\\t\\t\\t\\t      </div>&#13;\\n\\t\\t\\t\\t\\t\\t\\t\\t\\t\\t\\t\\t\\t\\t\\t&#13;\\n                           &#13;\\n\\t\\t\\t\\t\\t\\t\\t      <div class=\"bgQuote   inst up\">&#13;\\n\\t\\t\\t\\t\\t\\t\\t\\t      <div class=\"comp-name\"><strong><a href=\"/investing/stock/DJIA\" target=\"_blank\">Dow Jones Industrial Average</a></strong></div>&#13;\\n                      <span class=\"bgChannel\">/quotes/zigman/627449/realtime</span>&#13;\\n\\t\\t\\t\\t\\t\\t\\t\\t      <div class=\"comp-data\">&#13;\\n\\t\\t\\t\\t\\t\\t\\t\\t\\t      <span class=\"disp symbol\"><a href=\"/investing/stock/DJIA\" target=\"_blank\">DJIA</a></span>&#13;\\n\\t\\t\\t\\t\\t\\t\\t\\t\\t      <span class=\"disp bgLast\">17,215.97</span> &#13;\\n\\t\\t\\t\\t\\t\\t\\t\\t\\t      <span class=\"disp bgChange\">+74.22</span>&#13;\\n\\t\\t\\t\\t\\t\\t\\t\\t\\t      <span class=\"disp bgPercentChange\">+0.43%</span>\\t\\t\\t\\t\\t\\t\\t\\t&#13;\\n\\t\\t\\t\\t\\t\\t\\t\\t      </div>&#13;\\n\\t\\t\\t\\t\\t\\t\\t\\t      <div style=\"clear:both;\"></div>\\t\\t\\t\\t\\t\\t\\t\\t\\t\\t\\t\\t\\t\\t\\t\\t&#13;\\n\\t\\t\\t\\t\\t\\t\\t\\t&#13;\\n\\t\\t\\t\\t\\t\\t\\t\\t\\t      <div duration=\"1dy\" freq=\"5mi\" class=\"chart\" symbol=\"US:DJIA\" id=\"chart_cont70394702\"></div>&#13;\\n\\t\\t\\t\\t\\t\\t\\t\\t\\t      <div style=\"clear:both;\"></div>\\t&#13;\\n\\t\\t\\t\\t\\t\\t\\t      </div>&#13;\\n\\t\\t\\t\\t\\t\\t\\t\\t\\t\\t\\t\\t\\t\\t\\t\\t\\t\\t\\t\\t&#13;\\n\\t\\t\\t\\t</div>&#13;\\n\\t\\t\\t</div>', 'id': '1187688748', 'title': 'Dow industrials end around 74 points higher'}, {'timestamp': '10/16/2015 4:01:22 PM', 'details': u'<div class=\"nv-details\">\\t\\t\\t\\t\\t\\t\\t\\t&#13;\\n\\t\\t\\t\\t<div class=\"bgq-cont\">&#13;\\n          &#13;\\n                           &#13;\\n\\t\\t\\t\\t\\t\\t\\t      <div class=\"bgQuote   inst up\">&#13;\\n\\t\\t\\t\\t\\t\\t\\t\\t      <div class=\"comp-name\"><strong><a href=\"/investing/stock/SPX\" target=\"_blank\">S&amp;P 500 Index</a></strong></div>&#13;\\n                      <span class=\"bgChannel\">/quotes/zigman/3870025/realtime</span>&#13;\\n\\t\\t\\t\\t\\t\\t\\t\\t      <div class=\"comp-data\">&#13;\\n\\t\\t\\t\\t\\t\\t\\t\\t\\t      <span class=\"disp symbol\"><a href=\"/investing/stock/SPX\" target=\"_blank\">SPX</a></span>&#13;\\n\\t\\t\\t\\t\\t\\t\\t\\t\\t      <span class=\"disp bgLast\">2,033.11</span> &#13;\\n\\t\\t\\t\\t\\t\\t\\t\\t\\t      <span class=\"disp bgChange\">+9.25</span>&#13;\\n\\t\\t\\t\\t\\t\\t\\t\\t\\t      <span class=\"disp bgPercentChange\">+0.46%</span>\\t\\t\\t\\t\\t\\t\\t\\t&#13;\\n\\t\\t\\t\\t\\t\\t\\t\\t      </div>&#13;\\n\\t\\t\\t\\t\\t\\t\\t\\t      <div style=\"clear:both;\"></div>\\t\\t\\t\\t\\t\\t\\t\\t\\t\\t\\t\\t\\t\\t\\t\\t&#13;\\n\\t\\t\\t\\t\\t\\t\\t\\t&#13;\\n\\t\\t\\t\\t\\t\\t\\t\\t\\t      <div duration=\"1dy\" freq=\"5mi\" class=\"chart\" symbol=\"US:SPX\" id=\"chart_cont124732823\"></div>&#13;\\n\\t\\t\\t\\t\\t\\t\\t\\t\\t      <div style=\"clear:both;\"></div>\\t&#13;\\n\\t\\t\\t\\t\\t\\t\\t      </div>&#13;\\n\\t\\t\\t\\t\\t\\t\\t\\t\\t\\t\\t\\t\\t\\t\\t&#13;\\n                           &#13;\\n\\t\\t\\t\\t\\t\\t\\t      <div class=\"bgQuote   inst up\">&#13;\\n\\t\\t\\t\\t\\t\\t\\t\\t      <div class=\"comp-name\"><strong><a href=\"/investing/stock/DJIA\" target=\"_blank\">Dow Jones Industrial Average</a></strong></div>&#13;\\n                      <span class=\"bgChannel\">/quotes/zigman/627449/realtime</span>&#13;\\n\\t\\t\\t\\t\\t\\t\\t\\t      <div class=\"comp-data\">&#13;\\n\\t\\t\\t\\t\\t\\t\\t\\t\\t      <span class=\"disp symbol\"><a href=\"/investing/stock/DJIA\" target=\"_blank\">DJIA</a></span>&#13;\\n\\t\\t\\t\\t\\t\\t\\t\\t\\t      <span class=\"disp bgLast\">17,215.97</span> &#13;\\n\\t\\t\\t\\t\\t\\t\\t\\t\\t      <span class=\"disp bgChange\">+74.22</span>&#13;\\n\\t\\t\\t\\t\\t\\t\\t\\t\\t      <span class=\"disp bgPercentChange\">+0.43%</span>\\t\\t\\t\\t\\t\\t\\t\\t&#13;\\n\\t\\t\\t\\t\\t\\t\\t\\t      </div>&#13;\\n\\t\\t\\t\\t\\t\\t\\t\\t      <div style=\"clear:both;\"></div>\\t\\t\\t\\t\\t\\t\\t\\t\\t\\t\\t\\t\\t\\t\\t\\t&#13;\\n\\t\\t\\t\\t\\t\\t\\t\\t&#13;\\n\\t\\t\\t\\t\\t\\t\\t\\t\\t      <div duration=\"1dy\" freq=\"5mi\" class=\"chart\" symbol=\"US:DJIA\" id=\"chart_cont70394702\"></div>&#13;\\n\\t\\t\\t\\t\\t\\t\\t\\t\\t      <div style=\"clear:both;\"></div>\\t&#13;\\n\\t\\t\\t\\t\\t\\t\\t      </div>&#13;\\n\\t\\t\\t\\t\\t\\t\\t\\t\\t\\t\\t\\t\\t\\t\\t\\t\\t\\t\\t\\t&#13;\\n\\t\\t\\t\\t</div>&#13;\\n\\t\\t\\t</div>', 'id': '1187688741', 'title': 'S&P 500 settles 0.5% higher; Nasdaq up 0.3%'}, {'timestamp': '10/16/2015 4:00:58 PM', 'details': u'<div class=\"nv-details\">\\t\\t\\t\\t\\t\\t\\t\\t&#13;\\n\\t\\t\\t\\t<div class=\"bgq-cont\">&#13;\\n          &#13;\\n                           &#13;\\n\\t\\t\\t\\t\\t\\t\\t      <div class=\"bgQuote   inst up\">&#13;\\n\\t\\t\\t\\t\\t\\t\\t\\t      <div class=\"comp-name\"><strong><a href=\"/investing/stock/SPX\" target=\"_blank\">S&amp;P 500 Index</a></strong></div>&#13;\\n                      <span class=\"bgChannel\">/quotes/zigman/3870025/realtime</span>&#13;\\n\\t\\t\\t\\t\\t\\t\\t\\t      <div class=\"comp-data\">&#13;\\n\\t\\t\\t\\t\\t\\t\\t\\t\\t      <span class=\"disp symbol\"><a href=\"/investing/stock/SPX\" target=\"_blank\">SPX</a></span>&#13;\\n\\t\\t\\t\\t\\t\\t\\t\\t\\t      <span class=\"disp bgLast\">2,033.11</span> &#13;\\n\\t\\t\\t\\t\\t\\t\\t\\t\\t      <span class=\"disp bgChange\">+9.25</span>&#13;\\n\\t\\t\\t\\t\\t\\t\\t\\t\\t      <span class=\"disp bgPercentChange\">+0.46%</span>\\t\\t\\t\\t\\t\\t\\t\\t&#13;\\n\\t\\t\\t\\t\\t\\t\\t\\t      </div>&#13;\\n\\t\\t\\t\\t\\t\\t\\t\\t      <div style=\"clear:both;\"></div>\\t\\t\\t\\t\\t\\t\\t\\t\\t\\t\\t\\t\\t\\t\\t\\t&#13;\\n\\t\\t\\t\\t\\t\\t\\t\\t&#13;\\n\\t\\t\\t\\t\\t\\t\\t\\t\\t      <div duration=\"1dy\" freq=\"5mi\" class=\"chart\" symbol=\"US:SPX\" id=\"chart_cont124732823\"></div>&#13;\\n\\t\\t\\t\\t\\t\\t\\t\\t\\t      <div style=\"clear:both;\"></div>\\t&#13;\\n\\t\\t\\t\\t\\t\\t\\t      </div>&#13;\\n\\t\\t\\t\\t\\t\\t\\t\\t\\t\\t\\t\\t\\t\\t\\t&#13;\\n                           &#13;\\n\\t\\t\\t\\t\\t\\t\\t      <div class=\"bgQuote   inst up\">&#13;\\n\\t\\t\\t\\t\\t\\t\\t\\t      <div class=\"comp-name\"><strong><a href=\"/investing/stock/DJIA\" target=\"_blank\">Dow Jones Industrial Average</a></strong></div>&#13;\\n                      <span class=\"bgChannel\">/quotes/zigman/627449/realtime</span>&#13;\\n\\t\\t\\t\\t\\t\\t\\t\\t      <div class=\"comp-data\">&#13;\\n\\t\\t\\t\\t\\t\\t\\t\\t\\t      <span class=\"disp symbol\"><a href=\"/investing/stock/DJIA\" target=\"_blank\">DJIA</a></span>&#13;\\n\\t\\t\\t\\t\\t\\t\\t\\t\\t      <span class=\"disp bgLast\">17,215.97</span> &#13;\\n\\t\\t\\t\\t\\t\\t\\t\\t\\t      <span class=\"disp bgChange\">+74.22</span>&#13;\\n\\t\\t\\t\\t\\t\\t\\t\\t\\t      <span class=\"disp bgPercentChange\">+0.43%</span>\\t\\t\\t\\t\\t\\t\\t\\t&#13;\\n\\t\\t\\t\\t\\t\\t\\t\\t      </div>&#13;\\n\\t\\t\\t\\t\\t\\t\\t\\t      <div style=\"clear:both;\"></div>\\t\\t\\t\\t\\t\\t\\t\\t\\t\\t\\t\\t\\t\\t\\t\\t&#13;\\n\\t\\t\\t\\t\\t\\t\\t\\t&#13;\\n\\t\\t\\t\\t\\t\\t\\t\\t\\t      <div duration=\"1dy\" freq=\"5mi\" class=\"chart\" symbol=\"US:DJIA\" id=\"chart_cont70394702\"></div>&#13;\\n\\t\\t\\t\\t\\t\\t\\t\\t\\t      <div style=\"clear:both;\"></div>\\t&#13;\\n\\t\\t\\t\\t\\t\\t\\t      </div>&#13;\\n\\t\\t\\t\\t\\t\\t\\t\\t\\t\\t\\t\\t\\t\\t\\t\\t\\t\\t\\t\\t&#13;\\n\\t\\t\\t\\t</div>&#13;\\n\\t\\t\\t</div>', 'id': '1187688730', 'title': 'Stocks end higher, score third straight weekly rise'}, {'timestamp': '10/16/2015 4:00:08 PM', 'details': u'<div class=\"nv-details\">\\t\\t\\t\\t&#13;\\n\\t\\t\\t\\t<div>&#13;\\n\\t\\t\\t\\t\\t&#13;\\n\\t\\t\\t\\t\\t\\t<span>By Tomi Kilgore</span>&#13;\\n          <span>Oct. 16, 2015, 4:00 p.m. EST</span>&#13;\\n\\t\\t\\t\\t</div>&#13;\\n\\t\\t\\t\\t<p class=\"abs\">&#13;\\n\\t\\t\\t\\tThe Fresh Market Inc.\\'s stock  rocketed as much as 14% before paring some gains in afternoon trade Friday, erasing an earlier loss of as much as 2.6%, in the wake of a report that the specialty grocer\\'s founder was mulling a buyout bid. Founder and Chairman Ray Berry was...&#13;\\n\\t\\t\\t\\t\\t\\t\\t&#13;\\n\\t\\t\\t\\t\\t\\t\\t&#13;\\n\\t\\t\\t\\t\\t\\t<a class=\"read-more\" rel=\"nofollow\" href=\"/story/fresh-market-stocks-swings-to-sharp-gain-company-declines-to-comment-2015-10-16\" target=\"_blank\">Full Story</a>&#13;\\n\\t\\t\\t\\t</p>\\t\\t\\t\\t&#13;\\n\\t\\t\\t\\t<div class=\"bgq-cont\">&#13;\\n          &#13;\\n                           &#13;\\n\\t\\t\\t\\t\\t\\t\\t      <div class=\"bgQuote   inst up\">&#13;\\n\\t\\t\\t\\t\\t\\t\\t\\t      <div class=\"comp-name\"><strong><a href=\"/investing/stock/TFM\" target=\"_blank\">Fresh Market Inc.</a></strong></div>&#13;\\n                      <span class=\"bgChannel\">/quotes/zigman/711861/composite</span>&#13;\\n\\t\\t\\t\\t\\t\\t\\t\\t      <div class=\"comp-data\">&#13;\\n\\t\\t\\t\\t\\t\\t\\t\\t\\t      <span class=\"disp symbol\"><a href=\"/investing/stock/TFM\" target=\"_blank\">TFM</a></span>&#13;\\n\\t\\t\\t\\t\\t\\t\\t\\t\\t      <span class=\"disp bgLast\">26.19</span> &#13;\\n\\t\\t\\t\\t\\t\\t\\t\\t\\t      <span class=\"disp bgChange\">+1.90</span>&#13;\\n\\t\\t\\t\\t\\t\\t\\t\\t\\t      <span class=\"disp bgPercentChange\">+7.82%</span>\\t\\t\\t\\t\\t\\t\\t\\t&#13;\\n\\t\\t\\t\\t\\t\\t\\t\\t      </div>&#13;\\n\\t\\t\\t\\t\\t\\t\\t\\t      <div style=\"clear:both;\"></div>\\t\\t\\t\\t\\t\\t\\t\\t\\t\\t\\t\\t\\t\\t\\t\\t&#13;\\n\\t\\t\\t\\t\\t\\t\\t\\t&#13;\\n\\t\\t\\t\\t\\t\\t\\t\\t\\t      <div duration=\"1dy\" freq=\"5mi\" class=\"chart\" symbol=\"US:TFM\" id=\"chart_cont1999992811\"></div>&#13;\\n\\t\\t\\t\\t\\t\\t\\t\\t\\t      <div style=\"clear:both;\"></div>\\t&#13;\\n\\t\\t\\t\\t\\t\\t\\t      </div>&#13;\\n\\t\\t\\t\\t\\t\\t\\t\\t\\t\\t\\t\\t\\t\\t\\t\\t\\t\\t\\t\\t&#13;\\n\\t\\t\\t\\t</div>&#13;\\n\\t\\t\\t</div>', 'id': '1187688686', 'title': 'Fresh Market stocks swings to sharp gain; company declines to comment'}, {'timestamp': '10/16/2015 3:47:30 PM', 'details': u'<div class=\"nv-details\">\\t\\t\\t\\t&#13;\\n\\t\\t\\t\\t<div>&#13;\\n\\t\\t\\t\\t\\t<img class=\"thumb\" src=\"http://s.marketwatch.com/public/resources/MWimages/MW-DW510_galaxy_MA_20151015155207.jpg\">&#13;\\n\\t\\t\\t\\t\\t&#13;\\n\\t\\t\\t\\t\\t\\t<span>By David Marino-Nachison</span>&#13;\\n          <span>Oct. 16, 2015, 3:48 p.m. EST</span>&#13;\\n\\t\\t\\t\\t</div>&#13;\\n\\t\\t\\t\\t<p class=\"abs\">&#13;\\n\\t\\t\\t\\tThe United Soccer League plans to continue a burst of expansion that has spread its footprint across nearly 30 markets in the United States and Canada, its president said Thursday. &#13;\\n\\t\\t\\t\\t\\t\\t\\t&#13;\\n\\t\\t\\t\\t\\t\\t\\t&#13;\\n\\t\\t\\t\\t\\t\\t<a class=\"read-more\" rel=\"nofollow\" href=\"/story/soccers-booming-us-minor-league-plans-more-expansion-2015-10-15\" target=\"_blank\">Full Story</a>&#13;\\n\\t\\t\\t\\t</p>\\t\\t\\t\\t&#13;\\n\\t\\t\\t</div>', 'id': '1187687832', 'title': u'Soccer\\u2019s booming U.S. minor league plans more expansion'}, {'timestamp': '10/16/2015 3:46:43 PM', 'details': u'<div class=\"nv-details\">\\t\\t\\t\\t&#13;\\n\\t\\t\\t\\t<div>&#13;\\n\\t\\t\\t\\t\\t<img class=\"thumb\" src=\"http://s.marketwatch.com/public/resources/MWimages/MW-DM673_sander_MA_20150526110601.jpg\">&#13;\\n\\t\\t\\t\\t\\t&#13;\\n\\t\\t\\t\\t\\t\\t<span>By Mark DeCambre</span>&#13;\\n\\t\\t\\t\\t\\t<span>Biotech Stocks</span>&#13;\\n          <span>Oct. 16, 2015, 3:47 p.m. EST</span>&#13;\\n\\t\\t\\t\\t</div>&#13;\\n\\t\\t\\t\\t<p class=\"abs\">&#13;\\n\\t\\t\\t\\tVermont Senator Bernie Sanders has one thing in common with Hillary Clinton: He\\u2019s not big on overpriced pharmaceuticals.&#13;\\n\\t\\t\\t\\t\\t\\t\\t&#13;\\n\\t\\t\\t\\t\\t\\t\\t&#13;\\n\\t\\t\\t\\t\\t\\t<a class=\"read-more\" rel=\"nofollow\" href=\"/story/bernie-sanders-doesnt-need-martin-shkrelis-stinkin-biotech-money-2015-10-16\" target=\"_blank\">Full Story</a>&#13;\\n\\t\\t\\t\\t</p>\\t\\t\\t\\t&#13;\\n\\t\\t\\t\\t<div class=\"bgq-cont\">&#13;\\n          &#13;\\n                           &#13;\\n\\t\\t\\t\\t\\t\\t\\t      <div class=\"bgQuote   inst down\">&#13;\\n\\t\\t\\t\\t\\t\\t\\t\\t      <div class=\"comp-name\"><strong><a href=\"/investing/stock/IBB\" target=\"_blank\">iShares Nasdaq Biotechnology ETF</a></strong></div>&#13;\\n                      <span class=\"bgChannel\">/quotes/zigman/85342/composite</span>&#13;\\n\\t\\t\\t\\t\\t\\t\\t\\t      <div class=\"comp-data\">&#13;\\n\\t\\t\\t\\t\\t\\t\\t\\t\\t      <span class=\"disp symbol\"><a href=\"/investing/stock/IBB\" target=\"_blank\">IBB</a></span>&#13;\\n\\t\\t\\t\\t\\t\\t\\t\\t\\t      <span class=\"disp bgLast\">314.32</span> &#13;\\n\\t\\t\\t\\t\\t\\t\\t\\t\\t      <span class=\"disp bgChange\">-0.44</span>&#13;\\n\\t\\t\\t\\t\\t\\t\\t\\t\\t      <span class=\"disp bgPercentChange\">-0.14%</span>\\t\\t\\t\\t\\t\\t\\t\\t&#13;\\n\\t\\t\\t\\t\\t\\t\\t\\t      </div>&#13;\\n\\t\\t\\t\\t\\t\\t\\t\\t      <div style=\"clear:both;\"></div>\\t\\t\\t\\t\\t\\t\\t\\t\\t\\t\\t\\t\\t\\t\\t\\t&#13;\\n\\t\\t\\t\\t\\t\\t\\t\\t&#13;\\n\\t\\t\\t\\t\\t\\t\\t\\t\\t      <div duration=\"1dy\" freq=\"5mi\" class=\"chart\" symbol=\"US:IBB\" id=\"chart_cont325606319\"></div>&#13;\\n\\t\\t\\t\\t\\t\\t\\t\\t\\t      <div style=\"clear:both;\"></div>\\t&#13;\\n\\t\\t\\t\\t\\t\\t\\t      </div>&#13;\\n\\t\\t\\t\\t\\t\\t\\t\\t\\t\\t\\t\\t\\t\\t\\t\\t\\t\\t\\t\\t&#13;\\n\\t\\t\\t\\t</div>&#13;\\n\\t\\t\\t</div>', 'id': '1187687702', 'title': u\"Bernie Sanders doesn't need Martin Shkreli\\u2019s stinkin\\u2019 biotech money\"}, {'timestamp': '10/16/2015 3:39:57 PM', 'details': u'<div class=\"nv-details\">\\t\\t\\t\\t&#13;\\n\\t\\t\\t\\t<div>&#13;\\n\\t\\t\\t\\t\\t<img class=\"thumb\" src=\"http://s.marketwatch.com/public/resources/MWimages/MW-DW568_WMT_20_MA_20151016102528.jpg\">&#13;\\n\\t\\t\\t\\t\\t&#13;\\n\\t\\t\\t\\t\\t\\t<span>By Philip van Doorn</span>&#13;\\n          <span>Oct. 16, 2015, 3:40 p.m. EST</span>&#13;\\n\\t\\t\\t\\t</div>&#13;\\n\\t\\t\\t\\t<p class=\"abs\">&#13;\\n\\t\\t\\t\\tTech companies made important announcements this week.&#13;\\n\\t\\t\\t\\t\\t\\t\\t&#13;\\n\\t\\t\\t\\t\\t\\t\\t&#13;\\n\\t\\t\\t\\t\\t\\t<a class=\"read-more\" rel=\"nofollow\" href=\"/story/wal-mart-reconsidered-and-nine-more-money-stories-you-may-have-missed-2015-10-16\" target=\"_blank\">Full Story</a>&#13;\\n\\t\\t\\t\\t</p>\\t\\t\\t\\t&#13;\\n\\t\\t\\t\\t<div class=\"bgq-cont\">&#13;\\n          &#13;\\n                           &#13;\\n\\t\\t\\t\\t\\t\\t\\t      <div class=\"bgQuote   inst down\">&#13;\\n\\t\\t\\t\\t\\t\\t\\t\\t      <div class=\"comp-name\"><strong><a href=\"/investing/stock/WMT\" target=\"_blank\">Wal-Mart Stores Inc.</a></strong></div>&#13;\\n                      <span class=\"bgChannel\">/quotes/zigman/245476/composite</span>&#13;\\n\\t\\t\\t\\t\\t\\t\\t\\t      <div class=\"comp-data\">&#13;\\n\\t\\t\\t\\t\\t\\t\\t\\t\\t      <span class=\"disp symbol\"><a href=\"/investing/stock/WMT\" target=\"_blank\">WMT</a></span>&#13;\\n\\t\\t\\t\\t\\t\\t\\t\\t\\t      <span class=\"disp bgLast\">58.89</span> &#13;\\n\\t\\t\\t\\t\\t\\t\\t\\t\\t      <span class=\"disp bgChange\">-0.44</span>&#13;\\n\\t\\t\\t\\t\\t\\t\\t\\t\\t      <span class=\"disp bgPercentChange\">-0.74%</span>\\t\\t\\t\\t\\t\\t\\t\\t&#13;\\n\\t\\t\\t\\t\\t\\t\\t\\t      </div>&#13;\\n\\t\\t\\t\\t\\t\\t\\t\\t      <div style=\"clear:both;\"></div>\\t\\t\\t\\t\\t\\t\\t\\t\\t\\t\\t\\t\\t\\t\\t\\t&#13;\\n\\t\\t\\t\\t\\t\\t\\t\\t&#13;\\n\\t\\t\\t\\t\\t\\t\\t\\t\\t      <div duration=\"1dy\" freq=\"5mi\" class=\"chart\" symbol=\"US:WMT\" id=\"chart_cont1240477934\"></div>&#13;\\n\\t\\t\\t\\t\\t\\t\\t\\t\\t      <div style=\"clear:both;\"></div>\\t&#13;\\n\\t\\t\\t\\t\\t\\t\\t      </div>&#13;\\n\\t\\t\\t\\t\\t\\t\\t\\t\\t\\t\\t\\t\\t\\t\\t&#13;\\n                           &#13;\\n\\t\\t\\t\\t\\t\\t\\t      <div class=\"bgQuote   inst up\">&#13;\\n\\t\\t\\t\\t\\t\\t\\t\\t      <div class=\"comp-name\"><strong><a href=\"/investing/stock/AMZN\" target=\"_blank\">Amazon.com Inc.</a></strong></div>&#13;\\n                      <span class=\"bgChannel\">/quotes/zigman/63011/composite</span>&#13;\\n\\t\\t\\t\\t\\t\\t\\t\\t      <div class=\"comp-data\">&#13;\\n\\t\\t\\t\\t\\t\\t\\t\\t\\t      <span class=\"disp symbol\"><a href=\"/investing/stock/AMZN\" target=\"_blank\">AMZN</a></span>&#13;\\n\\t\\t\\t\\t\\t\\t\\t\\t\\t      <span class=\"disp bgLast\">570.76</span> &#13;\\n\\t\\t\\t\\t\\t\\t\\t\\t\\t      <span class=\"disp bgChange\">+8.32</span>&#13;\\n\\t\\t\\t\\t\\t\\t\\t\\t\\t      <span class=\"disp bgPercentChange\">+1.48%</span>\\t\\t\\t\\t\\t\\t\\t\\t&#13;\\n\\t\\t\\t\\t\\t\\t\\t\\t      </div>&#13;\\n\\t\\t\\t\\t\\t\\t\\t\\t      <div style=\"clear:both;\"></div>\\t\\t\\t\\t\\t\\t\\t\\t\\t\\t\\t\\t\\t\\t\\t\\t&#13;\\n\\t\\t\\t\\t\\t\\t\\t\\t&#13;\\n\\t\\t\\t\\t\\t\\t\\t\\t\\t      <div duration=\"1dy\" freq=\"5mi\" class=\"chart\" symbol=\"US:AMZN\" id=\"chart_cont1811140540\"></div>&#13;\\n\\t\\t\\t\\t\\t\\t\\t\\t\\t      <div style=\"clear:both;\"></div>\\t&#13;\\n\\t\\t\\t\\t\\t\\t\\t      </div>&#13;\\n\\t\\t\\t\\t\\t\\t\\t\\t\\t\\t\\t\\t\\t\\t\\t\\t\\t\\t\\t\\t&#13;\\n\\t\\t\\t\\t</div>&#13;\\n\\t\\t\\t</div>', 'id': '1187687296', 'title': 'Wal-Mart, reconsidered, and nine more money stories you may have missed'}, {'timestamp': '10/16/2015 3:31:52 PM', 'details': u'<div class=\"nv-details\">\\t\\t\\t\\t&#13;\\n\\t\\t\\t\\t<div>&#13;\\n\\t\\t\\t\\t\\t<img class=\"thumb\" src=\"http://s.marketwatch.com/public/resources/MWimages/MW-DM516_crudeo_MA_20150521154144.jpg\">&#13;\\n\\t\\t\\t\\t\\t&#13;\\n\\t\\t\\t\\t\\t\\t<span>By Myra P. Saefong</span>&#13;\\n\\t\\t\\t\\t\\t<span>Futures Movers</span>&#13;\\n          <span>Oct. 16, 2015, 3:32 p.m. EST</span>&#13;\\n\\t\\t\\t\\t</div>&#13;\\n\\t\\t\\t\\t<p class=\"abs\">&#13;\\n\\t\\t\\t\\tOil futures finish higher after a four-session decline, but log a weekly decline of almost 5%.&#13;\\n\\t\\t\\t\\t\\t\\t\\t&#13;\\n\\t\\t\\t\\t\\t\\t\\t&#13;\\n\\t\\t\\t\\t\\t\\t<a class=\"read-more\" rel=\"nofollow\" href=\"/story/oil-attempts-to-recover-from-major-selloff-2015-10-16\" target=\"_blank\">Full Story</a>&#13;\\n\\t\\t\\t\\t</p>\\t\\t\\t\\t&#13;\\n\\t\\t\\t\\t<div class=\"bgq-cont\">&#13;\\n          &#13;\\n                           &#13;\\n\\t\\t\\t\\t\\t\\t\\t      <div class=\"bgQuote   inst up\">&#13;\\n\\t\\t\\t\\t\\t\\t\\t\\t      <div class=\"comp-name\"><strong><a href=\"/investing/stock/CLX5\" target=\"_blank\">Crude Oil - Electronic (NYMEX) Nov 2015</a></strong></div>&#13;\\n                      <span class=\"bgChannel\">/quotes/zigman/2331098/delayed</span>&#13;\\n\\t\\t\\t\\t\\t\\t\\t\\t      <div class=\"comp-data\">&#13;\\n\\t\\t\\t\\t\\t\\t\\t\\t\\t      <span class=\"disp symbol\"><a href=\"/investing/stock/CLX5\" target=\"_blank\">CLX5</a></span>&#13;\\n\\t\\t\\t\\t\\t\\t\\t\\t\\t      <span class=\"disp bgLast\">47.26</span> &#13;\\n\\t\\t\\t\\t\\t\\t\\t\\t\\t      <span class=\"disp bgChange\">+0.88</span>&#13;\\n\\t\\t\\t\\t\\t\\t\\t\\t\\t      <span class=\"disp bgPercentChange\">+1.90%</span>\\t\\t\\t\\t\\t\\t\\t\\t&#13;\\n\\t\\t\\t\\t\\t\\t\\t\\t      </div>&#13;\\n\\t\\t\\t\\t\\t\\t\\t\\t      <div style=\"clear:both;\"></div>\\t\\t\\t\\t\\t\\t\\t\\t\\t\\t\\t\\t\\t\\t\\t\\t&#13;\\n\\t\\t\\t\\t\\t\\t\\t\\t&#13;\\n\\t\\t\\t\\t\\t\\t\\t\\t\\t      <div duration=\"1dy\" freq=\"5mi\" class=\"chart\" symbol=\"US:CLX5\" id=\"chart_cont500530602\"></div>&#13;\\n\\t\\t\\t\\t\\t\\t\\t\\t\\t      <div style=\"clear:both;\"></div>\\t&#13;\\n\\t\\t\\t\\t\\t\\t\\t      </div>&#13;\\n\\t\\t\\t\\t\\t\\t\\t\\t\\t\\t\\t\\t\\t\\t\\t&#13;\\n                           &#13;\\n\\t\\t\\t\\t\\t\\t\\t      <div class=\"bgQuote   inst up\">&#13;\\n\\t\\t\\t\\t\\t\\t\\t\\t      <div class=\"comp-name\"><strong><a href=\"/investing/stock/LCOZ5?countrycode=UK\" target=\"_blank\">Brent Crude (ICE EU) Dec 2015</a></strong></div>&#13;\\n                      <span class=\"bgChannel\">/quotes/zigman/2666550/delayed</span>&#13;\\n\\t\\t\\t\\t\\t\\t\\t\\t      <div class=\"comp-data\">&#13;\\n\\t\\t\\t\\t\\t\\t\\t\\t\\t      <span class=\"disp symbol\"><a href=\"/investing/stock/LCOZ5?countrycode=UK\" target=\"_blank\">LCOZ5</a></span>&#13;\\n\\t\\t\\t\\t\\t\\t\\t\\t\\t      <span class=\"disp bgLast\">50.46</span> &#13;\\n\\t\\t\\t\\t\\t\\t\\t\\t\\t      <span class=\"disp bgChange\">+0.73</span>&#13;\\n\\t\\t\\t\\t\\t\\t\\t\\t\\t      <span class=\"disp bgPercentChange\">+1.47%</span>\\t\\t\\t\\t\\t\\t\\t\\t&#13;\\n\\t\\t\\t\\t\\t\\t\\t\\t      </div>&#13;\\n\\t\\t\\t\\t\\t\\t\\t\\t      <div style=\"clear:both;\"></div>\\t\\t\\t\\t\\t\\t\\t\\t\\t\\t\\t\\t\\t\\t\\t\\t&#13;\\n\\t\\t\\t\\t\\t\\t\\t\\t&#13;\\n\\t\\t\\t\\t\\t\\t\\t\\t\\t      <div duration=\"1dy\" freq=\"5mi\" class=\"chart\" symbol=\"UK:LCOZ5\" id=\"chart_cont757002849\"></div>&#13;\\n\\t\\t\\t\\t\\t\\t\\t\\t\\t      <div style=\"clear:both;\"></div>\\t&#13;\\n\\t\\t\\t\\t\\t\\t\\t      </div>&#13;\\n\\t\\t\\t\\t\\t\\t\\t\\t\\t\\t\\t\\t\\t\\t\\t\\t\\t\\t\\t\\t&#13;\\n\\t\\t\\t\\t</div>&#13;\\n\\t\\t\\t</div>', 'id': '1187686817', 'title': 'Oil gains, but ends with a nearly 5% weekly loss'}, {'timestamp': '10/16/2015 3:29:34 PM', 'details': u'<div class=\"nv-details\">\\t\\t\\t\\t&#13;\\n\\t\\t\\t\\t<div>&#13;\\n\\t\\t\\t\\t\\t&#13;\\n\\t\\t\\t\\t\\t\\t<span>By Greg Robb</span>&#13;\\n          <span>Oct. 16, 2015, 3:30 p.m. EST</span>&#13;\\n\\t\\t\\t\\t</div>&#13;\\n\\t\\t\\t\\t<p class=\"abs\">&#13;\\n\\t\\t\\t\\tWASHINGTON (MarketWatch) - Cleveland Fed President Loretta Mester on Friday said politics have never been a factor in monetary policy decisions, pushing back on Donald Trump who earlier Friday said Fed Chairwoman Janet Yellen was keeping rates low to help President Barack...&#13;\\n\\t\\t\\t\\t\\t\\t\\t&#13;\\n\\t\\t\\t\\t\\t\\t\\t&#13;\\n\\t\\t\\t\\t\\t\\t<a class=\"read-more\" rel=\"nofollow\" href=\"/story/feds-mester-says-politics-never-a-factor-in-monetary-policy-decisions-2015-10-16\" target=\"_blank\">Full Story</a>&#13;\\n\\t\\t\\t\\t</p>\\t\\t\\t\\t&#13;\\n\\t\\t\\t</div>', 'id': '1187686585', 'title': \"Fed's Mester says politics never a factor in monetary policy decisions\"}, {'timestamp': '10/16/2015 3:18:13 PM', 'details': u'<div class=\"nv-details\">\\t\\t\\t\\t&#13;\\n\\t\\t\\t\\t<div>&#13;\\n\\t\\t\\t\\t\\t<img class=\"thumb\" src=\"http://s.marketwatch.com/public/resources/MWimages/MW-DW584_Steven_MA_20151016151355.jpg\">&#13;\\n\\t\\t\\t\\t\\t&#13;\\n\\t\\t\\t\\t\\t\\t<span>By Yoree Koh</span>&#13;\\n\\t\\t\\t\\t\\t<span>The Wall Street Journal</span>&#13;\\n          <span>Oct. 16, 2015, 3:18 p.m. EST</span>&#13;\\n\\t\\t\\t\\t</div>&#13;\\n\\t\\t\\t\\t<p class=\"abs\">&#13;\\n\\t\\t\\t\\tSteve Ballmer confirms that he owns 4% of Twitter, making him one of the social media company\\u2019s top investors.&#13;\\n\\t\\t\\t\\t\\t\\t\\t&#13;\\n\\t\\t\\t\\t\\t\\t\\t&#13;\\n\\t\\t\\t\\t\\t\\t<a class=\"read-more\" rel=\"nofollow\" href=\"/story/steve-ballmer-is-now-one-of-twitters-biggest-shareholders-2015-10-16-151031518\" target=\"_blank\">Full Story</a>&#13;\\n\\t\\t\\t\\t</p>\\t\\t\\t\\t&#13;\\n\\t\\t\\t\\t<div class=\"bgq-cont\">&#13;\\n          &#13;\\n                           &#13;\\n\\t\\t\\t\\t\\t\\t\\t      <div class=\"bgQuote   inst up\">&#13;\\n\\t\\t\\t\\t\\t\\t\\t\\t      <div class=\"comp-name\"><strong><a href=\"/investing/stock/TWTR\" target=\"_blank\">Twitter Inc.</a></strong></div>&#13;\\n                      <span class=\"bgChannel\">/quotes/zigman/23556538/composite</span>&#13;\\n\\t\\t\\t\\t\\t\\t\\t\\t      <div class=\"comp-data\">&#13;\\n\\t\\t\\t\\t\\t\\t\\t\\t\\t      <span class=\"disp symbol\"><a href=\"/investing/stock/TWTR\" target=\"_blank\">TWTR</a></span>&#13;\\n\\t\\t\\t\\t\\t\\t\\t\\t\\t      <span class=\"disp bgLast\">31.15</span> &#13;\\n\\t\\t\\t\\t\\t\\t\\t\\t\\t      <span class=\"disp bgChange\">+1.44</span>&#13;\\n\\t\\t\\t\\t\\t\\t\\t\\t\\t      <span class=\"disp bgPercentChange\">+4.85%</span>\\t\\t\\t\\t\\t\\t\\t\\t&#13;\\n\\t\\t\\t\\t\\t\\t\\t\\t      </div>&#13;\\n\\t\\t\\t\\t\\t\\t\\t\\t      <div style=\"clear:both;\"></div>\\t\\t\\t\\t\\t\\t\\t\\t\\t\\t\\t\\t\\t\\t\\t\\t&#13;\\n\\t\\t\\t\\t\\t\\t\\t\\t&#13;\\n\\t\\t\\t\\t\\t\\t\\t\\t\\t      <div duration=\"1dy\" freq=\"5mi\" class=\"chart\" symbol=\"US:TWTR\" id=\"chart_cont1764458971\"></div>&#13;\\n\\t\\t\\t\\t\\t\\t\\t\\t\\t      <div style=\"clear:both;\"></div>\\t&#13;\\n\\t\\t\\t\\t\\t\\t\\t      </div>&#13;\\n\\t\\t\\t\\t\\t\\t\\t\\t\\t\\t\\t\\t\\t\\t\\t\\t\\t\\t\\t\\t&#13;\\n\\t\\t\\t\\t</div>&#13;\\n\\t\\t\\t</div>', 'id': '1187685915', 'title': u'Steve Ballmer is now one of Twitter\\u2019s biggest shareholders'}, {'timestamp': '10/16/2015 3:08:43 PM', 'details': u'<div class=\"nv-details\">\\t\\t\\t\\t&#13;\\n\\t\\t\\t\\t<div>&#13;\\n\\t\\t\\t\\t\\t&#13;\\n\\t\\t\\t\\t\\t\\t<span>By Sue Chang</span>&#13;\\n          <span>Oct. 16, 2015, 3:09 p.m. EST</span>&#13;\\n\\t\\t\\t\\t</div>&#13;\\n\\t\\t\\t\\t<p class=\"abs\">&#13;\\n\\t\\t\\t\\tShares of Facebook Inc.  rose Friday after a J.P. Morgan analyst reiterated his overweight rating on the stock. \"Facebook remains our top overall pick as we believe it is still early in monetizing Facebook\\'s base of 1.49 billion users, and the company is building other...&#13;\\n\\t\\t\\t\\t\\t\\t\\t&#13;\\n\\t\\t\\t\\t\\t\\t\\t&#13;\\n\\t\\t\\t\\t\\t\\t<a class=\"read-more\" rel=\"nofollow\" href=\"/story/facebook-shares-rise-as-jp-morgan-reiterates-overweight-rating-2015-10-16\" target=\"_blank\">Full Story</a>&#13;\\n\\t\\t\\t\\t</p>\\t\\t\\t\\t&#13;\\n\\t\\t\\t\\t<div class=\"bgq-cont\">&#13;\\n          &#13;\\n                           &#13;\\n\\t\\t\\t\\t\\t\\t\\t      <div class=\"bgQuote   inst up\">&#13;\\n\\t\\t\\t\\t\\t\\t\\t\\t      <div class=\"comp-name\"><strong><a href=\"/investing/stock/FB\" target=\"_blank\">Facebook Inc. Cl A</a></strong></div>&#13;\\n                      <span class=\"bgChannel\">/quotes/zigman/9962609/composite</span>&#13;\\n\\t\\t\\t\\t\\t\\t\\t\\t      <div class=\"comp-data\">&#13;\\n\\t\\t\\t\\t\\t\\t\\t\\t\\t      <span class=\"disp symbol\"><a href=\"/investing/stock/FB\" target=\"_blank\">FB</a></span>&#13;\\n\\t\\t\\t\\t\\t\\t\\t\\t\\t      <span class=\"disp bgLast\">97.54</span> &#13;\\n\\t\\t\\t\\t\\t\\t\\t\\t\\t      <span class=\"disp bgChange\">+1.58</span>&#13;\\n\\t\\t\\t\\t\\t\\t\\t\\t\\t      <span class=\"disp bgPercentChange\">+1.65%</span>\\t\\t\\t\\t\\t\\t\\t\\t&#13;\\n\\t\\t\\t\\t\\t\\t\\t\\t      </div>&#13;\\n\\t\\t\\t\\t\\t\\t\\t\\t      <div style=\"clear:both;\"></div>\\t\\t\\t\\t\\t\\t\\t\\t\\t\\t\\t\\t\\t\\t\\t\\t&#13;\\n\\t\\t\\t\\t\\t\\t\\t\\t&#13;\\n\\t\\t\\t\\t\\t\\t\\t\\t\\t      <div duration=\"1dy\" freq=\"5mi\" class=\"chart\" symbol=\"US:FB\" id=\"chart_cont331290874\"></div>&#13;\\n\\t\\t\\t\\t\\t\\t\\t\\t\\t      <div style=\"clear:both;\"></div>\\t&#13;\\n\\t\\t\\t\\t\\t\\t\\t      </div>&#13;\\n\\t\\t\\t\\t\\t\\t\\t\\t\\t\\t\\t\\t\\t\\t\\t\\t\\t\\t\\t\\t&#13;\\n\\t\\t\\t\\t</div>&#13;\\n\\t\\t\\t</div>', 'id': '1187685280', 'title': 'Facebook shares rise as J.P. Morgan reiterates overweight rating'}, {'timestamp': '10/16/2015 2:52:52 PM', 'details': u'<div class=\"nv-details\">\\t\\t\\t\\t&#13;\\n\\t\\t\\t\\t<div>&#13;\\n\\t\\t\\t\\t\\t&#13;\\n\\t\\t\\t\\t\\t\\t<span>By Greg Robb</span>&#13;\\n          <span>Oct. 16, 2015, 2:53 p.m. EST</span>&#13;\\n\\t\\t\\t\\t</div>&#13;\\n\\t\\t\\t\\t<p class=\"abs\">&#13;\\n\\t\\t\\t\\tWASHINGTON (MarketWatch) - President Barack Obama on Friday called on leaders of Israel and Palestine to seek to end rhetoric that might be flaming violence. Obama said he recognized that Israel has a right to protect its citizens from knife attacks. He then called on...&#13;\\n\\t\\t\\t\\t\\t\\t\\t&#13;\\n\\t\\t\\t\\t\\t\\t\\t&#13;\\n\\t\\t\\t\\t\\t\\t<a class=\"read-more\" rel=\"nofollow\" href=\"/story/obama-says-israeli-and-palestinian-leaders-must-tamp-down-rhetoric-2015-10-16\" target=\"_blank\">Full Story</a>&#13;\\n\\t\\t\\t\\t</p>\\t\\t\\t\\t&#13;\\n\\t\\t\\t</div>', 'id': '1187684345', 'title': \"Obama says Israeli and Palestinian leaders must 'tamp down rhetoric'\"}, {'timestamp': '10/16/2015 2:52:19 PM', 'details': u'<div class=\"nv-details\">\\t\\t\\t\\t&#13;\\n\\t\\t\\t\\t<div>&#13;\\n\\t\\t\\t\\t\\t&#13;\\n\\t\\t\\t\\t\\t\\t<span>By Myra P. Saefong</span>&#13;\\n          <span>Oct. 16, 2015, 2:52 p.m. EST</span>&#13;\\n\\t\\t\\t\\t</div>&#13;\\n\\t\\t\\t\\t<p class=\"abs\">&#13;\\n\\t\\t\\t\\tOil futures settled higher on Friday after Baker Hughes  reported a weekly decline in the number of active U.S. rigs drilling for oil. Prices, however, lost about 4.8% for the week on the back of a hefty increase in U.S. crude supplies. November crude  settled at $47.26 a...&#13;\\n\\t\\t\\t\\t\\t\\t\\t&#13;\\n\\t\\t\\t\\t\\t\\t\\t&#13;\\n\\t\\t\\t\\t\\t\\t<a class=\"read-more\" rel=\"nofollow\" href=\"/story/oil-futures-settle-higher-but-lose-for-the-week-2015-10-16\" target=\"_blank\">Full Story</a>&#13;\\n\\t\\t\\t\\t</p>\\t\\t\\t\\t&#13;\\n\\t\\t\\t\\t<div class=\"bgq-cont\">&#13;\\n          &#13;\\n                           &#13;\\n\\t\\t\\t\\t\\t\\t\\t      <div class=\"bgQuote   inst up\">&#13;\\n\\t\\t\\t\\t\\t\\t\\t\\t      <div class=\"comp-name\"><strong><a href=\"/investing/stock/CLX5\" target=\"_blank\">Crude Oil - Electronic (NYMEX) Nov 2015</a></strong></div>&#13;\\n                      <span class=\"bgChannel\">/quotes/zigman/2331098/delayed</span>&#13;\\n\\t\\t\\t\\t\\t\\t\\t\\t      <div class=\"comp-data\">&#13;\\n\\t\\t\\t\\t\\t\\t\\t\\t\\t      <span class=\"disp symbol\"><a href=\"/investing/stock/CLX5\" target=\"_blank\">CLX5</a></span>&#13;\\n\\t\\t\\t\\t\\t\\t\\t\\t\\t      <span class=\"disp bgLast\">47.26</span> &#13;\\n\\t\\t\\t\\t\\t\\t\\t\\t\\t      <span class=\"disp bgChange\">+0.88</span>&#13;\\n\\t\\t\\t\\t\\t\\t\\t\\t\\t      <span class=\"disp bgPercentChange\">+1.90%</span>\\t\\t\\t\\t\\t\\t\\t\\t&#13;\\n\\t\\t\\t\\t\\t\\t\\t\\t      </div>&#13;\\n\\t\\t\\t\\t\\t\\t\\t\\t      <div style=\"clear:both;\"></div>\\t\\t\\t\\t\\t\\t\\t\\t\\t\\t\\t\\t\\t\\t\\t\\t&#13;\\n\\t\\t\\t\\t\\t\\t\\t\\t&#13;\\n\\t\\t\\t\\t\\t\\t\\t\\t\\t      <div duration=\"1dy\" freq=\"5mi\" class=\"chart\" symbol=\"US:CLX5\" id=\"chart_cont500530602\"></div>&#13;\\n\\t\\t\\t\\t\\t\\t\\t\\t\\t      <div style=\"clear:both;\"></div>\\t&#13;\\n\\t\\t\\t\\t\\t\\t\\t      </div>&#13;\\n\\t\\t\\t\\t\\t\\t\\t\\t\\t\\t\\t\\t\\t\\t\\t&#13;\\n                           &#13;\\n\\t\\t\\t\\t\\t\\t\\t      <div class=\"bgQuote   inst down\">&#13;\\n\\t\\t\\t\\t\\t\\t\\t\\t      <div class=\"comp-name\"><strong><a href=\"/investing/stock/BHI\" target=\"_blank\">Baker Hughes Inc.</a></strong></div>&#13;\\n                      <span class=\"bgChannel\">/quotes/zigman/219109/composite</span>&#13;\\n\\t\\t\\t\\t\\t\\t\\t\\t      <div class=\"comp-data\">&#13;\\n\\t\\t\\t\\t\\t\\t\\t\\t\\t      <span class=\"disp symbol\"><a href=\"/investing/stock/BHI\" target=\"_blank\">BHI</a></span>&#13;\\n\\t\\t\\t\\t\\t\\t\\t\\t\\t      <span class=\"disp bgLast\">53.83</span> &#13;\\n\\t\\t\\t\\t\\t\\t\\t\\t\\t      <span class=\"disp bgChange\">-2.36</span>&#13;\\n\\t\\t\\t\\t\\t\\t\\t\\t\\t      <span class=\"disp bgPercentChange\">-4.20%</span>\\t\\t\\t\\t\\t\\t\\t\\t&#13;\\n\\t\\t\\t\\t\\t\\t\\t\\t      </div>&#13;\\n\\t\\t\\t\\t\\t\\t\\t\\t      <div style=\"clear:both;\"></div>\\t\\t\\t\\t\\t\\t\\t\\t\\t\\t\\t\\t\\t\\t\\t\\t&#13;\\n\\t\\t\\t\\t\\t\\t\\t\\t&#13;\\n\\t\\t\\t\\t\\t\\t\\t\\t\\t      <div duration=\"1dy\" freq=\"5mi\" class=\"chart\" symbol=\"US:BHI\" id=\"chart_cont480962575\"></div>&#13;\\n\\t\\t\\t\\t\\t\\t\\t\\t\\t      <div style=\"clear:both;\"></div>\\t&#13;\\n\\t\\t\\t\\t\\t\\t\\t      </div>&#13;\\n\\t\\t\\t\\t\\t\\t\\t\\t\\t\\t\\t\\t\\t\\t\\t\\t\\t\\t\\t\\t&#13;\\n\\t\\t\\t\\t</div>&#13;\\n\\t\\t\\t</div>', 'id': '1187684310', 'title': 'Oil futures settle higher, but lose for the week'}]"
      ]
     },
     "execution_count": 16,
     "metadata": {},
     "output_type": "execute_result"
    }
   ],
   "source": [
    "data"
   ]
  },
  {
   "cell_type": "code",
   "execution_count": 17,
   "metadata": {
    "collapsed": true
   },
   "outputs": [],
   "source": [
    "import urllib"
   ]
  },
  {
   "cell_type": "code",
   "execution_count": 18,
   "metadata": {
    "collapsed": false
   },
   "outputs": [],
   "source": [
    "postData = dict(map(lambda xx: (xx.split(\"=\")[0],urllib.unquote(xx.split(\"=\")[1])) ,\"topstories=true&rtheadlines=true&pulse=true&commentary=true&video=true&premium=true&blogs=true&topic=All+Topics&docId=1187576694&timestamp=10%2F15%2F2015+10%3A01%3A32+AM&pullCount=10\".split(\"&\")))"
   ]
  },
  {
   "cell_type": "code",
   "execution_count": 19,
   "metadata": {
    "collapsed": false
   },
   "outputs": [
    {
     "data": {
      "text/plain": [
       "{'blogs': 'true',\n",
       " 'commentary': 'true',\n",
       " 'docId': '1187576694',\n",
       " 'premium': 'true',\n",
       " 'pullCount': '10',\n",
       " 'pulse': 'true',\n",
       " 'rtheadlines': 'true',\n",
       " 'timestamp': '10/15/2015+10:01:32+AM',\n",
       " 'topic': 'All+Topics',\n",
       " 'topstories': 'true',\n",
       " 'video': 'true'}"
      ]
     },
     "execution_count": 19,
     "metadata": {},
     "output_type": "execute_result"
    }
   ],
   "source": [
    "postData"
   ]
  },
  {
   "cell_type": "code",
   "execution_count": 22,
   "metadata": {
    "collapsed": true
   },
   "outputs": [],
   "source": [
    "postData[\"timestamp\"] = data[-1][\"timestamp\"]\n",
    "postData[\"docId\"] = data[-1][\"id\"]\n",
    "postData[\"topic\"] = postData[\"topic\"].replace(\"+\",\" \")\n",
    "postData[\"pullCount\"] = 10\n"
   ]
  },
  {
   "cell_type": "code",
   "execution_count": 23,
   "metadata": {
    "collapsed": false
   },
   "outputs": [
    {
     "data": {
      "text/plain": [
       "{'blogs': 'true',\n",
       " 'commentary': 'true',\n",
       " 'docId': '1187684310',\n",
       " 'premium': 'true',\n",
       " 'pullCount': 10,\n",
       " 'pulse': 'true',\n",
       " 'rtheadlines': 'true',\n",
       " 'timestamp': '10/16/2015 2:52:19 PM',\n",
       " 'topic': 'All Topics',\n",
       " 'topstories': 'true',\n",
       " 'video': 'true'}"
      ]
     },
     "execution_count": 23,
     "metadata": {},
     "output_type": "execute_result"
    }
   ],
   "source": [
    "postData"
   ]
  },
  {
   "cell_type": "code",
   "execution_count": 24,
   "metadata": {
    "collapsed": true
   },
   "outputs": [],
   "source": [
    "from datetime import datetime\n"
   ]
  },
  {
   "cell_type": "code",
   "execution_count": 25,
   "metadata": {
    "collapsed": false
   },
   "outputs": [],
   "source": [
    "headers = {\n",
    "    \"Referer\":\"http://www.marketwatch.com/newsviewer\",\n",
    "}"
   ]
  },
  {
   "cell_type": "code",
   "execution_count": 26,
   "metadata": {
    "collapsed": true
   },
   "outputs": [],
   "source": [
    "s.headers.update(headers)"
   ]
  },
  {
   "cell_type": "code",
   "execution_count": 27,
   "metadata": {
    "collapsed": false
   },
   "outputs": [],
   "source": [
    "res2 = s.post(\"http://www.marketwatch.com/newsviewer/mktwheadlines\",data=postData)"
   ]
  },
  {
   "cell_type": "code",
   "execution_count": 29,
   "metadata": {
    "collapsed": false
   },
   "outputs": [],
   "source": [
    "#res2.text"
   ]
  },
  {
   "cell_type": "code",
   "execution_count": 30,
   "metadata": {
    "collapsed": false
   },
   "outputs": [],
   "source": [
    "S2 = PyQuery(res2.text)"
   ]
  },
  {
   "cell_type": "code",
   "execution_count": 31,
   "metadata": {
    "collapsed": false
   },
   "outputs": [],
   "source": [
    "d2 = S2(\"li\").map(lambda i,e: {\"id\": PyQuery(e).attr(\"id\"),\n",
    "                               \"timestamp\": PyQuery(e).attr(\"timestamp\"),\n",
    "                               \"title\": PyQuery(e)(\".nv-text-cont\").text(),\n",
    "                               \"details\": PyQuery(e)(\".nv-details\").outerHtml(),\n",
    "                               \"url\": PyQuery(e)(\".nv-text-cont a\").attr(\"href\"),\n",
    "                              })"
   ]
  },
  {
   "cell_type": "code",
   "execution_count": 32,
   "metadata": {
    "collapsed": false
   },
   "outputs": [
    {
     "data": {
      "text/plain": [
       "10"
      ]
     },
     "execution_count": 32,
     "metadata": {},
     "output_type": "execute_result"
    }
   ],
   "source": [
    "len(d2)"
   ]
  },
  {
   "cell_type": "code",
   "execution_count": 33,
   "metadata": {
    "collapsed": false
   },
   "outputs": [
    {
     "data": {
      "text/plain": [
       "[{'url': None, 'timestamp': '10/16/2015 2:47:31 PM', 'details': u'<div class=\"nv-details\">\\t\\t\\t\\t\\t\\t\\t\\t&#13;\\n\\t\\t\\t\\t<div class=\"bgq-cont\">&#13;\\n          &#13;\\n                           &#13;\\n\\t\\t\\t\\t\\t\\t\\t      <div class=\"bgQuote   inst up\">&#13;\\n\\t\\t\\t\\t\\t\\t\\t\\t      <div class=\"comp-name\"><strong><a href=\"/investing/stock/CLX5\" target=\"_blank\">Crude Oil - Electronic (NYMEX) Nov 2015</a></strong></div>&#13;\\n                      <span class=\"bgChannel\">/quotes/zigman/2331098/delayed</span>&#13;\\n\\t\\t\\t\\t\\t\\t\\t\\t      <div class=\"comp-data\">&#13;\\n\\t\\t\\t\\t\\t\\t\\t\\t\\t      <span class=\"disp symbol\"><a href=\"/investing/stock/CLX5\" target=\"_blank\">CLX5</a></span>&#13;\\n\\t\\t\\t\\t\\t\\t\\t\\t\\t      <span class=\"disp bgLast\">47.26</span> &#13;\\n\\t\\t\\t\\t\\t\\t\\t\\t\\t      <span class=\"disp bgChange\">+0.88</span>&#13;\\n\\t\\t\\t\\t\\t\\t\\t\\t\\t      <span class=\"disp bgPercentChange\">+1.90%</span>\\t\\t\\t\\t\\t\\t\\t\\t&#13;\\n\\t\\t\\t\\t\\t\\t\\t\\t      </div>&#13;\\n\\t\\t\\t\\t\\t\\t\\t\\t      <div style=\"clear:both;\"></div>\\t\\t\\t\\t\\t\\t\\t\\t\\t\\t\\t\\t\\t\\t\\t\\t&#13;\\n\\t\\t\\t\\t\\t\\t\\t\\t&#13;\\n\\t\\t\\t\\t\\t\\t\\t\\t\\t      <div duration=\"1dy\" freq=\"5mi\" class=\"chart\" symbol=\"US:CLX5\" id=\"chart_cont500530602\"></div>&#13;\\n\\t\\t\\t\\t\\t\\t\\t\\t\\t      <div style=\"clear:both;\"></div>\\t&#13;\\n\\t\\t\\t\\t\\t\\t\\t      </div>&#13;\\n\\t\\t\\t\\t\\t\\t\\t\\t\\t\\t\\t\\t\\t\\t\\t\\t\\t\\t\\t\\t&#13;\\n\\t\\t\\t\\t</div>&#13;\\n\\t\\t\\t</div>', 'id': '1187684009', 'title': 'Nymex Nov. oil ends higher after 4-session fall, settles at $47.26/bbl'}, {'url': None, 'timestamp': '10/16/2015 2:47:31 PM', 'details': u'<div class=\"nv-details\">\\t\\t\\t\\t\\t\\t\\t\\t&#13;\\n\\t\\t\\t\\t<div class=\"bgq-cont\">&#13;\\n          &#13;\\n                           &#13;\\n\\t\\t\\t\\t\\t\\t\\t      <div class=\"bgQuote   inst up\">&#13;\\n\\t\\t\\t\\t\\t\\t\\t\\t      <div class=\"comp-name\"><strong><a href=\"/investing/stock/CLX5\" target=\"_blank\">Crude Oil - Electronic (NYMEX) Nov 2015</a></strong></div>&#13;\\n                      <span class=\"bgChannel\">/quotes/zigman/2331098/delayed</span>&#13;\\n\\t\\t\\t\\t\\t\\t\\t\\t      <div class=\"comp-data\">&#13;\\n\\t\\t\\t\\t\\t\\t\\t\\t\\t      <span class=\"disp symbol\"><a href=\"/investing/stock/CLX5\" target=\"_blank\">CLX5</a></span>&#13;\\n\\t\\t\\t\\t\\t\\t\\t\\t\\t      <span class=\"disp bgLast\">47.26</span> &#13;\\n\\t\\t\\t\\t\\t\\t\\t\\t\\t      <span class=\"disp bgChange\">+0.88</span>&#13;\\n\\t\\t\\t\\t\\t\\t\\t\\t\\t      <span class=\"disp bgPercentChange\">+1.90%</span>\\t\\t\\t\\t\\t\\t\\t\\t&#13;\\n\\t\\t\\t\\t\\t\\t\\t\\t      </div>&#13;\\n\\t\\t\\t\\t\\t\\t\\t\\t      <div style=\"clear:both;\"></div>\\t\\t\\t\\t\\t\\t\\t\\t\\t\\t\\t\\t\\t\\t\\t\\t&#13;\\n\\t\\t\\t\\t\\t\\t\\t\\t&#13;\\n\\t\\t\\t\\t\\t\\t\\t\\t\\t      <div duration=\"1dy\" freq=\"5mi\" class=\"chart\" symbol=\"US:CLX5\" id=\"chart_cont500530602\"></div>&#13;\\n\\t\\t\\t\\t\\t\\t\\t\\t\\t      <div style=\"clear:both;\"></div>\\t&#13;\\n\\t\\t\\t\\t\\t\\t\\t      </div>&#13;\\n\\t\\t\\t\\t\\t\\t\\t\\t\\t\\t\\t\\t\\t\\t\\t\\t\\t\\t\\t\\t&#13;\\n\\t\\t\\t\\t</div>&#13;\\n\\t\\t\\t</div>', 'id': '1187684007', 'title': 'Nymex oil gains 1.9% on day, but falls 4.8% on week'}, {'url': '/story/is-this-the-beginning-of-the-emerging-market-rally-2015-10-16', 'timestamp': '10/16/2015 2:46:50 PM', 'details': u'<div class=\"nv-details\">\\t\\t\\t\\t&#13;\\n\\t\\t\\t\\t<div>&#13;\\n\\t\\t\\t\\t\\t<img class=\"thumb\" src=\"http://s.marketwatch.com/public/resources/MWimages/MW-DT997_Brazil_MA_20150910151549.jpg\">&#13;\\n\\t\\t\\t\\t\\t&#13;\\n\\t\\t\\t\\t\\t\\t<span>By Joseph Adinolfi</span>&#13;\\n\\t\\t\\t\\t\\t<span>Emerging Markets Report</span>&#13;\\n          <span>Oct. 16, 2015, 2:47 p.m. EST</span>&#13;\\n\\t\\t\\t\\t</div>&#13;\\n\\t\\t\\t\\t<p class=\"abs\">&#13;\\n\\t\\t\\t\\tEmerging-markets assets are posting a surprising recovery as expectations for a near-term Federal Reserve interest-rate hike have deteriorated. &#13;\\n\\t\\t\\t\\t\\t\\t\\t&#13;\\n\\t\\t\\t\\t\\t\\t\\t&#13;\\n\\t\\t\\t\\t\\t\\t<a class=\"read-more\" rel=\"nofollow\" href=\"/story/is-this-the-beginning-of-the-emerging-market-rally-2015-10-16\" target=\"_blank\">Full Story</a>&#13;\\n\\t\\t\\t\\t</p>\\t\\t\\t\\t&#13;\\n\\t\\t\\t\\t<div class=\"bgq-cont\">&#13;\\n          &#13;\\n                           &#13;\\n\\t\\t\\t\\t\\t\\t\\t      <div class=\"bgQuote   inst up\">&#13;\\n\\t\\t\\t\\t\\t\\t\\t\\t      <div class=\"comp-name\"><strong><a href=\"/investing/stock/EEM\" target=\"_blank\">iShares MSCI Emerging Markets ETF</a></strong></div>&#13;\\n                      <span class=\"bgChannel\">/quotes/zigman/322623/composite</span>&#13;\\n\\t\\t\\t\\t\\t\\t\\t\\t      <div class=\"comp-data\">&#13;\\n\\t\\t\\t\\t\\t\\t\\t\\t\\t      <span class=\"disp symbol\"><a href=\"/investing/stock/EEM\" target=\"_blank\">EEM</a></span>&#13;\\n\\t\\t\\t\\t\\t\\t\\t\\t\\t      <span class=\"disp bgLast\">36.25</span> &#13;\\n\\t\\t\\t\\t\\t\\t\\t\\t\\t      <span class=\"disp bgChange\">+0.03</span>&#13;\\n\\t\\t\\t\\t\\t\\t\\t\\t\\t      <span class=\"disp bgPercentChange\">+0.08%</span>\\t\\t\\t\\t\\t\\t\\t\\t&#13;\\n\\t\\t\\t\\t\\t\\t\\t\\t      </div>&#13;\\n\\t\\t\\t\\t\\t\\t\\t\\t      <div style=\"clear:both;\"></div>\\t\\t\\t\\t\\t\\t\\t\\t\\t\\t\\t\\t\\t\\t\\t\\t&#13;\\n\\t\\t\\t\\t\\t\\t\\t\\t&#13;\\n\\t\\t\\t\\t\\t\\t\\t\\t\\t      <div duration=\"1dy\" freq=\"5mi\" class=\"chart\" symbol=\"US:EEM\" id=\"chart_cont1596707597\"></div>&#13;\\n\\t\\t\\t\\t\\t\\t\\t\\t\\t      <div style=\"clear:both;\"></div>\\t&#13;\\n\\t\\t\\t\\t\\t\\t\\t      </div>&#13;\\n\\t\\t\\t\\t\\t\\t\\t\\t\\t\\t\\t\\t\\t\\t\\t&#13;\\n                           &#13;\\n\\t\\t\\t\\t\\t\\t\\t      <div class=\"bgQuote bgCurrencyFormatting  inst up\">&#13;\\n\\t\\t\\t\\t\\t\\t\\t\\t      <div class=\"comp-name\"><strong><a href=\"/investing/stock/USDMYR\" target=\"_blank\">Malaysian Ringgit</a></strong></div>&#13;\\n                      <span class=\"bgChannel\">/quotes/zigman/15931685/realtime/sampled</span>&#13;\\n\\t\\t\\t\\t\\t\\t\\t\\t      <div class=\"comp-data\">&#13;\\n\\t\\t\\t\\t\\t\\t\\t\\t\\t      <span class=\"disp symbol\"><a href=\"/investing/stock/USDMYR\" target=\"_blank\">USDMYR</a></span>&#13;\\n\\t\\t\\t\\t\\t\\t\\t\\t\\t      <span class=\"disp bgLast\">4.1757</span> &#13;\\n\\t\\t\\t\\t\\t\\t\\t\\t\\t      <span class=\"disp bgChange\">+0.0534</span>&#13;\\n\\t\\t\\t\\t\\t\\t\\t\\t\\t      <span class=\"disp bgPercentChange\">+1.2954%</span>\\t\\t\\t\\t\\t\\t\\t\\t&#13;\\n\\t\\t\\t\\t\\t\\t\\t\\t      </div>&#13;\\n\\t\\t\\t\\t\\t\\t\\t\\t      <div style=\"clear:both;\"></div>\\t\\t\\t\\t\\t\\t\\t\\t\\t\\t\\t\\t\\t\\t\\t\\t&#13;\\n\\t\\t\\t\\t\\t\\t\\t\\t&#13;\\n\\t\\t\\t\\t\\t\\t\\t\\t\\t      <div duration=\"1dy\" freq=\"5mi\" class=\"chart\" symbol=\"US:USDMYR\" id=\"chart_cont1557089030\"></div>&#13;\\n\\t\\t\\t\\t\\t\\t\\t\\t\\t      <div style=\"clear:both;\"></div>\\t&#13;\\n\\t\\t\\t\\t\\t\\t\\t      </div>&#13;\\n\\t\\t\\t\\t\\t\\t\\t\\t\\t\\t\\t\\t\\t\\t\\t\\t\\t\\t\\t\\t&#13;\\n\\t\\t\\t\\t</div>&#13;\\n\\t\\t\\t</div>', 'id': '1187683988', 'title': 'Is this the beginning of the emerging-market rally?'}, {'url': None, 'timestamp': '10/16/2015 2:43:54 PM', 'details': u'<div class=\"nv-details\">\\t\\t\\t\\t\\t\\t\\t\\t&#13;\\n\\t\\t\\t\\t<div class=\"bgq-cont\">&#13;\\n          &#13;\\n                           &#13;\\n\\t\\t\\t\\t\\t\\t\\t      <div class=\"bgQuote   inst up\">&#13;\\n\\t\\t\\t\\t\\t\\t\\t\\t      <div class=\"comp-name\"><strong><a href=\"/investing/stock/TFM\" target=\"_blank\">Fresh Market Inc.</a></strong></div>&#13;\\n                      <span class=\"bgChannel\">/quotes/zigman/711861/composite</span>&#13;\\n\\t\\t\\t\\t\\t\\t\\t\\t      <div class=\"comp-data\">&#13;\\n\\t\\t\\t\\t\\t\\t\\t\\t\\t      <span class=\"disp symbol\"><a href=\"/investing/stock/TFM\" target=\"_blank\">TFM</a></span>&#13;\\n\\t\\t\\t\\t\\t\\t\\t\\t\\t      <span class=\"disp bgLast\">26.19</span> &#13;\\n\\t\\t\\t\\t\\t\\t\\t\\t\\t      <span class=\"disp bgChange\">+1.90</span>&#13;\\n\\t\\t\\t\\t\\t\\t\\t\\t\\t      <span class=\"disp bgPercentChange\">+7.82%</span>\\t\\t\\t\\t\\t\\t\\t\\t&#13;\\n\\t\\t\\t\\t\\t\\t\\t\\t      </div>&#13;\\n\\t\\t\\t\\t\\t\\t\\t\\t      <div style=\"clear:both;\"></div>\\t\\t\\t\\t\\t\\t\\t\\t\\t\\t\\t\\t\\t\\t\\t\\t&#13;\\n\\t\\t\\t\\t\\t\\t\\t\\t&#13;\\n\\t\\t\\t\\t\\t\\t\\t\\t\\t      <div duration=\"1dy\" freq=\"5mi\" class=\"chart\" symbol=\"US:TFM\" id=\"chart_cont1999992811\"></div>&#13;\\n\\t\\t\\t\\t\\t\\t\\t\\t\\t      <div style=\"clear:both;\"></div>\\t&#13;\\n\\t\\t\\t\\t\\t\\t\\t      </div>&#13;\\n\\t\\t\\t\\t\\t\\t\\t\\t\\t\\t\\t\\t\\t\\t\\t\\t\\t\\t\\t\\t&#13;\\n\\t\\t\\t\\t</div>&#13;\\n\\t\\t\\t</div>', 'id': '1187683742', 'title': 'Fresh Market shares soar as much as 13% on news reports'}, {'url': '/story/will-this-new-government-tool-help-your-college-search-experts-discuss-2015-10-14', 'timestamp': '10/16/2015 2:32:31 PM', 'details': u'<div class=\"nv-details\">\\t\\t\\t\\t&#13;\\n\\t\\t\\t\\t<div>&#13;\\n\\t\\t\\t\\t\\t<img class=\"thumb\" src=\"http://s.marketwatch.com/public/resources/MWimages/MW-CT514_coach__MA_20140905110119.jpg\">&#13;\\n\\t\\t\\t\\t\\t&#13;\\n\\t\\t\\t\\t\\t\\t<span>By Jillian Berman</span>&#13;\\n          <span>Oct. 16, 2015, 2:33 p.m. EST</span>&#13;\\n\\t\\t\\t\\t</div>&#13;\\n\\t\\t\\t\\t<p class=\"abs\">&#13;\\n\\t\\t\\t\\tWe\\u2019ve gathered a panel of experts: Robert Kelchen, a higher education professor at Seton Hall University, financial aid expert Mark Kantrowitz and Tom Allison, the deputy director of policy and research at Young Invincibles, a millennial advocacy group, to discuss.&#13;\\n\\t\\t\\t\\t\\t\\t\\t&#13;\\n\\t\\t\\t\\t\\t\\t\\t&#13;\\n\\t\\t\\t\\t\\t\\t<a class=\"read-more\" rel=\"nofollow\" href=\"/story/will-this-new-government-tool-help-your-college-search-experts-discuss-2015-10-14\" target=\"_blank\">Full Story</a>&#13;\\n\\t\\t\\t\\t</p>\\t\\t\\t\\t&#13;\\n\\t\\t\\t</div>', 'id': '1187682959', 'title': 'How new government data can help with your college search'}, {'url': '/video/asset/five-ways-you-can-avoid-identity-theft-2015-10-16/5575f33d-2b71-44e6-8a4a-23c808f6e2f9', 'timestamp': '10/16/2015 2:30:54 PM', 'details': u'<div class=\"nv-details\">\\t\\t\\t\\t&#13;\\n\\t\\t\\t\\t<div>&#13;\\n\\t\\t\\t\\t\\t<img class=\"thumb\" src=\"http://m.wsj.net/video/20151016/101615idtheft2/101615idtheft2_115x65.jpg\">&#13;\\n\\t\\t\\t\\t\\t&#13;\\n          <span>Oct. 16, 2015, 2:31 p.m. EST</span>&#13;\\n\\t\\t\\t\\t</div>&#13;\\n\\t\\t\\t\\t<p class=\"abs\">&#13;\\n\\t\\t\\t\\tThe coming holiday season means a spike in online shopping. Here are five ways to protect your identity against fraud. Photo: iStock/MariuszBlach.&#13;\\n\\t\\t\\t\\t\\t\\t\\t&#13;\\n\\t\\t\\t\\t\\t\\t<a class=\"read-more\" rel=\"nofollow\" href=\"/video/asset/five-ways-you-can-avoid-identity-theft-2015-10-16/5575f33d-2b71-44e6-8a4a-23c808f6e2f9\" target=\"_blank\">Full Story</a>\\t\\t\\t\\t\\t\\t\\t&#13;\\n\\t\\t\\t\\t</p>\\t\\t\\t\\t&#13;\\n\\t\\t\\t</div>', 'id': '1187682808', 'title': 'Five Ways You Can Avoid Identity Theft'}, {'url': '/story/spending-on-home-improvements-on-pace-to-set-a-record-in-2015-2015-10-16', 'timestamp': '10/16/2015 2:28:28 PM', 'details': u'<div class=\"nv-details\">\\t\\t\\t\\t&#13;\\n\\t\\t\\t\\t<div>&#13;\\n\\t\\t\\t\\t\\t<img class=\"thumb\" src=\"http://s.marketwatch.com/public/resources/MWimages/MW-DV678_constr_MA_20151002170840.jpg\">&#13;\\n\\t\\t\\t\\t\\t&#13;\\n\\t\\t\\t\\t\\t\\t<span>By Daniel Goldstein</span>&#13;\\n          <span>Oct. 16, 2015, 2:28 p.m. EST</span>&#13;\\n\\t\\t\\t\\t</div>&#13;\\n\\t\\t\\t\\t<p class=\"abs\">&#13;\\n\\t\\t\\t\\tPrice gains and low interest rates help U.S. homeowners.&#13;\\n\\t\\t\\t\\t\\t\\t\\t&#13;\\n\\t\\t\\t\\t\\t\\t\\t&#13;\\n\\t\\t\\t\\t\\t\\t<a class=\"read-more\" rel=\"nofollow\" href=\"/story/spending-on-home-improvements-on-pace-to-set-a-record-in-2015-2015-10-16\" target=\"_blank\">Full Story</a>&#13;\\n\\t\\t\\t\\t</p>\\t\\t\\t\\t&#13;\\n\\t\\t\\t\\t<div class=\"bgq-cont\">&#13;\\n          &#13;\\n                           &#13;\\n\\t\\t\\t\\t\\t\\t\\t      <div class=\"bgQuote   inst down\">&#13;\\n\\t\\t\\t\\t\\t\\t\\t\\t      <div class=\"comp-name\"><strong><a href=\"/investing/stock/Z\" target=\"_blank\">Zillow Group Inc. Cl C</a></strong></div>&#13;\\n                      <span class=\"bgChannel\">/quotes/zigman/55504505/composite</span>&#13;\\n\\t\\t\\t\\t\\t\\t\\t\\t      <div class=\"comp-data\">&#13;\\n\\t\\t\\t\\t\\t\\t\\t\\t\\t      <span class=\"disp symbol\"><a href=\"/investing/stock/Z\" target=\"_blank\">Z</a></span>&#13;\\n\\t\\t\\t\\t\\t\\t\\t\\t\\t      <span class=\"disp bgLast\">30.45</span> &#13;\\n\\t\\t\\t\\t\\t\\t\\t\\t\\t      <span class=\"disp bgChange\">-0.70</span>&#13;\\n\\t\\t\\t\\t\\t\\t\\t\\t\\t      <span class=\"disp bgPercentChange\">-2.25%</span>\\t\\t\\t\\t\\t\\t\\t\\t&#13;\\n\\t\\t\\t\\t\\t\\t\\t\\t      </div>&#13;\\n\\t\\t\\t\\t\\t\\t\\t\\t      <div style=\"clear:both;\"></div>\\t\\t\\t\\t\\t\\t\\t\\t\\t\\t\\t\\t\\t\\t\\t\\t&#13;\\n\\t\\t\\t\\t\\t\\t\\t\\t&#13;\\n\\t\\t\\t\\t\\t\\t\\t\\t\\t      <div duration=\"1dy\" freq=\"5mi\" class=\"chart\" symbol=\"US:Z\" id=\"chart_cont372029432\"></div>&#13;\\n\\t\\t\\t\\t\\t\\t\\t\\t\\t      <div style=\"clear:both;\"></div>\\t&#13;\\n\\t\\t\\t\\t\\t\\t\\t      </div>&#13;\\n\\t\\t\\t\\t\\t\\t\\t\\t\\t\\t\\t\\t\\t\\t\\t\\t\\t\\t\\t\\t&#13;\\n\\t\\t\\t\\t</div>&#13;\\n\\t\\t\\t</div>', 'id': '1187682737', 'title': 'Spending on home improvements on pace to set a record in 2015'}, {'url': '/story/gold-futures-dive-from-four-month-high-as-dollar-climbs-2015-10-16', 'timestamp': '10/16/2015 2:25:48 PM', 'details': u'<div class=\"nv-details\">\\t\\t\\t\\t&#13;\\n\\t\\t\\t\\t<div>&#13;\\n\\t\\t\\t\\t\\t<img class=\"thumb\" src=\"http://s.marketwatch.com/public/resources/MWimages/MW-DO694_gold_t_MA_20150624085456.jpg\">&#13;\\n\\t\\t\\t\\t\\t&#13;\\n\\t\\t\\t\\t\\t\\t<span>By Myra P. Saefong</span>&#13;\\n\\t\\t\\t\\t\\t<span>Metals Stocks</span>&#13;\\n          <span>Oct. 16, 2015, 2:26 p.m. EST</span>&#13;\\n\\t\\t\\t\\t</div>&#13;\\n\\t\\t\\t\\t<p class=\"abs\">&#13;\\n\\t\\t\\t\\tGold prices suffer from their first drop in six sessions, but end higher for a second straight week.&#13;\\n\\t\\t\\t\\t\\t\\t\\t&#13;\\n\\t\\t\\t\\t\\t\\t\\t&#13;\\n\\t\\t\\t\\t\\t\\t<a class=\"read-more\" rel=\"nofollow\" href=\"/story/gold-futures-dive-from-four-month-high-as-dollar-climbs-2015-10-16\" target=\"_blank\">Full Story</a>&#13;\\n\\t\\t\\t\\t</p>\\t\\t\\t\\t&#13;\\n\\t\\t\\t\\t<div class=\"bgq-cont\">&#13;\\n          &#13;\\n                           &#13;\\n\\t\\t\\t\\t\\t\\t\\t      <div class=\"bgQuote   inst down\">&#13;\\n\\t\\t\\t\\t\\t\\t\\t\\t      <div class=\"comp-name\"><strong><a href=\"/investing/stock/GCZ5\" target=\"_blank\">Gold - Electronic (COMEX) Dec 2015</a></strong></div>&#13;\\n                      <span class=\"bgChannel\">/quotes/zigman/662444/delayed</span>&#13;\\n\\t\\t\\t\\t\\t\\t\\t\\t      <div class=\"comp-data\">&#13;\\n\\t\\t\\t\\t\\t\\t\\t\\t\\t      <span class=\"disp symbol\"><a href=\"/investing/stock/GCZ5\" target=\"_blank\">GCZ5</a></span>&#13;\\n\\t\\t\\t\\t\\t\\t\\t\\t\\t      <span class=\"disp bgLast\">1,177.30</span> &#13;\\n\\t\\t\\t\\t\\t\\t\\t\\t\\t      <span class=\"disp bgChange\">-10.20</span>&#13;\\n\\t\\t\\t\\t\\t\\t\\t\\t\\t      <span class=\"disp bgPercentChange\">-0.86%</span>\\t\\t\\t\\t\\t\\t\\t\\t&#13;\\n\\t\\t\\t\\t\\t\\t\\t\\t      </div>&#13;\\n\\t\\t\\t\\t\\t\\t\\t\\t      <div style=\"clear:both;\"></div>\\t\\t\\t\\t\\t\\t\\t\\t\\t\\t\\t\\t\\t\\t\\t\\t&#13;\\n\\t\\t\\t\\t\\t\\t\\t\\t&#13;\\n\\t\\t\\t\\t\\t\\t\\t\\t\\t      <div duration=\"1dy\" freq=\"5mi\" class=\"chart\" symbol=\"US:GCZ5\" id=\"chart_cont2120316791\"></div>&#13;\\n\\t\\t\\t\\t\\t\\t\\t\\t\\t      <div style=\"clear:both;\"></div>\\t&#13;\\n\\t\\t\\t\\t\\t\\t\\t      </div>&#13;\\n\\t\\t\\t\\t\\t\\t\\t\\t\\t\\t\\t\\t\\t\\t\\t&#13;\\n                           &#13;\\n\\t\\t\\t\\t\\t\\t\\t      <div class=\"bgQuote   inst up\">&#13;\\n\\t\\t\\t\\t\\t\\t\\t\\t      <div class=\"comp-name\"><strong><a href=\"/investing/stock/DXY\" target=\"_blank\">U.S. Dollar Index (DXY)</a></strong></div>&#13;\\n                      <span class=\"bgChannel\">/quotes/zigman/1652083/delayed</span>&#13;\\n\\t\\t\\t\\t\\t\\t\\t\\t      <div class=\"comp-data\">&#13;\\n\\t\\t\\t\\t\\t\\t\\t\\t\\t      <span class=\"disp symbol\"><a href=\"/investing/stock/DXY\" target=\"_blank\">DXY</a></span>&#13;\\n\\t\\t\\t\\t\\t\\t\\t\\t\\t      <span class=\"disp bgLast\">94.73</span> &#13;\\n\\t\\t\\t\\t\\t\\t\\t\\t\\t      <span class=\"disp bgChange\">+0.29</span>&#13;\\n\\t\\t\\t\\t\\t\\t\\t\\t\\t      <span class=\"disp bgPercentChange\">+0.31%</span>\\t\\t\\t\\t\\t\\t\\t\\t&#13;\\n\\t\\t\\t\\t\\t\\t\\t\\t      </div>&#13;\\n\\t\\t\\t\\t\\t\\t\\t\\t      <div style=\"clear:both;\"></div>\\t\\t\\t\\t\\t\\t\\t\\t\\t\\t\\t\\t\\t\\t\\t\\t&#13;\\n\\t\\t\\t\\t\\t\\t\\t\\t&#13;\\n\\t\\t\\t\\t\\t\\t\\t\\t\\t      <div duration=\"1dy\" freq=\"5mi\" class=\"chart\" symbol=\"US:DXY\" id=\"chart_cont231498199\"></div>&#13;\\n\\t\\t\\t\\t\\t\\t\\t\\t\\t      <div style=\"clear:both;\"></div>\\t&#13;\\n\\t\\t\\t\\t\\t\\t\\t      </div>&#13;\\n\\t\\t\\t\\t\\t\\t\\t\\t\\t\\t\\t\\t\\t\\t\\t\\t\\t\\t\\t\\t&#13;\\n\\t\\t\\t\\t</div>&#13;\\n\\t\\t\\t</div>', 'id': '1187682517', 'title': 'Gold futures fall, but end with weekly gain'}, {'url': '/story/what-to-watch-for-in-advertising-company-earnings-2015-10-16', 'timestamp': '10/16/2015 2:24:41 PM', 'details': u'<div class=\"nv-details\">\\t\\t\\t\\t&#13;\\n\\t\\t\\t\\t<div>&#13;\\n\\t\\t\\t\\t\\t&#13;\\n\\t\\t\\t\\t\\t\\t<span>By MarketWatch.com</span>&#13;\\n          <span>Oct. 16, 2015, 2:25 p.m. EST</span>&#13;\\n\\t\\t\\t\\t</div>&#13;\\n\\t\\t\\t\\t<p class=\"abs\">&#13;\\n\\t\\t\\t\\tWith several of the biggest ad holding companies due to report their latest quarterly results next week, investors will be on the lookout for commentary on the big media accounts in play, any impact from ad blocking technologies and the health of the broader advertising...&#13;\\n\\t\\t\\t\\t\\t\\t\\t&#13;\\n\\t\\t\\t\\t\\t\\t\\t&#13;\\n\\t\\t\\t\\t\\t\\t<a class=\"read-more\" rel=\"nofollow\" href=\"/story/what-to-watch-for-in-advertising-company-earnings-2015-10-16\" target=\"_blank\">Full Story</a>&#13;\\n\\t\\t\\t\\t</p>\\t\\t\\t\\t&#13;\\n\\t\\t\\t\\t<div class=\"bgq-cont\">&#13;\\n          &#13;\\n                           &#13;\\n\\t\\t\\t\\t\\t\\t\\t      <div class=\"bgQuote   inst down\">&#13;\\n\\t\\t\\t\\t\\t\\t\\t\\t      <div class=\"comp-name\"><strong><a href=\"/investing/stock/IPG\" target=\"_blank\">Interpublic Group of Cos.</a></strong></div>&#13;\\n                      <span class=\"bgChannel\">/quotes/zigman/230324/composite</span>&#13;\\n\\t\\t\\t\\t\\t\\t\\t\\t      <div class=\"comp-data\">&#13;\\n\\t\\t\\t\\t\\t\\t\\t\\t\\t      <span class=\"disp symbol\"><a href=\"/investing/stock/IPG\" target=\"_blank\">IPG</a></span>&#13;\\n\\t\\t\\t\\t\\t\\t\\t\\t\\t      <span class=\"disp bgLast\">21.19</span> &#13;\\n\\t\\t\\t\\t\\t\\t\\t\\t\\t      <span class=\"disp bgChange\">-0.05</span>&#13;\\n\\t\\t\\t\\t\\t\\t\\t\\t\\t      <span class=\"disp bgPercentChange\">-0.24%</span>\\t\\t\\t\\t\\t\\t\\t\\t&#13;\\n\\t\\t\\t\\t\\t\\t\\t\\t      </div>&#13;\\n\\t\\t\\t\\t\\t\\t\\t\\t      <div style=\"clear:both;\"></div>\\t\\t\\t\\t\\t\\t\\t\\t\\t\\t\\t\\t\\t\\t\\t\\t&#13;\\n\\t\\t\\t\\t\\t\\t\\t\\t&#13;\\n\\t\\t\\t\\t\\t\\t\\t\\t\\t      <div duration=\"1dy\" freq=\"5mi\" class=\"chart\" symbol=\"US:IPG\" id=\"chart_cont124732372\"></div>&#13;\\n\\t\\t\\t\\t\\t\\t\\t\\t\\t      <div style=\"clear:both;\"></div>\\t&#13;\\n\\t\\t\\t\\t\\t\\t\\t      </div>&#13;\\n\\t\\t\\t\\t\\t\\t\\t\\t\\t\\t\\t\\t\\t\\t\\t&#13;\\n                           &#13;\\n\\t\\t\\t\\t\\t\\t\\t      <div class=\"bgQuote   inst up\">&#13;\\n\\t\\t\\t\\t\\t\\t\\t\\t      <div class=\"comp-name\"><strong><a href=\"/investing/stock/OMC\" target=\"_blank\">Omnicom Group Inc.</a></strong></div>&#13;\\n                      <span class=\"bgChannel\">/quotes/zigman/237213/composite</span>&#13;\\n\\t\\t\\t\\t\\t\\t\\t\\t      <div class=\"comp-data\">&#13;\\n\\t\\t\\t\\t\\t\\t\\t\\t\\t      <span class=\"disp symbol\"><a href=\"/investing/stock/OMC\" target=\"_blank\">OMC</a></span>&#13;\\n\\t\\t\\t\\t\\t\\t\\t\\t\\t      <span class=\"disp bgLast\">72.18</span> &#13;\\n\\t\\t\\t\\t\\t\\t\\t\\t\\t      <span class=\"disp bgChange\">+0.47</span>&#13;\\n\\t\\t\\t\\t\\t\\t\\t\\t\\t      <span class=\"disp bgPercentChange\">+0.66%</span>\\t\\t\\t\\t\\t\\t\\t\\t&#13;\\n\\t\\t\\t\\t\\t\\t\\t\\t      </div>&#13;\\n\\t\\t\\t\\t\\t\\t\\t\\t      <div style=\"clear:both;\"></div>\\t\\t\\t\\t\\t\\t\\t\\t\\t\\t\\t\\t\\t\\t\\t\\t&#13;\\n\\t\\t\\t\\t\\t\\t\\t\\t&#13;\\n\\t\\t\\t\\t\\t\\t\\t\\t\\t      <div duration=\"1dy\" freq=\"5mi\" class=\"chart\" symbol=\"US:OMC\" id=\"chart_cont1240477681\"></div>&#13;\\n\\t\\t\\t\\t\\t\\t\\t\\t\\t      <div style=\"clear:both;\"></div>\\t&#13;\\n\\t\\t\\t\\t\\t\\t\\t      </div>&#13;\\n\\t\\t\\t\\t\\t\\t\\t\\t\\t\\t\\t\\t\\t\\t\\t\\t\\t\\t\\t\\t&#13;\\n\\t\\t\\t\\t</div>&#13;\\n\\t\\t\\t</div>', 'id': '1187682445', 'title': 'What to watch for in advertising company earnings'}, {'url': '/story/lululemons-stock-climbs-after-credit-suisse-upgrades-on-margin-outlook-2015-10-16', 'timestamp': '10/16/2015 2:13:57 PM', 'details': u'<div class=\"nv-details\">\\t\\t\\t\\t&#13;\\n\\t\\t\\t\\t<div>&#13;\\n\\t\\t\\t\\t\\t&#13;\\n\\t\\t\\t\\t\\t\\t<span>By Tomi Kilgore</span>&#13;\\n          <span>Oct. 16, 2015, 2:14 p.m. EST</span>&#13;\\n\\t\\t\\t\\t</div>&#13;\\n\\t\\t\\t\\t<p class=\"abs\">&#13;\\n\\t\\t\\t\\tLululemon Athletica Inc.\\'s stock  climbed 1.2% in afternoon trade Friday, and had been up as much as 4.6% earlier in the session, after the yoga-gear maker was upgraded at Credit Suisse. Analyst Christian Buss raised his rating to outperform, after being at neutral since...&#13;\\n\\t\\t\\t\\t\\t\\t\\t&#13;\\n\\t\\t\\t\\t\\t\\t\\t&#13;\\n\\t\\t\\t\\t\\t\\t<a class=\"read-more\" rel=\"nofollow\" href=\"/story/lululemons-stock-climbs-after-credit-suisse-upgrades-on-margin-outlook-2015-10-16\" target=\"_blank\">Full Story</a>&#13;\\n\\t\\t\\t\\t</p>\\t\\t\\t\\t&#13;\\n\\t\\t\\t\\t<div class=\"bgq-cont\">&#13;\\n          &#13;\\n                           &#13;\\n\\t\\t\\t\\t\\t\\t\\t      <div class=\"bgQuote   inst up\">&#13;\\n\\t\\t\\t\\t\\t\\t\\t\\t      <div class=\"comp-name\"><strong><a href=\"/investing/stock/LULU\" target=\"_blank\">lululemon athletica inc.</a></strong></div>&#13;\\n                      <span class=\"bgChannel\">/quotes/zigman/39660/composite</span>&#13;\\n\\t\\t\\t\\t\\t\\t\\t\\t      <div class=\"comp-data\">&#13;\\n\\t\\t\\t\\t\\t\\t\\t\\t\\t      <span class=\"disp symbol\"><a href=\"/investing/stock/LULU\" target=\"_blank\">LULU</a></span>&#13;\\n\\t\\t\\t\\t\\t\\t\\t\\t\\t      <span class=\"disp bgLast\">53.81</span> &#13;\\n\\t\\t\\t\\t\\t\\t\\t\\t\\t      <span class=\"disp bgChange\">+1.29</span>&#13;\\n\\t\\t\\t\\t\\t\\t\\t\\t\\t      <span class=\"disp bgPercentChange\">+2.46%</span>\\t\\t\\t\\t\\t\\t\\t\\t&#13;\\n\\t\\t\\t\\t\\t\\t\\t\\t      </div>&#13;\\n\\t\\t\\t\\t\\t\\t\\t\\t      <div style=\"clear:both;\"></div>\\t\\t\\t\\t\\t\\t\\t\\t\\t\\t\\t\\t\\t\\t\\t\\t&#13;\\n\\t\\t\\t\\t\\t\\t\\t\\t&#13;\\n\\t\\t\\t\\t\\t\\t\\t\\t\\t      <div duration=\"1dy\" freq=\"5mi\" class=\"chart\" symbol=\"US:LULU\" id=\"chart_cont1730587230\"></div>&#13;\\n\\t\\t\\t\\t\\t\\t\\t\\t\\t      <div style=\"clear:both;\"></div>\\t&#13;\\n\\t\\t\\t\\t\\t\\t\\t      </div>&#13;\\n\\t\\t\\t\\t\\t\\t\\t\\t\\t\\t\\t\\t\\t\\t\\t&#13;\\n                           &#13;\\n\\t\\t\\t\\t\\t\\t\\t      <div class=\"bgQuote   inst up\">&#13;\\n\\t\\t\\t\\t\\t\\t\\t\\t      <div class=\"comp-name\"><strong><a href=\"/investing/stock/SPX\" target=\"_blank\">S&amp;P 500 Index</a></strong></div>&#13;\\n                      <span class=\"bgChannel\">/quotes/zigman/3870025/realtime</span>&#13;\\n\\t\\t\\t\\t\\t\\t\\t\\t      <div class=\"comp-data\">&#13;\\n\\t\\t\\t\\t\\t\\t\\t\\t\\t      <span class=\"disp symbol\"><a href=\"/investing/stock/SPX\" target=\"_blank\">SPX</a></span>&#13;\\n\\t\\t\\t\\t\\t\\t\\t\\t\\t      <span class=\"disp bgLast\">2,033.11</span> &#13;\\n\\t\\t\\t\\t\\t\\t\\t\\t\\t      <span class=\"disp bgChange\">+9.25</span>&#13;\\n\\t\\t\\t\\t\\t\\t\\t\\t\\t      <span class=\"disp bgPercentChange\">+0.46%</span>\\t\\t\\t\\t\\t\\t\\t\\t&#13;\\n\\t\\t\\t\\t\\t\\t\\t\\t      </div>&#13;\\n\\t\\t\\t\\t\\t\\t\\t\\t      <div style=\"clear:both;\"></div>\\t\\t\\t\\t\\t\\t\\t\\t\\t\\t\\t\\t\\t\\t\\t\\t&#13;\\n\\t\\t\\t\\t\\t\\t\\t\\t&#13;\\n\\t\\t\\t\\t\\t\\t\\t\\t\\t      <div duration=\"1dy\" freq=\"5mi\" class=\"chart\" symbol=\"US:SPX\" id=\"chart_cont124732823\"></div>&#13;\\n\\t\\t\\t\\t\\t\\t\\t\\t\\t      <div style=\"clear:both;\"></div>\\t&#13;\\n\\t\\t\\t\\t\\t\\t\\t      </div>&#13;\\n\\t\\t\\t\\t\\t\\t\\t\\t\\t\\t\\t\\t\\t\\t\\t\\t\\t\\t\\t\\t&#13;\\n\\t\\t\\t\\t</div>&#13;\\n\\t\\t\\t</div>', 'id': '1187681576', 'title': \"Lululemon's stock climbs after Credit Suisse upgrades on margin outlook\"}]"
      ]
     },
     "execution_count": 33,
     "metadata": {},
     "output_type": "execute_result"
    }
   ],
   "source": [
    "d2"
   ]
  },
  {
   "cell_type": "code",
   "execution_count": 34,
   "metadata": {
    "collapsed": true
   },
   "outputs": [],
   "source": [
    "import pandas as pd"
   ]
  },
  {
   "cell_type": "code",
   "execution_count": 35,
   "metadata": {
    "collapsed": false
   },
   "outputs": [],
   "source": [
    "df = pd.DataFrame(d2)\n",
    "df[\"url\"] = df[\"url\"].map(lambda url: \"http://www.marketwatch.com\"+url if url else url)"
   ]
  },
  {
   "cell_type": "code",
   "execution_count": 36,
   "metadata": {
    "collapsed": true
   },
   "outputs": [],
   "source": [
    "from datetime import datetime"
   ]
  },
  {
   "cell_type": "code",
   "execution_count": 37,
   "metadata": {
    "collapsed": true
   },
   "outputs": [],
   "source": [
    "df[\"time\"] = df[\"timestamp\"].map(lambda t:datetime.strptime(t,\"%m/%d/%Y %I:%M:%S %p\"))"
   ]
  },
  {
   "cell_type": "code",
   "execution_count": 38,
   "metadata": {
    "collapsed": false
   },
   "outputs": [
    {
     "data": {
      "text/html": [
       "<div>\n",
       "<table border=\"1\" class=\"dataframe\">\n",
       "  <thead>\n",
       "    <tr style=\"text-align: right;\">\n",
       "      <th></th>\n",
       "      <th>details</th>\n",
       "      <th>id</th>\n",
       "      <th>timestamp</th>\n",
       "      <th>title</th>\n",
       "      <th>url</th>\n",
       "      <th>time</th>\n",
       "    </tr>\n",
       "  </thead>\n",
       "  <tbody>\n",
       "    <tr>\n",
       "      <th>4</th>\n",
       "      <td>&lt;div class=\"nv-details\"&gt;\\t\\t\\t\\t&amp;#13;\\n\\t\\t\\t\\...</td>\n",
       "      <td>1187682959</td>\n",
       "      <td>10/16/2015 2:32:31 PM</td>\n",
       "      <td>How new government data can help with your col...</td>\n",
       "      <td>http://www.marketwatch.com/story/will-this-new...</td>\n",
       "      <td>2015-10-16 14:32:31</td>\n",
       "    </tr>\n",
       "    <tr>\n",
       "      <th>3</th>\n",
       "      <td>&lt;div class=\"nv-details\"&gt;\\t\\t\\t\\t\\t\\t\\t\\t&amp;#13;\\...</td>\n",
       "      <td>1187683742</td>\n",
       "      <td>10/16/2015 2:43:54 PM</td>\n",
       "      <td>Fresh Market shares soar as much as 13% on new...</td>\n",
       "      <td>None</td>\n",
       "      <td>2015-10-16 14:43:54</td>\n",
       "    </tr>\n",
       "    <tr>\n",
       "      <th>2</th>\n",
       "      <td>&lt;div class=\"nv-details\"&gt;\\t\\t\\t\\t&amp;#13;\\n\\t\\t\\t\\...</td>\n",
       "      <td>1187683988</td>\n",
       "      <td>10/16/2015 2:46:50 PM</td>\n",
       "      <td>Is this the beginning of the emerging-market r...</td>\n",
       "      <td>http://www.marketwatch.com/story/is-this-the-b...</td>\n",
       "      <td>2015-10-16 14:46:50</td>\n",
       "    </tr>\n",
       "    <tr>\n",
       "      <th>0</th>\n",
       "      <td>&lt;div class=\"nv-details\"&gt;\\t\\t\\t\\t\\t\\t\\t\\t&amp;#13;\\...</td>\n",
       "      <td>1187684009</td>\n",
       "      <td>10/16/2015 2:47:31 PM</td>\n",
       "      <td>Nymex Nov. oil ends higher after 4-session fal...</td>\n",
       "      <td>None</td>\n",
       "      <td>2015-10-16 14:47:31</td>\n",
       "    </tr>\n",
       "    <tr>\n",
       "      <th>1</th>\n",
       "      <td>&lt;div class=\"nv-details\"&gt;\\t\\t\\t\\t\\t\\t\\t\\t&amp;#13;\\...</td>\n",
       "      <td>1187684007</td>\n",
       "      <td>10/16/2015 2:47:31 PM</td>\n",
       "      <td>Nymex oil gains 1.9% on day, but falls 4.8% on...</td>\n",
       "      <td>None</td>\n",
       "      <td>2015-10-16 14:47:31</td>\n",
       "    </tr>\n",
       "  </tbody>\n",
       "</table>\n",
       "</div>"
      ],
      "text/plain": [
       "                                             details          id  \\\n",
       "4  <div class=\"nv-details\">\\t\\t\\t\\t&#13;\\n\\t\\t\\t\\...  1187682959   \n",
       "3  <div class=\"nv-details\">\\t\\t\\t\\t\\t\\t\\t\\t&#13;\\...  1187683742   \n",
       "2  <div class=\"nv-details\">\\t\\t\\t\\t&#13;\\n\\t\\t\\t\\...  1187683988   \n",
       "0  <div class=\"nv-details\">\\t\\t\\t\\t\\t\\t\\t\\t&#13;\\...  1187684009   \n",
       "1  <div class=\"nv-details\">\\t\\t\\t\\t\\t\\t\\t\\t&#13;\\...  1187684007   \n",
       "\n",
       "               timestamp                                              title  \\\n",
       "4  10/16/2015 2:32:31 PM  How new government data can help with your col...   \n",
       "3  10/16/2015 2:43:54 PM  Fresh Market shares soar as much as 13% on new...   \n",
       "2  10/16/2015 2:46:50 PM  Is this the beginning of the emerging-market r...   \n",
       "0  10/16/2015 2:47:31 PM  Nymex Nov. oil ends higher after 4-session fal...   \n",
       "1  10/16/2015 2:47:31 PM  Nymex oil gains 1.9% on day, but falls 4.8% on...   \n",
       "\n",
       "                                                 url                time  \n",
       "4  http://www.marketwatch.com/story/will-this-new... 2015-10-16 14:32:31  \n",
       "3                                               None 2015-10-16 14:43:54  \n",
       "2  http://www.marketwatch.com/story/is-this-the-b... 2015-10-16 14:46:50  \n",
       "0                                               None 2015-10-16 14:47:31  \n",
       "1                                               None 2015-10-16 14:47:31  "
      ]
     },
     "execution_count": 38,
     "metadata": {},
     "output_type": "execute_result"
    }
   ],
   "source": [
    "df.sort(\"time\").tail()"
   ]
  },
  {
   "cell_type": "code",
   "execution_count": 76,
   "metadata": {
    "collapsed": true
   },
   "outputs": [],
   "source": []
  },
  {
   "cell_type": "code",
   "execution_count": null,
   "metadata": {
    "collapsed": true
   },
   "outputs": [],
   "source": [
    "df[\"timestamp\"][0]"
   ]
  },
  {
   "cell_type": "code",
   "execution_count": 85,
   "metadata": {
    "collapsed": false
   },
   "outputs": [
    {
     "data": {
      "text/plain": [
       "datetime.datetime(2015, 10, 15, 22, 51, 7)"
      ]
     },
     "execution_count": 85,
     "metadata": {},
     "output_type": "execute_result"
    }
   ],
   "source": [
    "datetime.strptime(df[\"timestamp\"][0],\"%m/%d/%Y %I:%M:%S %p\")"
   ]
  },
  {
   "cell_type": "code",
   "execution_count": 87,
   "metadata": {
    "collapsed": false
   },
   "outputs": [],
   "source": []
  },
  {
   "cell_type": "code",
   "execution_count": 39,
   "metadata": {
    "collapsed": false
   },
   "outputs": [
    {
     "data": {
      "text/html": [
       "<div>\n",
       "<table border=\"1\" class=\"dataframe\">\n",
       "  <thead>\n",
       "    <tr style=\"text-align: right;\">\n",
       "      <th></th>\n",
       "      <th>details</th>\n",
       "      <th>id</th>\n",
       "      <th>timestamp</th>\n",
       "      <th>title</th>\n",
       "      <th>url</th>\n",
       "      <th>time</th>\n",
       "    </tr>\n",
       "  </thead>\n",
       "  <tbody>\n",
       "    <tr>\n",
       "      <th>4</th>\n",
       "      <td>&lt;div class=\"nv-details\"&gt;\\t\\t\\t\\t&amp;#13;\\n\\t\\t\\t\\...</td>\n",
       "      <td>1187682959</td>\n",
       "      <td>10/16/2015 2:32:31 PM</td>\n",
       "      <td>How new government data can help with your col...</td>\n",
       "      <td>http://www.marketwatch.com/story/will-this-new...</td>\n",
       "      <td>2015-10-16 14:32:31</td>\n",
       "    </tr>\n",
       "    <tr>\n",
       "      <th>3</th>\n",
       "      <td>&lt;div class=\"nv-details\"&gt;\\t\\t\\t\\t\\t\\t\\t\\t&amp;#13;\\...</td>\n",
       "      <td>1187683742</td>\n",
       "      <td>10/16/2015 2:43:54 PM</td>\n",
       "      <td>Fresh Market shares soar as much as 13% on new...</td>\n",
       "      <td>None</td>\n",
       "      <td>2015-10-16 14:43:54</td>\n",
       "    </tr>\n",
       "    <tr>\n",
       "      <th>2</th>\n",
       "      <td>&lt;div class=\"nv-details\"&gt;\\t\\t\\t\\t&amp;#13;\\n\\t\\t\\t\\...</td>\n",
       "      <td>1187683988</td>\n",
       "      <td>10/16/2015 2:46:50 PM</td>\n",
       "      <td>Is this the beginning of the emerging-market r...</td>\n",
       "      <td>http://www.marketwatch.com/story/is-this-the-b...</td>\n",
       "      <td>2015-10-16 14:46:50</td>\n",
       "    </tr>\n",
       "    <tr>\n",
       "      <th>0</th>\n",
       "      <td>&lt;div class=\"nv-details\"&gt;\\t\\t\\t\\t\\t\\t\\t\\t&amp;#13;\\...</td>\n",
       "      <td>1187684009</td>\n",
       "      <td>10/16/2015 2:47:31 PM</td>\n",
       "      <td>Nymex Nov. oil ends higher after 4-session fal...</td>\n",
       "      <td>None</td>\n",
       "      <td>2015-10-16 14:47:31</td>\n",
       "    </tr>\n",
       "    <tr>\n",
       "      <th>1</th>\n",
       "      <td>&lt;div class=\"nv-details\"&gt;\\t\\t\\t\\t\\t\\t\\t\\t&amp;#13;\\...</td>\n",
       "      <td>1187684007</td>\n",
       "      <td>10/16/2015 2:47:31 PM</td>\n",
       "      <td>Nymex oil gains 1.9% on day, but falls 4.8% on...</td>\n",
       "      <td>None</td>\n",
       "      <td>2015-10-16 14:47:31</td>\n",
       "    </tr>\n",
       "  </tbody>\n",
       "</table>\n",
       "</div>"
      ],
      "text/plain": [
       "                                             details          id  \\\n",
       "4  <div class=\"nv-details\">\\t\\t\\t\\t&#13;\\n\\t\\t\\t\\...  1187682959   \n",
       "3  <div class=\"nv-details\">\\t\\t\\t\\t\\t\\t\\t\\t&#13;\\...  1187683742   \n",
       "2  <div class=\"nv-details\">\\t\\t\\t\\t&#13;\\n\\t\\t\\t\\...  1187683988   \n",
       "0  <div class=\"nv-details\">\\t\\t\\t\\t\\t\\t\\t\\t&#13;\\...  1187684009   \n",
       "1  <div class=\"nv-details\">\\t\\t\\t\\t\\t\\t\\t\\t&#13;\\...  1187684007   \n",
       "\n",
       "               timestamp                                              title  \\\n",
       "4  10/16/2015 2:32:31 PM  How new government data can help with your col...   \n",
       "3  10/16/2015 2:43:54 PM  Fresh Market shares soar as much as 13% on new...   \n",
       "2  10/16/2015 2:46:50 PM  Is this the beginning of the emerging-market r...   \n",
       "0  10/16/2015 2:47:31 PM  Nymex Nov. oil ends higher after 4-session fal...   \n",
       "1  10/16/2015 2:47:31 PM  Nymex oil gains 1.9% on day, but falls 4.8% on...   \n",
       "\n",
       "                                                 url                time  \n",
       "4  http://www.marketwatch.com/story/will-this-new... 2015-10-16 14:32:31  \n",
       "3                                               None 2015-10-16 14:43:54  \n",
       "2  http://www.marketwatch.com/story/is-this-the-b... 2015-10-16 14:46:50  \n",
       "0                                               None 2015-10-16 14:47:31  \n",
       "1                                               None 2015-10-16 14:47:31  "
      ]
     },
     "execution_count": 39,
     "metadata": {},
     "output_type": "execute_result"
    }
   ],
   "source": [
    "df.sort(\"time\").tail()"
   ]
  },
  {
   "cell_type": "code",
   "execution_count": null,
   "metadata": {
    "collapsed": true
   },
   "outputs": [],
   "source": []
  },
  {
   "cell_type": "markdown",
   "metadata": {},
   "source": [
    "# Article Page"
   ]
  },
  {
   "cell_type": "code",
   "execution_count": 143,
   "metadata": {
    "collapsed": true
   },
   "outputs": [],
   "source": [
    "url = \"http://www.marketwatch.com/story/teslas-latest-autopilot-update-is-still-not-hands-free-2015-10-15\""
   ]
  },
  {
   "cell_type": "code",
   "execution_count": 144,
   "metadata": {
    "collapsed": true
   },
   "outputs": [],
   "source": [
    "res = requests.get(url)"
   ]
  },
  {
   "cell_type": "code",
   "execution_count": 145,
   "metadata": {
    "collapsed": true
   },
   "outputs": [],
   "source": [
    "S = PyQuery(res.text)"
   ]
  },
  {
   "cell_type": "code",
   "execution_count": 147,
   "metadata": {
    "collapsed": true
   },
   "outputs": [],
   "source": [
    "article_data = {}"
   ]
  },
  {
   "cell_type": "code",
   "execution_count": 154,
   "metadata": {
    "collapsed": false
   },
   "outputs": [],
   "source": [
    "article_data[\"headline\"] = S(\"#article-headline\").text()\n",
    "article_data[\"published-timestamp\"] = S(\"#published-timestamp\").text()\n",
    "article_data[\"body\"] = S(\"#article-body\").outerHtml()\n",
    "article_data[\"related-articles\"] = S(\"related-articles\").outerHtml()"
   ]
  },
  {
   "cell_type": "code",
   "execution_count": 155,
   "metadata": {
    "collapsed": false
   },
   "outputs": [
    {
     "data": {
      "text/plain": [
       "{'body': u'<div id=\"article-body\" itemprop=\"articleBody\">&#13;\\n                                  \\n\\n<h6> <a href=\"http://www.marketwatch.com\" class=\"icon \">MARKETWATCH FRONT PAGE</a> </h6> <p>Elon Musk says drivers will still need both hands to use Tesla\\u2019s latest software update. <a href=\"/story/teslas-latest-autopilot-update-is-still-not-hands-free-2015-10-14\" class=\"icon none\">See full story.</a></p> <h6>14 billion years of history captured in one mesmerizing animation</h6> <p>The visualization was created by Matan Stauber from Israel\\u2019s Bezalel Academy of Arts and Design and is an interactive time-suck that will surely have your boss tapping your shoulder. <a href=\"/story/14-billion-years-of-history-captured-in-one-mesmerizing-animation-2015-10-14\" class=\"icon none\">See full story.</a></p> <h6>6 do-gooder holiday jobs that pay</h6> <p>Altruistic ways to earn a few extra bucks. <a href=\"/story/6-do-gooder-holiday-jobs-that-pay-2015-10-14\" class=\"icon none\">See full story.</a></p> <h6>Bearish \\u2018hanging man\\u2019 pattern warns don\\u2019t buy the dip in the Dow transports</h6> <p>The sharp selloff in the Dow Jones Transportation Average on Tuesday completes a bearish \\u201changing man\\u201d reversal pattern in the candlestick charts. <a href=\"/story/bearish-hanging-man-pattern-warns-dont-buy-the-dip-in-the-dow-transports-2015-10-13\" class=\"icon none\">See full story.</a></p> <h6>Here\\u2019s why you need a workplace marijuana policy</h6> <p>An office policy on marijuana in states that have legalized can protect against federal intervention <a href=\"/story/heres-why-you-need-a-workplace-marijuana-policy-2015-10-14\" class=\"icon none\">See full story.</a></p> <h6> <a href=\"http://www.marketwatch.com/personal-finance/\" class=\"icon \">MARKETWATCH PERSONAL FINANCE</a> </h6> <p>China, where driving a Buick and drinking a PBR are signs you\\u2019ve made it. <a href=\"/story/5-brands-that-are-fancy-in-china-but-c-list-in-the-us-2014-06-17\" class=\"icon none\">See full story.</a></p>\\n\\n&#13;\\n&#13;\\n                            &#13;\\n                            &#13;\\n                                  &#13;\\n      &#13;\\n      &#13;\\n      &#13;\\n      &#13;\\n      &#13;\\n      &#13;\\n      &#13;\\n      &#13;\\n&#13;\\n&#13;\\n                        <div class=\"module\" id=\"related-articles\">&#13;\\n                            <strong>&#13;\\n                                More from MarketWatch&#13;\\n                            </strong>&#13;\\n                            <div class=\"OUTBRAIN\" data-src=\"http://www.marketwatch.com/story/teslas-latest-autopilot-update-is-still-not-hands-free-2015-10-15\" data-widget-id=\"AR_1\" data-ob-template=\"marketwatch\"></div>&#13;\\n                        </div>&#13;\\n&#13;\\n&#13;\\n&#13;\\n            </div>',\n",
       " 'headline': u'Tesla\\u2019s latest autopilot update is still not hands free',\n",
       " 'published-timestamp': 'Published: Oct 15, 2015 9:00 a.m. ET',\n",
       " 'related-articles': None}"
      ]
     },
     "execution_count": 155,
     "metadata": {},
     "output_type": "execute_result"
    }
   ],
   "source": [
    "article_data"
   ]
  },
  {
   "cell_type": "code",
   "execution_count": 152,
   "metadata": {
    "collapsed": true
   },
   "outputs": [],
   "source": [
    "from IPython.core.display import HTML"
   ]
  },
  {
   "cell_type": "code",
   "execution_count": 153,
   "metadata": {
    "collapsed": false
   },
   "outputs": [
    {
     "data": {
      "text/html": [
       "<div id=\"article-body\" itemprop=\"articleBody\">&#13;\n",
       "                                  \n",
       "\n",
       "<h6> <a href=\"http://www.marketwatch.com\" class=\"icon \">MARKETWATCH FRONT PAGE</a> </h6> <p>Elon Musk says drivers will still need both hands to use Tesla’s latest software update. <a href=\"/story/teslas-latest-autopilot-update-is-still-not-hands-free-2015-10-14\" class=\"icon none\">See full story.</a></p> <h6>14 billion years of history captured in one mesmerizing animation</h6> <p>The visualization was created by Matan Stauber from Israel’s Bezalel Academy of Arts and Design and is an interactive time-suck that will surely have your boss tapping your shoulder. <a href=\"/story/14-billion-years-of-history-captured-in-one-mesmerizing-animation-2015-10-14\" class=\"icon none\">See full story.</a></p> <h6>6 do-gooder holiday jobs that pay</h6> <p>Altruistic ways to earn a few extra bucks. <a href=\"/story/6-do-gooder-holiday-jobs-that-pay-2015-10-14\" class=\"icon none\">See full story.</a></p> <h6>Bearish ‘hanging man’ pattern warns don’t buy the dip in the Dow transports</h6> <p>The sharp selloff in the Dow Jones Transportation Average on Tuesday completes a bearish “hanging man” reversal pattern in the candlestick charts. <a href=\"/story/bearish-hanging-man-pattern-warns-dont-buy-the-dip-in-the-dow-transports-2015-10-13\" class=\"icon none\">See full story.</a></p> <h6>Here’s why you need a workplace marijuana policy</h6> <p>An office policy on marijuana in states that have legalized can protect against federal intervention <a href=\"/story/heres-why-you-need-a-workplace-marijuana-policy-2015-10-14\" class=\"icon none\">See full story.</a></p> <h6> <a href=\"http://www.marketwatch.com/personal-finance/\" class=\"icon \">MARKETWATCH PERSONAL FINANCE</a> </h6> <p>China, where driving a Buick and drinking a PBR are signs you’ve made it. <a href=\"/story/5-brands-that-are-fancy-in-china-but-c-list-in-the-us-2014-06-17\" class=\"icon none\">See full story.</a></p>\n",
       "\n",
       "&#13;\n",
       "&#13;\n",
       "                            &#13;\n",
       "                            &#13;\n",
       "                                  &#13;\n",
       "      &#13;\n",
       "      &#13;\n",
       "      &#13;\n",
       "      &#13;\n",
       "      &#13;\n",
       "      &#13;\n",
       "      &#13;\n",
       "      &#13;\n",
       "&#13;\n",
       "&#13;\n",
       "                        <div class=\"module\" id=\"related-articles\">&#13;\n",
       "                            <strong>&#13;\n",
       "                                More from MarketWatch&#13;\n",
       "                            </strong>&#13;\n",
       "                            <div class=\"OUTBRAIN\" data-src=\"http://www.marketwatch.com/story/teslas-latest-autopilot-update-is-still-not-hands-free-2015-10-15\" data-widget-id=\"AR_1\" data-ob-template=\"marketwatch\"></div>&#13;\n",
       "                        </div>&#13;\n",
       "&#13;\n",
       "&#13;\n",
       "&#13;\n",
       "            </div>"
      ],
      "text/plain": [
       "<IPython.core.display.HTML object>"
      ]
     },
     "execution_count": 153,
     "metadata": {},
     "output_type": "execute_result"
    }
   ],
   "source": [
    "HTML(article_data[\"body\"])"
   ]
  },
  {
   "cell_type": "code",
   "execution_count": null,
   "metadata": {
    "collapsed": true
   },
   "outputs": [],
   "source": []
  }
 ],
 "metadata": {
  "kernelspec": {
   "display_name": "Python 2",
   "language": "python",
   "name": "python2"
  },
  "language_info": {
   "codemirror_mode": {
    "name": "ipython",
    "version": 2
   },
   "file_extension": ".py",
   "mimetype": "text/x-python",
   "name": "python",
   "nbconvert_exporter": "python",
   "pygments_lexer": "ipython2",
   "version": "2.7.10"
  }
 },
 "nbformat": 4,
 "nbformat_minor": 0
}
