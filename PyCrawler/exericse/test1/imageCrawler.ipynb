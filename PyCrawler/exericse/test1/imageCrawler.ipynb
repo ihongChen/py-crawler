{
 "cells": [
  {
   "cell_type": "code",
   "execution_count": 9,
   "metadata": {
    "collapsed": false
   },
   "outputs": [],
   "source": [
    "import requests\n",
    "URL = 'http://pic.isuphoto.org/102_b_6.jpg'\n",
    "with open('output.jpg','wb') as handle:    \n",
    "    res = requests.get(URL)\n",
    "    \n",
    "    if not res.ok:\n",
    "        print 'something WRONG!!'\n",
    "    for block in res.iter_content(1024):\n",
    "        handle.write(block)"
   ]
  }
 ],
 "metadata": {
  "kernelspec": {
   "display_name": "Python 2",
   "language": "python",
   "name": "python2"
  },
  "language_info": {
   "codemirror_mode": {
    "name": "ipython",
    "version": 2
   },
   "file_extension": ".py",
   "mimetype": "text/x-python",
   "name": "python",
   "nbconvert_exporter": "python",
   "pygments_lexer": "ipython2",
   "version": "2.7.6"
  }
 },
 "nbformat": 4,
 "nbformat_minor": 0
}
