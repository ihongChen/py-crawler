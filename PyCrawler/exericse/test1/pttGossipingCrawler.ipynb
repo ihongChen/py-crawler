{
 "cells": [
  {
   "cell_type": "code",
   "execution_count": 82,
   "metadata": {
    "collapsed": false
   },
   "outputs": [
    {
     "name": "stderr",
     "output_type": "stream",
     "text": [
      "c:\\python27\\lib\\site-packages\\requests\\packages\\urllib3\\util\\ssl_.py:90: InsecurePlatformWarning: A true SSLContext object is not available. This prevents urllib3 from configuring SSL appropriately and may cause certain SSL connections to fail. For more information, see https://urllib3.readthedocs.org/en/latest/security.html#insecureplatformwarning.\n",
      "  InsecurePlatformWarning\n",
      "c:\\python27\\lib\\site-packages\\requests\\packages\\urllib3\\connectionpool.py:768: InsecureRequestWarning: Unverified HTTPS request is being made. Adding certificate verification is strongly advised. See: https://urllib3.readthedocs.org/en/latest/security.html\n",
      "  InsecureRequestWarning)\n",
      "c:\\python27\\lib\\site-packages\\requests\\packages\\urllib3\\connectionpool.py:768: InsecureRequestWarning: Unverified HTTPS request is being made. Adding certificate verification is strongly advised. See: https://urllib3.readthedocs.org/en/latest/security.html\n",
      "  InsecureRequestWarning)\n",
      "c:\\python27\\lib\\site-packages\\requests\\packages\\urllib3\\connectionpool.py:768: InsecureRequestWarning: Unverified HTTPS request is being made. Adding certificate verification is strongly advised. See: https://urllib3.readthedocs.org/en/latest/security.html\n",
      "  InsecureRequestWarning)\n"
     ]
    }
   ],
   "source": [
    "import requests\n",
    "from bs4 import BeautifulSoup\n",
    "url_ptt = 'https://www.ptt.cc/bbs/Gossiping/index.html'\n",
    "payload = {'from':'/bbs/Gossiping/index.html','yes':'yes'}\n",
    "rs = requests.session()\n",
    "res = rs.post('https://www.ptt.cc/ask/over18',payload,verify=False)\n",
    "res = rs.get(url_ptt,verify=False)\n",
    "soup = BeautifulSoup(res.text)\n",
    "\n"
   ]
  },
  {
   "cell_type": "code",
   "execution_count": 83,
   "metadata": {
    "collapsed": false
   },
   "outputs": [
    {
     "name": "stdout",
     "output_type": "stream",
     "text": [
      "Re: [新聞] 日本女性口內射精經驗「既臭又難吃」\n",
      "[新聞] 諾獎得主核災作品　強國中譯書名像愛情小\n",
      "Re: [問卦] 中國買通全世界是打算幹嘛？\n",
      "[問卦] 到底該怎麼救房市??\n",
      "[新聞] 299元就能開Smart 台南高鐵站首推U-Car\n",
      "Re: [爆卦] 內線消息；喬好了\n",
      "[問卦] 有沒有棋子的八卦？\n",
      "Re: [問卦] 搭訕日本妹的第一句要講什麼?\n",
      "[問卦] 約泡APP Skout當機的八卦\n",
      "[問卦] 有沒有用椅子排隊的八卦\n",
      "Re: [新聞] 大選倒數100天　蔡英文：真正的選戰開始\n",
      "[爆卦] 台灣經濟不景氣?\n",
      "[公告] 八卦板板規(2015.06.16)\n",
      "[公告] 八卦版主候選人初選投票開始！\n",
      "[徵求]新北大橋機車道10/6 16:50-17:20行車紀錄\n",
      "[協尋] 請幫忙協尋我男友(有自殺傾向)\n",
      "[公告] 十月份置底閒聊區\n"
     ]
    }
   ],
   "source": [
    "titleList = soup.select('.r-ent')\n",
    "for title in titleList:\n",
    "    print title.a.text"
   ]
  },
  {
   "cell_type": "code",
   "execution_count": 70,
   "metadata": {
    "collapsed": false
   },
   "outputs": [
    {
     "name": "stdout",
     "output_type": "stream",
     "text": [
      "批踢踢實業坊\n",
      "看板 Gossiping\n",
      "關於我們\n",
      "聯絡資訊\n",
      "看板\n",
      "精華區\n",
      "最舊\n",
      "‹ 上頁\n",
      "最新\n",
      "Re: [新聞] 輻射塵清水可沖淨？原能會宣導挨批「專家\n",
      "Re: [問卦] 和護理系共同迎新，應該注意甚麼?\n",
      "Re: [問卦] 大學生了沒誰最紅\n",
      "[爆卦] 內線消息；喬好了\n",
      "[新聞] 別丟下我！在收容所看主人離開　幼犬乖乖\n",
      "[問卦] 八卦民調-鹹酥雞、滷味、串烤，誰是NO.1\n",
      "Re: [問卦] 有沒有小七茶葉蛋比較便宜的八卦?\n",
      "[問卦] 神阿救救我和我愛的人為何這麼寫實?\n",
      "[問卦] 雙十節要吃什麼？o'_'o\n",
      "[問卦] 哪種服務業工作最低階？\n",
      "Re: [問卦] 有沒有 Nissan 的八卦\n",
      "[新聞] 跳樓電玩鼓吹自殺 香港小學發通告禁玩\n",
      "[新聞] 辜莞允不只有42萬　學長還賠她28萬\n",
      "[問卦] 有沒有這樣就可以的八卦?\n",
      "Re: [問卦] 哪種服務業工作最低階？\n",
      "[公告] 八卦板板規(2015.06.16)\n",
      "[公告] 八卦版主候選人初選投票開始！\n",
      "[徵求]新北大橋機車道10/6 16:50-17:20行車紀錄\n",
      "[協尋] 請幫忙協尋我男友(有自殺傾向)\n",
      "[公告] 十月份置底閒聊區\n"
     ]
    }
   ],
   "source": [
    "for e in dataList:\n",
    "    if e.get('href') is not None:\n",
    "        print e.text"
   ]
  }
 ],
 "metadata": {
  "kernelspec": {
   "display_name": "Python 2",
   "language": "python",
   "name": "python2"
  },
  "language_info": {
   "codemirror_mode": {
    "name": "ipython",
    "version": 2
   },
   "file_extension": ".py",
   "mimetype": "text/x-python",
   "name": "python",
   "nbconvert_exporter": "python",
   "pygments_lexer": "ipython2",
   "version": "2.7.6"
  }
 },
 "nbformat": 4,
 "nbformat_minor": 0
}
