{
 "cells": [
  {
   "cell_type": "markdown",
   "metadata": {},
   "source": [
    "# Beautiful Soup"
   ]
  },
  {
   "cell_type": "code",
   "execution_count": 149,
   "metadata": {
    "collapsed": false
   },
   "outputs": [
    {
     "name": "stderr",
     "output_type": "stream",
     "text": [
      "c:\\python27\\lib\\site-packages\\requests\\packages\\urllib3\\util\\ssl_.py:90: InsecurePlatformWarning: A true SSLContext object is not available. This prevents urllib3 from configuring SSL appropriately and may cause certain SSL connections to fail. For more information, see https://urllib3.readthedocs.org/en/latest/security.html#insecureplatformwarning.\n",
      "  InsecurePlatformWarning\n"
     ]
    }
   ],
   "source": [
    "import requests\n",
    "from bs4 import BeautifulSoup\n",
    "url = 'https://tw.sports.yahoo.com/news/%E4%B8%AD%E8%8F%AF%E8%81%B7%E6%A3%92-%E8%B1%A1%E8%BF%B7%E5%80%92%E6%88%88%E5%96%8A%E9%99%B3%E9%87%91%E9%8B%92-%E7%BE%85%E5%9C%8B%E8%8F%AF%E7%AC%91-%E8%A2%AB%E5%AD%A4%E7%AB%8B%E4%BA%86-084106922.html'\n",
    "res = requests.get(url)\n",
    "soup = BeautifulSoup(res.text)"
   ]
  },
  {
   "cell_type": "code",
   "execution_count": 150,
   "metadata": {
    "collapsed": false
   },
   "outputs": [
    {
     "name": "stdout",
     "output_type": "stream",
     "text": [
      "中華職棒／象迷倒戈喊陳金鋒 羅國華笑：被孤立了\n"
     ]
    }
   ],
   "source": [
    "print soup.select('.headline')[0].text"
   ]
  },
  {
   "cell_type": "code",
   "execution_count": 151,
   "metadata": {
    "collapsed": false
   },
   "outputs": [
    {
     "name": "stdout",
     "output_type": "stream",
     "text": [
      "NOWnews\n"
     ]
    }
   ],
   "source": [
    "print soup.select('.provider.org')[0].text"
   ]
  },
  {
   "cell_type": "code",
   "execution_count": 152,
   "metadata": {
    "collapsed": false
   },
   "outputs": [
    {
     "data": {
      "text/plain": [
       "<abbr title=\"2015-10-24T08:41:06Z\">19撠����/abbr>"
      ]
     },
     "execution_count": 152,
     "metadata": {},
     "output_type": "execute_result"
    }
   ],
   "source": [
    "soup.select('abbr')[0]"
   ]
  },
  {
   "cell_type": "code",
   "execution_count": 153,
   "metadata": {
    "collapsed": false
   },
   "outputs": [
    {
     "name": "stdout",
     "output_type": "stream",
     "text": [
      "2015-10-24T08:41:06Z\n"
     ]
    }
   ],
   "source": [
    "print soup.select('abbr')[0].get('title')"
   ]
  },
  {
   "cell_type": "code",
   "execution_count": 154,
   "metadata": {
    "collapsed": false
   },
   "outputs": [
    {
     "name": "stdout",
     "output_type": "stream",
     "text": [
      "<p class=\"first\">記者張耀中／桃園報導</p>\n",
      "<p>總冠軍賽第5戰陳金鋒上場代打，全場象迷倒戈高喊「陳金鋒！陳金鋒！」，當時的投手羅國華今天(24日)回憶，笑說自己被孤立了。</p>\n",
      "<p>當時第9局Lamigo桃猿換上陳金鋒代打，洲際球場滿場象迷放下對立，大聲高喊陳金鋒的名字。</p>\n",
      "<p>中信兄弟投手羅國華，面對陳金鋒最後投出四壞球保送，今天第6戰賽前他說：「我也想投進去給他打，如果他能打出好的結果，我也會替他開心。」</p>\n",
      "<p>談到全場象迷倒戈，羅國華笑說：「我有種被孤立的感覺，不過確實陳金鋒站上打擊區，投手的氣勢就會感覺比較弱。」</p>\n",
      "<p>陳金鋒第5戰代打影片：https://youtu.be/KXdCS-ti_p4</p>\n"
     ]
    }
   ],
   "source": [
    "for e in soup.select('.bd > p'):\n",
    "    print e"
   ]
  },
  {
   "cell_type": "code",
   "execution_count": 155,
   "metadata": {
    "collapsed": false
   },
   "outputs": [
    {
     "name": "stdout",
     "output_type": "stream",
     "text": [
      "<p class=\"first\">記者張耀中／桃園報導</p><p>總冠軍賽第5戰陳金鋒上場代打，全場象迷倒戈高喊「陳金鋒！陳金鋒！」，當時的投手羅國華今天(24日)回憶，笑說自己被孤立了。</p><p>當時第9局Lamigo桃猿換上陳金鋒代打，洲際球場滿場象迷放下對立，大聲高喊陳金鋒的名字。</p><p>中信兄弟投手羅國華，面對陳金鋒最後投出四壞球保送，今天第6戰賽前他說：「我也想投進去給他打，如果他能打出好的結果，我也會替他開心。」</p><p>談到全場象迷倒戈，羅國華笑說：「我有種被孤立的感覺，不過確實陳金鋒站上打擊區，投手的氣勢就會感覺比較弱。」</p><p>陳金鋒第5戰代打影片：https://youtu.be/KXdCS-ti_p4</p>\n"
     ]
    }
   ],
   "source": [
    "list1 = soup.select('.bd > p')\n",
    "str1 = ''.join(str(e) for e in list1)\n",
    "print str1"
   ]
  },
  {
   "cell_type": "code",
   "execution_count": 157,
   "metadata": {
    "collapsed": false
   },
   "outputs": [],
   "source": [
    "headline = soup.select('.headline')[0].text\n",
    "provider = soup.select('.provider.org')[0].text\n",
    "publishDate = soup.select('abbr')[0].get('title')\n",
    "list1 = soup.select('.bd > p')\n",
    "body = ''.join(str(e) for e in list1)\n",
    "body = unicode(body,'utf8')\n",
    "data = {\"headline\":headline,\"provider\":provider,\"publishDate\":publishDate,\"body\":body}"
   ]
  },
  {
   "cell_type": "code",
   "execution_count": 158,
   "metadata": {
    "collapsed": false
   },
   "outputs": [
    {
     "data": {
      "text/plain": [
       "{'body': u'<p class=\"first\">\\u8a18\\u8005\\u5f35\\u8000\\u4e2d\\uff0f\\u6843\\u5712\\u5831\\u5c0e</p><p>\\u7e3d\\u51a0\\u8ecd\\u8cfd\\u7b2c5\\u6230\\u9673\\u91d1\\u92d2\\u4e0a\\u5834\\u4ee3\\u6253\\uff0c\\u5168\\u5834\\u8c61\\u8ff7\\u5012\\u6208\\u9ad8\\u558a\\u300c\\u9673\\u91d1\\u92d2\\uff01\\u9673\\u91d1\\u92d2\\uff01\\u300d\\uff0c\\u7576\\u6642\\u7684\\u6295\\u624b\\u7f85\\u570b\\u83ef\\u4eca\\u5929(24\\u65e5)\\u56de\\u61b6\\uff0c\\u7b11\\u8aaa\\u81ea\\u5df1\\u88ab\\u5b64\\u7acb\\u4e86\\u3002</p><p>\\u7576\\u6642\\u7b2c9\\u5c40Lamigo\\u6843\\u733f\\u63db\\u4e0a\\u9673\\u91d1\\u92d2\\u4ee3\\u6253\\uff0c\\u6d32\\u969b\\u7403\\u5834\\u6eff\\u5834\\u8c61\\u8ff7\\u653e\\u4e0b\\u5c0d\\u7acb\\uff0c\\u5927\\u8072\\u9ad8\\u558a\\u9673\\u91d1\\u92d2\\u7684\\u540d\\u5b57\\u3002</p><p>\\u4e2d\\u4fe1\\u5144\\u5f1f\\u6295\\u624b\\u7f85\\u570b\\u83ef\\uff0c\\u9762\\u5c0d\\u9673\\u91d1\\u92d2\\u6700\\u5f8c\\u6295\\u51fa\\u56db\\u58de\\u7403\\u4fdd\\u9001\\uff0c\\u4eca\\u5929\\u7b2c6\\u6230\\u8cfd\\u524d\\u4ed6\\u8aaa\\uff1a\\u300c\\u6211\\u4e5f\\u60f3\\u6295\\u9032\\u53bb\\u7d66\\u4ed6\\u6253\\uff0c\\u5982\\u679c\\u4ed6\\u80fd\\u6253\\u51fa\\u597d\\u7684\\u7d50\\u679c\\uff0c\\u6211\\u4e5f\\u6703\\u66ff\\u4ed6\\u958b\\u5fc3\\u3002\\u300d</p><p>\\u8ac7\\u5230\\u5168\\u5834\\u8c61\\u8ff7\\u5012\\u6208\\uff0c\\u7f85\\u570b\\u83ef\\u7b11\\u8aaa\\uff1a\\u300c\\u6211\\u6709\\u7a2e\\u88ab\\u5b64\\u7acb\\u7684\\u611f\\u89ba\\uff0c\\u4e0d\\u904e\\u78ba\\u5be6\\u9673\\u91d1\\u92d2\\u7ad9\\u4e0a\\u6253\\u64ca\\u5340\\uff0c\\u6295\\u624b\\u7684\\u6c23\\u52e2\\u5c31\\u6703\\u611f\\u89ba\\u6bd4\\u8f03\\u5f31\\u3002\\u300d</p><p>\\u9673\\u91d1\\u92d2\\u7b2c5\\u6230\\u4ee3\\u6253\\u5f71\\u7247\\uff1ahttps://youtu.be/KXdCS-ti_p4</p>',\n",
       " 'headline': u'\\u4e2d\\u83ef\\u8077\\u68d2\\uff0f\\u8c61\\u8ff7\\u5012\\u6208\\u558a\\u9673\\u91d1\\u92d2 \\u7f85\\u570b\\u83ef\\u7b11\\uff1a\\u88ab\\u5b64\\u7acb\\u4e86',\n",
       " 'provider': u'NOWnews',\n",
       " 'publishDate': '2015-10-24T08:41:06Z'}"
      ]
     },
     "execution_count": 158,
     "metadata": {},
     "output_type": "execute_result"
    }
   ],
   "source": [
    "data"
   ]
  },
  {
   "cell_type": "code",
   "execution_count": 86,
   "metadata": {
    "collapsed": false
   },
   "outputs": [
    {
     "data": {
      "text/plain": [
       "unicode"
      ]
     },
     "execution_count": 86,
     "metadata": {},
     "output_type": "execute_result"
    }
   ],
   "source": [
    "type(data['provider'])"
   ]
  },
  {
   "cell_type": "code",
   "execution_count": 159,
   "metadata": {
    "collapsed": true
   },
   "outputs": [],
   "source": [
    "from bs4 import BeautifulSoup\n",
    "import requests\n",
    "\n",
    "def getYahooData(url):\n",
    "    res = requests.get(url)\n",
    "    soup = BeautifulSoup(res.text)\n",
    "    headline = soup.select('.headline')[0].text\n",
    "    provider = soup.select('.provider.org')[0].text\n",
    "    publishDate = soup.select('abbr')[0].get('title')\n",
    "    list1 = soup.select('.bd > p')\n",
    "    body = ''.join(str(e) for e in list1) # string data\n",
    "    body = unicode(body,'utf8')\n",
    "    data = {\"headline\":headline,\"provider\":provider,\"publishDate\":publishDate,\"body\":body}\n",
    "    return data"
   ]
  },
  {
   "cell_type": "code",
   "execution_count": 160,
   "metadata": {
    "collapsed": false
   },
   "outputs": [
    {
     "name": "stderr",
     "output_type": "stream",
     "text": [
      "c:\\python27\\lib\\site-packages\\requests\\packages\\urllib3\\util\\ssl_.py:90: InsecurePlatformWarning: A true SSLContext object is not available. This prevents urllib3 from configuring SSL appropriately and may cause certain SSL connections to fail. For more information, see https://urllib3.readthedocs.org/en/latest/security.html#insecureplatformwarning.\n",
      "  InsecurePlatformWarning\n"
     ]
    },
    {
     "data": {
      "text/plain": [
       "{'body': u'<p class=\"first\">\\u8a18\\u8005\\u5f35\\u8000\\u4e2d\\uff0f\\u6843\\u5712\\u5831\\u5c0e</p><p>\\u7e3d\\u51a0\\u8ecd\\u8cfd\\u7b2c5\\u6230\\u9673\\u91d1\\u92d2\\u4e0a\\u5834\\u4ee3\\u6253\\uff0c\\u5168\\u5834\\u8c61\\u8ff7\\u5012\\u6208\\u9ad8\\u558a\\u300c\\u9673\\u91d1\\u92d2\\uff01\\u9673\\u91d1\\u92d2\\uff01\\u300d\\uff0c\\u7576\\u6642\\u7684\\u6295\\u624b\\u7f85\\u570b\\u83ef\\u4eca\\u5929(24\\u65e5)\\u56de\\u61b6\\uff0c\\u7b11\\u8aaa\\u81ea\\u5df1\\u88ab\\u5b64\\u7acb\\u4e86\\u3002</p><p>\\u7576\\u6642\\u7b2c9\\u5c40Lamigo\\u6843\\u733f\\u63db\\u4e0a\\u9673\\u91d1\\u92d2\\u4ee3\\u6253\\uff0c\\u6d32\\u969b\\u7403\\u5834\\u6eff\\u5834\\u8c61\\u8ff7\\u653e\\u4e0b\\u5c0d\\u7acb\\uff0c\\u5927\\u8072\\u9ad8\\u558a\\u9673\\u91d1\\u92d2\\u7684\\u540d\\u5b57\\u3002</p><p>\\u4e2d\\u4fe1\\u5144\\u5f1f\\u6295\\u624b\\u7f85\\u570b\\u83ef\\uff0c\\u9762\\u5c0d\\u9673\\u91d1\\u92d2\\u6700\\u5f8c\\u6295\\u51fa\\u56db\\u58de\\u7403\\u4fdd\\u9001\\uff0c\\u4eca\\u5929\\u7b2c6\\u6230\\u8cfd\\u524d\\u4ed6\\u8aaa\\uff1a\\u300c\\u6211\\u4e5f\\u60f3\\u6295\\u9032\\u53bb\\u7d66\\u4ed6\\u6253\\uff0c\\u5982\\u679c\\u4ed6\\u80fd\\u6253\\u51fa\\u597d\\u7684\\u7d50\\u679c\\uff0c\\u6211\\u4e5f\\u6703\\u66ff\\u4ed6\\u958b\\u5fc3\\u3002\\u300d</p><p>\\u8ac7\\u5230\\u5168\\u5834\\u8c61\\u8ff7\\u5012\\u6208\\uff0c\\u7f85\\u570b\\u83ef\\u7b11\\u8aaa\\uff1a\\u300c\\u6211\\u6709\\u7a2e\\u88ab\\u5b64\\u7acb\\u7684\\u611f\\u89ba\\uff0c\\u4e0d\\u904e\\u78ba\\u5be6\\u9673\\u91d1\\u92d2\\u7ad9\\u4e0a\\u6253\\u64ca\\u5340\\uff0c\\u6295\\u624b\\u7684\\u6c23\\u52e2\\u5c31\\u6703\\u611f\\u89ba\\u6bd4\\u8f03\\u5f31\\u3002\\u300d</p><p>\\u9673\\u91d1\\u92d2\\u7b2c5\\u6230\\u4ee3\\u6253\\u5f71\\u7247\\uff1ahttps://youtu.be/KXdCS-ti_p4</p>',\n",
       " 'headline': u'\\u4e2d\\u83ef\\u8077\\u68d2\\uff0f\\u8c61\\u8ff7\\u5012\\u6208\\u558a\\u9673\\u91d1\\u92d2 \\u7f85\\u570b\\u83ef\\u7b11\\uff1a\\u88ab\\u5b64\\u7acb\\u4e86',\n",
       " 'provider': u'NOWnews',\n",
       " 'publishDate': '2015-10-24T08:41:06Z'}"
      ]
     },
     "execution_count": 160,
     "metadata": {},
     "output_type": "execute_result"
    }
   ],
   "source": [
    "getYahooData('https://tw.sports.yahoo.com/news/%E4%B8%AD%E8%8F%AF%E8%81%B7%E6%A3%92-%E8%B1%A1%E8%BF%B7%E5%80%92%E6%88%88%E5%96%8A%E9%99%B3%E9%87%91%E9%8B%92-%E7%BE%85%E5%9C%8B%E8%8F%AF%E7%AC%91-%E8%A2%AB%E5%AD%A4%E7%AB%8B%E4%BA%86-084106922.html')"
   ]
  },
  {
   "cell_type": "markdown",
   "metadata": {},
   "source": [
    "#list story from YahooSport Homepage"
   ]
  },
  {
   "cell_type": "code",
   "execution_count": 161,
   "metadata": {
    "collapsed": false
   },
   "outputs": [
    {
     "name": "stderr",
     "output_type": "stream",
     "text": [
      "c:\\python27\\lib\\site-packages\\requests\\packages\\urllib3\\util\\ssl_.py:90: InsecurePlatformWarning: A true SSLContext object is not available. This prevents urllib3 from configuring SSL appropriately and may cause certain SSL connections to fail. For more information, see https://urllib3.readthedocs.org/en/latest/security.html#insecureplatformwarning.\n",
      "  InsecurePlatformWarning\n"
     ]
    }
   ],
   "source": [
    "url = 'https://tw.sports.yahoo.com/'\n",
    "res = requests.get(url)\n",
    "soup = BeautifulSoup(res.text)    "
   ]
  },
  {
   "cell_type": "code",
   "execution_count": 172,
   "metadata": {
    "collapsed": false
   },
   "outputs": [
    {
     "name": "stdout",
     "output_type": "stream",
     "text": [
      "/news/cpbl總冠軍賽-蘭斯佛神救猿-象猿決勝第7戰-134848982.html\n",
      "/news/cpbl總冠軍賽-王柏融逆轉安當英雄-13安追平紀錄-141734333.html\n",
      "/news/寧波挑戰賽-盧彥勳-盤未失闖決賽-力拚今年首冠-142457119.html\n",
      "/news/成功的圓夢旅程-092148314.html\n",
      "/news/lpga台灣賽-高寶璟第3輪超車-4桿之差獨走-132434928.html\n",
      "/news/mlb-獲美聯冠軍賽mvp-escobar美夢成真-084423305.html\n",
      "/news/中華職棒-象迷倒戈喊陳金鋒-羅國華笑-被孤立了-084106922.html\n",
      "/news/lpga台灣賽-狀況佳成績卻更差-曾雅妮哭了-083439034.html\n",
      "/news/羽球-戴資穎首勝李雪芮-中止對戰10連敗-083956712.html\n",
      "/news/你不知道的冰島已經重新凝固-073841405.html\n",
      "/news/nba-2017-20年-馬刺主帥波波維奇掌美國男籃隊兵符-033506659--nba.html\n",
      "/news/mlb-再闖世界大賽-皇家心境不同-070322403.html\n",
      "/news/翊起運動-中職冠軍賽g6-lamigo勝-g7大決戰-003944739.html\n",
      "/lightbox/新聞女生隊精彩照片-slideshow/\n"
     ]
    }
   ],
   "source": [
    "for e in soup.select('a.title'):\n",
    "    print e.get('href')"
   ]
  },
  {
   "cell_type": "code",
   "execution_count": 162,
   "metadata": {
    "collapsed": false
   },
   "outputs": [
    {
     "name": "stdout",
     "output_type": "stream",
     "text": [
      "/news/cpbl總冠軍賽-蘭斯佛神救猿-象猿決勝第7戰-134848982.html\n",
      "/news/cpbl總冠軍賽-王柏融逆轉安當英雄-13安追平紀錄-141734333.html\n",
      "/news/寧波挑戰賽-盧彥勳-盤未失闖決賽-力拚今年首冠-142457119.html\n",
      "/news/成功的圓夢旅程-092148314.html\n",
      "/news/lpga台灣賽-高寶璟第3輪超車-4桿之差獨走-132434928.html\n",
      "/news/mlb-獲美聯冠軍賽mvp-escobar美夢成真-084423305.html\n",
      "/news/中華職棒-象迷倒戈喊陳金鋒-羅國華笑-被孤立了-084106922.html\n",
      "/news/lpga台灣賽-狀況佳成績卻更差-曾雅妮哭了-083439034.html\n",
      "/news/羽球-戴資穎首勝李雪芮-中止對戰10連敗-083956712.html\n",
      "/news/你不知道的冰島已經重新凝固-073841405.html\n",
      "/news/nba-2017-20年-馬刺主帥波波維奇掌美國男籃隊兵符-033506659--nba.html\n",
      "/news/mlb-再闖世界大賽-皇家心境不同-070322403.html\n",
      "/news/翊起運動-中職冠軍賽g6-lamigo勝-g7大決戰-003944739.html\n"
     ]
    }
   ],
   "source": [
    "for e in soup.select('.list-story .txt > a'):\n",
    "    print e.get('href')"
   ]
  },
  {
   "cell_type": "code",
   "execution_count": 127,
   "metadata": {
    "collapsed": true
   },
   "outputs": [],
   "source": [
    "# link for crawling each page\n",
    "linksToCrawl = ['https://tw.sports.yahoo.com/'+ e.get('href') for e in soup.select('.list-story .txt > a')]"
   ]
  },
  {
   "cell_type": "code",
   "execution_count": 163,
   "metadata": {
    "collapsed": false
   },
   "outputs": [
    {
     "name": "stdout",
     "output_type": "stream",
     "text": [
      "https://tw.sports.yahoo.com//news/cpbl總冠軍賽-蘭斯佛神救猿-象猿決勝第7戰-134848982.html\n",
      "https://tw.sports.yahoo.com//news/cpbl總冠軍賽-王柏融逆轉安當英雄-13安追平紀錄-141734333.html\n",
      "https://tw.sports.yahoo.com//news/寧波挑戰賽-盧彥勳-盤未失闖決賽-力拚今年首冠-142457119.html\n",
      "https://tw.sports.yahoo.com//news/成功的圓夢旅程-092148314.html\n",
      "https://tw.sports.yahoo.com//news/lpga台灣賽-高寶璟第3輪超車-4桿之差獨走-132434928.html\n",
      "https://tw.sports.yahoo.com//news/mlb-獲美聯冠軍賽mvp-escobar美夢成真-084423305.html\n",
      "https://tw.sports.yahoo.com//news/中華職棒-象迷倒戈喊陳金鋒-羅國華笑-被孤立了-084106922.html\n",
      "https://tw.sports.yahoo.com//news/lpga台灣賽-狀況佳成績卻更差-曾雅妮哭了-083439034.html\n",
      "https://tw.sports.yahoo.com//news/羽球-戴資穎首勝李雪芮-中止對戰10連敗-083956712.html\n",
      "https://tw.sports.yahoo.com//news/你不知道的冰島已經重新凝固-073841405.html\n",
      "https://tw.sports.yahoo.com//news/nba-2017-20年-馬刺主帥波波維奇掌美國男籃隊兵符-033506659--nba.html\n",
      "https://tw.sports.yahoo.com//news/mlb-再闖世界大賽-皇家心境不同-070322403.html\n",
      "https://tw.sports.yahoo.com//news/翊起運動-中職冠軍賽g6-lamigo勝-g7大決戰-003944739.html\n"
     ]
    }
   ],
   "source": [
    "for a in linksToCrawl:\n",
    "    print a"
   ]
  },
  {
   "cell_type": "code",
   "execution_count": 164,
   "metadata": {
    "collapsed": false
   },
   "outputs": [
    {
     "name": "stderr",
     "output_type": "stream",
     "text": [
      "c:\\python27\\lib\\site-packages\\requests\\packages\\urllib3\\util\\ssl_.py:90: InsecurePlatformWarning: A true SSLContext object is not available. This prevents urllib3 from configuring SSL appropriately and may cause certain SSL connections to fail. For more information, see https://urllib3.readthedocs.org/en/latest/security.html#insecureplatformwarning.\n",
      "  InsecurePlatformWarning\n",
      "c:\\python27\\lib\\site-packages\\requests\\packages\\urllib3\\util\\ssl_.py:90: InsecurePlatformWarning: A true SSLContext object is not available. This prevents urllib3 from configuring SSL appropriately and may cause certain SSL connections to fail. For more information, see https://urllib3.readthedocs.org/en/latest/security.html#insecureplatformwarning.\n",
      "  InsecurePlatformWarning\n",
      "c:\\python27\\lib\\site-packages\\requests\\packages\\urllib3\\util\\ssl_.py:90: InsecurePlatformWarning: A true SSLContext object is not available. This prevents urllib3 from configuring SSL appropriately and may cause certain SSL connections to fail. For more information, see https://urllib3.readthedocs.org/en/latest/security.html#insecureplatformwarning.\n",
      "  InsecurePlatformWarning\n",
      "c:\\python27\\lib\\site-packages\\requests\\packages\\urllib3\\util\\ssl_.py:90: InsecurePlatformWarning: A true SSLContext object is not available. This prevents urllib3 from configuring SSL appropriately and may cause certain SSL connections to fail. For more information, see https://urllib3.readthedocs.org/en/latest/security.html#insecureplatformwarning.\n",
      "  InsecurePlatformWarning\n",
      "c:\\python27\\lib\\site-packages\\requests\\packages\\urllib3\\util\\ssl_.py:90: InsecurePlatformWarning: A true SSLContext object is not available. This prevents urllib3 from configuring SSL appropriately and may cause certain SSL connections to fail. For more information, see https://urllib3.readthedocs.org/en/latest/security.html#insecureplatformwarning.\n",
      "  InsecurePlatformWarning\n",
      "c:\\python27\\lib\\site-packages\\requests\\packages\\urllib3\\util\\ssl_.py:90: InsecurePlatformWarning: A true SSLContext object is not available. This prevents urllib3 from configuring SSL appropriately and may cause certain SSL connections to fail. For more information, see https://urllib3.readthedocs.org/en/latest/security.html#insecureplatformwarning.\n",
      "  InsecurePlatformWarning\n",
      "c:\\python27\\lib\\site-packages\\requests\\packages\\urllib3\\util\\ssl_.py:90: InsecurePlatformWarning: A true SSLContext object is not available. This prevents urllib3 from configuring SSL appropriately and may cause certain SSL connections to fail. For more information, see https://urllib3.readthedocs.org/en/latest/security.html#insecureplatformwarning.\n",
      "  InsecurePlatformWarning\n",
      "c:\\python27\\lib\\site-packages\\requests\\packages\\urllib3\\util\\ssl_.py:90: InsecurePlatformWarning: A true SSLContext object is not available. This prevents urllib3 from configuring SSL appropriately and may cause certain SSL connections to fail. For more information, see https://urllib3.readthedocs.org/en/latest/security.html#insecureplatformwarning.\n",
      "  InsecurePlatformWarning\n",
      "c:\\python27\\lib\\site-packages\\requests\\packages\\urllib3\\util\\ssl_.py:90: InsecurePlatformWarning: A true SSLContext object is not available. This prevents urllib3 from configuring SSL appropriately and may cause certain SSL connections to fail. For more information, see https://urllib3.readthedocs.org/en/latest/security.html#insecureplatformwarning.\n",
      "  InsecurePlatformWarning\n",
      "c:\\python27\\lib\\site-packages\\requests\\packages\\urllib3\\util\\ssl_.py:90: InsecurePlatformWarning: A true SSLContext object is not available. This prevents urllib3 from configuring SSL appropriately and may cause certain SSL connections to fail. For more information, see https://urllib3.readthedocs.org/en/latest/security.html#insecureplatformwarning.\n",
      "  InsecurePlatformWarning\n",
      "c:\\python27\\lib\\site-packages\\requests\\packages\\urllib3\\util\\ssl_.py:90: InsecurePlatformWarning: A true SSLContext object is not available. This prevents urllib3 from configuring SSL appropriately and may cause certain SSL connections to fail. For more information, see https://urllib3.readthedocs.org/en/latest/security.html#insecureplatformwarning.\n",
      "  InsecurePlatformWarning\n",
      "c:\\python27\\lib\\site-packages\\requests\\packages\\urllib3\\util\\ssl_.py:90: InsecurePlatformWarning: A true SSLContext object is not available. This prevents urllib3 from configuring SSL appropriately and may cause certain SSL connections to fail. For more information, see https://urllib3.readthedocs.org/en/latest/security.html#insecureplatformwarning.\n",
      "  InsecurePlatformWarning\n",
      "c:\\python27\\lib\\site-packages\\requests\\packages\\urllib3\\util\\ssl_.py:90: InsecurePlatformWarning: A true SSLContext object is not available. This prevents urllib3 from configuring SSL appropriately and may cause certain SSL connections to fail. For more information, see https://urllib3.readthedocs.org/en/latest/security.html#insecureplatformwarning.\n",
      "  InsecurePlatformWarning\n"
     ]
    }
   ],
   "source": [
    "dataList = map(getYahooData,linksToCrawl)"
   ]
  },
  {
   "cell_type": "code",
   "execution_count": 165,
   "metadata": {
    "collapsed": false
   },
   "outputs": [],
   "source": [
    "import pandas as pd\n",
    "df =pd.DataFrame(dataList)"
   ]
  },
  {
   "cell_type": "code",
   "execution_count": 166,
   "metadata": {
    "collapsed": false
   },
   "outputs": [],
   "source": [
    "df.to_csv(\"yahoo_news.csv\", encoding=\"utf8\", index=False)"
   ]
  },
  {
   "cell_type": "code",
   "execution_count": 167,
   "metadata": {
    "collapsed": false
   },
   "outputs": [
    {
     "name": "stdout",
     "output_type": "stream",
     "text": [
      " 磁碟區 D 中的磁碟是 Data_HD\n",
      " 磁碟區序號:  34D8-67EF\n",
      "\n",
      " D:\\My Documents\\Documents\\python\\PyCrawler101\\exericse\\8_yahooSports 的目錄\n",
      "\n",
      "2015/10/25  下午 12:04    <DIR>          .\n",
      "2015/10/25  下午 12:04    <DIR>          ..\n",
      "2015/10/25  上午 11:17    <DIR>          .ipynb_checkpoints\n",
      "2015/10/21  下午 10:02            40,258 getYahooSports_1_xpath.ipynb\n",
      "2015/10/23  下午 09:19            24,302 getYahooSports_2_pyquery.ipynb\n",
      "2015/10/25  下午 12:06            24,637 yahoo_news.csv\n",
      "2015/10/25  下午 12:00             3,072 yahoo_news.db\n",
      "2015/10/25  下午 12:04            37,538 YahooBeautifulSoup.ipynb\n",
      "2015/10/25  上午 11:28               932 YahooSportsBeautifulSoup.py\n",
      "               6 個檔案         130,739 位元組\n",
      "               3 個目錄  172,870,459,392 位元組可用\n"
     ]
    }
   ],
   "source": [
    "ls"
   ]
  },
  {
   "cell_type": "code",
   "execution_count": 168,
   "metadata": {
    "collapsed": true
   },
   "outputs": [],
   "source": [
    "import sqlite3\n",
    "conn = sqlite3.connect('yahoo_news.db')"
   ]
  },
  {
   "cell_type": "code",
   "execution_count": 169,
   "metadata": {
    "collapsed": false
   },
   "outputs": [],
   "source": [
    "df.to_sql(name = \"news\", con=conn, if_exists=\"append\")"
   ]
  },
  {
   "cell_type": "code",
   "execution_count": 170,
   "metadata": {
    "collapsed": true
   },
   "outputs": [],
   "source": [
    "read_sql_df = pd.read_sql(sql=\"select * from news\",con=conn)"
   ]
  },
  {
   "cell_type": "code",
   "execution_count": 171,
   "metadata": {
    "collapsed": false
   },
   "outputs": [
    {
     "data": {
      "text/html": [
       "<div style=\"max-height:1000px;max-width:1500px;overflow:auto;\">\n",
       "<table border=\"1\" class=\"dataframe\">\n",
       "  <thead>\n",
       "    <tr style=\"text-align: right;\">\n",
       "      <th></th>\n",
       "      <th>index</th>\n",
       "      <th>body</th>\n",
       "      <th>headline</th>\n",
       "      <th>provider</th>\n",
       "      <th>publishDate</th>\n",
       "    </tr>\n",
       "  </thead>\n",
       "  <tbody>\n",
       "    <tr>\n",
       "      <th>0</th>\n",
       "      <td>0</td>\n",
       "      <td>&lt;p class=\"first\"&gt;面臨背水一戰的Lamigo桃猿，今天(24日)再有英雄跳出...</td>\n",
       "      <td>〈CPBL總冠軍賽〉蘭斯佛神救猿 象猿決勝第7戰</td>\n",
       "      <td>TSNA</td>\n",
       "      <td>2015-10-24T13:48:48Z</td>\n",
       "    </tr>\n",
       "    <tr>\n",
       "      <th>1</th>\n",
       "      <td>1</td>\n",
       "      <td>&lt;p class=\"first\"&gt;Lamigo桃猿「柏融大王」王柏融今天(24日)再展超級新...</td>\n",
       "      <td>〈CPBL總冠軍賽〉王柏融逆轉安當英雄 13安平紀錄</td>\n",
       "      <td>TSNA</td>\n",
       "      <td>2015-10-24T14:17:34Z</td>\n",
       "    </tr>\n",
       "    <tr>\n",
       "      <th>2</th>\n",
       "      <td>2</td>\n",
       "      <td>&lt;p class=\"first\"&gt;列為大會頭號種子的台灣網球一哥盧彥勳，今天(24日)在寧波...</td>\n",
       "      <td>〈寧波挑戰賽〉盧彥勳一盤未失闖決賽 力拚今年首冠</td>\n",
       "      <td>TSNA</td>\n",
       "      <td>2015-10-24T14:24:57Z</td>\n",
       "    </tr>\n",
       "    <tr>\n",
       "      <th>3</th>\n",
       "      <td>3</td>\n",
       "      <td>&lt;p class=\"first\"&gt;不習慣體育班的生活方式，張浩颺離開HBL名校南山高中，重考...</td>\n",
       "      <td>成功的圓夢旅程</td>\n",
       "      <td>羅比特</td>\n",
       "      <td>2015-10-24T09:21:48Z</td>\n",
       "    </tr>\n",
       "    <tr>\n",
       "      <th>4</th>\n",
       "      <td>4</td>\n",
       "      <td>&lt;p class=\"first\"&gt;2015富邦LPGA今天(24日)進入第3輪賽事，前2天都...</td>\n",
       "      <td>〈LPGA台灣賽〉高寶璟第3輪超車 4桿之差獨走</td>\n",
       "      <td>TSNA</td>\n",
       "      <td>2015-10-24T13:24:34Z</td>\n",
       "    </tr>\n",
       "    <tr>\n",
       "      <th>5</th>\n",
       "      <td>5</td>\n",
       "      <td>&lt;p class=\"first\"&gt;儘管沒有如同國聯冠軍賽最有價值球員（MVP）Daniel ...</td>\n",
       "      <td>〈MLB〉獲美聯冠軍賽MVP Escobar美夢成真</td>\n",
       "      <td>TSNA</td>\n",
       "      <td>2015-10-24T08:44:23Z</td>\n",
       "    </tr>\n",
       "    <tr>\n",
       "      <th>6</th>\n",
       "      <td>6</td>\n",
       "      <td>&lt;p class=\"first\"&gt;記者張耀中／桃園報導&lt;/p&gt;&lt;p&gt;總冠軍賽第5戰陳金鋒上場...</td>\n",
       "      <td>中華職棒／象迷倒戈喊陳金鋒 羅國華笑：被孤立了</td>\n",
       "      <td>NOWnews</td>\n",
       "      <td>2015-10-24T08:41:06Z</td>\n",
       "    </tr>\n",
       "    <tr>\n",
       "      <th>7</th>\n",
       "      <td>7</td>\n",
       "      <td>&lt;p class=\"first\"&gt;富邦LPGA台灣錦標賽今天(24日)進行第3回合，前2輪打...</td>\n",
       "      <td>〈LPGA台灣賽〉狀況佳成績卻更差 曾雅妮哭了</td>\n",
       "      <td>TSNA</td>\n",
       "      <td>2015-10-24T08:34:39Z</td>\n",
       "    </tr>\n",
       "    <tr>\n",
       "      <th>8</th>\n",
       "      <td>8</td>\n",
       "      <td>&lt;p class=\"first\"&gt;台灣羽球好手戴資穎在總獎金27萬5千美元的法國超級系列賽8...</td>\n",
       "      <td>〈羽球〉戴資穎首勝李雪芮 中止對戰10連敗</td>\n",
       "      <td>TSNA</td>\n",
       "      <td>2015-10-24T08:39:56Z</td>\n",
       "    </tr>\n",
       "    <tr>\n",
       "      <th>9</th>\n",
       "      <td>9</td>\n",
       "      <td>&lt;p class=\"first\"&gt;經過2008年金融海嘯的大災難，人們早已認為冰島沒可救藥，...</td>\n",
       "      <td>你不知道的冰島已經重新凝固</td>\n",
       "      <td>迪比派路</td>\n",
       "      <td>2015-10-24T07:38:41Z</td>\n",
       "    </tr>\n",
       "    <tr>\n",
       "      <th>10</th>\n",
       "      <td>10</td>\n",
       "      <td>&lt;p&gt;同時還宣佈科蘭傑洛（Jerry Colangelo）在2017-20年期間繼續擔任球隊...</td>\n",
       "      <td>NBA》2017-20年　馬刺主帥波波維奇掌美國男籃隊兵符</td>\n",
       "      <td>麗台運動報</td>\n",
       "      <td>2015-10-24T03:35:06Z</td>\n",
       "    </tr>\n",
       "    <tr>\n",
       "      <th>11</th>\n",
       "      <td>11</td>\n",
       "      <td>&lt;p class=\"first\"&gt;堪薩斯皇家今天（24日）在風雨中撐過驚濤駭浪，靠著8局下L...</td>\n",
       "      <td>〈MLB〉再闖世界大賽 皇家心境不同</td>\n",
       "      <td>TSNA</td>\n",
       "      <td>2015-10-24T07:03:22Z</td>\n",
       "    </tr>\n",
       "    <tr>\n",
       "      <th>12</th>\n",
       "      <td>12</td>\n",
       "      <td>&lt;p class=\"first\"&gt;中華職棒26年總冠軍賽第六戰 ，中信兄弟一開局就展現強攻氣...</td>\n",
       "      <td>【翊起運動】中職冠軍賽G6 Lamigo勝 G7大決戰</td>\n",
       "      <td>翊起運動Vamos Sports</td>\n",
       "      <td>2015-10-25T00:39:44Z</td>\n",
       "    </tr>\n",
       "  </tbody>\n",
       "</table>\n",
       "</div>"
      ],
      "text/plain": [
       "    index                                               body  \\\n",
       "0       0  <p class=\"first\">�Ｚ���偌銝����amigo獢��嚗��憭�24������梢�頝喳�...   \n",
       "1       1  <p class=\"first\">Lamigo獢�������之���������憭�24�����頞����..   \n",
       "2       2  <p class=\"first\">���憭扳��剛�蝔桀������雯����亦�敶亙�嚗��憭�24���典祐瘜�..   \n",
       "3       3  <p class=\"first\">銝������脩����瘣餅�撘��撘菜筒憸粹���BL�����控擃�葉嚗����..   \n",
       "4       4  <p class=\"first\">2015撖��LPGA隞�予(24���脣�蝚�頛芾魚鈭����憭拚�...   \n",
       "5       5  <p class=\"first\">��恣瘝��憒��������鞈賣�����潛��∴�MVP嚗�aniel ...   \n",
       "6       6  <p class=\"first\">閮��撘菔�銝哨�獢���勗�</p><p>蝮賢�頠�魚蝚��圈����銝��...   \n",
       "7       7  <p class=\"first\">撖��LPGA�啁��行�鞈賭�憭�24���脰�蝚����嚗��2頛芣�...   \n",
       "8       8  <p class=\"first\">�啁�蝢賜�憟賣��渲�蝛��蝮賜���7��������瘜��頞��蝟餃�鞈�...   \n",
       "9       9  <p class=\"first\">蝬��2008撟湧���絲�舐�憭抒����鈭箏��拙歇隤���啣雀瘝�����嚗�..   \n",
       "10     10  <p>�����恐雿���剖�瘣��Jerry Colangelo嚗��2017-20撟湔���匱蝥��隞餌���..   \n",
       "11     11  <p class=\"first\">�芾��舐�摰嗡�憭抬�24�伐��券◢�其葉���撽�縣擏剜答嚗����撅��L...   \n",
       "12     12  <p class=\"first\">銝剛��瑟�26撟渡蜇���鞈賜洵�剜� 嚗�葉靽∪�撘�����撠勗��曉撥�餅除...   \n",
       "\n",
       "                         headline          provider           publishDate  \n",
       "0        ��PBL蝮賢�頠�魚����臭�蟡����鞊∠�瘙箏�蝚���             TSNA  2015-10-24T13:48:48Z  \n",
       "1      ��PBL蝮賢�頠�魚���������摰���梢� 13摰�像蝝��              TSNA  2015-10-24T14:17:34Z  \n",
       "2        ��祐瘜Ｘ��啗魚���敶亙�銝���芸仃��捱鞈����隞�僑擐��              TSNA  2015-10-24T14:24:57Z  \n",
       "3                         ������憭Ｘ�蝔�              蝢���� 2015-10-24T09:21:48Z  \n",
       "4        ��PGA�啁�鞈賬�擃�窄��洵3頛芾�頠�4獢蹂�撌桃�韏�             TSNA  2015-10-24T13:24:34Z  \n",
       "5      ��LB���蝢�����鞈瞎VP Escobar蝢�丐���              TSNA  2015-10-24T08:44:23Z  \n",
       "6         銝剛��瑟�嚗�情餈瑕�����喲���蝢���舐�嚗�◤摮斤�鈭�          NOWnews  2015-10-24T08:41:06Z  \n",
       "7         ��PGA�啁�鞈賬����雿單�蝮曉��游榆 �暸�憒桀�鈭�             TSNA  2015-10-24T08:34:39Z  \n",
       "8           ��噬����渲�蝛������芾� 銝剜迫撠��10���              TSNA  2015-10-24T08:39:56Z  \n",
       "9                   雿���仿����撜嗅歇蝬���啣���             餈芣�瘣曇楝  2015-10-24T07:38:41Z  \n",
       "10  NBA��017-20撟氬�擐砍�銝餃艇瘜Ｘ郭蝬剖�������蝐���萇泵             暻������� 2015-10-24T03:35:06Z  \n",
       "11             ��LB��������之鞈���振敹��銝��              TSNA  2015-10-24T07:03:22Z  \n",
       "12    ���韏琿����銝剛����鞈瘦6 Lamigo��G7憭扳捱�� 蝧�絲���Vamos Sports  2015-10-25T00:39:44Z  "
      ]
     },
     "execution_count": 171,
     "metadata": {},
     "output_type": "execute_result"
    }
   ],
   "source": [
    "read_sql_df"
   ]
  },
  {
   "cell_type": "code",
   "execution_count": null,
   "metadata": {
    "collapsed": true
   },
   "outputs": [],
   "source": []
  }
 ],
 "metadata": {
  "kernelspec": {
   "display_name": "Python 2",
   "language": "python",
   "name": "python2"
  },
  "language_info": {
   "codemirror_mode": {
    "name": "ipython",
    "version": 2
   },
   "file_extension": ".py",
   "mimetype": "text/x-python",
   "name": "python",
   "nbconvert_exporter": "python",
   "pygments_lexer": "ipython2",
   "version": "2.7.6"
  }
 },
 "nbformat": 4,
 "nbformat_minor": 0
}
