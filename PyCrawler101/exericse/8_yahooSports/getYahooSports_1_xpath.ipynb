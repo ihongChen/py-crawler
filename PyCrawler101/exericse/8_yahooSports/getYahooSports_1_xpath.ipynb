{
 "cells": [
  {
   "cell_type": "code",
   "execution_count": 27,
   "metadata": {
    "collapsed": false
   },
   "outputs": [
    {
     "name": "stderr",
     "output_type": "stream",
     "text": [
      "c:\\python27\\lib\\site-packages\\requests\\packages\\urllib3\\util\\ssl_.py:90: InsecurePlatformWarning: A true SSLContext object is not available. This prevents urllib3 from configuring SSL appropriately and may cause certain SSL connections to fail. For more information, see https://urllib3.readthedocs.org/en/latest/security.html#insecureplatformwarning.\n",
      "  InsecurePlatformWarning\n"
     ]
    }
   ],
   "source": [
    "import requests\n",
    "import lxml\n",
    "url = \"https://tw.news.yahoo.com/%E9%AB%98%E7%88%BE%E5%A4%AB-%E6%9F%AF%E8%96%A9%E7%88%BE%E8%8C%B2%E5%8F%88%E6%90%B6%E9%A0%AD%E9%87%87-%E9%80%A3%E5%85%A9%E5%B9%B4%E8%91%A1%E8%90%84%E7%89%99%E9%96%8B%E5%B1%80%E9%A0%98%E5%85%88-035911639--golf.html\"\n",
    "res = requests.get(url)"
   ]
  },
  {
   "cell_type": "code",
   "execution_count": 2,
   "metadata": {
    "collapsed": false
   },
   "outputs": [
    {
     "data": {
      "text/plain": [
       "'UTF-8'"
      ]
     },
     "execution_count": 2,
     "metadata": {},
     "output_type": "execute_result"
    }
   ],
   "source": [
    "res.encoding"
   ]
  },
  {
   "cell_type": "code",
   "execution_count": 3,
   "metadata": {
    "collapsed": false
   },
   "outputs": [
    {
     "name": "stdout",
     "output_type": "stream",
     "text": [
      "高爾夫》柯薩爾茲又搶頭采，連兩年葡萄牙開局領先 2015年10月16日 上午11:59\n"
     ]
    }
   ],
   "source": [
    "from lxml import etree\n",
    "doc = etree.HTML(res.text)\n",
    "title1 = doc.xpath(\"//h1\")\n",
    "date1 = doc.xpath(\"//abbr\")\n",
    "print title1[0].text,date1[0].text"
   ]
  },
  {
   "cell_type": "code",
   "execution_count": 19,
   "metadata": {
    "collapsed": false
   },
   "outputs": [
    {
     "name": "stdout",
     "output_type": "stream",
     "text": [
      "羅開Golf 頻道\n"
     ]
    }
   ],
   "source": [
    "source = doc.xpath(\"//cite/span\")\n",
    "print source[0].text"
   ]
  },
  {
   "cell_type": "code",
   "execution_count": 29,
   "metadata": {
    "collapsed": false
   },
   "outputs": [],
   "source": [
    "from HTMLParser import HTMLParser\n",
    "articleBody = doc.xpath(\"//div[@class='bd']/p\")\n",
    "e = articleBody[0]"
   ]
  },
  {
   "cell_type": "code",
   "execution_count": 31,
   "metadata": {
    "collapsed": false
   },
   "outputs": [],
   "source": [
    "import lxml.html\n",
    "parser = HTMLParser()\n",
    "body = parser.unescape(lxml.html.tostring(e))"
   ]
  },
  {
   "cell_type": "code",
   "execution_count": 33,
   "metadata": {
    "collapsed": false
   },
   "outputs": [
    {
     "name": "stdout",
     "output_type": "stream",
     "text": [
      "<p class=\"first\">【羅開新聞中心Minsey Weng綜合報導】比利時重砲手Nicolas Colsaerts（尼可拉斯•柯薩爾茲）又在Oceanico Victoria Golf Course（維多利亞海洋高爾夫俱樂部）飆低桿了，週四攻下低於標準桿七桿的六十四桿，和英格蘭選手Andy Sullivan（安迪•蘇利文）並列Portugal Masters（葡萄牙名人賽）領先榜。<br><br>回顧一年前的賽事，柯薩爾茲開局如入無人之境，差一桿就可以躋身五字頭俱樂部，不過接著打六十七桿，反倒落後三桿，結果最後比賽因天候影響縮短為三十六洞，只能眼睜睜看著法國選手Alexander Levy（亞歷山德•雷維）不戰而勝。<br><br>相隔十二個月，柯薩爾茲又在首回合發飆，分別在十七和第五兩個五桿洞射下老鷹，另有四記博蒂，可惜第七洞吞下當天唯一的柏忌，錯失單獨領先，他說道：「我在這個地方的紀錄不錯，過去打得非常好，所以感覺很自在。」<br><br>「我想我給自己製造非常多的機會，雖然有些沒把握住，不過結果還不賴。很高興打出低於標準桿七桿的成績，也許可以來到八、九或著十，但七桿已經是很好的開始了。」<br><br>年初贏得South African Open Championship hosted by the City of Ekurhuleni（南非公開賽）和Joburg Open（約堡公開賽）的蘇利文，之後有兩場比賽打進前十，但近況相對不理想。沒關係，本週來到葡萄牙也有絕佳的開始，前十二洞攻下六城，終場繳出一張八博蒂和一柏忌的佳績。<br><br>「今天的揮桿狀態很好，似乎又找回信心。」世界排名暫居六十六的蘇利文說道：「比賽中段打得非常好，美中不足是在十六洞吞下柏忌。」<br><br>今年崛起的另一位比利時選手Thomas Pieters（湯瑪斯•彼特斯），先前連贏D+D REAL Czech Masters（捷克名人賽）和KLM Open（荷蘭公開賽），本週又製造了絕佳的機會，以七博蒂和一柏忌的六十五桿開出，和南非選手Thomas Aiken（湯瑪斯•艾肯）、蘇格蘭David Drysdale（大衛•德萊史戴爾）及西班牙的Eduardo De la Riva（艾多爾多•戴拉利瓦）並列第三。<br><br>至於場中第一高手德國名將Martin Kaymer（馬汀•凱默爾）只打出七十桿，並列四十七，而奧利地籍的第二高手Bernd Wiesberger（本德•韋斯伯格）六十八桿，並列二十二。</p>\n",
      "\n"
     ]
    }
   ],
   "source": [
    "print body"
   ]
  },
  {
   "cell_type": "code",
   "execution_count": 40,
   "metadata": {
    "collapsed": false
   },
   "outputs": [
    {
     "name": "stdout",
     "output_type": "stream",
     "text": [
      "高爾夫》柯薩爾茲又搶頭采，連兩年葡萄牙開局領先\n"
     ]
    }
   ],
   "source": [
    "headline = doc.xpath(\"//div[@class='bd']/h1\")[0].text\n",
    "print headline"
   ]
  },
  {
   "cell_type": "code",
   "execution_count": 39,
   "metadata": {
    "collapsed": false
   },
   "outputs": [
    {
     "name": "stdout",
     "output_type": "stream",
     "text": [
      "羅開Golf 頻道\n"
     ]
    }
   ],
   "source": [
    "Provider = doc.xpath(\"//span[@class='provider org']\")[0].text\n",
    "print Provider"
   ]
  },
  {
   "cell_type": "code",
   "execution_count": 43,
   "metadata": {
    "collapsed": false
   },
   "outputs": [
    {
     "name": "stdout",
     "output_type": "stream",
     "text": [
      "2015年10月16日 上午11:59\n"
     ]
    }
   ],
   "source": [
    "datePublished = doc.xpath(\"//abbr\")[0].text\n",
    "print datePublished"
   ]
  },
  {
   "cell_type": "code",
   "execution_count": 45,
   "metadata": {
    "collapsed": false
   },
   "outputs": [
    {
     "name": "stdout",
     "output_type": "stream",
     "text": [
      "{'headline': u'\\u9ad8\\u723e\\u592b\\u300b\\u67ef\\u85a9\\u723e\\u8332\\u53c8\\u6436\\u982d\\u91c7\\uff0c\\u9023\\u5169\\u5e74\\u8461\\u8404\\u7259\\u958b\\u5c40\\u9818\\u5148', 'body': u'<p class=\"first\">\\u3010\\u7f85\\u958b\\u65b0\\u805e\\u4e2d\\u5fc3Minsey Weng\\u7d9c\\u5408\\u5831\\u5c0e\\u3011\\u6bd4\\u5229\\u6642\\u91cd\\u7832\\u624bNicolas Colsaerts\\uff08\\u5c3c\\u53ef\\u62c9\\u65af\\u2022\\u67ef\\u85a9\\u723e\\u8332\\uff09\\u53c8\\u5728Oceanico Victoria Golf Course\\uff08\\u7dad\\u591a\\u5229\\u4e9e\\u6d77\\u6d0b\\u9ad8\\u723e\\u592b\\u4ff1\\u6a02\\u90e8\\uff09\\u98c6\\u4f4e\\u687f\\u4e86\\uff0c\\u9031\\u56db\\u653b\\u4e0b\\u4f4e\\u65bc\\u6a19\\u6e96\\u687f\\u4e03\\u687f\\u7684\\u516d\\u5341\\u56db\\u687f\\uff0c\\u548c\\u82f1\\u683c\\u862d\\u9078\\u624bAndy Sullivan\\uff08\\u5b89\\u8fea\\u2022\\u8607\\u5229\\u6587\\uff09\\u4e26\\u5217Portugal Masters\\uff08\\u8461\\u8404\\u7259\\u540d\\u4eba\\u8cfd\\uff09\\u9818\\u5148\\u699c\\u3002<br><br>\\u56de\\u9867\\u4e00\\u5e74\\u524d\\u7684\\u8cfd\\u4e8b\\uff0c\\u67ef\\u85a9\\u723e\\u8332\\u958b\\u5c40\\u5982\\u5165\\u7121\\u4eba\\u4e4b\\u5883\\uff0c\\u5dee\\u4e00\\u687f\\u5c31\\u53ef\\u4ee5\\u8e8b\\u8eab\\u4e94\\u5b57\\u982d\\u4ff1\\u6a02\\u90e8\\uff0c\\u4e0d\\u904e\\u63a5\\u8457\\u6253\\u516d\\u5341\\u4e03\\u687f\\uff0c\\u53cd\\u5012\\u843d\\u5f8c\\u4e09\\u687f\\uff0c\\u7d50\\u679c\\u6700\\u5f8c\\u6bd4\\u8cfd\\u56e0\\u5929\\u5019\\u5f71\\u97ff\\u7e2e\\u77ed\\u70ba\\u4e09\\u5341\\u516d\\u6d1e\\uff0c\\u53ea\\u80fd\\u773c\\u775c\\u775c\\u770b\\u8457\\u6cd5\\u570b\\u9078\\u624bAlexander Levy\\uff08\\u4e9e\\u6b77\\u5c71\\u5fb7\\u2022\\u96f7\\u7dad\\uff09\\u4e0d\\u6230\\u800c\\u52dd\\u3002<br><br>\\u76f8\\u9694\\u5341\\u4e8c\\u500b\\u6708\\uff0c\\u67ef\\u85a9\\u723e\\u8332\\u53c8\\u5728\\u9996\\u56de\\u5408\\u767c\\u98c6\\uff0c\\u5206\\u5225\\u5728\\u5341\\u4e03\\u548c\\u7b2c\\u4e94\\u5169\\u500b\\u4e94\\u687f\\u6d1e\\u5c04\\u4e0b\\u8001\\u9df9\\uff0c\\u53e6\\u6709\\u56db\\u8a18\\u535a\\u8482\\uff0c\\u53ef\\u60dc\\u7b2c\\u4e03\\u6d1e\\u541e\\u4e0b\\u7576\\u5929\\u552f\\u4e00\\u7684\\u67cf\\u5fcc\\uff0c\\u932f\\u5931\\u55ae\\u7368\\u9818\\u5148\\uff0c\\u4ed6\\u8aaa\\u9053\\uff1a\\u300c\\u6211\\u5728\\u9019\\u500b\\u5730\\u65b9\\u7684\\u7d00\\u9304\\u4e0d\\u932f\\uff0c\\u904e\\u53bb\\u6253\\u5f97\\u975e\\u5e38\\u597d\\uff0c\\u6240\\u4ee5\\u611f\\u89ba\\u5f88\\u81ea\\u5728\\u3002\\u300d<br><br>\\u300c\\u6211\\u60f3\\u6211\\u7d66\\u81ea\\u5df1\\u88fd\\u9020\\u975e\\u5e38\\u591a\\u7684\\u6a5f\\u6703\\uff0c\\u96d6\\u7136\\u6709\\u4e9b\\u6c92\\u628a\\u63e1\\u4f4f\\uff0c\\u4e0d\\u904e\\u7d50\\u679c\\u9084\\u4e0d\\u8cf4\\u3002\\u5f88\\u9ad8\\u8208\\u6253\\u51fa\\u4f4e\\u65bc\\u6a19\\u6e96\\u687f\\u4e03\\u687f\\u7684\\u6210\\u7e3e\\uff0c\\u4e5f\\u8a31\\u53ef\\u4ee5\\u4f86\\u5230\\u516b\\u3001\\u4e5d\\u6216\\u8457\\u5341\\uff0c\\u4f46\\u4e03\\u687f\\u5df2\\u7d93\\u662f\\u5f88\\u597d\\u7684\\u958b\\u59cb\\u4e86\\u3002\\u300d<br><br>\\u5e74\\u521d\\u8d0f\\u5f97South African Open Championship hosted by the City of Ekurhuleni\\uff08\\u5357\\u975e\\u516c\\u958b\\u8cfd\\uff09\\u548cJoburg Open\\uff08\\u7d04\\u5821\\u516c\\u958b\\u8cfd\\uff09\\u7684\\u8607\\u5229\\u6587\\uff0c\\u4e4b\\u5f8c\\u6709\\u5169\\u5834\\u6bd4\\u8cfd\\u6253\\u9032\\u524d\\u5341\\uff0c\\u4f46\\u8fd1\\u6cc1\\u76f8\\u5c0d\\u4e0d\\u7406\\u60f3\\u3002\\u6c92\\u95dc\\u4fc2\\uff0c\\u672c\\u9031\\u4f86\\u5230\\u8461\\u8404\\u7259\\u4e5f\\u6709\\u7d55\\u4f73\\u7684\\u958b\\u59cb\\uff0c\\u524d\\u5341\\u4e8c\\u6d1e\\u653b\\u4e0b\\u516d\\u57ce\\uff0c\\u7d42\\u5834\\u7e73\\u51fa\\u4e00\\u5f35\\u516b\\u535a\\u8482\\u548c\\u4e00\\u67cf\\u5fcc\\u7684\\u4f73\\u7e3e\\u3002<br><br>\\u300c\\u4eca\\u5929\\u7684\\u63ee\\u687f\\u72c0\\u614b\\u5f88\\u597d\\uff0c\\u4f3c\\u4e4e\\u53c8\\u627e\\u56de\\u4fe1\\u5fc3\\u3002\\u300d\\u4e16\\u754c\\u6392\\u540d\\u66ab\\u5c45\\u516d\\u5341\\u516d\\u7684\\u8607\\u5229\\u6587\\u8aaa\\u9053\\uff1a\\u300c\\u6bd4\\u8cfd\\u4e2d\\u6bb5\\u6253\\u5f97\\u975e\\u5e38\\u597d\\uff0c\\u7f8e\\u4e2d\\u4e0d\\u8db3\\u662f\\u5728\\u5341\\u516d\\u6d1e\\u541e\\u4e0b\\u67cf\\u5fcc\\u3002\\u300d<br><br>\\u4eca\\u5e74\\u5d1b\\u8d77\\u7684\\u53e6\\u4e00\\u4f4d\\u6bd4\\u5229\\u6642\\u9078\\u624bThomas Pieters\\uff08\\u6e6f\\u746a\\u65af\\u2022\\u5f7c\\u7279\\u65af\\uff09\\uff0c\\u5148\\u524d\\u9023\\u8d0fD+D REAL Czech Masters\\uff08\\u6377\\u514b\\u540d\\u4eba\\u8cfd\\uff09\\u548cKLM Open\\uff08\\u8377\\u862d\\u516c\\u958b\\u8cfd\\uff09\\uff0c\\u672c\\u9031\\u53c8\\u88fd\\u9020\\u4e86\\u7d55\\u4f73\\u7684\\u6a5f\\u6703\\uff0c\\u4ee5\\u4e03\\u535a\\u8482\\u548c\\u4e00\\u67cf\\u5fcc\\u7684\\u516d\\u5341\\u4e94\\u687f\\u958b\\u51fa\\uff0c\\u548c\\u5357\\u975e\\u9078\\u624bThomas Aiken\\uff08\\u6e6f\\u746a\\u65af\\u2022\\u827e\\u80af\\uff09\\u3001\\u8607\\u683c\\u862dDavid Drysdale\\uff08\\u5927\\u885b\\u2022\\u5fb7\\u840a\\u53f2\\u6234\\u723e\\uff09\\u53ca\\u897f\\u73ed\\u7259\\u7684Eduardo De la Riva\\uff08\\u827e\\u591a\\u723e\\u591a\\u2022\\u6234\\u62c9\\u5229\\u74e6\\uff09\\u4e26\\u5217\\u7b2c\\u4e09\\u3002<br><br>\\u81f3\\u65bc\\u5834\\u4e2d\\u7b2c\\u4e00\\u9ad8\\u624b\\u5fb7\\u570b\\u540d\\u5c07Martin Kaymer\\uff08\\u99ac\\u6c40\\u2022\\u51f1\\u9ed8\\u723e\\uff09\\u53ea\\u6253\\u51fa\\u4e03\\u5341\\u687f\\uff0c\\u4e26\\u5217\\u56db\\u5341\\u4e03\\uff0c\\u800c\\u5967\\u5229\\u5730\\u7c4d\\u7684\\u7b2c\\u4e8c\\u9ad8\\u624bBernd Wiesberger\\uff08\\u672c\\u5fb7\\u2022\\u97cb\\u65af\\u4f2f\\u683c\\uff09\\u516d\\u5341\\u516b\\u687f\\uff0c\\u4e26\\u5217\\u4e8c\\u5341\\u4e8c\\u3002</p>\\n', 'Provider': u'\\u7f85\\u958bGolf \\u983b\\u9053', 'datePublished': u'2015\\u5e7410\\u670816\\u65e5 \\u4e0a\\u534811:59'}\n"
     ]
    }
   ],
   "source": [
    "data = {\"datePublished\":datePublished,\"Provider\":Provider,\"headline\":headline,\"body\":body}\n",
    "print data"
   ]
  },
  {
   "cell_type": "code",
   "execution_count": 47,
   "metadata": {
    "collapsed": true
   },
   "outputs": [],
   "source": [
    "import pandas as pd"
   ]
  },
  {
   "cell_type": "code",
   "execution_count": 84,
   "metadata": {
    "collapsed": false
   },
   "outputs": [],
   "source": [
    "from lxml import etree\n",
    "import requests\n",
    "import lxml.html\n",
    "from HTMLParser import HTMLParser\n",
    "\n",
    "parser = HTMLParser()\n",
    "def getYahooData(url):\n",
    "    res = requests.get(url)\n",
    "    doc = etree.HTML(res.text)\n",
    "    \n",
    "    headline = doc.xpath(\"//div[@class='bd']/h1\")[0].text\n",
    "    Provider = doc.xpath(\"//span[@class='provider org']\")[0].text\n",
    "    \n",
    "    articleBody = doc.xpath(\"//div[@class='bd']/p\")[0]    \n",
    "    body = parser.unescape(lxml.html.tostring(articleBody))\n",
    "    \n",
    "    data = {\"datePublished\":datePublished,\"Provider\":Provider,\"headline\":headline,\"body\":body}\n",
    "    return data\n",
    "    "
   ]
  },
  {
   "cell_type": "code",
   "execution_count": 57,
   "metadata": {
    "collapsed": false
   },
   "outputs": [
    {
     "name": "stderr",
     "output_type": "stream",
     "text": [
      "c:\\python27\\lib\\site-packages\\requests\\packages\\urllib3\\util\\ssl_.py:90: InsecurePlatformWarning: A true SSLContext object is not available. This prevents urllib3 from configuring SSL appropriately and may cause certain SSL connections to fail. For more information, see https://urllib3.readthedocs.org/en/latest/security.html#insecureplatformwarning.\n",
      "  InsecurePlatformWarning\n"
     ]
    }
   ],
   "source": [
    "data1 = getYahooData(url)"
   ]
  },
  {
   "cell_type": "markdown",
   "metadata": {},
   "source": [
    "# GET url from YAHOO sport page"
   ]
  },
  {
   "cell_type": "code",
   "execution_count": 101,
   "metadata": {
    "collapsed": false
   },
   "outputs": [
    {
     "name": "stderr",
     "output_type": "stream",
     "text": [
      "c:\\python27\\lib\\site-packages\\requests\\packages\\urllib3\\util\\ssl_.py:90: InsecurePlatformWarning: A true SSLContext object is not available. This prevents urllib3 from configuring SSL appropriately and may cause certain SSL connections to fail. For more information, see https://urllib3.readthedocs.org/en/latest/security.html#insecureplatformwarning.\n",
      "  InsecurePlatformWarning\n"
     ]
    }
   ],
   "source": [
    "url =\"https://tw.sports.yahoo.com/\"\n",
    "doc = etree.HTML(requests.get(url).text)\n",
    "e = doc.xpath(\"//ul/li[@class='list-story']/div[@class='txt']/a\")"
   ]
  },
  {
   "cell_type": "code",
   "execution_count": 102,
   "metadata": {
    "collapsed": false
   },
   "outputs": [],
   "source": [
    "# e = doc.xpath(\"//ul/li[@class='list-story']/a\")\n",
    "# e[0].attrib['href']\n",
    "urls = [\"https://tw.sports.yahoo.com/\"+i.attrib['href'] for i in e]"
   ]
  },
  {
   "cell_type": "code",
   "execution_count": 103,
   "metadata": {
    "collapsed": false
   },
   "outputs": [
    {
     "name": "stdout",
     "output_type": "stream",
     "text": [
      "https://tw.sports.yahoo.com//news/nba-季前總經理調查-騎士最被看好奪冠-053436940.html\n"
     ]
    }
   ],
   "source": [
    "print urls[0]"
   ]
  },
  {
   "cell_type": "code",
   "execution_count": 104,
   "metadata": {
    "collapsed": false
   },
   "outputs": [
    {
     "name": "stderr",
     "output_type": "stream",
     "text": [
      "c:\\python27\\lib\\site-packages\\requests\\packages\\urllib3\\util\\ssl_.py:90: InsecurePlatformWarning: A true SSLContext object is not available. This prevents urllib3 from configuring SSL appropriately and may cause certain SSL connections to fail. For more information, see https://urllib3.readthedocs.org/en/latest/security.html#insecureplatformwarning.\n",
      "  InsecurePlatformWarning\n",
      "c:\\python27\\lib\\site-packages\\requests\\packages\\urllib3\\util\\ssl_.py:90: InsecurePlatformWarning: A true SSLContext object is not available. This prevents urllib3 from configuring SSL appropriately and may cause certain SSL connections to fail. For more information, see https://urllib3.readthedocs.org/en/latest/security.html#insecureplatformwarning.\n",
      "  InsecurePlatformWarning\n",
      "c:\\python27\\lib\\site-packages\\requests\\packages\\urllib3\\util\\ssl_.py:90: InsecurePlatformWarning: A true SSLContext object is not available. This prevents urllib3 from configuring SSL appropriately and may cause certain SSL connections to fail. For more information, see https://urllib3.readthedocs.org/en/latest/security.html#insecureplatformwarning.\n",
      "  InsecurePlatformWarning\n",
      "c:\\python27\\lib\\site-packages\\requests\\packages\\urllib3\\util\\ssl_.py:90: InsecurePlatformWarning: A true SSLContext object is not available. This prevents urllib3 from configuring SSL appropriately and may cause certain SSL connections to fail. For more information, see https://urllib3.readthedocs.org/en/latest/security.html#insecureplatformwarning.\n",
      "  InsecurePlatformWarning\n",
      "c:\\python27\\lib\\site-packages\\requests\\packages\\urllib3\\util\\ssl_.py:90: InsecurePlatformWarning: A true SSLContext object is not available. This prevents urllib3 from configuring SSL appropriately and may cause certain SSL connections to fail. For more information, see https://urllib3.readthedocs.org/en/latest/security.html#insecureplatformwarning.\n",
      "  InsecurePlatformWarning\n",
      "c:\\python27\\lib\\site-packages\\requests\\packages\\urllib3\\util\\ssl_.py:90: InsecurePlatformWarning: A true SSLContext object is not available. This prevents urllib3 from configuring SSL appropriately and may cause certain SSL connections to fail. For more information, see https://urllib3.readthedocs.org/en/latest/security.html#insecureplatformwarning.\n",
      "  InsecurePlatformWarning\n",
      "c:\\python27\\lib\\site-packages\\requests\\packages\\urllib3\\util\\ssl_.py:90: InsecurePlatformWarning: A true SSLContext object is not available. This prevents urllib3 from configuring SSL appropriately and may cause certain SSL connections to fail. For more information, see https://urllib3.readthedocs.org/en/latest/security.html#insecureplatformwarning.\n",
      "  InsecurePlatformWarning\n",
      "c:\\python27\\lib\\site-packages\\requests\\packages\\urllib3\\util\\ssl_.py:90: InsecurePlatformWarning: A true SSLContext object is not available. This prevents urllib3 from configuring SSL appropriately and may cause certain SSL connections to fail. For more information, see https://urllib3.readthedocs.org/en/latest/security.html#insecureplatformwarning.\n",
      "  InsecurePlatformWarning\n",
      "c:\\python27\\lib\\site-packages\\requests\\packages\\urllib3\\util\\ssl_.py:90: InsecurePlatformWarning: A true SSLContext object is not available. This prevents urllib3 from configuring SSL appropriately and may cause certain SSL connections to fail. For more information, see https://urllib3.readthedocs.org/en/latest/security.html#insecureplatformwarning.\n",
      "  InsecurePlatformWarning\n",
      "c:\\python27\\lib\\site-packages\\requests\\packages\\urllib3\\util\\ssl_.py:90: InsecurePlatformWarning: A true SSLContext object is not available. This prevents urllib3 from configuring SSL appropriately and may cause certain SSL connections to fail. For more information, see https://urllib3.readthedocs.org/en/latest/security.html#insecureplatformwarning.\n",
      "  InsecurePlatformWarning\n",
      "c:\\python27\\lib\\site-packages\\requests\\packages\\urllib3\\util\\ssl_.py:90: InsecurePlatformWarning: A true SSLContext object is not available. This prevents urllib3 from configuring SSL appropriately and may cause certain SSL connections to fail. For more information, see https://urllib3.readthedocs.org/en/latest/security.html#insecureplatformwarning.\n",
      "  InsecurePlatformWarning\n",
      "c:\\python27\\lib\\site-packages\\requests\\packages\\urllib3\\util\\ssl_.py:90: InsecurePlatformWarning: A true SSLContext object is not available. This prevents urllib3 from configuring SSL appropriately and may cause certain SSL connections to fail. For more information, see https://urllib3.readthedocs.org/en/latest/security.html#insecureplatformwarning.\n",
      "  InsecurePlatformWarning\n",
      "c:\\python27\\lib\\site-packages\\requests\\packages\\urllib3\\util\\ssl_.py:90: InsecurePlatformWarning: A true SSLContext object is not available. This prevents urllib3 from configuring SSL appropriately and may cause certain SSL connections to fail. For more information, see https://urllib3.readthedocs.org/en/latest/security.html#insecureplatformwarning.\n",
      "  InsecurePlatformWarning\n",
      "c:\\python27\\lib\\site-packages\\requests\\packages\\urllib3\\util\\ssl_.py:90: InsecurePlatformWarning: A true SSLContext object is not available. This prevents urllib3 from configuring SSL appropriately and may cause certain SSL connections to fail. For more information, see https://urllib3.readthedocs.org/en/latest/security.html#insecureplatformwarning.\n",
      "  InsecurePlatformWarning\n",
      "c:\\python27\\lib\\site-packages\\requests\\packages\\urllib3\\util\\ssl_.py:90: InsecurePlatformWarning: A true SSLContext object is not available. This prevents urllib3 from configuring SSL appropriately and may cause certain SSL connections to fail. For more information, see https://urllib3.readthedocs.org/en/latest/security.html#insecureplatformwarning.\n",
      "  InsecurePlatformWarning\n",
      "c:\\python27\\lib\\site-packages\\requests\\packages\\urllib3\\util\\ssl_.py:90: InsecurePlatformWarning: A true SSLContext object is not available. This prevents urllib3 from configuring SSL appropriately and may cause certain SSL connections to fail. For more information, see https://urllib3.readthedocs.org/en/latest/security.html#insecureplatformwarning.\n",
      "  InsecurePlatformWarning\n",
      "c:\\python27\\lib\\site-packages\\requests\\packages\\urllib3\\util\\ssl_.py:90: InsecurePlatformWarning: A true SSLContext object is not available. This prevents urllib3 from configuring SSL appropriately and may cause certain SSL connections to fail. For more information, see https://urllib3.readthedocs.org/en/latest/security.html#insecureplatformwarning.\n",
      "  InsecurePlatformWarning\n",
      "c:\\python27\\lib\\site-packages\\requests\\packages\\urllib3\\util\\ssl_.py:90: InsecurePlatformWarning: A true SSLContext object is not available. This prevents urllib3 from configuring SSL appropriately and may cause certain SSL connections to fail. For more information, see https://urllib3.readthedocs.org/en/latest/security.html#insecureplatformwarning.\n",
      "  InsecurePlatformWarning\n",
      "c:\\python27\\lib\\site-packages\\requests\\packages\\urllib3\\util\\ssl_.py:90: InsecurePlatformWarning: A true SSLContext object is not available. This prevents urllib3 from configuring SSL appropriately and may cause certain SSL connections to fail. For more information, see https://urllib3.readthedocs.org/en/latest/security.html#insecureplatformwarning.\n",
      "  InsecurePlatformWarning\n",
      "c:\\python27\\lib\\site-packages\\requests\\packages\\urllib3\\util\\ssl_.py:90: InsecurePlatformWarning: A true SSLContext object is not available. This prevents urllib3 from configuring SSL appropriately and may cause certain SSL connections to fail. For more information, see https://urllib3.readthedocs.org/en/latest/security.html#insecureplatformwarning.\n",
      "  InsecurePlatformWarning\n"
     ]
    }
   ],
   "source": [
    "datas = map(getYahooData,urls)"
   ]
  },
  {
   "cell_type": "code",
   "execution_count": 105,
   "metadata": {
    "collapsed": false
   },
   "outputs": [
    {
     "data": {
      "text/html": [
       "<div style=\"max-height:1000px;max-width:1500px;overflow:auto;\">\n",
       "<table border=\"1\" class=\"dataframe\">\n",
       "  <thead>\n",
       "    <tr style=\"text-align: right;\">\n",
       "      <th></th>\n",
       "      <th>Provider</th>\n",
       "      <th>body</th>\n",
       "      <th>datePublished</th>\n",
       "      <th>headline</th>\n",
       "    </tr>\n",
       "  </thead>\n",
       "  <tbody>\n",
       "    <tr>\n",
       "      <th>0</th>\n",
       "      <td>TSNA</td>\n",
       "      <td>&lt;p class=\"first\"&gt;NBA官網今天(21日)照例公布年度季前的總經理調查報告，...</td>\n",
       "      <td>2015年10月16日 上午11:59</td>\n",
       "      <td>〈NBA〉季前總經理調查 騎士最被看好奪冠</td>\n",
       "    </tr>\n",
       "    <tr>\n",
       "      <th>1</th>\n",
       "      <td>TSNA</td>\n",
       "      <td>&lt;p class=\"first\"&gt;美聯冠軍賽第4戰藍鳥遭到皇家打線無情摧殘，因而出現第9局野...</td>\n",
       "      <td>2015年10月16日 上午11:59</td>\n",
       "      <td>〈MLB〉另類紀錄第1人 Pennington為第5戰提供貢獻</td>\n",
       "    </tr>\n",
       "    <tr>\n",
       "      <th>2</th>\n",
       "      <td>活力熊/卓子傑</td>\n",
       "      <td>&lt;p class=\"first\"&gt;台灣大賽 G3 鏖戰到11局的跨日大戰，智勝不愧是智勝，單...</td>\n",
       "      <td>2015年10月16日 上午11:59</td>\n",
       "      <td>爭冠時別說分手   自由路還請稍後</td>\n",
       "    </tr>\n",
       "    <tr>\n",
       "      <th>3</th>\n",
       "      <td>NOWnews</td>\n",
       "      <td>&lt;p class=\"first\"&gt;記者鄭廷瑋／綜合報導&lt;/p&gt;\\n</td>\n",
       "      <td>2015年10月16日 上午11:59</td>\n",
       "      <td>歐冠盃／拜仁12連勝中斷 瓜帥：非諾伊爾之罪</td>\n",
       "    </tr>\n",
       "    <tr>\n",
       "      <th>4</th>\n",
       "      <td>麗台運動報</td>\n",
       "      <td>&lt;p&gt;訓練營開始的時候，湖人陣中有19人，裁掉兩人，目前大名單中仍有17人。&lt;/p&gt;\\n</td>\n",
       "      <td>2015年10月16日 上午11:59</td>\n",
       "      <td>NBA》湖人裁潛力內線和後衛新人  世界和平有望留隊</td>\n",
       "    </tr>\n",
       "    <tr>\n",
       "      <th>5</th>\n",
       "      <td>裘必勝</td>\n",
       "      <td>&lt;p class=\"first\"&gt;「野獸」林志傑決定從國家隊退役，曾文鼎、田壘明年分別是32...</td>\n",
       "      <td>2015年10月16日 上午11:59</td>\n",
       "      <td>中華男籃重建，工程節奏錯亂</td>\n",
       "    </tr>\n",
       "    <tr>\n",
       "      <th>6</th>\n",
       "      <td>TSNA</td>\n",
       "      <td>&lt;p class=\"first\"&gt;兵工廠今天(21日)在歐冠聯賽F組賽事中靠著門將Petr ...</td>\n",
       "      <td>2015年10月16日 上午11:59</td>\n",
       "      <td>〈歐冠聯賽〉Cech一夫當關 兵工廠送拜仁本季首敗</td>\n",
       "    </tr>\n",
       "    <tr>\n",
       "      <th>7</th>\n",
       "      <td>Yahoo奇摩運動</td>\n",
       "      <td>&lt;p class=\"first\"&gt;NBA官網近期公布針對30支球隊總管所進行的問卷調查結果，...</td>\n",
       "      <td>2015年10月16日 上午11:59</td>\n",
       "      <td>組隊第一個想找誰？ 總管們：不是詹皇也不是雷帝</td>\n",
       "    </tr>\n",
       "    <tr>\n",
       "      <th>8</th>\n",
       "      <td>Yahoo奇摩運動</td>\n",
       "      <td>&lt;p class=\"first\"&gt;前往中文官網：&lt;a href=\"http://2015wb...</td>\n",
       "      <td>2015年10月16日 上午11:59</td>\n",
       "      <td>世界12強棒球錦標賽 中文官網</td>\n",
       "    </tr>\n",
       "    <tr>\n",
       "      <th>9</th>\n",
       "      <td>TSNA</td>\n",
       "      <td>&lt;p class=\"first\"&gt;Lamigo桃猿今天(21日)在總冠軍賽第4戰做出陣容更動...</td>\n",
       "      <td>2015年10月16日 上午11:59</td>\n",
       "      <td>〈CPBL總冠軍賽〉余德龍守三壘心慌 但上場就是拚了</td>\n",
       "    </tr>\n",
       "    <tr>\n",
       "      <th>10</th>\n",
       "      <td>NOWnews</td>\n",
       "      <td>&lt;p class=\"first\"&gt;記者張耀中／台中報導&lt;/p&gt;\\n</td>\n",
       "      <td>2015年10月16日 上午11:59</td>\n",
       "      <td>中華職棒／假跑加慢跑 陽耀勳渾身是戲</td>\n",
       "    </tr>\n",
       "    <tr>\n",
       "      <th>11</th>\n",
       "      <td>中央社</td>\n",
       "      <td>&lt;p class=\"first\"&gt;高雄全國運動會田徑男子跳高決賽，向俊賢21日以2公尺29打...</td>\n",
       "      <td>2015年10月16日 上午11:59</td>\n",
       "      <td>向俊賢跳破全國進軍奧運 (圖)</td>\n",
       "    </tr>\n",
       "    <tr>\n",
       "      <th>12</th>\n",
       "      <td>中央社</td>\n",
       "      <td>&lt;p class=\"first\"&gt;高雄全國運動會田徑男子200公尺決賽，花蓮縣短跑新星楊俊瀚...</td>\n",
       "      <td>2015年10月16日 上午11:59</td>\n",
       "      <td>200公尺決賽　楊俊瀚再破全國摘冠 (圖)</td>\n",
       "    </tr>\n",
       "    <tr>\n",
       "      <th>13</th>\n",
       "      <td>NOWnews</td>\n",
       "      <td>&lt;p class=\"first\"&gt;記者張耀中／台中報導&lt;/p&gt;\\n</td>\n",
       "      <td>2015年10月16日 上午11:59</td>\n",
       "      <td>中華職棒／腳傷不言退 陳鴻文被球迷吶喊感動</td>\n",
       "    </tr>\n",
       "    <tr>\n",
       "      <th>14</th>\n",
       "      <td>TSNA</td>\n",
       "      <td>&lt;p class=\"first\"&gt;中信兄弟、Lamigo桃猿在總冠軍賽第3戰鏖戰5小時46分...</td>\n",
       "      <td>2015年10月16日 上午11:59</td>\n",
       "      <td>〈CPBL總冠軍賽〉林柏佑苦撐2.1局 跟陳鴻文惺惺相惜</td>\n",
       "    </tr>\n",
       "    <tr>\n",
       "      <th>15</th>\n",
       "      <td>TSNA</td>\n",
       "      <td>&lt;p class=\"first\"&gt;NBA官網今天(21日)照例公布年度季前的總經理調查報告，...</td>\n",
       "      <td>2015年10月16日 上午11:59</td>\n",
       "      <td>〈NBA〉季前總經理調查 騎士最被看好奪冠</td>\n",
       "    </tr>\n",
       "    <tr>\n",
       "      <th>16</th>\n",
       "      <td>TSNA</td>\n",
       "      <td>&lt;p class=\"first\"&gt;美聯冠軍賽第4戰藍鳥遭到皇家打線無情摧殘，因而出現第9局野...</td>\n",
       "      <td>2015年10月16日 上午11:59</td>\n",
       "      <td>〈MLB〉另類紀錄第1人 Pennington為第5戰提供貢獻</td>\n",
       "    </tr>\n",
       "    <tr>\n",
       "      <th>17</th>\n",
       "      <td>活力熊/卓子傑</td>\n",
       "      <td>&lt;p class=\"first\"&gt;台灣大賽 G3 鏖戰到11局的跨日大戰，智勝不愧是智勝，單...</td>\n",
       "      <td>2015年10月16日 上午11:59</td>\n",
       "      <td>爭冠時別說分手   自由路還請稍後</td>\n",
       "    </tr>\n",
       "    <tr>\n",
       "      <th>18</th>\n",
       "      <td>NOWnews</td>\n",
       "      <td>&lt;p class=\"first\"&gt;記者鄭廷瑋／綜合報導&lt;/p&gt;\\n</td>\n",
       "      <td>2015年10月16日 上午11:59</td>\n",
       "      <td>歐冠盃／拜仁12連勝中斷 瓜帥：非諾伊爾之罪</td>\n",
       "    </tr>\n",
       "    <tr>\n",
       "      <th>19</th>\n",
       "      <td>麗台運動報</td>\n",
       "      <td>&lt;p&gt;雙子星火力威猛，韋斯特布魯克（Russell Westbrook）14投8中，貢獻21...</td>\n",
       "      <td>2015年10月16日 上午11:59</td>\n",
       "      <td>NBA熱身賽》韋斯特魯克大三元　雷霆奏爵士</td>\n",
       "    </tr>\n",
       "  </tbody>\n",
       "</table>\n",
       "</div>"
      ],
      "text/plain": [
       "     Provider                                               body  \\\n",
       "0        TSNA  <p class=\"first\">NBA摰�雯隞�予(21���找��砍�撟游漲摮����蜇蝬��隤踵��勗�嚗�..   \n",
       "1        TSNA  <p class=\"first\">蝢�����鞈賜洵4�啗�曈仿��啁�摰嗆�蝺�����畾������箇�蝚�撅��...   \n",
       "2     瘣餃�������� <p class=\"first\">�啁�憭扯魚 G3 �����1撅��頝冽�憭扳�嚗������扳��箏�嚗��...   \n",
       "3     NOWnews                  <p class=\"first\">閮���剖遠���蝬���勗�</p>\\n   \n",
       "4       暻�������      <p>閮�毀���憪�����嚗��鈭粹�銝剜�19鈭綽�鋆���拐犖嚗����之���銝凋���7鈭箝�</p>\\n   \n",
       "5         鋆���� <p class=\"first\">����詻������捱摰����振���敶對��暹�曌���啣���僑�����2...   \n",
       "6        TSNA  <p class=\"first\">�萄極撱��憭�21���冽����鞈瘤蝯�魚鈭�葉������Petr ...   \n",
       "7   Yahoo憟�����  <p class=\"first\">NBA摰�雯餈���砍����30�舐���蜇蝞⊥��脰�����瑁矽�亦����...   \n",
       "8   Yahoo憟�����  <p class=\"first\">���銝剜�摰�雯嚗�a href=\"http://2015wb...   \n",
       "9        TSNA  <p class=\"first\">Lamigo獢��隞�予(21���函蜇���鞈賜洵4�啣��粹�摰寞���..   \n",
       "10    NOWnews                  <p class=\"first\">閮��撘菔�銝哨��唬葉�勗�</p>\\n   \n",
       "11        銝剖亢蝷� <p class=\"first\">擃���典�������敺��摮�歲擃�捱鞈踝����鞈�1�乩誑2�砍偕29��..   \n",
       "12        銝剖亢蝷� <p class=\"first\">擃���典�������敺��摮�00�砍偕瘙箄魚嚗���桃腦�剛��唳�璆����..   \n",
       "13    NOWnews                  <p class=\"first\">閮��撘菔�銝哨��唬葉�勗�</p>\\n   \n",
       "14       TSNA  <p class=\"first\">銝凋縑�����amigo獢���函蜇���鞈賜洵3�圈���撠��46��..   \n",
       "15       TSNA  <p class=\"first\">NBA摰�雯隞�予(21���找��砍�撟游漲摮����蜇蝬��隤踵��勗�嚗�..   \n",
       "16       TSNA  <p class=\"first\">蝢�����鞈賜洵4�啗�曈仿��啁�摰嗆�蝺�����畾������箇�蝚�撅��...   \n",
       "17    瘣餃�������� <p class=\"first\">�啁�憭扯魚 G3 �����1撅��頝冽�憭扳�嚗������扳��箏�嚗��...   \n",
       "18    NOWnews                  <p class=\"first\">閮���剖遠���蝬���勗�</p>\\n   \n",
       "19      暻������� <p>����������������孵�擳臬�嚗�ussell Westbrook嚗�4��銝哨�鞎Ｙ�21...   \n",
       "\n",
       "          datePublished                         headline  \n",
       "0   2015撟�0��6��銝��11:59            ��BA��迤��蜇蝬��隤踵� 擉�ㄚ��◤��末憟芸�  \n",
       "1   2015撟�0��6��銝��11:59  ��LB���憿����洵1鈭�Pennington�箇洵5�唳�靘�甜�� \n",
       "2   2015撟�0��6��銝��11:59                �剖����隤芸���� �芰�頝舫�隢��敺� \n",
       "3   2015撟�0��6��銝��11:59           甇��������12���銝剜� ��艇嚗��隢曆��曆�蝵� \n",
       "4   2015撟�0��6��銝��11:59       NBA���鈭箄�瞏���抒����銵��鈭� 銝����像������  \n",
       "5   2015撟�0��6��銝��11:59                    銝剛��瑞���遣嚗�極蝔��憟��鈭� \n",
       "6   2015撟�0��6��銝��11:59        ������鞈賬�Cech銝�井�園� �萄極撱������砍迤擐��  \n",
       "7   2015撟�0��6��銝��11:59          蝯��蝚砌�����曇狐嚗�蝮賜恣���銝��閰寧�銋���舫�撣� \n",
       "8   2015撟�0��6��銝��11:59                  銝��12撘瑟����璅�魚 銝剜�摰�雯  \n",
       "9   2015撟�0��6��銝��11:59       ��PBL蝮賢�頠�魚���敺琿�摰��憯����雿���游停�舀�鈭� \n",
       "10  2015撟�0��6��銝��11:59               銝剛��瑟�嚗��頝���Ｚ� �質��單蜀頨急��� \n",
       "11  2015撟�0��6��銝��11:59                  ���鞈Ｚ歲�游����頠�尼��(��  \n",
       "12  2015撟�0��6��銝��11:59            200�砍偕瘙箄魚���靽������典���� (��  \n",
       "13  2015撟�0��6��銝��11:59            銝剛��瑟�嚗���瑚�閮�� �喲暑��◤��蕙�嗅����  \n",
       "14  2015撟�0��6��銝��11:59     ��PBL蝮賢�頠�魚�������行�2.1撅�頝��暾餅��箸��豢�  \n",
       "15  2015撟�0��6��銝��11:59            ��BA��迤��蜇蝬��隤踵� 擉�ㄚ��◤��末憟芸�  \n",
       "16  2015撟�0��6��銝��11:59  ��LB���憿����洵1鈭�Pennington�箇洵5�唳�靘�甜�� \n",
       "17  2015撟�0��6��銝��11:59                �剖����隤芸���� �芰�頝舫�隢��敺� \n",
       "18  2015撟�0��6��銝��11:59           甇��������12���銝剜� ��艇嚗��隢曆��曆�蝵� \n",
       "19  2015撟�0��6��銝��11:59            NBA�梯澈鞈賬�����寥陌��之銝���������萄ㄚ  "
      ]
     },
     "execution_count": 105,
     "metadata": {},
     "output_type": "execute_result"
    }
   ],
   "source": [
    "df = pd.DataFrame(datas)\n",
    "df"
   ]
  },
  {
   "cell_type": "code",
   "execution_count": null,
   "metadata": {
    "collapsed": true
   },
   "outputs": [],
   "source": []
  }
 ],
 "metadata": {
  "kernelspec": {
   "display_name": "Python 2",
   "language": "python",
   "name": "python2"
  },
  "language_info": {
   "codemirror_mode": {
    "name": "ipython",
    "version": 2
   },
   "file_extension": ".py",
   "mimetype": "text/x-python",
   "name": "python",
   "nbconvert_exporter": "python",
   "pygments_lexer": "ipython2",
   "version": "2.7.6"
  }
 },
 "nbformat": 4,
 "nbformat_minor": 0
}
