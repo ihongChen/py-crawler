{
 "cells": [
  {
   "cell_type": "markdown",
   "metadata": {},
   "source": [
    "# css selector with PyQuery"
   ]
  },
  {
   "cell_type": "code",
   "execution_count": 1,
   "metadata": {
    "collapsed": false,
    "scrolled": true
   },
   "outputs": [],
   "source": [
    "import requests\n",
    "from pyquery import PyQuery"
   ]
  },
  {
   "cell_type": "code",
   "execution_count": 2,
   "metadata": {
    "collapsed": false
   },
   "outputs": [
    {
     "name": "stderr",
     "output_type": "stream",
     "text": [
      "c:\\python27\\lib\\site-packages\\requests\\packages\\urllib3\\util\\ssl_.py:90: InsecurePlatformWarning: A true SSLContext object is not available. This prevents urllib3 from configuring SSL appropriately and may cause certain SSL connections to fail. For more information, see https://urllib3.readthedocs.org/en/latest/security.html#insecureplatformwarning.\n",
      "  InsecurePlatformWarning\n"
     ]
    }
   ],
   "source": [
    "url = \"https://tw.news.yahoo.com/%E9%AB%98%E7%88%BE%E5%A4%AB-%E6%9F%AF%E8%96%A9%E7%88%BE%E8%8C%B2%E5%8F%88%E6%90%B6%E9%A0%AD%E9%87%87-%E9%80%A3%E5%85%A9%E5%B9%B4%E8%91%A1%E8%90%84%E7%89%99%E9%96%8B%E5%B1%80%E9%A0%98%E5%85%88-035911639--golf.html\"\n",
    "res = requests.get(url)\n",
    "S = PyQuery(res.text)"
   ]
  },
  {
   "cell_type": "code",
   "execution_count": 6,
   "metadata": {
    "collapsed": false
   },
   "outputs": [
    {
     "name": "stdout",
     "output_type": "stream",
     "text": [
      "高爾夫》柯薩爾茲又搶頭采，連兩年葡萄牙開局領先\n"
     ]
    }
   ],
   "source": [
    "print S(\".headline\").text()"
   ]
  },
  {
   "cell_type": "code",
   "execution_count": 8,
   "metadata": {
    "collapsed": false
   },
   "outputs": [
    {
     "name": "stdout",
     "output_type": "stream",
     "text": [
      "羅開Golf 頻道\n"
     ]
    }
   ],
   "source": [
    "print S(\".provider.org\").text()"
   ]
  },
  {
   "cell_type": "code",
   "execution_count": 11,
   "metadata": {
    "collapsed": false
   },
   "outputs": [
    {
     "name": "stdout",
     "output_type": "stream",
     "text": [
      "2015-10-16T03:59:11Z\n"
     ]
    }
   ],
   "source": [
    "print S(\"abbr\").attr(\"title\")"
   ]
  },
  {
   "cell_type": "code",
   "execution_count": 19,
   "metadata": {
    "collapsed": false
   },
   "outputs": [
    {
     "name": "stdout",
     "output_type": "stream",
     "text": [
      "<p class=\"first\">【羅開新聞中心Minsey Weng綜合報導】比利時重砲手Nicolas Colsaerts（尼可拉斯•柯薩爾茲）又在Oceanico Victoria Golf Course（維多利亞海洋高爾夫俱樂部）飆低桿了，週四攻下低於標準桿七桿的六十四桿，和英格蘭選手Andy Sullivan（安迪•蘇利文）並列Portugal Masters（葡萄牙名人賽）領先榜。<br><br>回顧一年前的賽事，柯薩爾茲開局如入無人之境，差一桿就可以躋身五字頭俱樂部，不過接著打六十七桿，反倒落後三桿，結果最後比賽因天候影響縮短為三十六洞，只能眼睜睜看著法國選手Alexander Levy（亞歷山德•雷維）不戰而勝。<br><br>相隔十二個月，柯薩爾茲又在首回合發飆，分別在十七和第五兩個五桿洞射下老鷹，另有四記博蒂，可惜第七洞吞下當天唯一的柏忌，錯失單獨領先，他說道：「我在這個地方的紀錄不錯，過去打得非常好，所以感覺很自在。」<br><br>「我想我給自己製造非常多的機會，雖然有些沒把握住，不過結果還不賴。很高興打出低於標準桿七桿的成績，也許可以來到八、九或著十，但七桿已經是很好的開始了。」<br><br>年初贏得South African Open Championship hosted by the City of Ekurhuleni（南非公開賽）和Joburg Open（約堡公開賽）的蘇利文，之後有兩場比賽打進前十，但近況相對不理想。沒關係，本週來到葡萄牙也有絕佳的開始，前十二洞攻下六城，終場繳出一張八博蒂和一柏忌的佳績。<br><br>「今天的揮桿狀態很好，似乎又找回信心。」世界排名暫居六十六的蘇利文說道：「比賽中段打得非常好，美中不足是在十六洞吞下柏忌。」<br><br>今年崛起的另一位比利時選手Thomas Pieters（湯瑪斯•彼特斯），先前連贏D+D REAL Czech Masters（捷克名人賽）和KLM Open（荷蘭公開賽），本週又製造了絕佳的機會，以七博蒂和一柏忌的六十五桿開出，和南非選手Thomas Aiken（湯瑪斯•艾肯）、蘇格蘭David Drysdale（大衛•德萊史戴爾）及西班牙的Eduardo De la Riva（艾多爾多•戴拉利瓦）並列第三。<br><br>至於場中第一高手德國名將Martin Kaymer（馬汀•凱默爾）只打出七十桿，並列四十七，而奧利地籍的第二高手Bernd Wiesberger（本德•韋斯伯格）六十八桿，並列二十二。</p>\n"
     ]
    }
   ],
   "source": [
    "print S('p.first').outerHtml()"
   ]
  },
  {
   "cell_type": "code",
   "execution_count": 20,
   "metadata": {
    "collapsed": false
   },
   "outputs": [
    {
     "name": "stdout",
     "output_type": "stream",
     "text": [
      "<div itemscope itemtype=\"https://schema.org/Article\">\n",
      "\t<meta itemprop=\"datePublished\" content=\"2015-10-16T03:59:11Z\">\n",
      "\t<meta itemprop=\"provider\" content=\"羅開Golf 頻道\">\n",
      "\t<meta itemprop=\"headline\" content=\"高爾夫》柯薩爾茲又搶頭采，連兩年葡萄牙開局領先\">\n",
      "\t<meta itemprop=\"description\" content=\"【羅開新聞中心Minsey Weng綜合報導】比利時重砲手Nicolas Colsaerts（尼可拉斯•柯薩爾茲）又在Oceanico Victoria ...\">\n",
      "\t<div class=\"yom-mod yom-art-content \" id=\"mediaarticlebody\" itemprop=\"articleBody\"><div class=\"bd\"><!-- google_ad_section_start --><p class=\"first\">【羅開新聞中心Minsey Weng綜合報導】比利時重砲手Nicolas Colsaerts（尼可拉斯•柯薩爾茲）又在Oceanico Victoria Golf Course（維多利亞海洋高爾夫俱樂部）飆低桿了，週四攻下低於標準桿七桿的六十四桿，和英格蘭選手Andy Sullivan（安迪•蘇利文）並列Portugal Masters（葡萄牙名人賽）領先榜。<br><br>回顧一年前的賽事，柯薩爾茲開局如入無人之境，差一桿就可以躋身五字頭俱樂部，不過接著打六十七桿，反倒落後三桿，結果最後比賽因天候影響縮短為三十六洞，只能眼睜睜看著法國選手Alexander Levy（亞歷山德•雷維）不戰而勝。<br><br>相隔十二個月，柯薩爾茲又在首回合發飆，分別在十七和第五兩個五桿洞射下老鷹，另有四記博蒂，可惜第七洞吞下當天唯一的柏忌，錯失單獨領先，他說道：「我在這個地方的紀錄不錯，過去打得非常好，所以感覺很自在。」<br><br>「我想我給自己製造非常多的機會，雖然有些沒把握住，不過結果還不賴。很高興打出低於標準桿七桿的成績，也許可以來到八、九或著十，但七桿已經是很好的開始了。」<br><br>年初贏得South African Open Championship hosted by the City of Ekurhuleni（南非公開賽）和Joburg Open（約堡公開賽）的蘇利文，之後有兩場比賽打進前十，但近況相對不理想。沒關係，本週來到葡萄牙也有絕佳的開始，前十二洞攻下六城，終場繳出一張八博蒂和一柏忌的佳績。<br><br>「今天的揮桿狀態很好，似乎又找回信心。」世界排名暫居六十六的蘇利文說道：「比賽中段打得非常好，美中不足是在十六洞吞下柏忌。」<br><br>今年崛起的另一位比利時選手Thomas Pieters（湯瑪斯•彼特斯），先前連贏D+D REAL Czech Masters（捷克名人賽）和KLM Open（荷蘭公開賽），本週又製造了絕佳的機會，以七博蒂和一柏忌的六十五桿開出，和南非選手Thomas Aiken（湯瑪斯•艾肯）、蘇格蘭David Drysdale（大衛•德萊史戴爾）及西班牙的Eduardo De la Riva（艾多爾多•戴拉利瓦）並列第三。<br><br>至於場中第一高手德國名將Martin Kaymer（馬汀•凱默爾）只打出七十桿，並列四十七，而奧利地籍的第二高手Bernd Wiesberger（本德•韋斯伯格）六十八桿，並列二十二。</p>\n",
      "<!-- google_ad_section_end --></div></div>\n",
      "\t</div>\n"
     ]
    }
   ],
   "source": [
    "print S('div[itemtype=\"https://schema.org/Article\"]').outerHtml()"
   ]
  },
  {
   "cell_type": "code",
   "execution_count": 3,
   "metadata": {
    "collapsed": false
   },
   "outputs": [
    {
     "name": "stderr",
     "output_type": "stream",
     "text": [
      "c:\\python27\\lib\\site-packages\\requests\\packages\\urllib3\\util\\ssl_.py:90: InsecurePlatformWarning: A true SSLContext object is not available. This prevents urllib3 from configuring SSL appropriately and may cause certain SSL connections to fail. For more information, see https://urllib3.readthedocs.org/en/latest/security.html#insecureplatformwarning.\n",
      "  InsecurePlatformWarning\n"
     ]
    }
   ],
   "source": [
    "url = \"https://tw.news.yahoo.com/sports/\"\n",
    "res = requests.get(url)\n",
    "S = PyQuery(res.text)"
   ]
  },
  {
   "cell_type": "code",
   "execution_count": 4,
   "metadata": {
    "collapsed": false
   },
   "outputs": [
    {
     "name": "stdout",
     "output_type": "stream",
     "text": [
      "/中華職棒-劉芙豪跑出h-做公益也激勵自己-113300733.html\n",
      "/場內全壘打隔12年-彭政閔記憶模糊-145752039--mlb.html\n",
      "/nba熱身賽-林書豪缺戰-溜馬下半場發威擒黃蜂-035643539--nba.html\n",
      "/羽球-陳宏麟王齊麟逆轉南韓組合殺進8強-074335623.html\n",
      "/港陸足球賽下月舉行-嚴防衝突-080107163--sow.html\n",
      "/高爾夫-赫恩-湯普森等四人-拉斯維加斯開局並列領先-064908501--golf.html\n",
      "/中華職棒-兄弟全象-心-直播派對免費進場-075221156.html\n",
      "/黑豹旗-雙強對決-興大附農完封鶯歌工商-122544571.html\n",
      "/雷霆獨大-拓荒者風光不再-215005631--nba.html\n",
      "/羽球-女單-姐戴資穎-晉級法羽賽8強-173701747.html\n",
      "/歐霸盃-糗-利物浦解決不了十人喀山紅寶石-055237798.html\n",
      "/高爾夫-全國花園培訓選手發光-許閎軒高雄全運會奪金-063324429--golf.html\n",
      "/中華職棒-兄弟精神領袖-彭政閔場內轟好喘-230700373.html\n",
      "/中華職棒-回家作戰-陽耀勳懷念象迷噓聲-221200481.html\n",
      "/mlb-藍鳥皇家g6-包爺-不容許犯錯-043519283.html\n",
      "/大師兄炸裂-轟破總冠軍賽紀錄-215005575--mlb.html\n",
      "/彭政閔場內轟創紀錄-象迷向鋒哥致敬-051630987--mlb.html\n",
      "/10-24早上8點第六戰-藍鳥拚追平-皇家要封王-051630127--mlb.html\n",
      "/nba-kobe開幕戰準備好了-小克卻受傷了-053710665.html\n",
      "/nba-柯瑞24-10-湖人97-136輸勇士-045229697--nba.html\n",
      "/熱身賽最終戰未上-林書豪享悠閒時光-044500795--nba.html\n",
      "/nba-林書豪休兵-黃蜂熱身賽最終戰終於輸了-020932675.html\n",
      "/nba-5年8200萬-騎士-tt人生-落幕-033957933.html\n",
      "/豪華陣線-黃蜂隊更有看頭-025532972--nba.html\n",
      "/lpga台灣賽-開局推桿失手-曾雅妮前9洞白工-042041774.html\n",
      "/高爾夫-盧曉晴兵庫縣開紅盤-名人女子賽落後三桿-230407706--golf.html\n",
      "/賭城高球賽首輪-3人並列排頭-045003712--golf.html\n",
      "/高爾夫-曾雅妮收尾洞抓鳥-池恩熹領先lpga台灣賽-140313125--golf.html\n",
      "/高爾夫-歐巡賽工作權最後決戰-米沙瓦-邱拉希爾名列其中-231407518--golf.html\n",
      "/富邦lpga開打-眾女將陸續出擊-010730668--golf.html\n",
      "/寧波挑戰賽-盧彥勳單打進八-213239505--ten.html\n",
      "/年終總決賽-中國兩站賽事豐收-納達爾鎖定資格-083654829--ten.html\n",
      "/中國連奪兩冠-球王喬科維奇大秀中文-131519656--ten.html\n",
      "/詹家姊妹助陣-新北女網5連霸-215006165.html\n",
      "/備用網球場不優-高市-場勘沒問題-051342365--ten.html\n",
      "/網球-16-785分-球王喬科維奇刷新atp紀錄-150918260--ten.html\n",
      "/19項破全國-全運豐收閉幕-215005454.html\n",
      "/歐霸盃-奧巴梅揚帽子戲法-多特輕鬆勝卡巴拉-183133483.html\n",
      "/羽球-法國羽球公開賽-周天成晉男單8強-171145936.html\n",
      "/英超-克洛普怒飆-足總把我的小將當馬操-115857554.html\n",
      "/歐霸盃-糗-利物浦解決不了十人喀山紅寶石-055237798.html\n",
      "/小六女180公分-潘宣蓉排球界新星-131520923--nba.html\n",
      "/lpga台灣賽-15歲業餘張雅淳台將最佳-曾雅妮搶攻乏力-121618304--golf.html\n",
      "/lpga台灣賽-池恩熹持續領先-高寶璟追上來僅落後1桿-121327740--golf.html\n",
      "/中華職棒-劉芙豪跑出h-做公益也激勵自己-113300733.html\n",
      "#\n",
      "/國際衝浪賽-260多人較勁-1-圖-111901253--spt.html\n",
      "/國際衝浪賽-260多人較勁-2-圖-111901868--spt.html\n",
      "/赫爾lpga次輪69桿-圖-111101332--golf.html\n",
      "/借球袋飆69桿-張雅淳-陳良溪上身-圖-111101602--golf.html\n",
      "/亞巡香港公開賽-呂偉智次輪並列第3-105314548--golf.html\n",
      "/泰國青少年網賽-化怒氣為動力-卓宜萱奪雙打冠軍-104525532--ten.html\n",
      "/延田女子賽次輪-盧曉晴並列領先-103613918--golf.html\n",
      "#\n"
     ]
    }
   ],
   "source": [
    "for e in S(\"a.title\").map(lambda i,e:PyQuery(e).attr(\"href\")):\n",
    "    print e"
   ]
  },
  {
   "cell_type": "code",
   "execution_count": 17,
   "metadata": {
    "collapsed": false
   },
   "outputs": [],
   "source": [
    "urlslist = [e.attrib['href'] for e in S(\"a.title\") if e.attrib['href']!='#']"
   ]
  },
  {
   "cell_type": "code",
   "execution_count": 26,
   "metadata": {
    "collapsed": false
   },
   "outputs": [
    {
     "data": {
      "text/plain": [
       "[u'https://tw.news.yahoo.com/\\u4e2d\\u83ef\\u8077\\u68d2-\\u5289\\u8299\\u8c6a\\u8dd1\\u51fah-\\u505a\\u516c\\u76ca\\u4e5f\\u6fc0\\u52f5\\u81ea\\u5df1-113300733.html',\n",
       " u'https://tw.news.yahoo.com/\\u5834\\u5167\\u5168\\u58d8\\u6253\\u969412\\u5e74-\\u5f6d\\u653f\\u9594\\u8a18\\u61b6\\u6a21\\u7cca-145752039--mlb.html',\n",
       " u'https://tw.news.yahoo.com/nba\\u71b1\\u8eab\\u8cfd-\\u6797\\u66f8\\u8c6a\\u7f3a\\u6230-\\u6e9c\\u99ac\\u4e0b\\u534a\\u5834\\u767c\\u5a01\\u64d2\\u9ec3\\u8702-035643539--nba.html',\n",
       " u'https://tw.news.yahoo.com/\\u7fbd\\u7403-\\u9673\\u5b8f\\u9e9f\\u738b\\u9f4a\\u9e9f\\u9006\\u8f49\\u5357\\u97d3\\u7d44\\u5408\\u6bba\\u90328\\u5f37-074335623.html',\n",
       " u'https://tw.news.yahoo.com/\\u6e2f\\u9678\\u8db3\\u7403\\u8cfd\\u4e0b\\u6708\\u8209\\u884c-\\u56b4\\u9632\\u885d\\u7a81-080107163--sow.html',\n",
       " u'https://tw.news.yahoo.com/\\u9ad8\\u723e\\u592b-\\u8d6b\\u6069-\\u6e6f\\u666e\\u68ee\\u7b49\\u56db\\u4eba-\\u62c9\\u65af\\u7dad\\u52a0\\u65af\\u958b\\u5c40\\u4e26\\u5217\\u9818\\u5148-064908501--golf.html',\n",
       " u'https://tw.news.yahoo.com/\\u4e2d\\u83ef\\u8077\\u68d2-\\u5144\\u5f1f\\u5168\\u8c61-\\u5fc3-\\u76f4\\u64ad\\u6d3e\\u5c0d\\u514d\\u8cbb\\u9032\\u5834-075221156.html',\n",
       " u'https://tw.news.yahoo.com/\\u9ed1\\u8c79\\u65d7-\\u96d9\\u5f37\\u5c0d\\u6c7a-\\u8208\\u5927\\u9644\\u8fb2\\u5b8c\\u5c01\\u9daf\\u6b4c\\u5de5\\u5546-122544571.html',\n",
       " u'https://tw.news.yahoo.com/\\u96f7\\u9706\\u7368\\u5927-\\u62d3\\u8352\\u8005\\u98a8\\u5149\\u4e0d\\u518d-215005631--nba.html',\n",
       " u'https://tw.news.yahoo.com/\\u7fbd\\u7403-\\u5973\\u55ae-\\u59d0\\u6234\\u8cc7\\u7a4e-\\u6649\\u7d1a\\u6cd5\\u7fbd\\u8cfd8\\u5f37-173701747.html',\n",
       " u'https://tw.news.yahoo.com/\\u6b50\\u9738\\u76c3-\\u7cd7-\\u5229\\u7269\\u6d66\\u89e3\\u6c7a\\u4e0d\\u4e86\\u5341\\u4eba\\u5580\\u5c71\\u7d05\\u5bf6\\u77f3-055237798.html',\n",
       " u'https://tw.news.yahoo.com/\\u9ad8\\u723e\\u592b-\\u5168\\u570b\\u82b1\\u5712\\u57f9\\u8a13\\u9078\\u624b\\u767c\\u5149-\\u8a31\\u958e\\u8ed2\\u9ad8\\u96c4\\u5168\\u904b\\u6703\\u596a\\u91d1-063324429--golf.html',\n",
       " u'https://tw.news.yahoo.com/\\u4e2d\\u83ef\\u8077\\u68d2-\\u5144\\u5f1f\\u7cbe\\u795e\\u9818\\u8896-\\u5f6d\\u653f\\u9594\\u5834\\u5167\\u8f5f\\u597d\\u5598-230700373.html',\n",
       " u'https://tw.news.yahoo.com/\\u4e2d\\u83ef\\u8077\\u68d2-\\u56de\\u5bb6\\u4f5c\\u6230-\\u967d\\u8000\\u52f3\\u61f7\\u5ff5\\u8c61\\u8ff7\\u5653\\u8072-221200481.html',\n",
       " u'https://tw.news.yahoo.com/mlb-\\u85cd\\u9ce5\\u7687\\u5bb6g6-\\u5305\\u723a-\\u4e0d\\u5bb9\\u8a31\\u72af\\u932f-043519283.html',\n",
       " u'https://tw.news.yahoo.com/\\u5927\\u5e2b\\u5144\\u70b8\\u88c2-\\u8f5f\\u7834\\u7e3d\\u51a0\\u8ecd\\u8cfd\\u7d00\\u9304-215005575--mlb.html',\n",
       " u'https://tw.news.yahoo.com/\\u5f6d\\u653f\\u9594\\u5834\\u5167\\u8f5f\\u5275\\u7d00\\u9304-\\u8c61\\u8ff7\\u5411\\u92d2\\u54e5\\u81f4\\u656c-051630987--mlb.html',\n",
       " u'https://tw.news.yahoo.com/10-24\\u65e9\\u4e0a8\\u9ede\\u7b2c\\u516d\\u6230-\\u85cd\\u9ce5\\u62da\\u8ffd\\u5e73-\\u7687\\u5bb6\\u8981\\u5c01\\u738b-051630127--mlb.html',\n",
       " u'https://tw.news.yahoo.com/nba-kobe\\u958b\\u5e55\\u6230\\u6e96\\u5099\\u597d\\u4e86-\\u5c0f\\u514b\\u537b\\u53d7\\u50b7\\u4e86-053710665.html',\n",
       " u'https://tw.news.yahoo.com/nba-\\u67ef\\u745e24-10-\\u6e56\\u4eba97-136\\u8f38\\u52c7\\u58eb-045229697--nba.html',\n",
       " u'https://tw.news.yahoo.com/\\u71b1\\u8eab\\u8cfd\\u6700\\u7d42\\u6230\\u672a\\u4e0a-\\u6797\\u66f8\\u8c6a\\u4eab\\u60a0\\u9592\\u6642\\u5149-044500795--nba.html',\n",
       " u'https://tw.news.yahoo.com/nba-\\u6797\\u66f8\\u8c6a\\u4f11\\u5175-\\u9ec3\\u8702\\u71b1\\u8eab\\u8cfd\\u6700\\u7d42\\u6230\\u7d42\\u65bc\\u8f38\\u4e86-020932675.html',\n",
       " u'https://tw.news.yahoo.com/nba-5\\u5e748200\\u842c-\\u9a0e\\u58eb-tt\\u4eba\\u751f-\\u843d\\u5e55-033957933.html',\n",
       " u'https://tw.news.yahoo.com/\\u8c6a\\u83ef\\u9663\\u7dda-\\u9ec3\\u8702\\u968a\\u66f4\\u6709\\u770b\\u982d-025532972--nba.html',\n",
       " u'https://tw.news.yahoo.com/lpga\\u53f0\\u7063\\u8cfd-\\u958b\\u5c40\\u63a8\\u687f\\u5931\\u624b-\\u66fe\\u96c5\\u59ae\\u524d9\\u6d1e\\u767d\\u5de5-042041774.html',\n",
       " u'https://tw.news.yahoo.com/\\u9ad8\\u723e\\u592b-\\u76e7\\u66c9\\u6674\\u5175\\u5eab\\u7e23\\u958b\\u7d05\\u76e4-\\u540d\\u4eba\\u5973\\u5b50\\u8cfd\\u843d\\u5f8c\\u4e09\\u687f-230407706--golf.html',\n",
       " u'https://tw.news.yahoo.com/\\u8ced\\u57ce\\u9ad8\\u7403\\u8cfd\\u9996\\u8f2a-3\\u4eba\\u4e26\\u5217\\u6392\\u982d-045003712--golf.html',\n",
       " u'https://tw.news.yahoo.com/\\u9ad8\\u723e\\u592b-\\u66fe\\u96c5\\u59ae\\u6536\\u5c3e\\u6d1e\\u6293\\u9ce5-\\u6c60\\u6069\\u71b9\\u9818\\u5148lpga\\u53f0\\u7063\\u8cfd-140313125--golf.html',\n",
       " u'https://tw.news.yahoo.com/\\u9ad8\\u723e\\u592b-\\u6b50\\u5de1\\u8cfd\\u5de5\\u4f5c\\u6b0a\\u6700\\u5f8c\\u6c7a\\u6230-\\u7c73\\u6c99\\u74e6-\\u90b1\\u62c9\\u5e0c\\u723e\\u540d\\u5217\\u5176\\u4e2d-231407518--golf.html',\n",
       " u'https://tw.news.yahoo.com/\\u5bcc\\u90a6lpga\\u958b\\u6253-\\u773e\\u5973\\u5c07\\u9678\\u7e8c\\u51fa\\u64ca-010730668--golf.html',\n",
       " u'https://tw.news.yahoo.com/\\u5be7\\u6ce2\\u6311\\u6230\\u8cfd-\\u76e7\\u5f65\\u52f3\\u55ae\\u6253\\u9032\\u516b-213239505--ten.html',\n",
       " u'https://tw.news.yahoo.com/\\u5e74\\u7d42\\u7e3d\\u6c7a\\u8cfd-\\u4e2d\\u570b\\u5169\\u7ad9\\u8cfd\\u4e8b\\u8c50\\u6536-\\u7d0d\\u9054\\u723e\\u9396\\u5b9a\\u8cc7\\u683c-083654829--ten.html',\n",
       " u'https://tw.news.yahoo.com/\\u4e2d\\u570b\\u9023\\u596a\\u5169\\u51a0-\\u7403\\u738b\\u55ac\\u79d1\\u7dad\\u5947\\u5927\\u79c0\\u4e2d\\u6587-131519656--ten.html',\n",
       " u'https://tw.news.yahoo.com/\\u8a79\\u5bb6\\u59ca\\u59b9\\u52a9\\u9663-\\u65b0\\u5317\\u5973\\u7db25\\u9023\\u9738-215006165.html',\n",
       " u'https://tw.news.yahoo.com/\\u5099\\u7528\\u7db2\\u7403\\u5834\\u4e0d\\u512a-\\u9ad8\\u5e02-\\u5834\\u52d8\\u6c92\\u554f\\u984c-051342365--ten.html',\n",
       " u'https://tw.news.yahoo.com/\\u7db2\\u7403-16-785\\u5206-\\u7403\\u738b\\u55ac\\u79d1\\u7dad\\u5947\\u5237\\u65b0atp\\u7d00\\u9304-150918260--ten.html',\n",
       " u'https://tw.news.yahoo.com/19\\u9805\\u7834\\u5168\\u570b-\\u5168\\u904b\\u8c50\\u6536\\u9589\\u5e55-215005454.html',\n",
       " u'https://tw.news.yahoo.com/\\u6b50\\u9738\\u76c3-\\u5967\\u5df4\\u6885\\u63da\\u5e3d\\u5b50\\u6232\\u6cd5-\\u591a\\u7279\\u8f15\\u9b06\\u52dd\\u5361\\u5df4\\u62c9-183133483.html',\n",
       " u'https://tw.news.yahoo.com/\\u7fbd\\u7403-\\u6cd5\\u570b\\u7fbd\\u7403\\u516c\\u958b\\u8cfd-\\u5468\\u5929\\u6210\\u6649\\u7537\\u55ae8\\u5f37-171145936.html',\n",
       " u'https://tw.news.yahoo.com/\\u82f1\\u8d85-\\u514b\\u6d1b\\u666e\\u6012\\u98c6-\\u8db3\\u7e3d\\u628a\\u6211\\u7684\\u5c0f\\u5c07\\u7576\\u99ac\\u64cd-115857554.html',\n",
       " u'https://tw.news.yahoo.com/\\u6b50\\u9738\\u76c3-\\u7cd7-\\u5229\\u7269\\u6d66\\u89e3\\u6c7a\\u4e0d\\u4e86\\u5341\\u4eba\\u5580\\u5c71\\u7d05\\u5bf6\\u77f3-055237798.html',\n",
       " u'https://tw.news.yahoo.com/\\u5c0f\\u516d\\u5973180\\u516c\\u5206-\\u6f58\\u5ba3\\u84c9\\u6392\\u7403\\u754c\\u65b0\\u661f-131520923--nba.html',\n",
       " u'https://tw.news.yahoo.com/lpga\\u53f0\\u7063\\u8cfd-15\\u6b72\\u696d\\u9918\\u5f35\\u96c5\\u6df3\\u53f0\\u5c07\\u6700\\u4f73-\\u66fe\\u96c5\\u59ae\\u6436\\u653b\\u4e4f\\u529b-121618304--golf.html',\n",
       " u'https://tw.news.yahoo.com/lpga\\u53f0\\u7063\\u8cfd-\\u6c60\\u6069\\u71b9\\u6301\\u7e8c\\u9818\\u5148-\\u9ad8\\u5bf6\\u749f\\u8ffd\\u4e0a\\u4f86\\u50c5\\u843d\\u5f8c1\\u687f-121327740--golf.html',\n",
       " u'https://tw.news.yahoo.com/\\u4e2d\\u83ef\\u8077\\u68d2-\\u5289\\u8299\\u8c6a\\u8dd1\\u51fah-\\u505a\\u516c\\u76ca\\u4e5f\\u6fc0\\u52f5\\u81ea\\u5df1-113300733.html',\n",
       " u'https://tw.news.yahoo.com/\\u570b\\u969b\\u885d\\u6d6a\\u8cfd-260\\u591a\\u4eba\\u8f03\\u52c1-1-\\u5716-111901253--spt.html',\n",
       " u'https://tw.news.yahoo.com/\\u570b\\u969b\\u885d\\u6d6a\\u8cfd-260\\u591a\\u4eba\\u8f03\\u52c1-2-\\u5716-111901868--spt.html',\n",
       " u'https://tw.news.yahoo.com/\\u8d6b\\u723elpga\\u6b21\\u8f2a69\\u687f-\\u5716-111101332--golf.html',\n",
       " u'https://tw.news.yahoo.com/\\u501f\\u7403\\u888b\\u98c669\\u687f-\\u5f35\\u96c5\\u6df3-\\u9673\\u826f\\u6eaa\\u4e0a\\u8eab-\\u5716-111101602--golf.html',\n",
       " u'https://tw.news.yahoo.com/\\u4e9e\\u5de1\\u9999\\u6e2f\\u516c\\u958b\\u8cfd-\\u5442\\u5049\\u667a\\u6b21\\u8f2a\\u4e26\\u5217\\u7b2c3-105314548--golf.html',\n",
       " u'https://tw.news.yahoo.com/\\u6cf0\\u570b\\u9752\\u5c11\\u5e74\\u7db2\\u8cfd-\\u5316\\u6012\\u6c23\\u70ba\\u52d5\\u529b-\\u5353\\u5b9c\\u8431\\u596a\\u96d9\\u6253\\u51a0\\u8ecd-104525532--ten.html',\n",
       " u'https://tw.news.yahoo.com/\\u5ef6\\u7530\\u5973\\u5b50\\u8cfd\\u6b21\\u8f2a-\\u76e7\\u66c9\\u6674\\u4e26\\u5217\\u9818\\u5148-103613918--golf.html']"
      ]
     },
     "execution_count": 26,
     "metadata": {},
     "output_type": "execute_result"
    }
   ],
   "source": [
    "urlhead = \"https://tw.news.yahoo.com\"\n",
    "[urlhead + url for url in urlslist]"
   ]
  }
 ],
 "metadata": {
  "kernelspec": {
   "display_name": "Python 2",
   "language": "python",
   "name": "python2"
  },
  "language_info": {
   "codemirror_mode": {
    "name": "ipython",
    "version": 2
   },
   "file_extension": ".py",
   "mimetype": "text/x-python",
   "name": "python",
   "nbconvert_exporter": "python",
   "pygments_lexer": "ipython2",
   "version": "2.7.6"
  }
 },
 "nbformat": 4,
 "nbformat_minor": 0
}
