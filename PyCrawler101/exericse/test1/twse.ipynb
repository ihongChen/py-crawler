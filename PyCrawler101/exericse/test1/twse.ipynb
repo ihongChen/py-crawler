{
 "cells": [
  {
   "cell_type": "code",
   "execution_count": 1,
   "metadata": {
    "collapsed": false
   },
   "outputs": [],
   "source": [
    "import requests\n",
    "import pandas as pd\n",
    "import numpy as np\n",
    "url = 'http://mops.twse.com.tw/mops/web/ajax_t51sb01'\n",
    "payload = {'encodeURIComponent':'1',\n",
    "'step':'1',\n",
    "'firstin':'1',\n",
    "'TYPEK':'sii',\n",
    "'code':'01'}\n",
    "res = requests.post(url,data=payload)\n"
   ]
  },
  {
   "cell_type": "code",
   "execution_count": 2,
   "metadata": {
    "collapsed": false
   },
   "outputs": [],
   "source": [
    "tables = pd.read_html(res.content,encoding='utf-8')\n",
    "df = tables[0]\n",
    "# pd.DataFrame(np.r_[df.values[1:,0:3],df.values[1:,4:7]],columns=['3','4','5'])"
   ]
  },
  {
   "cell_type": "code",
   "execution_count": 42,
   "metadata": {
    "collapsed": false
   },
   "outputs": [
    {
     "data": {
      "text/html": [
       "<div style=\"max-height:1000px;max-width:1500px;overflow:auto;\">\n",
       "<table border=\"1\" class=\"dataframe\">\n",
       "  <thead>\n",
       "    <tr style=\"text-align: right;\">\n",
       "      <th></th>\n",
       "      <th>company</th>\n",
       "      <th>founder</th>\n",
       "      <th>value of stock</th>\n",
       "    </tr>\n",
       "  </thead>\n",
       "  <tbody>\n",
       "    <tr>\n",
       "      <th>0</th>\n",
       "      <td>公司名稱</td>\n",
       "      <td>董事長</td>\n",
       "      <td>普通股每股面額</td>\n",
       "    </tr>\n",
       "    <tr>\n",
       "      <th>1</th>\n",
       "      <td>台灣水泥股份有限公司</td>\n",
       "      <td>辜成允</td>\n",
       "      <td>新台幣 10.0000元</td>\n",
       "    </tr>\n",
       "    <tr>\n",
       "      <th>2</th>\n",
       "      <td>亞洲水泥股份有限公司</td>\n",
       "      <td>徐旭東</td>\n",
       "      <td>新台幣 10.0000元</td>\n",
       "    </tr>\n",
       "  </tbody>\n",
       "</table>\n",
       "</div>"
      ],
      "text/plain": [
       "      company founder value of stock\n",
       "0        �砍���迂     �����       �桅��⊥��⊿�憿�\n",
       "1  �啁�瘞湔野�∩遢����砍�     颲����  �啣�撟�10.0000��\n",
       "2  鈭�散瘞湔野�∩遢����砍�     敺����  �啣�撟�10.0000��"
      ]
     },
     "execution_count": 42,
     "metadata": {},
     "output_type": "execute_result"
    }
   ],
   "source": [
    "dg = df.ix[0:2][[1,4,12]];\n",
    "dg.columns=['company','founder','value of stock']\n",
    "# df.ix[0:2][[1,4,12]]"
   ]
  }
 ],
 "metadata": {
  "kernelspec": {
   "display_name": "Python 2",
   "language": "python",
   "name": "python2"
  },
  "language_info": {
   "codemirror_mode": {
    "name": "ipython",
    "version": 2
   },
   "file_extension": ".py",
   "mimetype": "text/x-python",
   "name": "python",
   "nbconvert_exporter": "python",
   "pygments_lexer": "ipython2",
   "version": "2.7.6"
  }
 },
 "nbformat": 4,
 "nbformat_minor": 0
}
