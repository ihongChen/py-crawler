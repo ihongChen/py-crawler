{
 "cells": [
  {
   "cell_type": "code",
   "execution_count": 27,
   "metadata": {
    "collapsed": false
   },
   "outputs": [
    {
     "name": "stderr",
     "output_type": "stream",
     "text": [
      "c:\\python27\\lib\\site-packages\\requests\\packages\\urllib3\\util\\ssl_.py:90: InsecurePlatformWarning: A true SSLContext object is not available. This prevents urllib3 from configuring SSL appropriately and may cause certain SSL connections to fail. For more information, see https://urllib3.readthedocs.org/en/latest/security.html#insecureplatformwarning.\n",
      "  InsecurePlatformWarning\n",
      "c:\\python27\\lib\\site-packages\\requests\\packages\\urllib3\\connectionpool.py:768: InsecureRequestWarning: Unverified HTTPS request is being made. Adding certificate verification is strongly advised. See: https://urllib3.readthedocs.org/en/latest/security.html\n",
      "  InsecureRequestWarning)\n"
     ]
    }
   ],
   "source": [
    "import requests\n",
    "api_addr = \"https://graph.facebook.com/v2.4/me\"\n",
    "token = \"CAACEdEose0cBAOVUelLpyjZA2ZApZATIizj7hYxuGnLUmb6cb0xD9vSe5y45DIW1kPpDPmUe7mgsJZAAnD2kZCchiXaA8fx3ji3G49lMhZCdAGcmjzBptPQAZAH2hSL3NtcjMSQCiqi7lz75NrZByWQiirZBbgZB8sVZBXA2JI9pKASy8czUN6yQ0wvet4m2ncatmNOmzNkOnLJ1vUByJAH85pk\"\n",
    "qs = {\"metadata\":1,\n",
    "     \"access_token\":token}\n",
    "res = requests.get(api_addr,params=qs,verify=False)"
   ]
  },
  {
   "cell_type": "code",
   "execution_count": 28,
   "metadata": {
    "collapsed": false
   },
   "outputs": [
    {
     "data": {
      "text/plain": [
       "[u'id', u'name', u'metadata']"
      ]
     },
     "execution_count": 28,
     "metadata": {},
     "output_type": "execute_result"
    }
   ],
   "source": [
    "meta = res.json()\n",
    "meta.keys()"
   ]
  },
  {
   "cell_type": "code",
   "execution_count": 29,
   "metadata": {
    "collapsed": false
   },
   "outputs": [
    {
     "data": {
      "text/plain": [
       "{u'connections': {u'accounts': u'https://graph.facebook.com/831654370182439/accounts?access_token=CAACEdEose0cBAOVUelLpyjZA2ZApZATIizj7hYxuGnLUmb6cb0xD9vSe5y45DIW1kPpDPmUe7mgsJZAAnD2kZCchiXaA8fx3ji3G49lMhZCdAGcmjzBptPQAZAH2hSL3NtcjMSQCiqi7lz75NrZByWQiirZBbgZB8sVZBXA2JI9pKASy8czUN6yQ0wvet4m2ncatmNOmzNkOnLJ1vUByJAH85pk',\n",
       "  u'achievements': u'https://graph.facebook.com/831654370182439/achievements?access_token=CAACEdEose0cBAOVUelLpyjZA2ZApZATIizj7hYxuGnLUmb6cb0xD9vSe5y45DIW1kPpDPmUe7mgsJZAAnD2kZCchiXaA8fx3ji3G49lMhZCdAGcmjzBptPQAZAH2hSL3NtcjMSQCiqi7lz75NrZByWQiirZBbgZB8sVZBXA2JI9pKASy8czUN6yQ0wvet4m2ncatmNOmzNkOnLJ1vUByJAH85pk',\n",
       "  u'ad_export_presets': u'https://graph.facebook.com/831654370182439/ad_export_presets?access_token=CAACEdEose0cBAOVUelLpyjZA2ZApZATIizj7hYxuGnLUmb6cb0xD9vSe5y45DIW1kPpDPmUe7mgsJZAAnD2kZCchiXaA8fx3ji3G49lMhZCdAGcmjzBptPQAZAH2hSL3NtcjMSQCiqi7lz75NrZByWQiirZBbgZB8sVZBXA2JI9pKASy8czUN6yQ0wvet4m2ncatmNOmzNkOnLJ1vUByJAH85pk',\n",
       "  u'adaccountgroups': u'https://graph.facebook.com/831654370182439/adaccountgroups?access_token=CAACEdEose0cBAOVUelLpyjZA2ZApZATIizj7hYxuGnLUmb6cb0xD9vSe5y45DIW1kPpDPmUe7mgsJZAAnD2kZCchiXaA8fx3ji3G49lMhZCdAGcmjzBptPQAZAH2hSL3NtcjMSQCiqi7lz75NrZByWQiirZBbgZB8sVZBXA2JI9pKASy8czUN6yQ0wvet4m2ncatmNOmzNkOnLJ1vUByJAH85pk',\n",
       "  u'adaccounts': u'https://graph.facebook.com/831654370182439/adaccounts?access_token=CAACEdEose0cBAOVUelLpyjZA2ZApZATIizj7hYxuGnLUmb6cb0xD9vSe5y45DIW1kPpDPmUe7mgsJZAAnD2kZCchiXaA8fx3ji3G49lMhZCdAGcmjzBptPQAZAH2hSL3NtcjMSQCiqi7lz75NrZByWQiirZBbgZB8sVZBXA2JI9pKASy8czUN6yQ0wvet4m2ncatmNOmzNkOnLJ1vUByJAH85pk',\n",
       "  u'adcontracts': u'https://graph.facebook.com/831654370182439/adcontracts?access_token=CAACEdEose0cBAOVUelLpyjZA2ZApZATIizj7hYxuGnLUmb6cb0xD9vSe5y45DIW1kPpDPmUe7mgsJZAAnD2kZCchiXaA8fx3ji3G49lMhZCdAGcmjzBptPQAZAH2hSL3NtcjMSQCiqi7lz75NrZByWQiirZBbgZB8sVZBXA2JI9pKASy8czUN6yQ0wvet4m2ncatmNOmzNkOnLJ1vUByJAH85pk',\n",
       "  u'admined_groups': u'https://graph.facebook.com/831654370182439/admined_groups?access_token=CAACEdEose0cBAOVUelLpyjZA2ZApZATIizj7hYxuGnLUmb6cb0xD9vSe5y45DIW1kPpDPmUe7mgsJZAAnD2kZCchiXaA8fx3ji3G49lMhZCdAGcmjzBptPQAZAH2hSL3NtcjMSQCiqi7lz75NrZByWQiirZBbgZB8sVZBXA2JI9pKASy8czUN6yQ0wvet4m2ncatmNOmzNkOnLJ1vUByJAH85pk',\n",
       "  u'adnetworkanalytics': u'https://graph.facebook.com/831654370182439/adnetworkanalytics?access_token=CAACEdEose0cBAOVUelLpyjZA2ZApZATIizj7hYxuGnLUmb6cb0xD9vSe5y45DIW1kPpDPmUe7mgsJZAAnD2kZCchiXaA8fx3ji3G49lMhZCdAGcmjzBptPQAZAH2hSL3NtcjMSQCiqi7lz75NrZByWQiirZBbgZB8sVZBXA2JI9pKASy8czUN6yQ0wvet4m2ncatmNOmzNkOnLJ1vUByJAH85pk',\n",
       "  u'albums': u'https://graph.facebook.com/831654370182439/albums?access_token=CAACEdEose0cBAOVUelLpyjZA2ZApZATIizj7hYxuGnLUmb6cb0xD9vSe5y45DIW1kPpDPmUe7mgsJZAAnD2kZCchiXaA8fx3ji3G49lMhZCdAGcmjzBptPQAZAH2hSL3NtcjMSQCiqi7lz75NrZByWQiirZBbgZB8sVZBXA2JI9pKASy8czUN6yQ0wvet4m2ncatmNOmzNkOnLJ1vUByJAH85pk',\n",
       "  u'applications': u'https://graph.facebook.com/831654370182439/applications?access_token=CAACEdEose0cBAOVUelLpyjZA2ZApZATIizj7hYxuGnLUmb6cb0xD9vSe5y45DIW1kPpDPmUe7mgsJZAAnD2kZCchiXaA8fx3ji3G49lMhZCdAGcmjzBptPQAZAH2hSL3NtcjMSQCiqi7lz75NrZByWQiirZBbgZB8sVZBXA2JI9pKASy8czUN6yQ0wvet4m2ncatmNOmzNkOnLJ1vUByJAH85pk',\n",
       "  u'apprequestformerrecipients': u'https://graph.facebook.com/831654370182439/apprequestformerrecipients?access_token=CAACEdEose0cBAOVUelLpyjZA2ZApZATIizj7hYxuGnLUmb6cb0xD9vSe5y45DIW1kPpDPmUe7mgsJZAAnD2kZCchiXaA8fx3ji3G49lMhZCdAGcmjzBptPQAZAH2hSL3NtcjMSQCiqi7lz75NrZByWQiirZBbgZB8sVZBXA2JI9pKASy8czUN6yQ0wvet4m2ncatmNOmzNkOnLJ1vUByJAH85pk',\n",
       "  u'apprequests': u'https://graph.facebook.com/831654370182439/apprequests?access_token=CAACEdEose0cBAOVUelLpyjZA2ZApZATIizj7hYxuGnLUmb6cb0xD9vSe5y45DIW1kPpDPmUe7mgsJZAAnD2kZCchiXaA8fx3ji3G49lMhZCdAGcmjzBptPQAZAH2hSL3NtcjMSQCiqi7lz75NrZByWQiirZBbgZB8sVZBXA2JI9pKASy8czUN6yQ0wvet4m2ncatmNOmzNkOnLJ1vUByJAH85pk',\n",
       "  u'books': u'https://graph.facebook.com/831654370182439/books?access_token=CAACEdEose0cBAOVUelLpyjZA2ZApZATIizj7hYxuGnLUmb6cb0xD9vSe5y45DIW1kPpDPmUe7mgsJZAAnD2kZCchiXaA8fx3ji3G49lMhZCdAGcmjzBptPQAZAH2hSL3NtcjMSQCiqi7lz75NrZByWQiirZBbgZB8sVZBXA2JI9pKASy8czUN6yQ0wvet4m2ncatmNOmzNkOnLJ1vUByJAH85pk',\n",
       "  u'brand_teams': u'https://graph.facebook.com/831654370182439/brand_teams?access_token=CAACEdEose0cBAOVUelLpyjZA2ZApZATIizj7hYxuGnLUmb6cb0xD9vSe5y45DIW1kPpDPmUe7mgsJZAAnD2kZCchiXaA8fx3ji3G49lMhZCdAGcmjzBptPQAZAH2hSL3NtcjMSQCiqi7lz75NrZByWQiirZBbgZB8sVZBXA2JI9pKASy8czUN6yQ0wvet4m2ncatmNOmzNkOnLJ1vUByJAH85pk',\n",
       "  u'businesses': u'https://graph.facebook.com/831654370182439/businesses?access_token=CAACEdEose0cBAOVUelLpyjZA2ZApZATIizj7hYxuGnLUmb6cb0xD9vSe5y45DIW1kPpDPmUe7mgsJZAAnD2kZCchiXaA8fx3ji3G49lMhZCdAGcmjzBptPQAZAH2hSL3NtcjMSQCiqi7lz75NrZByWQiirZBbgZB8sVZBXA2JI9pKASy8czUN6yQ0wvet4m2ncatmNOmzNkOnLJ1vUByJAH85pk',\n",
       "  u'businesssettinglogs': u'https://graph.facebook.com/831654370182439/businesssettinglogs?access_token=CAACEdEose0cBAOVUelLpyjZA2ZApZATIizj7hYxuGnLUmb6cb0xD9vSe5y45DIW1kPpDPmUe7mgsJZAAnD2kZCchiXaA8fx3ji3G49lMhZCdAGcmjzBptPQAZAH2hSL3NtcjMSQCiqi7lz75NrZByWQiirZBbgZB8sVZBXA2JI9pKASy8czUN6yQ0wvet4m2ncatmNOmzNkOnLJ1vUByJAH85pk',\n",
       "  u'checkins': u'https://graph.facebook.com/831654370182439/checkins?access_token=CAACEdEose0cBAOVUelLpyjZA2ZApZATIizj7hYxuGnLUmb6cb0xD9vSe5y45DIW1kPpDPmUe7mgsJZAAnD2kZCchiXaA8fx3ji3G49lMhZCdAGcmjzBptPQAZAH2hSL3NtcjMSQCiqi7lz75NrZByWQiirZBbgZB8sVZBXA2JI9pKASy8czUN6yQ0wvet4m2ncatmNOmzNkOnLJ1vUByJAH85pk',\n",
       "  u'commission_splits': u'https://graph.facebook.com/831654370182439/commission_splits?access_token=CAACEdEose0cBAOVUelLpyjZA2ZApZATIizj7hYxuGnLUmb6cb0xD9vSe5y45DIW1kPpDPmUe7mgsJZAAnD2kZCchiXaA8fx3ji3G49lMhZCdAGcmjzBptPQAZAH2hSL3NtcjMSQCiqi7lz75NrZByWQiirZBbgZB8sVZBXA2JI9pKASy8czUN6yQ0wvet4m2ncatmNOmzNkOnLJ1vUByJAH85pk',\n",
       "  u'conversations': u'https://graph.facebook.com/831654370182439/conversations?access_token=CAACEdEose0cBAOVUelLpyjZA2ZApZATIizj7hYxuGnLUmb6cb0xD9vSe5y45DIW1kPpDPmUe7mgsJZAAnD2kZCchiXaA8fx3ji3G49lMhZCdAGcmjzBptPQAZAH2hSL3NtcjMSQCiqi7lz75NrZByWQiirZBbgZB8sVZBXA2JI9pKASy8czUN6yQ0wvet4m2ncatmNOmzNkOnLJ1vUByJAH85pk',\n",
       "  u'domains': u'https://graph.facebook.com/831654370182439/domains?access_token=CAACEdEose0cBAOVUelLpyjZA2ZApZATIizj7hYxuGnLUmb6cb0xD9vSe5y45DIW1kPpDPmUe7mgsJZAAnD2kZCchiXaA8fx3ji3G49lMhZCdAGcmjzBptPQAZAH2hSL3NtcjMSQCiqi7lz75NrZByWQiirZBbgZB8sVZBXA2JI9pKASy8czUN6yQ0wvet4m2ncatmNOmzNkOnLJ1vUByJAH85pk',\n",
       "  u'events': u'https://graph.facebook.com/831654370182439/events?access_token=CAACEdEose0cBAOVUelLpyjZA2ZApZATIizj7hYxuGnLUmb6cb0xD9vSe5y45DIW1kPpDPmUe7mgsJZAAnD2kZCchiXaA8fx3ji3G49lMhZCdAGcmjzBptPQAZAH2hSL3NtcjMSQCiqi7lz75NrZByWQiirZBbgZB8sVZBXA2JI9pKASy8czUN6yQ0wvet4m2ncatmNOmzNkOnLJ1vUByJAH85pk',\n",
       "  u'family': u'https://graph.facebook.com/831654370182439/family?access_token=CAACEdEose0cBAOVUelLpyjZA2ZApZATIizj7hYxuGnLUmb6cb0xD9vSe5y45DIW1kPpDPmUe7mgsJZAAnD2kZCchiXaA8fx3ji3G49lMhZCdAGcmjzBptPQAZAH2hSL3NtcjMSQCiqi7lz75NrZByWQiirZBbgZB8sVZBXA2JI9pKASy8czUN6yQ0wvet4m2ncatmNOmzNkOnLJ1vUByJAH85pk',\n",
       "  u'favorite_requests': u'https://graph.facebook.com/831654370182439/favorite_requests?access_token=CAACEdEose0cBAOVUelLpyjZA2ZApZATIizj7hYxuGnLUmb6cb0xD9vSe5y45DIW1kPpDPmUe7mgsJZAAnD2kZCchiXaA8fx3ji3G49lMhZCdAGcmjzBptPQAZAH2hSL3NtcjMSQCiqi7lz75NrZByWQiirZBbgZB8sVZBXA2JI9pKASy8czUN6yQ0wvet4m2ncatmNOmzNkOnLJ1vUByJAH85pk',\n",
       "  u'feed': u'https://graph.facebook.com/831654370182439/feed?access_token=CAACEdEose0cBAOVUelLpyjZA2ZApZATIizj7hYxuGnLUmb6cb0xD9vSe5y45DIW1kPpDPmUe7mgsJZAAnD2kZCchiXaA8fx3ji3G49lMhZCdAGcmjzBptPQAZAH2hSL3NtcjMSQCiqi7lz75NrZByWQiirZBbgZB8sVZBXA2JI9pKASy8czUN6yQ0wvet4m2ncatmNOmzNkOnLJ1vUByJAH85pk',\n",
       "  u'friendlists': u'https://graph.facebook.com/831654370182439/friendlists?access_token=CAACEdEose0cBAOVUelLpyjZA2ZApZATIizj7hYxuGnLUmb6cb0xD9vSe5y45DIW1kPpDPmUe7mgsJZAAnD2kZCchiXaA8fx3ji3G49lMhZCdAGcmjzBptPQAZAH2hSL3NtcjMSQCiqi7lz75NrZByWQiirZBbgZB8sVZBXA2JI9pKASy8czUN6yQ0wvet4m2ncatmNOmzNkOnLJ1vUByJAH85pk',\n",
       "  u'friendrequests': u'https://graph.facebook.com/831654370182439/friendrequests?access_token=CAACEdEose0cBAOVUelLpyjZA2ZApZATIizj7hYxuGnLUmb6cb0xD9vSe5y45DIW1kPpDPmUe7mgsJZAAnD2kZCchiXaA8fx3ji3G49lMhZCdAGcmjzBptPQAZAH2hSL3NtcjMSQCiqi7lz75NrZByWQiirZBbgZB8sVZBXA2JI9pKASy8czUN6yQ0wvet4m2ncatmNOmzNkOnLJ1vUByJAH85pk',\n",
       "  u'friends': u'https://graph.facebook.com/831654370182439/friends?access_token=CAACEdEose0cBAOVUelLpyjZA2ZApZATIizj7hYxuGnLUmb6cb0xD9vSe5y45DIW1kPpDPmUe7mgsJZAAnD2kZCchiXaA8fx3ji3G49lMhZCdAGcmjzBptPQAZAH2hSL3NtcjMSQCiqi7lz75NrZByWQiirZBbgZB8sVZBXA2JI9pKASy8czUN6yQ0wvet4m2ncatmNOmzNkOnLJ1vUByJAH85pk',\n",
       "  u'games': u'https://graph.facebook.com/831654370182439/games?access_token=CAACEdEose0cBAOVUelLpyjZA2ZApZATIizj7hYxuGnLUmb6cb0xD9vSe5y45DIW1kPpDPmUe7mgsJZAAnD2kZCchiXaA8fx3ji3G49lMhZCdAGcmjzBptPQAZAH2hSL3NtcjMSQCiqi7lz75NrZByWQiirZBbgZB8sVZBXA2JI9pKASy8czUN6yQ0wvet4m2ncatmNOmzNkOnLJ1vUByJAH85pk',\n",
       "  u'groups': u'https://graph.facebook.com/831654370182439/groups?access_token=CAACEdEose0cBAOVUelLpyjZA2ZApZATIizj7hYxuGnLUmb6cb0xD9vSe5y45DIW1kPpDPmUe7mgsJZAAnD2kZCchiXaA8fx3ji3G49lMhZCdAGcmjzBptPQAZAH2hSL3NtcjMSQCiqi7lz75NrZByWQiirZBbgZB8sVZBXA2JI9pKASy8czUN6yQ0wvet4m2ncatmNOmzNkOnLJ1vUByJAH85pk',\n",
       "  u'home': u'https://graph.facebook.com/831654370182439/home?access_token=CAACEdEose0cBAOVUelLpyjZA2ZApZATIizj7hYxuGnLUmb6cb0xD9vSe5y45DIW1kPpDPmUe7mgsJZAAnD2kZCchiXaA8fx3ji3G49lMhZCdAGcmjzBptPQAZAH2hSL3NtcjMSQCiqi7lz75NrZByWQiirZBbgZB8sVZBXA2JI9pKASy8czUN6yQ0wvet4m2ncatmNOmzNkOnLJ1vUByJAH85pk',\n",
       "  u'ids_for_business': u'https://graph.facebook.com/831654370182439/ids_for_business?access_token=CAACEdEose0cBAOVUelLpyjZA2ZApZATIizj7hYxuGnLUmb6cb0xD9vSe5y45DIW1kPpDPmUe7mgsJZAAnD2kZCchiXaA8fx3ji3G49lMhZCdAGcmjzBptPQAZAH2hSL3NtcjMSQCiqi7lz75NrZByWQiirZBbgZB8sVZBXA2JI9pKASy8czUN6yQ0wvet4m2ncatmNOmzNkOnLJ1vUByJAH85pk',\n",
       "  u'inbox': u'https://graph.facebook.com/831654370182439/inbox?access_token=CAACEdEose0cBAOVUelLpyjZA2ZApZATIizj7hYxuGnLUmb6cb0xD9vSe5y45DIW1kPpDPmUe7mgsJZAAnD2kZCchiXaA8fx3ji3G49lMhZCdAGcmjzBptPQAZAH2hSL3NtcjMSQCiqi7lz75NrZByWQiirZBbgZB8sVZBXA2JI9pKASy8czUN6yQ0wvet4m2ncatmNOmzNkOnLJ1vUByJAH85pk',\n",
       "  u'insights': u'https://graph.facebook.com/831654370182439/insights?access_token=CAACEdEose0cBAOVUelLpyjZA2ZApZATIizj7hYxuGnLUmb6cb0xD9vSe5y45DIW1kPpDPmUe7mgsJZAAnD2kZCchiXaA8fx3ji3G49lMhZCdAGcmjzBptPQAZAH2hSL3NtcjMSQCiqi7lz75NrZByWQiirZBbgZB8sVZBXA2JI9pKASy8czUN6yQ0wvet4m2ncatmNOmzNkOnLJ1vUByJAH85pk',\n",
       "  u'integrated_plugin_feed': u'https://graph.facebook.com/831654370182439/integrated_plugin_feed?access_token=CAACEdEose0cBAOVUelLpyjZA2ZApZATIizj7hYxuGnLUmb6cb0xD9vSe5y45DIW1kPpDPmUe7mgsJZAAnD2kZCchiXaA8fx3ji3G49lMhZCdAGcmjzBptPQAZAH2hSL3NtcjMSQCiqi7lz75NrZByWQiirZBbgZB8sVZBXA2JI9pKASy8czUN6yQ0wvet4m2ncatmNOmzNkOnLJ1vUByJAH85pk',\n",
       "  u'invitable_friends': u'https://graph.facebook.com/831654370182439/invitable_friends?access_token=CAACEdEose0cBAOVUelLpyjZA2ZApZATIizj7hYxuGnLUmb6cb0xD9vSe5y45DIW1kPpDPmUe7mgsJZAAnD2kZCchiXaA8fx3ji3G49lMhZCdAGcmjzBptPQAZAH2hSL3NtcjMSQCiqi7lz75NrZByWQiirZBbgZB8sVZBXA2JI9pKASy8czUN6yQ0wvet4m2ncatmNOmzNkOnLJ1vUByJAH85pk',\n",
       "  u'likes': u'https://graph.facebook.com/831654370182439/likes?access_token=CAACEdEose0cBAOVUelLpyjZA2ZApZATIizj7hYxuGnLUmb6cb0xD9vSe5y45DIW1kPpDPmUe7mgsJZAAnD2kZCchiXaA8fx3ji3G49lMhZCdAGcmjzBptPQAZAH2hSL3NtcjMSQCiqi7lz75NrZByWQiirZBbgZB8sVZBXA2JI9pKASy8czUN6yQ0wvet4m2ncatmNOmzNkOnLJ1vUByJAH85pk',\n",
       "  u'locations': u'https://graph.facebook.com/831654370182439/locations?access_token=CAACEdEose0cBAOVUelLpyjZA2ZApZATIizj7hYxuGnLUmb6cb0xD9vSe5y45DIW1kPpDPmUe7mgsJZAAnD2kZCchiXaA8fx3ji3G49lMhZCdAGcmjzBptPQAZAH2hSL3NtcjMSQCiqi7lz75NrZByWQiirZBbgZB8sVZBXA2JI9pKASy8czUN6yQ0wvet4m2ncatmNOmzNkOnLJ1vUByJAH85pk',\n",
       "  u'movies': u'https://graph.facebook.com/831654370182439/movies?access_token=CAACEdEose0cBAOVUelLpyjZA2ZApZATIizj7hYxuGnLUmb6cb0xD9vSe5y45DIW1kPpDPmUe7mgsJZAAnD2kZCchiXaA8fx3ji3G49lMhZCdAGcmjzBptPQAZAH2hSL3NtcjMSQCiqi7lz75NrZByWQiirZBbgZB8sVZBXA2JI9pKASy8czUN6yQ0wvet4m2ncatmNOmzNkOnLJ1vUByJAH85pk',\n",
       "  u'music': u'https://graph.facebook.com/831654370182439/music?access_token=CAACEdEose0cBAOVUelLpyjZA2ZApZATIizj7hYxuGnLUmb6cb0xD9vSe5y45DIW1kPpDPmUe7mgsJZAAnD2kZCchiXaA8fx3ji3G49lMhZCdAGcmjzBptPQAZAH2hSL3NtcjMSQCiqi7lz75NrZByWQiirZBbgZB8sVZBXA2JI9pKASy8czUN6yQ0wvet4m2ncatmNOmzNkOnLJ1vUByJAH85pk',\n",
       "  u'notifications': u'https://graph.facebook.com/831654370182439/notifications?access_token=CAACEdEose0cBAOVUelLpyjZA2ZApZATIizj7hYxuGnLUmb6cb0xD9vSe5y45DIW1kPpDPmUe7mgsJZAAnD2kZCchiXaA8fx3ji3G49lMhZCdAGcmjzBptPQAZAH2hSL3NtcjMSQCiqi7lz75NrZByWQiirZBbgZB8sVZBXA2JI9pKASy8czUN6yQ0wvet4m2ncatmNOmzNkOnLJ1vUByJAH85pk',\n",
       "  u'notify_me': u'https://graph.facebook.com/831654370182439/notify_me?access_token=CAACEdEose0cBAOVUelLpyjZA2ZApZATIizj7hYxuGnLUmb6cb0xD9vSe5y45DIW1kPpDPmUe7mgsJZAAnD2kZCchiXaA8fx3ji3G49lMhZCdAGcmjzBptPQAZAH2hSL3NtcjMSQCiqi7lz75NrZByWQiirZBbgZB8sVZBXA2JI9pKASy8czUN6yQ0wvet4m2ncatmNOmzNkOnLJ1vUByJAH85pk',\n",
       "  u'objects': u'https://graph.facebook.com/831654370182439/objects?access_token=CAACEdEose0cBAOVUelLpyjZA2ZApZATIizj7hYxuGnLUmb6cb0xD9vSe5y45DIW1kPpDPmUe7mgsJZAAnD2kZCchiXaA8fx3ji3G49lMhZCdAGcmjzBptPQAZAH2hSL3NtcjMSQCiqi7lz75NrZByWQiirZBbgZB8sVZBXA2JI9pKASy8czUN6yQ0wvet4m2ncatmNOmzNkOnLJ1vUByJAH85pk',\n",
       "  u'outbox': u'https://graph.facebook.com/831654370182439/outbox?access_token=CAACEdEose0cBAOVUelLpyjZA2ZApZATIizj7hYxuGnLUmb6cb0xD9vSe5y45DIW1kPpDPmUe7mgsJZAAnD2kZCchiXaA8fx3ji3G49lMhZCdAGcmjzBptPQAZAH2hSL3NtcjMSQCiqi7lz75NrZByWQiirZBbgZB8sVZBXA2JI9pKASy8czUN6yQ0wvet4m2ncatmNOmzNkOnLJ1vUByJAH85pk',\n",
       "  u'ownerapps': u'https://graph.facebook.com/831654370182439/ownerapps?access_token=CAACEdEose0cBAOVUelLpyjZA2ZApZATIizj7hYxuGnLUmb6cb0xD9vSe5y45DIW1kPpDPmUe7mgsJZAAnD2kZCchiXaA8fx3ji3G49lMhZCdAGcmjzBptPQAZAH2hSL3NtcjMSQCiqi7lz75NrZByWQiirZBbgZB8sVZBXA2JI9pKASy8czUN6yQ0wvet4m2ncatmNOmzNkOnLJ1vUByJAH85pk',\n",
       "  u'payment.subscriptions': u'https://graph.facebook.com/831654370182439/payment.subscriptions?access_token=CAACEdEose0cBAOVUelLpyjZA2ZApZATIizj7hYxuGnLUmb6cb0xD9vSe5y45DIW1kPpDPmUe7mgsJZAAnD2kZCchiXaA8fx3ji3G49lMhZCdAGcmjzBptPQAZAH2hSL3NtcjMSQCiqi7lz75NrZByWQiirZBbgZB8sVZBXA2JI9pKASy8czUN6yQ0wvet4m2ncatmNOmzNkOnLJ1vUByJAH85pk',\n",
       "  u'payment_transactions': u'https://graph.facebook.com/831654370182439/payment_transactions?access_token=CAACEdEose0cBAOVUelLpyjZA2ZApZATIizj7hYxuGnLUmb6cb0xD9vSe5y45DIW1kPpDPmUe7mgsJZAAnD2kZCchiXaA8fx3ji3G49lMhZCdAGcmjzBptPQAZAH2hSL3NtcjMSQCiqi7lz75NrZByWQiirZBbgZB8sVZBXA2JI9pKASy8czUN6yQ0wvet4m2ncatmNOmzNkOnLJ1vUByJAH85pk',\n",
       "  u'payments': u'https://graph.facebook.com/831654370182439/payments?access_token=CAACEdEose0cBAOVUelLpyjZA2ZApZATIizj7hYxuGnLUmb6cb0xD9vSe5y45DIW1kPpDPmUe7mgsJZAAnD2kZCchiXaA8fx3ji3G49lMhZCdAGcmjzBptPQAZAH2hSL3NtcjMSQCiqi7lz75NrZByWQiirZBbgZB8sVZBXA2JI9pKASy8czUN6yQ0wvet4m2ncatmNOmzNkOnLJ1vUByJAH85pk',\n",
       "  u'permissions': u'https://graph.facebook.com/831654370182439/permissions?access_token=CAACEdEose0cBAOVUelLpyjZA2ZApZATIizj7hYxuGnLUmb6cb0xD9vSe5y45DIW1kPpDPmUe7mgsJZAAnD2kZCchiXaA8fx3ji3G49lMhZCdAGcmjzBptPQAZAH2hSL3NtcjMSQCiqi7lz75NrZByWQiirZBbgZB8sVZBXA2JI9pKASy8czUN6yQ0wvet4m2ncatmNOmzNkOnLJ1vUByJAH85pk',\n",
       "  u'photos': u'https://graph.facebook.com/831654370182439/photos?access_token=CAACEdEose0cBAOVUelLpyjZA2ZApZATIizj7hYxuGnLUmb6cb0xD9vSe5y45DIW1kPpDPmUe7mgsJZAAnD2kZCchiXaA8fx3ji3G49lMhZCdAGcmjzBptPQAZAH2hSL3NtcjMSQCiqi7lz75NrZByWQiirZBbgZB8sVZBXA2JI9pKASy8czUN6yQ0wvet4m2ncatmNOmzNkOnLJ1vUByJAH85pk',\n",
       "  u'picture': u'https://graph.facebook.com/831654370182439/picture?access_token=CAACEdEose0cBAOVUelLpyjZA2ZApZATIizj7hYxuGnLUmb6cb0xD9vSe5y45DIW1kPpDPmUe7mgsJZAAnD2kZCchiXaA8fx3ji3G49lMhZCdAGcmjzBptPQAZAH2hSL3NtcjMSQCiqi7lz75NrZByWQiirZBbgZB8sVZBXA2JI9pKASy8czUN6yQ0wvet4m2ncatmNOmzNkOnLJ1vUByJAH85pk',\n",
       "  u'platformrequests': u'https://graph.facebook.com/831654370182439/platformrequests?access_token=CAACEdEose0cBAOVUelLpyjZA2ZApZATIizj7hYxuGnLUmb6cb0xD9vSe5y45DIW1kPpDPmUe7mgsJZAAnD2kZCchiXaA8fx3ji3G49lMhZCdAGcmjzBptPQAZAH2hSL3NtcjMSQCiqi7lz75NrZByWQiirZBbgZB8sVZBXA2JI9pKASy8czUN6yQ0wvet4m2ncatmNOmzNkOnLJ1vUByJAH85pk',\n",
       "  u'pokes': u'https://graph.facebook.com/831654370182439/pokes?access_token=CAACEdEose0cBAOVUelLpyjZA2ZApZATIizj7hYxuGnLUmb6cb0xD9vSe5y45DIW1kPpDPmUe7mgsJZAAnD2kZCchiXaA8fx3ji3G49lMhZCdAGcmjzBptPQAZAH2hSL3NtcjMSQCiqi7lz75NrZByWQiirZBbgZB8sVZBXA2JI9pKASy8czUN6yQ0wvet4m2ncatmNOmzNkOnLJ1vUByJAH85pk',\n",
       "  u'posts': u'https://graph.facebook.com/831654370182439/posts?access_token=CAACEdEose0cBAOVUelLpyjZA2ZApZATIizj7hYxuGnLUmb6cb0xD9vSe5y45DIW1kPpDPmUe7mgsJZAAnD2kZCchiXaA8fx3ji3G49lMhZCdAGcmjzBptPQAZAH2hSL3NtcjMSQCiqi7lz75NrZByWQiirZBbgZB8sVZBXA2JI9pKASy8czUN6yQ0wvet4m2ncatmNOmzNkOnLJ1vUByJAH85pk',\n",
       "  u'privacy_options': u'https://graph.facebook.com/831654370182439/privacy_options?access_token=CAACEdEose0cBAOVUelLpyjZA2ZApZATIizj7hYxuGnLUmb6cb0xD9vSe5y45DIW1kPpDPmUe7mgsJZAAnD2kZCchiXaA8fx3ji3G49lMhZCdAGcmjzBptPQAZAH2hSL3NtcjMSQCiqi7lz75NrZByWQiirZBbgZB8sVZBXA2JI9pKASy8czUN6yQ0wvet4m2ncatmNOmzNkOnLJ1vUByJAH85pk',\n",
       "  u'promotable_domains': u'https://graph.facebook.com/831654370182439/promotable_domains?access_token=CAACEdEose0cBAOVUelLpyjZA2ZApZATIizj7hYxuGnLUmb6cb0xD9vSe5y45DIW1kPpDPmUe7mgsJZAAnD2kZCchiXaA8fx3ji3G49lMhZCdAGcmjzBptPQAZAH2hSL3NtcjMSQCiqi7lz75NrZByWQiirZBbgZB8sVZBXA2JI9pKASy8czUN6yQ0wvet4m2ncatmNOmzNkOnLJ1vUByJAH85pk',\n",
       "  u'promotable_events': u'https://graph.facebook.com/831654370182439/promotable_events?access_token=CAACEdEose0cBAOVUelLpyjZA2ZApZATIizj7hYxuGnLUmb6cb0xD9vSe5y45DIW1kPpDPmUe7mgsJZAAnD2kZCchiXaA8fx3ji3G49lMhZCdAGcmjzBptPQAZAH2hSL3NtcjMSQCiqi7lz75NrZByWQiirZBbgZB8sVZBXA2JI9pKASy8czUN6yQ0wvet4m2ncatmNOmzNkOnLJ1vUByJAH85pk',\n",
       "  u'ratings': u'https://graph.facebook.com/831654370182439/ratings?access_token=CAACEdEose0cBAOVUelLpyjZA2ZApZATIizj7hYxuGnLUmb6cb0xD9vSe5y45DIW1kPpDPmUe7mgsJZAAnD2kZCchiXaA8fx3ji3G49lMhZCdAGcmjzBptPQAZAH2hSL3NtcjMSQCiqi7lz75NrZByWQiirZBbgZB8sVZBXA2JI9pKASy8czUN6yQ0wvet4m2ncatmNOmzNkOnLJ1vUByJAH85pk',\n",
       "  u'request_history': u'https://graph.facebook.com/831654370182439/request_history?access_token=CAACEdEose0cBAOVUelLpyjZA2ZApZATIizj7hYxuGnLUmb6cb0xD9vSe5y45DIW1kPpDPmUe7mgsJZAAnD2kZCchiXaA8fx3ji3G49lMhZCdAGcmjzBptPQAZAH2hSL3NtcjMSQCiqi7lz75NrZByWQiirZBbgZB8sVZBXA2JI9pKASy8czUN6yQ0wvet4m2ncatmNOmzNkOnLJ1vUByJAH85pk',\n",
       "  u'scores': u'https://graph.facebook.com/831654370182439/scores?access_token=CAACEdEose0cBAOVUelLpyjZA2ZApZATIizj7hYxuGnLUmb6cb0xD9vSe5y45DIW1kPpDPmUe7mgsJZAAnD2kZCchiXaA8fx3ji3G49lMhZCdAGcmjzBptPQAZAH2hSL3NtcjMSQCiqi7lz75NrZByWQiirZBbgZB8sVZBXA2JI9pKASy8czUN6yQ0wvet4m2ncatmNOmzNkOnLJ1vUByJAH85pk',\n",
       "  u'screennames': u'https://graph.facebook.com/831654370182439/screennames?access_token=CAACEdEose0cBAOVUelLpyjZA2ZApZATIizj7hYxuGnLUmb6cb0xD9vSe5y45DIW1kPpDPmUe7mgsJZAAnD2kZCchiXaA8fx3ji3G49lMhZCdAGcmjzBptPQAZAH2hSL3NtcjMSQCiqi7lz75NrZByWQiirZBbgZB8sVZBXA2JI9pKASy8czUN6yQ0wvet4m2ncatmNOmzNkOnLJ1vUByJAH85pk',\n",
       "  u'stream_filters': u'https://graph.facebook.com/831654370182439/stream_filters?access_token=CAACEdEose0cBAOVUelLpyjZA2ZApZATIizj7hYxuGnLUmb6cb0xD9vSe5y45DIW1kPpDPmUe7mgsJZAAnD2kZCchiXaA8fx3ji3G49lMhZCdAGcmjzBptPQAZAH2hSL3NtcjMSQCiqi7lz75NrZByWQiirZBbgZB8sVZBXA2JI9pKASy8czUN6yQ0wvet4m2ncatmNOmzNkOnLJ1vUByJAH85pk',\n",
       "  u'taggable_friends': u'https://graph.facebook.com/831654370182439/taggable_friends?access_token=CAACEdEose0cBAOVUelLpyjZA2ZApZATIizj7hYxuGnLUmb6cb0xD9vSe5y45DIW1kPpDPmUe7mgsJZAAnD2kZCchiXaA8fx3ji3G49lMhZCdAGcmjzBptPQAZAH2hSL3NtcjMSQCiqi7lz75NrZByWQiirZBbgZB8sVZBXA2JI9pKASy8czUN6yQ0wvet4m2ncatmNOmzNkOnLJ1vUByJAH85pk',\n",
       "  u'tagged': u'https://graph.facebook.com/831654370182439/tagged?access_token=CAACEdEose0cBAOVUelLpyjZA2ZApZATIizj7hYxuGnLUmb6cb0xD9vSe5y45DIW1kPpDPmUe7mgsJZAAnD2kZCchiXaA8fx3ji3G49lMhZCdAGcmjzBptPQAZAH2hSL3NtcjMSQCiqi7lz75NrZByWQiirZBbgZB8sVZBXA2JI9pKASy8czUN6yQ0wvet4m2ncatmNOmzNkOnLJ1vUByJAH85pk',\n",
       "  u'tagged_places': u'https://graph.facebook.com/831654370182439/tagged_places?access_token=CAACEdEose0cBAOVUelLpyjZA2ZApZATIizj7hYxuGnLUmb6cb0xD9vSe5y45DIW1kPpDPmUe7mgsJZAAnD2kZCchiXaA8fx3ji3G49lMhZCdAGcmjzBptPQAZAH2hSL3NtcjMSQCiqi7lz75NrZByWQiirZBbgZB8sVZBXA2JI9pKASy8czUN6yQ0wvet4m2ncatmNOmzNkOnLJ1vUByJAH85pk',\n",
       "  u'television': u'https://graph.facebook.com/831654370182439/television?access_token=CAACEdEose0cBAOVUelLpyjZA2ZApZATIizj7hYxuGnLUmb6cb0xD9vSe5y45DIW1kPpDPmUe7mgsJZAAnD2kZCchiXaA8fx3ji3G49lMhZCdAGcmjzBptPQAZAH2hSL3NtcjMSQCiqi7lz75NrZByWQiirZBbgZB8sVZBXA2JI9pKASy8czUN6yQ0wvet4m2ncatmNOmzNkOnLJ1vUByJAH85pk',\n",
       "  u'threads': u'https://graph.facebook.com/831654370182439/threads?access_token=CAACEdEose0cBAOVUelLpyjZA2ZApZATIizj7hYxuGnLUmb6cb0xD9vSe5y45DIW1kPpDPmUe7mgsJZAAnD2kZCchiXaA8fx3ji3G49lMhZCdAGcmjzBptPQAZAH2hSL3NtcjMSQCiqi7lz75NrZByWQiirZBbgZB8sVZBXA2JI9pKASy8czUN6yQ0wvet4m2ncatmNOmzNkOnLJ1vUByJAH85pk',\n",
       "  u'updates': u'https://graph.facebook.com/831654370182439/updates?access_token=CAACEdEose0cBAOVUelLpyjZA2ZApZATIizj7hYxuGnLUmb6cb0xD9vSe5y45DIW1kPpDPmUe7mgsJZAAnD2kZCchiXaA8fx3ji3G49lMhZCdAGcmjzBptPQAZAH2hSL3NtcjMSQCiqi7lz75NrZByWQiirZBbgZB8sVZBXA2JI9pKASy8czUN6yQ0wvet4m2ncatmNOmzNkOnLJ1vUByJAH85pk',\n",
       "  u'video_broadcasts': u'https://graph.facebook.com/831654370182439/video_broadcasts?access_token=CAACEdEose0cBAOVUelLpyjZA2ZApZATIizj7hYxuGnLUmb6cb0xD9vSe5y45DIW1kPpDPmUe7mgsJZAAnD2kZCchiXaA8fx3ji3G49lMhZCdAGcmjzBptPQAZAH2hSL3NtcjMSQCiqi7lz75NrZByWQiirZBbgZB8sVZBXA2JI9pKASy8czUN6yQ0wvet4m2ncatmNOmzNkOnLJ1vUByJAH85pk',\n",
       "  u'videos': u'https://graph.facebook.com/831654370182439/videos?access_token=CAACEdEose0cBAOVUelLpyjZA2ZApZATIizj7hYxuGnLUmb6cb0xD9vSe5y45DIW1kPpDPmUe7mgsJZAAnD2kZCchiXaA8fx3ji3G49lMhZCdAGcmjzBptPQAZAH2hSL3NtcjMSQCiqi7lz75NrZByWQiirZBbgZB8sVZBXA2JI9pKASy8czUN6yQ0wvet4m2ncatmNOmzNkOnLJ1vUByJAH85pk'},\n",
       " u'fields': [{u'description': u\"The id of this person's user account. This ID is unique to each app and cannot be used across different apps. [Our upgrade guide provides more information about app-specific IDs](/docs/apps/upgrading/#upgrading_v2_0_user_ids)\",\n",
       "   u'name': u'id',\n",
       "   u'type': u'numeric string'},\n",
       "  {u'description': u\"The About Me section of this person's profile\",\n",
       "   u'name': u'about',\n",
       "   u'type': u'string'},\n",
       "  {u'description': u'The age segment for this person expressed as a minimum and maximum age. For example, more than 18, less than 21.',\n",
       "   u'name': u'age_range',\n",
       "   u'type': u'agerange'},\n",
       "  {u'description': u\"The person's bio\", u'name': u'bio', u'type': u'string'},\n",
       "  {u'description': u\"The person's birthday.  This is a fixed format string, like `MM/DD/YYYY`.  However, people can control who can see the year they were born separately from the month and day so this string can be only the year (YYYY) or the month + day (MM/DD)\",\n",
       "   u'name': u'birthday',\n",
       "   u'type': u'string'},\n",
       "  {u'description': u'Social context for this person',\n",
       "   u'name': u'context',\n",
       "   u'type': u'usercontext'},\n",
       "  {u'description': u\"The person's local currency information\",\n",
       "   u'name': u'currency',\n",
       "   u'type': u'currency'},\n",
       "  {u'description': u'The list of devices the person is using. This will return only iOS and Android devices',\n",
       "   u'name': u'devices',\n",
       "   u'type': u'list<userdevice>'},\n",
       "  {u'description': u\"The person's education\",\n",
       "   u'name': u'education',\n",
       "   u'type': u'list<educationexperience>'},\n",
       "  {u'description': u\"The person's primary email address listed on their profile. This field will not be returned if no valid email address is available\",\n",
       "   u'name': u'email',\n",
       "   u'type': u'string'},\n",
       "  {u'description': u'Athletes the person likes',\n",
       "   u'name': u'favorite_athletes',\n",
       "   u'type': u'list<experience>'},\n",
       "  {u'description': u'Sports teams the person likes',\n",
       "   u'name': u'favorite_teams',\n",
       "   u'type': u'list<experience>'},\n",
       "  {u'description': u\"The person's first name\",\n",
       "   u'name': u'first_name',\n",
       "   u'type': u'string'},\n",
       "  {u'description': u'The gender selected by this person, `male` or `female`. This value will be omitted if the gender is set to a custom value',\n",
       "   u'name': u'gender',\n",
       "   u'type': u'string'},\n",
       "  {u'description': u\"The person's hometown\",\n",
       "   u'name': u'hometown',\n",
       "   u'type': u'page'},\n",
       "  {u'description': u\"The person's inspirational people\",\n",
       "   u'name': u'inspirational_people',\n",
       "   u'type': u'list<experience>'},\n",
       "  {u'description': u'Install type',\n",
       "   u'name': u'install_type',\n",
       "   u'type': u'enum'},\n",
       "  {u'description': u'Is the app making the request installed?',\n",
       "   u'name': u'installed',\n",
       "   u'type': u'bool'},\n",
       "  {u'description': u'Genders the person is interested in',\n",
       "   u'name': u'interested_in',\n",
       "   u'type': u'list<string>'},\n",
       "  {u'description': u'Is this a shared login (e.g. a gray user)',\n",
       "   u'name': u'is_shared_login',\n",
       "   u'type': u'bool'},\n",
       "  {u'description': u\"People with large numbers of followers can have the authenticity of their identity [manually verified by Facebook](https://www.facebook.com/help/196050490547892). This field indicates whether the person's profile is verified in this way. This is distinct from the `verified` field\",\n",
       "   u'name': u'is_verified',\n",
       "   u'type': u'bool'},\n",
       "  {u'description': u'Facebook Pages representing the languages this person knows',\n",
       "   u'name': u'languages',\n",
       "   u'type': u'list<experience>'},\n",
       "  {u'description': u\"The person's last name\",\n",
       "   u'name': u'last_name',\n",
       "   u'type': u'string'},\n",
       "  {u'description': u\"A link to the person's Timeline\",\n",
       "   u'name': u'link',\n",
       "   u'type': u'string'},\n",
       "  {u'description': u\"The person's current location as entered by them on their profile. This field is not related to check-ins\",\n",
       "   u'name': u'location',\n",
       "   u'type': u'page'},\n",
       "  {u'description': u\"The person's locale\",\n",
       "   u'name': u'locale',\n",
       "   u'type': u'string'},\n",
       "  {u'description': u'What the person is interested in meeting for',\n",
       "   u'name': u'meeting_for',\n",
       "   u'type': u'list<string>'},\n",
       "  {u'description': u\"The person's middle name\",\n",
       "   u'name': u'middle_name',\n",
       "   u'type': u'string'},\n",
       "  {u'description': u\"The person's full name\",\n",
       "   u'name': u'name',\n",
       "   u'type': u'string'},\n",
       "  {u'description': u\"The person's name formatted to correctly handle Chinese, Japanese, or Korean ordering\",\n",
       "   u'name': u'name_format',\n",
       "   u'type': u'string'},\n",
       "  {u'description': u\"The person's payment pricepoints\",\n",
       "   u'name': u'payment_pricepoints',\n",
       "   u'type': u'paymentpricepoints'},\n",
       "  {u'description': u'Platform test group',\n",
       "   u'name': u'test_group',\n",
       "   u'type': u'unsigned int32'},\n",
       "  {u'description': u\"The person's political views\",\n",
       "   u'name': u'political',\n",
       "   u'type': u'string'},\n",
       "  {u'description': u\"The person's relationship status\",\n",
       "   u'name': u'relationship_status',\n",
       "   u'type': u'string'},\n",
       "  {u'description': u\"The person's religion\",\n",
       "   u'name': u'religion',\n",
       "   u'type': u'string'},\n",
       "  {u'description': u'Security settings',\n",
       "   u'name': u'security_settings',\n",
       "   u'type': u'securitysettings'},\n",
       "  {u'description': u\"The person's significant other\",\n",
       "   u'name': u'significant_other',\n",
       "   u'type': u'user'},\n",
       "  {u'description': u'Sports this person likes',\n",
       "   u'name': u'sports',\n",
       "   u'type': u'list<experience>'},\n",
       "  {u'description': u\"The person's favorite quotes\",\n",
       "   u'name': u'quotes',\n",
       "   u'type': u'string'},\n",
       "  {u'description': u'A string containing an anonymous, but unique identifier for the person. You can use this identifier with third parties',\n",
       "   u'name': u'third_party_id',\n",
       "   u'type': u'string'},\n",
       "  {u'description': u\"The person's current timezone offset from UTC\",\n",
       "   u'name': u'timezone',\n",
       "   u'type': u'float (min: -24) (max: 24)'},\n",
       "  {u'description': u\"A token that is the same across a business's apps. Access to this token requires that the person be logged into your app. This token will change if the business owning the app changes\",\n",
       "   u'name': u'token_for_business',\n",
       "   u'type': u'string'},\n",
       "  {u'description': u'Updated time',\n",
       "   u'name': u'updated_time',\n",
       "   u'type': u'datetime'},\n",
       "  {u'description': u'The time that the shared loginneeds to be upgraded to Business Manager by',\n",
       "   u'name': u'shared_login_upgrade_required_by',\n",
       "   u'type': u'datetime'},\n",
       "  {u'description': u'Indicates whether the account has been verified. This is distinct from the `is_verified` field. Someone is considered verified if they take any of the following actions:\\n\\n* Register for mobile\\n* Confirm their account via SMS\\n* Enter a valid credit card\\n',\n",
       "   u'name': u'verified',\n",
       "   u'type': u'bool'},\n",
       "  {u'description': u'Video upload limits',\n",
       "   u'name': u'video_upload_limits',\n",
       "   u'type': u'videouploadlimits'},\n",
       "  {u'description': u'Can the viewer send a gift to this person?',\n",
       "   u'name': u'viewer_can_send_gift',\n",
       "   u'type': u'bool'},\n",
       "  {u'description': u\"The person's website\",\n",
       "   u'name': u'website',\n",
       "   u'type': u'string'},\n",
       "  {u'description': u'Details of a person`s work experience',\n",
       "   u'name': u'work',\n",
       "   u'type': u'list<workexperience>'},\n",
       "  {u'description': u'The per user settings for Ads Interfaces',\n",
       "   u'name': u'ads_user_settings',\n",
       "   u'type': u'adsusersettings'},\n",
       "  {u'description': u\"The person's PGP public key\",\n",
       "   u'name': u'public_key',\n",
       "   u'type': u'string'},\n",
       "  {u'description': u\"The person's cover photo\",\n",
       "   u'name': u'cover',\n",
       "   u'type': u'coverphoto'}],\n",
       " u'type': u'user'}"
      ]
     },
     "execution_count": 29,
     "metadata": {},
     "output_type": "execute_result"
    }
   ],
   "source": [
    "meta['metadata']"
   ]
  },
  {
   "cell_type": "code",
   "execution_count": 30,
   "metadata": {
    "collapsed": false
   },
   "outputs": [],
   "source": [
    "def getAllLikes1(token, node):\n",
    "    result = []\n",
    "    api_addr = \"https://graph.facebook.com/v2.4/%s/likes\" % node\n",
    "    qs = {\"fields\": \"name\", \n",
    "          \"access_token\": token}\n",
    "    r = requests.get(api_addr, params=qs)\n",
    "    res = r.json()\n",
    "    if not len(res[\"data\"]):\n",
    "        return result\n",
    "    else:\n",
    "        result += res[\"data\"]\n",
    "        while \"next\" in res[\"paging\"]:\n",
    "            cursor_next = res[\"paging\"][\"cursors\"][\"after\"]\n",
    "            qs[\"after\"] = cursor_next\n",
    "            r = requests.get(api_addr, params=qs)\n",
    "            res = r.json()\n",
    "            result += res[\"data\"]\n",
    "        return result\n"
   ]
  },
  {
   "cell_type": "code",
   "execution_count": 31,
   "metadata": {
    "collapsed": false
   },
   "outputs": [
    {
     "name": "stderr",
     "output_type": "stream",
     "text": [
      "c:\\python27\\lib\\site-packages\\requests\\packages\\urllib3\\util\\ssl_.py:90: InsecurePlatformWarning: A true SSLContext object is not available. This prevents urllib3 from configuring SSL appropriately and may cause certain SSL connections to fail. For more information, see https://urllib3.readthedocs.org/en/latest/security.html#insecureplatformwarning.\n",
      "  InsecurePlatformWarning\n"
     ]
    },
    {
     "data": {
      "text/plain": [
       "[{u'id': u'875172679172116', u'name': u'\\u6c5f\\u884d\\u90c1'},\n",
       " {u'id': u'10200890096534641', u'name': u'Steven Lee'},\n",
       " {u'id': u'1633157530', u'name': u'\\u4faf\\u4f73\\u5f63'},\n",
       " {u'id': u'10202474101000844', u'name': u'\\u5433\\u601d\\u7d43'}]"
      ]
     },
     "execution_count": 31,
     "metadata": {},
     "output_type": "execute_result"
    }
   ],
   "source": [
    "token = \"CAACEdEose0cBAFl4TrIC5grVQRqAN1U7ZCrZCrliX9pv6ZCrrc7iHIZCBcsZBhJQ9PZAETlZA4ufZBQkazYpIf6QS3GYhigcyThViUZCUtme2b1p5QFX8Is78eg6OcZAFlZCvaK0ZAcELJKiZBBwbgqZCM48KshAJxxLanteEiBfm3nXmlxLCAPVjtPs4QMRJXZAnkVxFrfw0xbCbYHchk5p2OjSEOk\"\n",
    "node = \"831654370182439_1149178338430039\"\n",
    "getAllLikes1(token,node)"
   ]
  },
  {
   "cell_type": "code",
   "execution_count": 19,
   "metadata": {
    "collapsed": true
   },
   "outputs": [],
   "source": [
    "class likerCrawler:\n",
    "    # need a user id and a starting time\n",
    "    def __init__(self, user, since, token): \n",
    "        self.user = str(user)\n",
    "        self.since = str(since)\n",
    "        self.token = str(token)\n",
    "        \n",
    "    # need a helper to convert datetime string to timestamp\n",
    "    def str2Timestamp(): pass\n",
    "    \n",
    "    # need a function to crawl all post id in a given time\n",
    "    def getPostId(): pass\n",
    "    \n",
    "    # need a function to crawl all like info given a post id\n",
    "    def getLikes(): pass"
   ]
  },
  {
   "cell_type": "code",
   "execution_count": 20,
   "metadata": {
    "collapsed": true
   },
   "outputs": [],
   "source": [
    "import requests\n",
    "import datetime, time\n",
    "\n",
    "class likerCrawler:\n",
    "    \"\"\"a FB Graph API crawler to get all like info associated with posts since a given time\"\"\"\n",
    "    def __init__(self, user, since, token, tfmt=\"%Y-%m-%d\"): \n",
    "        self.user = str(user)\n",
    "        self.since = str(since)\n",
    "        self.token = str(token)\n",
    "        self.tfmt = str(tfmt)\n",
    "        \n",
    "    def getTimestamp(self):\n",
    "        \"\"\"convert datetime string to UNIX timestamp\"\"\"\n",
    "        return int(time.mktime(datetime.datetime.strptime(self.since, self.tfmt).timetuple()))\n",
    "        \n",
    "    def getPostIdwithTimestamp(self): \n",
    "        \"\"\"given user_id and start time, return a list of {post_id, time}\"\"\"\n",
    "        posts = []\n",
    "        api_addr = \"https://graph.facebook.com/v2.4/%s/posts\" % self.user\n",
    "        qs = {\"since\": self.getTimestamp(), \"access_token\": self.token}\n",
    "        res = requests.get(api_addr, params=qs).json()\n",
    "        if not len(res[\"data\"]):\n",
    "            return None\n",
    "        else: \n",
    "            posts += [ {\"id\": d[\"id\"], \"ts\": d[\"created_time\"]} for d in res[\"data\"] ]\n",
    "            while \"paging\" in res and next in res[\"paging\"]:\n",
    "                res = requests.get(res[\"paging\"][\"next\"]).json()\n",
    "                post_ids += [ {\"id\": d[\"id\"], \"ts\": d[\"created_time\"]} for d in res[\"data\"] ]\n",
    "            return posts\n",
    "\n",
    "    def getLikesPerPost(self, post_id):\n",
    "        \"\"\"given a post id, return all user id/name liked it with timestamp\"\"\"\n",
    "        like_users = []\n",
    "        api_addr = \"https://graph.facebook.com/v2.4/%s\" % post_id\n",
    "        qs = {\"fields\": \"likes.fields(name),created_time\", \"access_token\": self.token}\n",
    "        res = requests.get(api_addr, params=qs).json()\n",
    "        if \"likes\" not in res:\n",
    "            return None\n",
    "        else:\n",
    "            ts = res[\"created_time\"]\n",
    "            like_users += res[\"likes\"][\"data\"]\n",
    "            while \"paging\" in res and \"next\" in res[\"paging\"]:\n",
    "                res = requests.get(next).json()\n",
    "                like_users += res[\"data\"]\n",
    "            return ts, like_users\n",
    "        \n",
    "    def getAllLikes(self):\n",
    "        all_likes = [ self.getLikesPerPost(d) for d in self.all_posts ]\n",
    "        return [ l for l in all_likes if l is not None]\n",
    "    \n",
    "    @property\n",
    "    def all_posts(self):\n",
    "        return [ m[\"id\"] for m in self.getPostIdwithTimestamp() ]"
   ]
  },
  {
   "cell_type": "code",
   "execution_count": 21,
   "metadata": {
    "collapsed": true
   },
   "outputs": [],
   "source": [
    "mycrawler = likerCrawler(user = \"me\",\n",
    "                        since = \"2014-01-01\",\n",
    "                        token = \"CAACEdEose0cBAFl4TrIC5grVQRqAN1U7ZCrZCrliX9pv6ZCrrc7iHIZCBcsZBhJQ9PZAETlZA4ufZBQkazYpIf6QS3GYhigcyThViUZCUtme2b1p5QFX8Is78eg6OcZAFlZCvaK0ZAcELJKiZBBwbgqZCM48KshAJxxLanteEiBfm3nXmlxLCAPVjtPs4QMRJXZAnkVxFrfw0xbCbYHchk5p2OjSEOk\")\n"
   ]
  },
  {
   "cell_type": "code",
   "execution_count": 22,
   "metadata": {
    "collapsed": false
   },
   "outputs": [
    {
     "data": {
      "text/plain": [
       "1388505600"
      ]
     },
     "execution_count": 22,
     "metadata": {},
     "output_type": "execute_result"
    }
   ],
   "source": [
    "mycrawler.getTimestamp()"
   ]
  },
  {
   "cell_type": "code",
   "execution_count": 23,
   "metadata": {
    "collapsed": false
   },
   "outputs": [
    {
     "name": "stderr",
     "output_type": "stream",
     "text": [
      "c:\\python27\\lib\\site-packages\\requests\\packages\\urllib3\\util\\ssl_.py:90: InsecurePlatformWarning: A true SSLContext object is not available. This prevents urllib3 from configuring SSL appropriately and may cause certain SSL connections to fail. For more information, see https://urllib3.readthedocs.org/en/latest/security.html#insecureplatformwarning.\n",
      "  InsecurePlatformWarning\n"
     ]
    },
    {
     "data": {
      "text/plain": [
       "[{'id': u'831654370182439_1149870118360861',\n",
       "  'ts': u'2015-10-02T13:38:37+0000'},\n",
       " {'id': u'831654370182439_1149178338430039',\n",
       "  'ts': u'2015-10-01T07:49:46+0000'},\n",
       " {'id': u'831654370182439_1142354679112405',\n",
       "  'ts': u'2015-09-18T13:17:45+0000'},\n",
       " {'id': u'831654370182439_1136213573059849',\n",
       "  'ts': u'2015-09-08T13:20:09+0000'},\n",
       " {'id': u'831654370182439_1133005830047290',\n",
       "  'ts': u'2015-09-03T00:09:29+0000'},\n",
       " {'id': u'831654370182439_1132119806802559',\n",
       "  'ts': u'2015-09-01T10:11:05+0000'},\n",
       " {'id': u'831654370182439_1132018693479337',\n",
       "  'ts': u'2015-09-01T04:46:02+0000'},\n",
       " {'id': u'831654370182439_1131312176883322',\n",
       "  'ts': u'2015-08-31T03:57:40+0000'},\n",
       " {'id': u'831654370182439_1126969107317629',\n",
       "  'ts': u'2015-08-24T10:39:15+0000'},\n",
       " {'id': u'831654370182439_1123492027665337',\n",
       "  'ts': u'2015-08-18T09:54:39+0000'},\n",
       " {'id': u'831654370182439_1123387134342493',\n",
       "  'ts': u'2015-08-18T03:44:49+0000'},\n",
       " {'id': u'831654370182439_1122816261066247',\n",
       "  'ts': u'2015-08-17T04:43:28+0000'},\n",
       " {'id': u'831654370182439_1118950008119539',\n",
       "  'ts': u'2015-08-10T12:30:11+0000'},\n",
       " {'id': u'831654370182439_1112242155456991',\n",
       "  'ts': u'2015-07-30T13:17:09+0000'},\n",
       " {'id': u'831654370182439_1108987225782484',\n",
       "  'ts': u'2015-07-25T01:12:41+0000'},\n",
       " {'id': u'831654370182439_1104706476210559',\n",
       "  'ts': u'2015-07-18T02:13:48+0000'},\n",
       " {'id': u'831654370182439_1104149982932875',\n",
       "  'ts': u'2015-07-17T10:26:01+0000'},\n",
       " {'id': u'831654370182439_1077286478952559',\n",
       "  'ts': u'2015-06-03T00:50:09+0000'},\n",
       " {'id': u'831654370182439_1071204159560791',\n",
       "  'ts': u'2015-05-23T05:01:53+0000'},\n",
       " {'id': u'831654370182439_1032709986743542',\n",
       "  'ts': u'2015-03-19T08:40:52+0000'}]"
      ]
     },
     "execution_count": 23,
     "metadata": {},
     "output_type": "execute_result"
    }
   ],
   "source": [
    "mycrawler.getPostIdwithTimestamp()"
   ]
  },
  {
   "cell_type": "code",
   "execution_count": 24,
   "metadata": {
    "collapsed": false
   },
   "outputs": [
    {
     "name": "stderr",
     "output_type": "stream",
     "text": [
      "c:\\python27\\lib\\site-packages\\requests\\packages\\urllib3\\util\\ssl_.py:90: InsecurePlatformWarning: A true SSLContext object is not available. This prevents urllib3 from configuring SSL appropriately and may cause certain SSL connections to fail. For more information, see https://urllib3.readthedocs.org/en/latest/security.html#insecureplatformwarning.\n",
      "  InsecurePlatformWarning\n"
     ]
    },
    {
     "data": {
      "text/plain": [
       "(u'2015-07-30T13:17:09+0000',\n",
       " [{u'id': u'831654370182439', u'name': u'\\u9673\\u4e00\\u5b8f'},\n",
       "  {u'id': u'885984991415834', u'name': u'Wen Hung'},\n",
       "  {u'id': u'856462491043511', u'name': u'\\u9673\\u5929\\u8056'},\n",
       "  {u'id': u'1633157530', u'name': u'\\u4faf\\u4f73\\u5f63'},\n",
       "  {u'id': u'1081698645180059', u'name': u'\\u674e\\u51a0\\u752b'},\n",
       "  {u'id': u'10203821234397314', u'name': u'\\u6797\\u8349\\u8393'},\n",
       "  {u'id': u'992212170795504', u'name': u'Roussas Wu'},\n",
       "  {u'id': u'1126670230682973', u'name': u'Skusi Ko'},\n",
       "  {u'id': u'10203363035984957', u'name': u'Charlie Mai'},\n",
       "  {u'id': u'721295257890942', u'name': u'Guo-siang Liu'},\n",
       "  {u'id': u'992866600726716', u'name': u'Joan Hsu'}])"
      ]
     },
     "execution_count": 24,
     "metadata": {},
     "output_type": "execute_result"
    }
   ],
   "source": [
    "mycrawler.getLikesPerPost(\"831654370182439_1112242155456991\")"
   ]
  },
  {
   "cell_type": "code",
   "execution_count": 25,
   "metadata": {
    "collapsed": false
   },
   "outputs": [
    {
     "name": "stderr",
     "output_type": "stream",
     "text": [
      "c:\\python27\\lib\\site-packages\\requests\\packages\\urllib3\\util\\ssl_.py:90: InsecurePlatformWarning: A true SSLContext object is not available. This prevents urllib3 from configuring SSL appropriately and may cause certain SSL connections to fail. For more information, see https://urllib3.readthedocs.org/en/latest/security.html#insecureplatformwarning.\n",
      "  InsecurePlatformWarning\n",
      "c:\\python27\\lib\\site-packages\\requests\\packages\\urllib3\\util\\ssl_.py:90: InsecurePlatformWarning: A true SSLContext object is not available. This prevents urllib3 from configuring SSL appropriately and may cause certain SSL connections to fail. For more information, see https://urllib3.readthedocs.org/en/latest/security.html#insecureplatformwarning.\n",
      "  InsecurePlatformWarning\n",
      "c:\\python27\\lib\\site-packages\\requests\\packages\\urllib3\\util\\ssl_.py:90: InsecurePlatformWarning: A true SSLContext object is not available. This prevents urllib3 from configuring SSL appropriately and may cause certain SSL connections to fail. For more information, see https://urllib3.readthedocs.org/en/latest/security.html#insecureplatformwarning.\n",
      "  InsecurePlatformWarning\n",
      "c:\\python27\\lib\\site-packages\\requests\\packages\\urllib3\\util\\ssl_.py:90: InsecurePlatformWarning: A true SSLContext object is not available. This prevents urllib3 from configuring SSL appropriately and may cause certain SSL connections to fail. For more information, see https://urllib3.readthedocs.org/en/latest/security.html#insecureplatformwarning.\n",
      "  InsecurePlatformWarning\n",
      "c:\\python27\\lib\\site-packages\\requests\\packages\\urllib3\\util\\ssl_.py:90: InsecurePlatformWarning: A true SSLContext object is not available. This prevents urllib3 from configuring SSL appropriately and may cause certain SSL connections to fail. For more information, see https://urllib3.readthedocs.org/en/latest/security.html#insecureplatformwarning.\n",
      "  InsecurePlatformWarning\n",
      "c:\\python27\\lib\\site-packages\\requests\\packages\\urllib3\\util\\ssl_.py:90: InsecurePlatformWarning: A true SSLContext object is not available. This prevents urllib3 from configuring SSL appropriately and may cause certain SSL connections to fail. For more information, see https://urllib3.readthedocs.org/en/latest/security.html#insecureplatformwarning.\n",
      "  InsecurePlatformWarning\n",
      "c:\\python27\\lib\\site-packages\\requests\\packages\\urllib3\\util\\ssl_.py:90: InsecurePlatformWarning: A true SSLContext object is not available. This prevents urllib3 from configuring SSL appropriately and may cause certain SSL connections to fail. For more information, see https://urllib3.readthedocs.org/en/latest/security.html#insecureplatformwarning.\n",
      "  InsecurePlatformWarning\n",
      "c:\\python27\\lib\\site-packages\\requests\\packages\\urllib3\\util\\ssl_.py:90: InsecurePlatformWarning: A true SSLContext object is not available. This prevents urllib3 from configuring SSL appropriately and may cause certain SSL connections to fail. For more information, see https://urllib3.readthedocs.org/en/latest/security.html#insecureplatformwarning.\n",
      "  InsecurePlatformWarning\n",
      "c:\\python27\\lib\\site-packages\\requests\\packages\\urllib3\\util\\ssl_.py:90: InsecurePlatformWarning: A true SSLContext object is not available. This prevents urllib3 from configuring SSL appropriately and may cause certain SSL connections to fail. For more information, see https://urllib3.readthedocs.org/en/latest/security.html#insecureplatformwarning.\n",
      "  InsecurePlatformWarning\n",
      "c:\\python27\\lib\\site-packages\\requests\\packages\\urllib3\\util\\ssl_.py:90: InsecurePlatformWarning: A true SSLContext object is not available. This prevents urllib3 from configuring SSL appropriately and may cause certain SSL connections to fail. For more information, see https://urllib3.readthedocs.org/en/latest/security.html#insecureplatformwarning.\n",
      "  InsecurePlatformWarning\n",
      "c:\\python27\\lib\\site-packages\\requests\\packages\\urllib3\\util\\ssl_.py:90: InsecurePlatformWarning: A true SSLContext object is not available. This prevents urllib3 from configuring SSL appropriately and may cause certain SSL connections to fail. For more information, see https://urllib3.readthedocs.org/en/latest/security.html#insecureplatformwarning.\n",
      "  InsecurePlatformWarning\n",
      "c:\\python27\\lib\\site-packages\\requests\\packages\\urllib3\\util\\ssl_.py:90: InsecurePlatformWarning: A true SSLContext object is not available. This prevents urllib3 from configuring SSL appropriately and may cause certain SSL connections to fail. For more information, see https://urllib3.readthedocs.org/en/latest/security.html#insecureplatformwarning.\n",
      "  InsecurePlatformWarning\n",
      "c:\\python27\\lib\\site-packages\\requests\\packages\\urllib3\\util\\ssl_.py:90: InsecurePlatformWarning: A true SSLContext object is not available. This prevents urllib3 from configuring SSL appropriately and may cause certain SSL connections to fail. For more information, see https://urllib3.readthedocs.org/en/latest/security.html#insecureplatformwarning.\n",
      "  InsecurePlatformWarning\n",
      "c:\\python27\\lib\\site-packages\\requests\\packages\\urllib3\\util\\ssl_.py:90: InsecurePlatformWarning: A true SSLContext object is not available. This prevents urllib3 from configuring SSL appropriately and may cause certain SSL connections to fail. For more information, see https://urllib3.readthedocs.org/en/latest/security.html#insecureplatformwarning.\n",
      "  InsecurePlatformWarning\n",
      "c:\\python27\\lib\\site-packages\\requests\\packages\\urllib3\\util\\ssl_.py:90: InsecurePlatformWarning: A true SSLContext object is not available. This prevents urllib3 from configuring SSL appropriately and may cause certain SSL connections to fail. For more information, see https://urllib3.readthedocs.org/en/latest/security.html#insecureplatformwarning.\n",
      "  InsecurePlatformWarning\n",
      "c:\\python27\\lib\\site-packages\\requests\\packages\\urllib3\\util\\ssl_.py:90: InsecurePlatformWarning: A true SSLContext object is not available. This prevents urllib3 from configuring SSL appropriately and may cause certain SSL connections to fail. For more information, see https://urllib3.readthedocs.org/en/latest/security.html#insecureplatformwarning.\n",
      "  InsecurePlatformWarning\n",
      "c:\\python27\\lib\\site-packages\\requests\\packages\\urllib3\\util\\ssl_.py:90: InsecurePlatformWarning: A true SSLContext object is not available. This prevents urllib3 from configuring SSL appropriately and may cause certain SSL connections to fail. For more information, see https://urllib3.readthedocs.org/en/latest/security.html#insecureplatformwarning.\n",
      "  InsecurePlatformWarning\n",
      "c:\\python27\\lib\\site-packages\\requests\\packages\\urllib3\\util\\ssl_.py:90: InsecurePlatformWarning: A true SSLContext object is not available. This prevents urllib3 from configuring SSL appropriately and may cause certain SSL connections to fail. For more information, see https://urllib3.readthedocs.org/en/latest/security.html#insecureplatformwarning.\n",
      "  InsecurePlatformWarning\n",
      "c:\\python27\\lib\\site-packages\\requests\\packages\\urllib3\\util\\ssl_.py:90: InsecurePlatformWarning: A true SSLContext object is not available. This prevents urllib3 from configuring SSL appropriately and may cause certain SSL connections to fail. For more information, see https://urllib3.readthedocs.org/en/latest/security.html#insecureplatformwarning.\n",
      "  InsecurePlatformWarning\n",
      "c:\\python27\\lib\\site-packages\\requests\\packages\\urllib3\\util\\ssl_.py:90: InsecurePlatformWarning: A true SSLContext object is not available. This prevents urllib3 from configuring SSL appropriately and may cause certain SSL connections to fail. For more information, see https://urllib3.readthedocs.org/en/latest/security.html#insecureplatformwarning.\n",
      "  InsecurePlatformWarning\n",
      "c:\\python27\\lib\\site-packages\\requests\\packages\\urllib3\\util\\ssl_.py:90: InsecurePlatformWarning: A true SSLContext object is not available. This prevents urllib3 from configuring SSL appropriately and may cause certain SSL connections to fail. For more information, see https://urllib3.readthedocs.org/en/latest/security.html#insecureplatformwarning.\n",
      "  InsecurePlatformWarning\n"
     ]
    },
    {
     "data": {
      "text/plain": [
       "[(u'2015-10-02T13:38:37+0000',\n",
       "  [{u'id': u'920318287992653', u'name': u'Scott Hou'},\n",
       "   {u'id': u'10200890096534641', u'name': u'Steven Lee'}]),\n",
       " (u'2015-10-01T07:49:46+0000',\n",
       "  [{u'id': u'875172679172116', u'name': u'\\u6c5f\\u884d\\u90c1'},\n",
       "   {u'id': u'10200890096534641', u'name': u'Steven Lee'},\n",
       "   {u'id': u'1633157530', u'name': u'\\u4faf\\u4f73\\u5f63'},\n",
       "   {u'id': u'10202474101000844', u'name': u'\\u5433\\u601d\\u7d43'}])]"
      ]
     },
     "execution_count": 25,
     "metadata": {},
     "output_type": "execute_result"
    }
   ],
   "source": [
    "all_likes = mycrawler.getAllLikes()\n",
    "all_likes[:2]"
   ]
  },
  {
   "cell_type": "code",
   "execution_count": 32,
   "metadata": {
    "collapsed": true
   },
   "outputs": [],
   "source": [
    "# tidy likers into list of (time, name)\n",
    "def decoratebyTimeUnit(by):\n",
    "    def byTimeUnit(dtstr):\n",
    "        # %z not support in python...\n",
    "        dt = datetime.datetime.strptime(dtstr, \"%Y-%m-%dT%H:%M:%S+0000\")\n",
    "        if by == \"date\":\n",
    "            return dt.date()\n",
    "        elif by == \"month\":\n",
    "            return dt.replace(day=1, hour=0, minute=0, second=0).date()\n",
    "        else:\n",
    "            raise ValueError(\"Unknown by value\")\n",
    "    def real_decorator(func):\n",
    "        def wrapper(likes):\n",
    "            return [ (byTimeUnit(like[0]), like[1]) for like in func(likes) ]\n",
    "        return wrapper\n",
    "    return real_decorator\n",
    "        \n",
    "@decoratebyTimeUnit(\"month\")\n",
    "def countByTime(likes):\n",
    "    res = []\n",
    "    for t in likes:\n",
    "        for m in t[1]:\n",
    "            res.append((t[0], m[\"name\"]))\n",
    "    return res"
   ]
  },
  {
   "cell_type": "code",
   "execution_count": 33,
   "metadata": {
    "collapsed": false
   },
   "outputs": [
    {
     "data": {
      "text/plain": [
       "[(datetime.date(2015, 10, 1), u'Scott Hou'),\n",
       " (datetime.date(2015, 10, 1), u'Steven Lee'),\n",
       " (datetime.date(2015, 10, 1), u'\\u6c5f\\u884d\\u90c1'),\n",
       " (datetime.date(2015, 10, 1), u'Steven Lee'),\n",
       " (datetime.date(2015, 10, 1), u'\\u4faf\\u4f73\\u5f63'),\n",
       " (datetime.date(2015, 10, 1), u'\\u5433\\u601d\\u7d43'),\n",
       " (datetime.date(2015, 9, 1), u'\\u9673\\u5929\\u8056'),\n",
       " (datetime.date(2015, 9, 1), u'Marco Wang'),\n",
       " (datetime.date(2015, 9, 1), u'Shih-Han Chen'),\n",
       " (datetime.date(2015, 9, 1), u'\\u6797\\u7fa9\\u61b2')]"
      ]
     },
     "execution_count": 33,
     "metadata": {},
     "output_type": "execute_result"
    }
   ],
   "source": [
    "likes = countByTime(all_likes)\n",
    "likes[:10]"
   ]
  },
  {
   "cell_type": "code",
   "execution_count": 34,
   "metadata": {
    "collapsed": false
   },
   "outputs": [
    {
     "data": {
      "text/html": [
       "<div style=\"max-height:1000px;max-width:1500px;overflow:auto;\">\n",
       "<table border=\"1\" class=\"dataframe\">\n",
       "  <thead>\n",
       "    <tr style=\"text-align: right;\">\n",
       "      <th></th>\n",
       "      <th>time</th>\n",
       "      <th>count</th>\n",
       "    </tr>\n",
       "  </thead>\n",
       "  <tbody>\n",
       "    <tr>\n",
       "      <th>2</th>\n",
       "      <td>2015-03-01</td>\n",
       "      <td>22</td>\n",
       "    </tr>\n",
       "    <tr>\n",
       "      <th>6</th>\n",
       "      <td>2015-05-01</td>\n",
       "      <td>25</td>\n",
       "    </tr>\n",
       "    <tr>\n",
       "      <th>3</th>\n",
       "      <td>2015-06-01</td>\n",
       "      <td>4</td>\n",
       "    </tr>\n",
       "    <tr>\n",
       "      <th>4</th>\n",
       "      <td>2015-07-01</td>\n",
       "      <td>64</td>\n",
       "    </tr>\n",
       "    <tr>\n",
       "      <th>1</th>\n",
       "      <td>2015-08-01</td>\n",
       "      <td>30</td>\n",
       "    </tr>\n",
       "    <tr>\n",
       "      <th>0</th>\n",
       "      <td>2015-09-01</td>\n",
       "      <td>24</td>\n",
       "    </tr>\n",
       "    <tr>\n",
       "      <th>5</th>\n",
       "      <td>2015-10-01</td>\n",
       "      <td>6</td>\n",
       "    </tr>\n",
       "  </tbody>\n",
       "</table>\n",
       "</div>"
      ],
      "text/plain": [
       "         time  count\n",
       "2  2015-03-01     22\n",
       "6  2015-05-01     25\n",
       "3  2015-06-01      4\n",
       "4  2015-07-01     64\n",
       "1  2015-08-01     30\n",
       "0  2015-09-01     24\n",
       "5  2015-10-01      6"
      ]
     },
     "execution_count": 34,
     "metadata": {},
     "output_type": "execute_result"
    }
   ],
   "source": [
    "from collections import Counter\n",
    "import pandas as pd\n",
    "\n",
    "# group by time only\n",
    "monthly_like_counts = Counter([ t[0] for t in likes ])\n",
    "df = pd.DataFrame(monthly_like_counts.items())\n",
    "df.columns = [\"time\", \"count\"]\n",
    "df = df.sort(\"time\")\n",
    "df"
   ]
  },
  {
   "cell_type": "code",
   "execution_count": 37,
   "metadata": {
    "collapsed": false
   },
   "outputs": [
    {
     "data": {
      "text/html": [
       "<div style=\"max-height:1000px;max-width:1500px;overflow:auto;\">\n",
       "<table border=\"1\" class=\"dataframe\">\n",
       "  <thead>\n",
       "    <tr style=\"text-align: right;\">\n",
       "      <th></th>\n",
       "      <th>time</th>\n",
       "      <th>liker</th>\n",
       "      <th>count</th>\n",
       "    </tr>\n",
       "  </thead>\n",
       "  <tbody>\n",
       "    <tr>\n",
       "      <th>111</th>\n",
       "      <td>2015-09-01</td>\n",
       "      <td>Alice Chou</td>\n",
       "      <td>1</td>\n",
       "    </tr>\n",
       "    <tr>\n",
       "      <th>0</th>\n",
       "      <td>2015-03-01</td>\n",
       "      <td>Blas Rodriguez</td>\n",
       "      <td>1</td>\n",
       "    </tr>\n",
       "    <tr>\n",
       "      <th>17</th>\n",
       "      <td>2015-08-01</td>\n",
       "      <td>Cassie Chen</td>\n",
       "      <td>1</td>\n",
       "    </tr>\n",
       "    <tr>\n",
       "      <th>45</th>\n",
       "      <td>2015-07-01</td>\n",
       "      <td>Charlie Mai</td>\n",
       "      <td>1</td>\n",
       "    </tr>\n",
       "    <tr>\n",
       "      <th>59</th>\n",
       "      <td>2015-03-01</td>\n",
       "      <td>Chi-Fan Hsieh</td>\n",
       "      <td>1</td>\n",
       "    </tr>\n",
       "    <tr>\n",
       "      <th>2</th>\n",
       "      <td>2015-05-01</td>\n",
       "      <td>Chi-Fan Hsieh</td>\n",
       "      <td>1</td>\n",
       "    </tr>\n",
       "  </tbody>\n",
       "</table>\n",
       "</div>"
      ],
      "text/plain": [
       "           time           liker  count\n",
       "111  2015-09-01      Alice Chou      1\n",
       "0    2015-03-01  Blas Rodriguez      1\n",
       "17   2015-08-01     Cassie Chen      1\n",
       "45   2015-07-01     Charlie Mai      1\n",
       "59   2015-03-01   Chi-Fan Hsieh      1\n",
       "2    2015-05-01   Chi-Fan Hsieh      1"
      ]
     },
     "execution_count": 37,
     "metadata": {},
     "output_type": "execute_result"
    }
   ],
   "source": [
    "# group by time by liker\n",
    "monthly_like_counts_by_liker = [ (t[0][0], t[0][1], t[1]) for t in Counter(likes).items() ]\n",
    "df2 = pd.DataFrame(monthly_like_counts_by_liker)\n",
    "df2.columns = [\"time\", \"liker\", \"count\"]\n",
    "df2 = df2.sort([\"liker\", \"time\"])\n",
    "df2[:6]"
   ]
  },
  {
   "cell_type": "code",
   "execution_count": 40,
   "metadata": {
    "collapsed": false
   },
   "outputs": [
    {
     "data": {
      "text/html": [
       "<div style=\"max-height:1000px;max-width:1500px;overflow:auto;\">\n",
       "<table border=\"1\" class=\"dataframe\">\n",
       "  <thead>\n",
       "    <tr style=\"text-align: right;\">\n",
       "      <th></th>\n",
       "      <th>count</th>\n",
       "    </tr>\n",
       "    <tr>\n",
       "      <th>liker</th>\n",
       "      <th></th>\n",
       "    </tr>\n",
       "  </thead>\n",
       "  <tbody>\n",
       "    <tr>\n",
       "      <th>Alice Chou</th>\n",
       "      <td>1</td>\n",
       "    </tr>\n",
       "    <tr>\n",
       "      <th>Blas Rodriguez</th>\n",
       "      <td>1</td>\n",
       "    </tr>\n",
       "    <tr>\n",
       "      <th>Cassie Chen</th>\n",
       "      <td>1</td>\n",
       "    </tr>\n",
       "    <tr>\n",
       "      <th>Charlie Mai</th>\n",
       "      <td>1</td>\n",
       "    </tr>\n",
       "    <tr>\n",
       "      <th>Chi-Fan Hsieh</th>\n",
       "      <td>2</td>\n",
       "    </tr>\n",
       "    <tr>\n",
       "      <th>Chia-Hui Chen</th>\n",
       "      <td>1</td>\n",
       "    </tr>\n",
       "  </tbody>\n",
       "</table>\n",
       "</div>"
      ],
      "text/plain": [
       "                count\n",
       "liker                \n",
       "Alice Chou          1\n",
       "Blas Rodriguez      1\n",
       "Cassie Chen         1\n",
       "Charlie Mai         1\n",
       "Chi-Fan Hsieh       2\n",
       "Chia-Hui Chen       1"
      ]
     },
     "execution_count": 40,
     "metadata": {},
     "output_type": "execute_result"
    }
   ],
   "source": [
    "# get top 10 likers\n",
    "df2_count_by_liker = df2.groupby(\"liker\").sum()\n",
    "df2_count_by_liker[:6]"
   ]
  },
  {
   "cell_type": "code",
   "execution_count": 42,
   "metadata": {
    "collapsed": false
   },
   "outputs": [
    {
     "data": {
      "text/plain": [
       "[u'\\u9673\\u5929\\u8056',\n",
       " u'Steven Lee',\n",
       " u'\\u9673\\u4e00\\u5b8f',\n",
       " u'Roussas Wu',\n",
       " u'\\u5b6b\\u77c7\\u77c7',\n",
       " u'\\u90ed\\u5bb6\\u665f']"
      ]
     },
     "execution_count": 42,
     "metadata": {},
     "output_type": "execute_result"
    }
   ],
   "source": [
    "top_likers = list(df2_count_by_liker.sort(\"count\", ascending=0).index[:6])\n",
    "top_likers"
   ]
  },
  {
   "cell_type": "code",
   "execution_count": 43,
   "metadata": {
    "collapsed": true
   },
   "outputs": [],
   "source": [
    "# keep only top 5 likers' data\n",
    "df2_filtered = df2[df2[\"liker\"].isin(top_likers)]"
   ]
  },
  {
   "cell_type": "code",
   "execution_count": 45,
   "metadata": {
    "collapsed": true
   },
   "outputs": [],
   "source": [
    "%matplotlib inline\n",
    "import matplotlib\n",
    "import matplotlib.pyplot as plt"
   ]
  },
  {
   "cell_type": "code",
   "execution_count": 46,
   "metadata": {
    "collapsed": false
   },
   "outputs": [
    {
     "data": {
      "image/png": "[encoded data removed]",
      "text/plain": [
       "<matplotlib.figure.Figure at 0x627ee50>"
      ]
     },
     "metadata": {},
     "output_type": "display_data"
    }
   ],
   "source": [
    "# run the following code to show all available Chinese font family on your computer\n",
    "from matplotlib.font_manager import fontManager \n",
    "import os \n",
    " \n",
    "fig = plt.figure(figsize=(12,8)) \n",
    "ax = fig.add_subplot(111) \n",
    "plt.subplots_adjust(0, 0, 1, 1, 0, 0) \n",
    "plt.xticks([]) \n",
    "plt.yticks([]) \n",
    "x, y = 0.05, 0.18 \n",
    "fonts = [font.name for font in fontManager.ttflist if \n",
    "    os.path.exists(font.fname) and os.stat(font.fname).st_size>1e6] \n",
    "font = set(fonts) \n",
    "dy = (1.0-y)/(len(fonts)/4 + (len(fonts)%4!=0)) \n",
    "for font in fonts: \n",
    "    t = ax.text(x, y, u\"中文字體\", {'fontname':font, 'fontsize':14}, transform=ax.transAxes) \n",
    "    ax.text(x, y-dy/2, font, transform=ax.transAxes) \n",
    "    x += 0.25 \n",
    "    if x >= 1.0: \n",
    "        y += dy \n",
    "        x = 0.05 \n",
    "# plt.show() # not necessary in ipython notebook"
   ]
  },
  {
   "cell_type": "code",
   "execution_count": 47,
   "metadata": {
    "collapsed": true
   },
   "outputs": [],
   "source": [
    "# let's make a playground!\n",
    "import re\n",
    "\n",
    "test_str = [\"kyle chung; (02)2256-1116; New Taipei City\",\n",
    "            \"Mr. Funghi,Earth Anywhere, 07-21180293\",\n",
    "            \"free tel: 0800 000 123 #1234\",\n",
    "            \"Dr.A (not Dr.B) street no.123 2945 1412\"]\n",
    "\n",
    "def findFirstMatched(pattern, test_str=test_str):\n",
    "    p = re.compile(pattern)\n",
    "    print \"\\n=== result of findFirstMatched ===\"\n",
    "    for i, s in enumerate(test_str):\n",
    "        m = p.search(s)\n",
    "        if m:\n",
    "            print \"row %s:\" % i, m.group()\n",
    "        else:\n",
    "            print \"row %s: no match\" % i\n",
    "    return None\n",
    "\n",
    "def findAllMatched(pattern, test_str=test_str):\n",
    "    p = re.compile(pattern)\n",
    "    print \"\\n=== result of findAllMatched ===\"\n",
    "    for i, s in enumerate(test_str):\n",
    "        matched = p.findall(s)\n",
    "        print \"row %s: \" % i, matched\n",
    "    return None"
   ]
  },
  {
   "cell_type": "code",
   "execution_count": 48,
   "metadata": {
    "collapsed": false
   },
   "outputs": [
    {
     "name": "stdout",
     "output_type": "stream",
     "text": [
      "\n",
      "=== result of findFirstMatched ===\n",
      "row 0: no match\n",
      "row 1: 3\n",
      "row 2: 3\n",
      "row 3: 3\n"
     ]
    }
   ],
   "source": [
    "# test first-matched\n",
    "\n",
    "findFirstMatched(\"3\")"
   ]
  },
  {
   "cell_type": "code",
   "execution_count": 49,
   "metadata": {
    "collapsed": false
   },
   "outputs": [
    {
     "name": "stdout",
     "output_type": "stream",
     "text": [
      "kyle chung; (02)2256-1116; New Taipei City\n",
      "Mr. Funghi,Earth Anywhere, 07-21180293\n",
      "free tel: 0800 000 123 #1234\n",
      "Dr.A (not Dr.B) street no.123 2945 1412\n",
      "\n",
      "=== result of findFirstMatched ===\n",
      "row 0: 02\n",
      "row 1: 07\n",
      "row 2: 0800\n",
      "row 3: 123\n",
      "\n",
      "=== result of findAllMatched ===\n",
      "row 0:  ['02', '2256', '1116']\n",
      "row 1:  ['07', '21180293']\n",
      "row 2:  ['0800', '000', '123', '1234']\n",
      "row 3:  ['123', '2945', '1412']\n"
     ]
    }
   ],
   "source": [
    "# 2nd try: get all digits, not just one\n",
    "\n",
    "for s in test_str:\n",
    "    print s\n",
    "    \n",
    "findFirstMatched(\"[0-9]+\")\n",
    "findAllMatched(\"[0-9]+\")"
   ]
  },
  {
   "cell_type": "code",
   "execution_count": 50,
   "metadata": {
    "collapsed": false
   },
   "outputs": [
    {
     "name": "stdout",
     "output_type": "stream",
     "text": [
      "kyle chung; (02)2256-1116; New Taipei City\n",
      "Mr. Funghi,Earth Anywhere, 07-21180293\n",
      "free tel: 0800 000 123 #1234\n",
      "Dr.A (not Dr.B) street no.123 2945 1412\n",
      "\n",
      "=== result of findFirstMatched ===\n",
      "row 0: 02\n",
      "row 1: 07-21180293\n",
      "row 2: 0800\n",
      "row 3: 123\n",
      "\n",
      "=== result of findAllMatched ===\n",
      "row 0:  ['02', '2256-1116']\n",
      "row 1:  ['07-21180293']\n",
      "row 2:  ['0800', '000', '123', '1234']\n",
      "row 3:  ['123', '2945', '1412']\n"
     ]
    }
   ],
   "source": [
    "for s in test_str:\n",
    "    print s\n",
    "\n",
    "findFirstMatched(\"[0-9-]+\")\n",
    "findAllMatched(\"[0-9-]+\")"
   ]
  },
  {
   "cell_type": "code",
   "execution_count": 51,
   "metadata": {
    "collapsed": false
   },
   "outputs": [
    {
     "name": "stdout",
     "output_type": "stream",
     "text": [
      "kyle chung; (02)2256-1116; New Taipei City\n",
      "Mr. Funghi,Earth Anywhere, 07-21180293\n",
      "free tel: 0800 000 123 #1234\n",
      "Dr.A (not Dr.B) street no.123 2945 1412\n",
      "\n",
      "=== result of findFirstMatched ===\n",
      "row 0: (02)2256-1116\n",
      "row 1: 07-21180293\n",
      "row 2: 0800\n",
      "row 3: (\n",
      "\n",
      "=== result of findAllMatched ===\n",
      "row 0:  ['(02)2256-1116']\n",
      "row 1:  ['07-21180293']\n",
      "row 2:  ['0800', '000', '123', '1234']\n",
      "row 3:  ['(', ')', '123', '2945', '1412']\n"
     ]
    }
   ],
   "source": [
    "for s in test_str:\n",
    "    print s\n",
    "    \n",
    "findFirstMatched(\"[0-9-()]+\")\n",
    "findAllMatched(\"[0-9-()]+\")"
   ]
  },
  {
   "cell_type": "code",
   "execution_count": 52,
   "metadata": {
    "collapsed": false
   },
   "outputs": [
    {
     "name": "stdout",
     "output_type": "stream",
     "text": [
      "kyle chung; (02)2256-1116; New Taipei City\n",
      "Mr. Funghi,Earth Anywhere, 07-21180293\n",
      "free tel: 0800 000 123 #1234\n",
      "Dr.A (not Dr.B) street no.123 2945 1412\n",
      "\n",
      "=== result of findAllMatched ===\n",
      "row 0:  ['k', 'y', 'l', 'e', ' ', 'c', 'h', 'u', 'n', 'g', ';', ' ', '(', '0', '2', ')', '2', '2', '5', '6', '-', '1', '1', '1', '6', ';', ' ', 'N', 'e', 'w', ' ', 'T', 'a', 'i', 'p', 'e', 'i', ' ', 'C', 'i', 't', 'y']\n",
      "row 1:  ['M', 'r', '.', ' ', 'F', 'u', 'n', 'g', 'h', 'i', ',', 'E', 'a', 'r', 't', 'h', ' ', 'A', 'n', 'y', 'w', 'h', 'e', 'r', 'e', ',', ' ', '0', '7', '-', '2', '1', '1', '8', '0', '2', '9', '3']\n",
      "row 2:  ['f', 'r', 'e', 'e', ' ', 't', 'e', 'l', ':', ' ', '0', '8', '0', '0', ' ', '0', '0', '0', ' ', '1', '2', '3', ' ', '#', '1', '2', '3', '4']\n",
      "row 3:  ['D', 'r', '.', 'A', ' ', '(', 'n', 'o', 't', ' ', 'D', 'r', '.', 'B', ')', ' ', 's', 't', 'r', 'e', 'e', 't', ' ', 'n', 'o', '.', '1', '2', '3', ' ', '2', '9', '4', '5', ' ', '1', '4', '1', '2']\n"
     ]
    }
   ],
   "source": [
    "for s in test_str:\n",
    "    print s\n",
    "findAllMatched(\".\")"
   ]
  },
  {
   "cell_type": "code",
   "execution_count": 53,
   "metadata": {
    "collapsed": false
   },
   "outputs": [
    {
     "name": "stdout",
     "output_type": "stream",
     "text": [
      "kyle chung; (02)2256-1116; New Taipei City\n",
      "Mr. Funghi,Earth Anywhere, 07-21180293\n",
      "free tel: 0800 000 123 #1234\n",
      "Dr.A (not Dr.B) street no.123 2945 1412\n",
      "\n",
      "=== result of findFirstMatched ===\n",
      "row 0: k\n",
      "row 1: M\n",
      "row 2: f\n",
      "row 3: D\n"
     ]
    }
   ],
   "source": [
    "for s in test_str:\n",
    "    print s\n",
    "findFirstMatched(\".\")"
   ]
  },
  {
   "cell_type": "code",
   "execution_count": 54,
   "metadata": {
    "collapsed": false
   },
   "outputs": [
    {
     "name": "stdout",
     "output_type": "stream",
     "text": [
      "kyle chung; (02)2256-1116; New Taipei City\n",
      "Mr. Funghi,Earth Anywhere, 07-21180293\n",
      "free tel: 0800 000 123 #1234\n",
      "Dr.A (not Dr.B) street no.123 2945 1412\n",
      "\n",
      "=== result of findAllMatched ===\n",
      "row 0:  ['kyle', 'chung', 'New', 'Taipei', 'City']\n",
      "row 1:  ['Mr', 'Funghi', 'Earth', 'Anywhere']\n",
      "row 2:  ['free', 'tel']\n",
      "row 3:  ['Dr', 'A', 'not', 'Dr', 'B', 'street', 'no']\n"
     ]
    }
   ],
   "source": [
    "for s in test_str:\n",
    "    print s\n",
    "findAllMatched(\"[a-zA-Z]+\")"
   ]
  },
  {
   "cell_type": "code",
   "execution_count": 55,
   "metadata": {
    "collapsed": true
   },
   "outputs": [],
   "source": [
    "import re"
   ]
  },
  {
   "cell_type": "code",
   "execution_count": 56,
   "metadata": {
    "collapsed": true
   },
   "outputs": [],
   "source": [
    "p = re.compile(\"test+\")"
   ]
  },
  {
   "cell_type": "code",
   "execution_count": 57,
   "metadata": {
    "collapsed": false
   },
   "outputs": [
    {
     "data": {
      "text/plain": [
       "re.compile(r'test+')"
      ]
     },
     "execution_count": 57,
     "metadata": {},
     "output_type": "execute_result"
    }
   ],
   "source": [
    "p"
   ]
  },
  {
   "cell_type": "code",
   "execution_count": 58,
   "metadata": {
    "collapsed": false
   },
   "outputs": [
    {
     "name": "stdout",
     "output_type": "stream",
     "text": [
      "<_sre.SRE_Pattern object at 0x056C1908>\n"
     ]
    }
   ],
   "source": [
    "print p"
   ]
  },
  {
   "cell_type": "code",
   "execution_count": 59,
   "metadata": {
    "collapsed": false
   },
   "outputs": [
    {
     "ename": "SyntaxError",
     "evalue": "EOL while scanning string literal (<ipython-input-59-f239a6dfa54d>, line 1)",
     "output_type": "error",
     "traceback": [
      "\u001b[1;36m  File \u001b[1;32m\"<ipython-input-59-f239a6dfa54d>\"\u001b[1;36m, line \u001b[1;32m1\u001b[0m\n\u001b[1;33m    p.match(\"123\u001b[0m\n\u001b[1;37m               ^\u001b[0m\n\u001b[1;31mSyntaxError\u001b[0m\u001b[1;31m:\u001b[0m EOL while scanning string literal\n"
     ]
    }
   ],
   "source": [
    "p.match(\"123\n",
    "        \")"
   ]
  },
  {
   "cell_type": "code",
   "execution_count": 60,
   "metadata": {
    "collapsed": true
   },
   "outputs": [],
   "source": [
    "p.match(\"1243\")"
   ]
  },
  {
   "cell_type": "code",
   "execution_count": 61,
   "metadata": {
    "collapsed": false
   },
   "outputs": [
    {
     "data": {
      "text/plain": [
       "<_sre.SRE_Match at 0x646f8a8>"
      ]
     },
     "execution_count": 61,
     "metadata": {},
     "output_type": "execute_result"
    }
   ],
   "source": [
    "p.match(\"testtttt      \")"
   ]
  },
  {
   "cell_type": "code",
   "execution_count": 64,
   "metadata": {
    "collapsed": false
   },
   "outputs": [
    {
     "name": "stdout",
     "output_type": "stream",
     "text": [
      "\\n a string\n",
      "\n"
     ]
    }
   ],
   "source": [
    "print \"\\\\n a string\\n\""
   ]
  },
  {
   "cell_type": "code",
   "execution_count": null,
   "metadata": {
    "collapsed": true
   },
   "outputs": [],
   "source": [
    "re.compile(\"\\.jpeg$\")"
   ]
  },
  {
   "cell_type": "code",
   "execution_count": 65,
   "metadata": {
    "collapsed": false
   },
   "outputs": [
    {
     "name": "stdout",
     "output_type": "stream",
     "text": [
      "1\n",
      "2\n",
      "3\n"
     ]
    }
   ],
   "source": [
    "def printArgs(*args):\n",
    "    for arg in args:\n",
    "        print arg\n",
    "\n",
    "printArgs(1,2,3)"
   ]
  }
 ],
 "metadata": {
  "kernelspec": {
   "display_name": "Python 2",
   "language": "python",
   "name": "python2"
  },
  "language_info": {
   "codemirror_mode": {
    "name": "ipython",
    "version": 2
   },
   "file_extension": ".py",
   "mimetype": "text/x-python",
   "name": "python",
   "nbconvert_exporter": "python",
   "pygments_lexer": "ipython2",
   "version": "2.7.6"
  }
 },
 "nbformat": 4,
 "nbformat_minor": 0
}
